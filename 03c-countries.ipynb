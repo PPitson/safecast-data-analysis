{
 "cells": [
  {
   "cell_type": "code",
   "execution_count": 1,
   "metadata": {
    "ExecuteTime": {
     "end_time": "2019-01-15T23:54:09.301071Z",
     "start_time": "2019-01-15T23:54:03.349432Z"
    }
   },
   "outputs": [],
   "source": [
    "import pandas as pd \n",
    "import os\n",
    "import pycountry\n",
    "import reverse_geocoder"
   ]
  },
  {
   "cell_type": "code",
   "execution_count": 2,
   "metadata": {
    "ExecuteTime": {
     "end_time": "2019-01-15T23:54:09.307031Z",
     "start_time": "2019-01-15T23:54:09.304014Z"
    }
   },
   "outputs": [],
   "source": [
    "RESULTS_DIR = \"results\"\n",
    "SAFECAST_DATA_PATH = os.path.join(RESULTS_DIR, '10_million_with_elevation.csv')"
   ]
  },
  {
   "cell_type": "code",
   "execution_count": 3,
   "metadata": {
    "ExecuteTime": {
     "end_time": "2019-01-15T23:54:42.253030Z",
     "start_time": "2019-01-15T23:54:09.309012Z"
    }
   },
   "outputs": [],
   "source": [
    "df = pd.read_csv(SAFECAST_DATA_PATH)"
   ]
  },
  {
   "cell_type": "code",
   "execution_count": 4,
   "metadata": {
    "ExecuteTime": {
     "end_time": "2019-01-15T23:54:42.296395Z",
     "start_time": "2019-01-15T23:54:42.256029Z"
    }
   },
   "outputs": [
    {
     "data": {
      "text/html": [
       "<div>\n",
       "<style scoped>\n",
       "    .dataframe tbody tr th:only-of-type {\n",
       "        vertical-align: middle;\n",
       "    }\n",
       "\n",
       "    .dataframe tbody tr th {\n",
       "        vertical-align: top;\n",
       "    }\n",
       "\n",
       "    .dataframe thead th {\n",
       "        text-align: right;\n",
       "    }\n",
       "</style>\n",
       "<table border=\"1\" class=\"dataframe\">\n",
       "  <thead>\n",
       "    <tr style=\"text-align: right;\">\n",
       "      <th></th>\n",
       "      <th>capture_date</th>\n",
       "      <th>latitude</th>\n",
       "      <th>longitude</th>\n",
       "      <th>value</th>\n",
       "      <th>elevation</th>\n",
       "    </tr>\n",
       "  </thead>\n",
       "  <tbody>\n",
       "    <tr>\n",
       "      <th>0</th>\n",
       "      <td>2018-10-21 01:00:26.000000</td>\n",
       "      <td>36.041080</td>\n",
       "      <td>140.226816</td>\n",
       "      <td>23.0</td>\n",
       "      <td>31</td>\n",
       "    </tr>\n",
       "    <tr>\n",
       "      <th>1</th>\n",
       "      <td>2018-10-21 01:00:22.000000</td>\n",
       "      <td>37.796306</td>\n",
       "      <td>140.514413</td>\n",
       "      <td>19.0</td>\n",
       "      <td>72</td>\n",
       "    </tr>\n",
       "    <tr>\n",
       "      <th>2</th>\n",
       "      <td>2018-10-21 01:00:16.000000</td>\n",
       "      <td>37.723330</td>\n",
       "      <td>140.476797</td>\n",
       "      <td>15.0</td>\n",
       "      <td>141</td>\n",
       "    </tr>\n",
       "    <tr>\n",
       "      <th>3</th>\n",
       "      <td>2018-10-21 00:59:16.000000</td>\n",
       "      <td>52.444900</td>\n",
       "      <td>13.315000</td>\n",
       "      <td>16.0</td>\n",
       "      <td>47</td>\n",
       "    </tr>\n",
       "    <tr>\n",
       "      <th>4</th>\n",
       "      <td>2018-10-21 01:00:16.000000</td>\n",
       "      <td>37.787500</td>\n",
       "      <td>140.552400</td>\n",
       "      <td>18.0</td>\n",
       "      <td>107</td>\n",
       "    </tr>\n",
       "  </tbody>\n",
       "</table>\n",
       "</div>"
      ],
      "text/plain": [
       "                 capture_date   latitude   longitude  value  elevation\n",
       "0  2018-10-21 01:00:26.000000  36.041080  140.226816   23.0         31\n",
       "1  2018-10-21 01:00:22.000000  37.796306  140.514413   19.0         72\n",
       "2  2018-10-21 01:00:16.000000  37.723330  140.476797   15.0        141\n",
       "3  2018-10-21 00:59:16.000000  52.444900   13.315000   16.0         47\n",
       "4  2018-10-21 01:00:16.000000  37.787500  140.552400   18.0        107"
      ]
     },
     "execution_count": 4,
     "metadata": {},
     "output_type": "execute_result"
    }
   ],
   "source": [
    "df.head()"
   ]
  },
  {
   "cell_type": "code",
   "execution_count": 5,
   "metadata": {
    "ExecuteTime": {
     "end_time": "2019-01-15T23:54:57.986332Z",
     "start_time": "2019-01-15T23:54:42.300382Z"
    }
   },
   "outputs": [],
   "source": [
    "coords = [tuple(coords) for coords in df[[\"latitude\", \"longitude\"]].values]"
   ]
  },
  {
   "cell_type": "code",
   "execution_count": 6,
   "metadata": {
    "ExecuteTime": {
     "end_time": "2019-01-15T23:55:27.899635Z",
     "start_time": "2019-01-15T23:54:57.987331Z"
    }
   },
   "outputs": [
    {
     "name": "stdout",
     "output_type": "stream",
     "text": [
      "Loading formatted geocoded file...\n"
     ]
    }
   ],
   "source": [
    "res = reverse_geocoder.search(coords)"
   ]
  },
  {
   "cell_type": "code",
   "execution_count": 7,
   "metadata": {
    "ExecuteTime": {
     "end_time": "2019-01-15T23:55:27.911629Z",
     "start_time": "2019-01-15T23:55:27.903633Z"
    }
   },
   "outputs": [
    {
     "data": {
      "text/plain": [
       "[OrderedDict([('lat', '36.03333'),\n",
       "              ('lon', '140.2'),\n",
       "              ('name', 'Ami'),\n",
       "              ('admin1', 'Ibaraki'),\n",
       "              ('admin2', ''),\n",
       "              ('cc', 'JP')]),\n",
       " OrderedDict([('lat', '37.81667'),\n",
       "              ('lon', '140.55'),\n",
       "              ('name', 'Hobaramachi'),\n",
       "              ('admin1', 'Fukushima'),\n",
       "              ('admin2', ''),\n",
       "              ('cc', 'JP')]),\n",
       " OrderedDict([('lat', '37.75'),\n",
       "              ('lon', '140.46778'),\n",
       "              ('name', 'Fukushima-shi'),\n",
       "              ('admin1', 'Fukushima'),\n",
       "              ('admin2', ''),\n",
       "              ('cc', 'JP')])]"
      ]
     },
     "execution_count": 7,
     "metadata": {},
     "output_type": "execute_result"
    }
   ],
   "source": [
    "res[:3]"
   ]
  },
  {
   "cell_type": "code",
   "execution_count": 8,
   "metadata": {
    "ExecuteTime": {
     "end_time": "2019-01-15T23:57:30.353747Z",
     "start_time": "2019-01-15T23:55:27.913627Z"
    }
   },
   "outputs": [],
   "source": [
    "def get_country_code(row):\n",
    "    return res[row[\"index\"]][\"cc\"]\n",
    "\n",
    "df[\"country_code\"] = df.reset_index().apply(get_country_code, axis=1)"
   ]
  },
  {
   "cell_type": "code",
   "execution_count": 9,
   "metadata": {
    "ExecuteTime": {
     "end_time": "2019-01-15T23:57:30.717103Z",
     "start_time": "2019-01-15T23:57:30.363482Z"
    }
   },
   "outputs": [],
   "source": [
    "countries = {country_code: pycountry.countries.get(alpha_2=country_code).name for country_code in set(df.country_code)}"
   ]
  },
  {
   "cell_type": "code",
   "execution_count": 10,
   "metadata": {
    "ExecuteTime": {
     "end_time": "2019-01-15T23:59:46.805816Z",
     "start_time": "2019-01-15T23:57:30.717103Z"
    }
   },
   "outputs": [],
   "source": [
    "def get_country_name(row):\n",
    "    return countries[row.country_code]\n",
    "\n",
    "df[\"country\"] = df.apply(get_country_name, axis=1)"
   ]
  },
  {
   "cell_type": "code",
   "execution_count": 11,
   "metadata": {
    "ExecuteTime": {
     "end_time": "2019-01-15T23:59:48.467832Z",
     "start_time": "2019-01-15T23:59:46.805816Z"
    }
   },
   "outputs": [],
   "source": [
    "df = df.drop(columns=\"country_code\")"
   ]
  },
  {
   "cell_type": "code",
   "execution_count": 12,
   "metadata": {
    "ExecuteTime": {
     "end_time": "2019-01-15T23:59:48.493590Z",
     "start_time": "2019-01-15T23:59:48.469574Z"
    }
   },
   "outputs": [
    {
     "data": {
      "text/html": [
       "<div>\n",
       "<style scoped>\n",
       "    .dataframe tbody tr th:only-of-type {\n",
       "        vertical-align: middle;\n",
       "    }\n",
       "\n",
       "    .dataframe tbody tr th {\n",
       "        vertical-align: top;\n",
       "    }\n",
       "\n",
       "    .dataframe thead th {\n",
       "        text-align: right;\n",
       "    }\n",
       "</style>\n",
       "<table border=\"1\" class=\"dataframe\">\n",
       "  <thead>\n",
       "    <tr style=\"text-align: right;\">\n",
       "      <th></th>\n",
       "      <th>capture_date</th>\n",
       "      <th>latitude</th>\n",
       "      <th>longitude</th>\n",
       "      <th>value</th>\n",
       "      <th>elevation</th>\n",
       "      <th>country</th>\n",
       "    </tr>\n",
       "  </thead>\n",
       "  <tbody>\n",
       "    <tr>\n",
       "      <th>0</th>\n",
       "      <td>2018-10-21 01:00:26.000000</td>\n",
       "      <td>36.041080</td>\n",
       "      <td>140.226816</td>\n",
       "      <td>23.0</td>\n",
       "      <td>31</td>\n",
       "      <td>Japan</td>\n",
       "    </tr>\n",
       "    <tr>\n",
       "      <th>1</th>\n",
       "      <td>2018-10-21 01:00:22.000000</td>\n",
       "      <td>37.796306</td>\n",
       "      <td>140.514413</td>\n",
       "      <td>19.0</td>\n",
       "      <td>72</td>\n",
       "      <td>Japan</td>\n",
       "    </tr>\n",
       "    <tr>\n",
       "      <th>2</th>\n",
       "      <td>2018-10-21 01:00:16.000000</td>\n",
       "      <td>37.723330</td>\n",
       "      <td>140.476797</td>\n",
       "      <td>15.0</td>\n",
       "      <td>141</td>\n",
       "      <td>Japan</td>\n",
       "    </tr>\n",
       "    <tr>\n",
       "      <th>3</th>\n",
       "      <td>2018-10-21 00:59:16.000000</td>\n",
       "      <td>52.444900</td>\n",
       "      <td>13.315000</td>\n",
       "      <td>16.0</td>\n",
       "      <td>47</td>\n",
       "      <td>Germany</td>\n",
       "    </tr>\n",
       "    <tr>\n",
       "      <th>4</th>\n",
       "      <td>2018-10-21 01:00:16.000000</td>\n",
       "      <td>37.787500</td>\n",
       "      <td>140.552400</td>\n",
       "      <td>18.0</td>\n",
       "      <td>107</td>\n",
       "      <td>Japan</td>\n",
       "    </tr>\n",
       "  </tbody>\n",
       "</table>\n",
       "</div>"
      ],
      "text/plain": [
       "                 capture_date   latitude   longitude  value  elevation  \\\n",
       "0  2018-10-21 01:00:26.000000  36.041080  140.226816   23.0         31   \n",
       "1  2018-10-21 01:00:22.000000  37.796306  140.514413   19.0         72   \n",
       "2  2018-10-21 01:00:16.000000  37.723330  140.476797   15.0        141   \n",
       "3  2018-10-21 00:59:16.000000  52.444900   13.315000   16.0         47   \n",
       "4  2018-10-21 01:00:16.000000  37.787500  140.552400   18.0        107   \n",
       "\n",
       "   country  \n",
       "0    Japan  \n",
       "1    Japan  \n",
       "2    Japan  \n",
       "3  Germany  \n",
       "4    Japan  "
      ]
     },
     "execution_count": 12,
     "metadata": {},
     "output_type": "execute_result"
    }
   ],
   "source": [
    "df.head()"
   ]
  },
  {
   "cell_type": "code",
   "execution_count": 13,
   "metadata": {
    "ExecuteTime": {
     "end_time": "2019-01-16T00:00:59.355154Z",
     "start_time": "2019-01-15T23:59:48.493590Z"
    }
   },
   "outputs": [],
   "source": [
    "df.to_csv(os.path.join(RESULTS_DIR, \"10_million_with_elevation_geohashes_countries.csv\"))"
   ]
  },
  {
   "cell_type": "code",
   "execution_count": 14,
   "metadata": {
    "ExecuteTime": {
     "end_time": "2019-01-16T00:01:07.381870Z",
     "start_time": "2019-01-16T00:00:59.355154Z"
    }
   },
   "outputs": [],
   "source": [
    "plot = df.country.value_counts()[:30].plot(kind='barh', figsize=(20, 15), title=\"30 countries with most measurements\", color='b')"
   ]
  },
  {
   "cell_type": "code",
   "execution_count": 15,
   "metadata": {
    "ExecuteTime": {
     "end_time": "2019-01-16T00:01:07.579135Z",
     "start_time": "2019-01-16T00:01:07.383847Z"
    }
   },
   "outputs": [],
   "source": [
    "plot.get_figure().savefig(os.path.join(RESULTS_DIR, \"30_countries_with_most_measurements.png\"))"
   ]
  },
  {
   "cell_type": "code",
   "execution_count": 16,
   "metadata": {
    "ExecuteTime": {
     "end_time": "2019-01-16T00:01:08.604409Z",
     "start_time": "2019-01-16T00:01:07.579135Z"
    }
   },
   "outputs": [
    {
     "name": "stdout",
     "output_type": "stream",
     "text": [
      "Japan                                    3547180\n",
      "United States                            2076537\n",
      "Germany                                   876083\n",
      "Czechia                                   658820\n",
      "France                                    406071\n",
      "Netherlands                               383471\n",
      "Korea, Republic of                        212393\n",
      "Italy                                     172296\n",
      "United Kingdom                            114336\n",
      "Australia                                  97546\n",
      "Austria                                    94059\n",
      "Greece                                     83573\n",
      "Spain                                      77881\n",
      "Switzerland                                72705\n",
      "Ukraine                                    65425\n",
      "Hungary                                    57911\n",
      "Slovakia                                   52941\n",
      "Romania                                    51434\n",
      "Bulgaria                                   50524\n",
      "Sweden                                     48345\n",
      "Taiwan, Province of China                  45559\n",
      "Hong Kong                                  37577\n",
      "South Africa                               37034\n",
      "Kazakhstan                                 36365\n",
      "Canada                                     35791\n",
      "Namibia                                    27435\n",
      "Denmark                                    24961\n",
      "Botswana                                   24797\n",
      "Slovenia                                   23981\n",
      "Mexico                                     21872\n",
      "Kenya                                      18282\n",
      "Zambia                                     17817\n",
      "Montenegro                                 17534\n",
      "Ireland                                    17093\n",
      "Luxembourg                                 16155\n",
      "Monaco                                     12593\n",
      "Israel                                     11425\n",
      "Jordan                                     10033\n",
      "Philippines                                 9451\n",
      "Poland                                      8897\n",
      "Zimbabwe                                    8751\n",
      "Belgium                                     8133\n",
      "Holy See (Vatican City State)               7768\n",
      "Dominican Republic                          7716\n",
      "Peru                                        7310\n",
      "Singapore                                   5795\n",
      "Croatia                                     4461\n",
      "Guinea                                      4115\n",
      "Uzbekistan                                  3836\n",
      "Belarus                                     3057\n",
      "China                                       3055\n",
      "Qatar                                       2917\n",
      "Viet Nam                                    1788\n",
      "United Arab Emirates                        1646\n",
      "Russian Federation                          1590\n",
      "Macedonia, Republic of                      1419\n",
      "Serbia                                      1322\n",
      "Turkey                                       702\n",
      "Palestine, State of                          477\n",
      "Guam                                         426\n",
      "Morocco                                      347\n",
      "Jamaica                                      266\n",
      "Bosnia and Herzegovina                       244\n",
      "Senegal                                      230\n",
      "Estonia                                      220\n",
      "Liechtenstein                                212\n",
      "Latvia                                       150\n",
      "Guatemala                                    130\n",
      "Finland                                      128\n",
      "Maldives                                     123\n",
      "Congo, The Democratic Republic of the          1\n",
      "Gabon                                          1\n"
     ]
    }
   ],
   "source": [
    "print(df.country.value_counts().to_string())"
   ]
  }
 ],
 "metadata": {
  "kernelspec": {
   "display_name": "Python 3",
   "language": "python",
   "name": "python3"
  },
  "language_info": {
   "codemirror_mode": {
    "name": "ipython",
    "version": 3
   },
   "file_extension": ".py",
   "mimetype": "text/x-python",
   "name": "python",
   "nbconvert_exporter": "python",
   "pygments_lexer": "ipython3",
   "version": "3.7.0"
  }
 },
 "nbformat": 4,
 "nbformat_minor": 2
}
