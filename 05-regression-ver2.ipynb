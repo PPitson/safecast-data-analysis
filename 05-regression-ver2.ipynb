{
 "cells": [
  {
   "cell_type": "code",
   "execution_count": 1,
   "metadata": {
    "ExecuteTime": {
     "end_time": "2019-01-04T21:32:51.084009Z",
     "start_time": "2019-01-04T21:32:41.018794Z"
    }
   },
   "outputs": [],
   "source": [
    "import pandas as pd \n",
    "import folium\n",
    "import os\n",
    "import geohash\n",
    "from folium.plugins import HeatMap\n",
    "from sklearn import datasets, linear_model\n",
    "from sklearn.metrics import mean_squared_error, r2_score\n",
    "from datetime import datetime\n",
    "import numpy as np"
   ]
  },
  {
   "cell_type": "code",
   "execution_count": 2,
   "metadata": {
    "ExecuteTime": {
     "end_time": "2019-01-04T21:32:51.090352Z",
     "start_time": "2019-01-04T21:32:51.087353Z"
    }
   },
   "outputs": [],
   "source": [
    "RESULTS_DIR = \"results\""
   ]
  },
  {
   "cell_type": "code",
   "execution_count": 3,
   "metadata": {
    "ExecuteTime": {
     "end_time": "2019-01-04T21:33:30.630773Z",
     "start_time": "2019-01-04T21:32:51.092351Z"
    }
   },
   "outputs": [],
   "source": [
    "df = pd.read_csv(os.path.join(RESULTS_DIR, \"10_million_with_elevation_and_geohashes.csv\"))"
   ]
  },
  {
   "cell_type": "code",
   "execution_count": 4,
   "metadata": {
    "ExecuteTime": {
     "end_time": "2019-01-04T21:33:30.731923Z",
     "start_time": "2019-01-04T21:33:30.633771Z"
    }
   },
   "outputs": [
    {
     "data": {
      "text/html": [
       "<div>\n",
       "<style scoped>\n",
       "    .dataframe tbody tr th:only-of-type {\n",
       "        vertical-align: middle;\n",
       "    }\n",
       "\n",
       "    .dataframe tbody tr th {\n",
       "        vertical-align: top;\n",
       "    }\n",
       "\n",
       "    .dataframe thead th {\n",
       "        text-align: right;\n",
       "    }\n",
       "</style>\n",
       "<table border=\"1\" class=\"dataframe\">\n",
       "  <thead>\n",
       "    <tr style=\"text-align: right;\">\n",
       "      <th></th>\n",
       "      <th>capture_date</th>\n",
       "      <th>latitude</th>\n",
       "      <th>longitude</th>\n",
       "      <th>value</th>\n",
       "      <th>elevation</th>\n",
       "      <th>geohash</th>\n",
       "    </tr>\n",
       "  </thead>\n",
       "  <tbody>\n",
       "    <tr>\n",
       "      <th>0</th>\n",
       "      <td>2018-10-21 01:00:26.000000</td>\n",
       "      <td>36.041080</td>\n",
       "      <td>140.226816</td>\n",
       "      <td>23.0</td>\n",
       "      <td>31</td>\n",
       "      <td>xn7tncn498k2</td>\n",
       "    </tr>\n",
       "    <tr>\n",
       "      <th>1</th>\n",
       "      <td>2018-10-21 01:00:22.000000</td>\n",
       "      <td>37.796306</td>\n",
       "      <td>140.514413</td>\n",
       "      <td>19.0</td>\n",
       "      <td>72</td>\n",
       "      <td>xnezj2x7rnh7</td>\n",
       "    </tr>\n",
       "    <tr>\n",
       "      <th>2</th>\n",
       "      <td>2018-10-21 01:00:16.000000</td>\n",
       "      <td>37.723330</td>\n",
       "      <td>140.476797</td>\n",
       "      <td>15.0</td>\n",
       "      <td>141</td>\n",
       "      <td>xneysek46d7w</td>\n",
       "    </tr>\n",
       "    <tr>\n",
       "      <th>3</th>\n",
       "      <td>2018-10-21 00:59:16.000000</td>\n",
       "      <td>52.444900</td>\n",
       "      <td>13.315000</td>\n",
       "      <td>16.0</td>\n",
       "      <td>47</td>\n",
       "      <td>u336qgr9tvzw</td>\n",
       "    </tr>\n",
       "    <tr>\n",
       "      <th>4</th>\n",
       "      <td>2018-10-21 01:00:16.000000</td>\n",
       "      <td>37.787500</td>\n",
       "      <td>140.552400</td>\n",
       "      <td>18.0</td>\n",
       "      <td>107</td>\n",
       "      <td>xneyyr50hk99</td>\n",
       "    </tr>\n",
       "  </tbody>\n",
       "</table>\n",
       "</div>"
      ],
      "text/plain": [
       "                 capture_date   latitude   longitude  value  elevation  \\\n",
       "0  2018-10-21 01:00:26.000000  36.041080  140.226816   23.0         31   \n",
       "1  2018-10-21 01:00:22.000000  37.796306  140.514413   19.0         72   \n",
       "2  2018-10-21 01:00:16.000000  37.723330  140.476797   15.0        141   \n",
       "3  2018-10-21 00:59:16.000000  52.444900   13.315000   16.0         47   \n",
       "4  2018-10-21 01:00:16.000000  37.787500  140.552400   18.0        107   \n",
       "\n",
       "        geohash  \n",
       "0  xn7tncn498k2  \n",
       "1  xnezj2x7rnh7  \n",
       "2  xneysek46d7w  \n",
       "3  u336qgr9tvzw  \n",
       "4  xneyyr50hk99  "
      ]
     },
     "execution_count": 4,
     "metadata": {},
     "output_type": "execute_result"
    }
   ],
   "source": [
    "df.head()"
   ]
  },
  {
   "cell_type": "code",
   "execution_count": 5,
   "metadata": {
    "ExecuteTime": {
     "end_time": "2019-01-04T21:33:30.739921Z",
     "start_time": "2019-01-04T21:33:30.735922Z"
    }
   },
   "outputs": [
    {
     "data": {
      "text/plain": [
       "9732519"
      ]
     },
     "execution_count": 5,
     "metadata": {},
     "output_type": "execute_result"
    }
   ],
   "source": [
    "len(df)"
   ]
  },
  {
   "cell_type": "code",
   "execution_count": 6,
   "metadata": {
    "ExecuteTime": {
     "end_time": "2019-01-04T21:33:30.749915Z",
     "start_time": "2019-01-04T21:33:30.741920Z"
    }
   },
   "outputs": [],
   "source": [
    "# https://www.elastic.co/guide/en/elasticsearch/reference/current/search-aggregations-bucket-geohashgrid-aggregation.html\n",
    "# geogash precision \n",
    "# 8 - 38.2m x 19m\n",
    "# 4 - 39.1km x 19.5km\n",
    "# 5 - 4.89km x 4.89km"
   ]
  },
  {
   "cell_type": "code",
   "execution_count": 7,
   "metadata": {
    "ExecuteTime": {
     "end_time": "2019-01-04T21:35:53.482685Z",
     "start_time": "2019-01-04T21:33:30.751915Z"
    }
   },
   "outputs": [],
   "source": [
    "def get_geohash4(row):\n",
    "    return row.geohash[:4]\n",
    "\n",
    "df[\"geohash4\"] = df.apply(get_geohash4, axis=1)"
   ]
  },
  {
   "cell_type": "code",
   "execution_count": 8,
   "metadata": {
    "ExecuteTime": {
     "end_time": "2019-01-04T21:35:55.035978Z",
     "start_time": "2019-01-04T21:35:53.484684Z"
    }
   },
   "outputs": [
    {
     "data": {
      "text/plain": [
       "(2218.99658002736, 206.0)"
      ]
     },
     "execution_count": 8,
     "metadata": {},
     "output_type": "execute_result"
    }
   ],
   "source": [
    "points_geohashes_prec_4 = df.geohash4.value_counts()\n",
    "points_geohashes_prec_4[:10]\n",
    "points_geohashes_prec_4.mean(), points_geohashes_prec_4.median()"
   ]
  },
  {
   "cell_type": "code",
   "execution_count": 9,
   "metadata": {
    "ExecuteTime": {
     "end_time": "2019-01-04T21:38:20.932893Z",
     "start_time": "2019-01-04T21:35:55.037959Z"
    }
   },
   "outputs": [],
   "source": [
    "def get_geohash5(row):\n",
    "    return row.geohash[:5]\n",
    "\n",
    "df[\"geohash5\"] = df.apply(get_geohash5, axis=1)"
   ]
  },
  {
   "cell_type": "code",
   "execution_count": 10,
   "metadata": {
    "ExecuteTime": {
     "end_time": "2019-01-04T21:38:22.462041Z",
     "start_time": "2019-01-04T21:38:20.934887Z"
    }
   },
   "outputs": [
    {
     "data": {
      "text/plain": [
       "(310.4768877404536, 34.0)"
      ]
     },
     "execution_count": 10,
     "metadata": {},
     "output_type": "execute_result"
    }
   ],
   "source": [
    "points_geohashes_prec_5 = df.geohash5.value_counts()\n",
    "points_geohashes_prec_5.mean(), points_geohashes_prec_5.median()"
   ]
  },
  {
   "cell_type": "code",
   "execution_count": 11,
   "metadata": {
    "ExecuteTime": {
     "end_time": "2019-01-04T21:38:22.983437Z",
     "start_time": "2019-01-04T21:38:22.464030Z"
    }
   },
   "outputs": [
    {
     "data": {
      "text/plain": [
       "11920"
      ]
     },
     "execution_count": 11,
     "metadata": {},
     "output_type": "execute_result"
    }
   ],
   "source": [
    "geohashes_for_regression = list(points_geohashes_prec_5.where(lambda count: count >= 50).dropna().index)\n",
    "len(geohashes_for_regression)"
   ]
  },
  {
   "cell_type": "code",
   "execution_count": 12,
   "metadata": {
    "ExecuteTime": {
     "end_time": "2019-01-04T21:38:22.994420Z",
     "start_time": "2019-01-04T21:38:22.985425Z"
    }
   },
   "outputs": [
    {
     "data": {
      "text/plain": [
       "6794"
      ]
     },
     "execution_count": 12,
     "metadata": {},
     "output_type": "execute_result"
    }
   ],
   "source": [
    "len(points_geohashes_prec_5.where(lambda count: count >= 100).dropna())"
   ]
  },
  {
   "cell_type": "code",
   "execution_count": 13,
   "metadata": {
    "ExecuteTime": {
     "end_time": "2019-01-04T21:38:23.004426Z",
     "start_time": "2019-01-04T21:38:22.996420Z"
    }
   },
   "outputs": [],
   "source": [
    "def get_timestamp(row):\n",
    "    try:\n",
    "        timestamp = datetime.strptime(row.capture_date, '%Y-%m-%d %H:%M:%S.%f').timestamp()\n",
    "        return timestamp\n",
    "    except:\n",
    "        timestamp = datetime.strptime(row.capture_date, '%Y-%m-%d %H:%M:%S').timestamp()\n",
    "        return timestamp"
   ]
  },
  {
   "cell_type": "code",
   "execution_count": 14,
   "metadata": {
    "ExecuteTime": {
     "end_time": "2019-01-04T21:44:45.237516Z",
     "start_time": "2019-01-04T21:38:23.006413Z"
    }
   },
   "outputs": [
    {
     "name": "stdout",
     "output_type": "stream",
     "text": [
      "Wall time: 6min 22s\n"
     ]
    }
   ],
   "source": [
    "%%time\n",
    "df[\"timestamp\"] = df.apply(get_timestamp, axis=1)"
   ]
  },
  {
   "cell_type": "code",
   "execution_count": 15,
   "metadata": {
    "ExecuteTime": {
     "end_time": "2019-01-04T21:44:45.253508Z",
     "start_time": "2019-01-04T21:44:45.239516Z"
    },
    "scrolled": false
   },
   "outputs": [
    {
     "data": {
      "text/html": [
       "<div>\n",
       "<style scoped>\n",
       "    .dataframe tbody tr th:only-of-type {\n",
       "        vertical-align: middle;\n",
       "    }\n",
       "\n",
       "    .dataframe tbody tr th {\n",
       "        vertical-align: top;\n",
       "    }\n",
       "\n",
       "    .dataframe thead th {\n",
       "        text-align: right;\n",
       "    }\n",
       "</style>\n",
       "<table border=\"1\" class=\"dataframe\">\n",
       "  <thead>\n",
       "    <tr style=\"text-align: right;\">\n",
       "      <th></th>\n",
       "      <th>capture_date</th>\n",
       "      <th>latitude</th>\n",
       "      <th>longitude</th>\n",
       "      <th>value</th>\n",
       "      <th>elevation</th>\n",
       "      <th>geohash</th>\n",
       "      <th>geohash4</th>\n",
       "      <th>geohash5</th>\n",
       "      <th>timestamp</th>\n",
       "    </tr>\n",
       "  </thead>\n",
       "  <tbody>\n",
       "    <tr>\n",
       "      <th>0</th>\n",
       "      <td>2018-10-21 01:00:26.000000</td>\n",
       "      <td>36.041080</td>\n",
       "      <td>140.226816</td>\n",
       "      <td>23.0</td>\n",
       "      <td>31</td>\n",
       "      <td>xn7tncn498k2</td>\n",
       "      <td>xn7t</td>\n",
       "      <td>xn7tn</td>\n",
       "      <td>1.540076e+09</td>\n",
       "    </tr>\n",
       "    <tr>\n",
       "      <th>1</th>\n",
       "      <td>2018-10-21 01:00:22.000000</td>\n",
       "      <td>37.796306</td>\n",
       "      <td>140.514413</td>\n",
       "      <td>19.0</td>\n",
       "      <td>72</td>\n",
       "      <td>xnezj2x7rnh7</td>\n",
       "      <td>xnez</td>\n",
       "      <td>xnezj</td>\n",
       "      <td>1.540076e+09</td>\n",
       "    </tr>\n",
       "    <tr>\n",
       "      <th>2</th>\n",
       "      <td>2018-10-21 01:00:16.000000</td>\n",
       "      <td>37.723330</td>\n",
       "      <td>140.476797</td>\n",
       "      <td>15.0</td>\n",
       "      <td>141</td>\n",
       "      <td>xneysek46d7w</td>\n",
       "      <td>xney</td>\n",
       "      <td>xneys</td>\n",
       "      <td>1.540076e+09</td>\n",
       "    </tr>\n",
       "    <tr>\n",
       "      <th>3</th>\n",
       "      <td>2018-10-21 00:59:16.000000</td>\n",
       "      <td>52.444900</td>\n",
       "      <td>13.315000</td>\n",
       "      <td>16.0</td>\n",
       "      <td>47</td>\n",
       "      <td>u336qgr9tvzw</td>\n",
       "      <td>u336</td>\n",
       "      <td>u336q</td>\n",
       "      <td>1.540076e+09</td>\n",
       "    </tr>\n",
       "    <tr>\n",
       "      <th>4</th>\n",
       "      <td>2018-10-21 01:00:16.000000</td>\n",
       "      <td>37.787500</td>\n",
       "      <td>140.552400</td>\n",
       "      <td>18.0</td>\n",
       "      <td>107</td>\n",
       "      <td>xneyyr50hk99</td>\n",
       "      <td>xney</td>\n",
       "      <td>xneyy</td>\n",
       "      <td>1.540076e+09</td>\n",
       "    </tr>\n",
       "  </tbody>\n",
       "</table>\n",
       "</div>"
      ],
      "text/plain": [
       "                 capture_date   latitude   longitude  value  elevation  \\\n",
       "0  2018-10-21 01:00:26.000000  36.041080  140.226816   23.0         31   \n",
       "1  2018-10-21 01:00:22.000000  37.796306  140.514413   19.0         72   \n",
       "2  2018-10-21 01:00:16.000000  37.723330  140.476797   15.0        141   \n",
       "3  2018-10-21 00:59:16.000000  52.444900   13.315000   16.0         47   \n",
       "4  2018-10-21 01:00:16.000000  37.787500  140.552400   18.0        107   \n",
       "\n",
       "        geohash geohash4 geohash5     timestamp  \n",
       "0  xn7tncn498k2     xn7t    xn7tn  1.540076e+09  \n",
       "1  xnezj2x7rnh7     xnez    xnezj  1.540076e+09  \n",
       "2  xneysek46d7w     xney    xneys  1.540076e+09  \n",
       "3  u336qgr9tvzw     u336    u336q  1.540076e+09  \n",
       "4  xneyyr50hk99     xney    xneyy  1.540076e+09  "
      ]
     },
     "execution_count": 15,
     "metadata": {},
     "output_type": "execute_result"
    }
   ],
   "source": [
    "df.head()"
   ]
  },
  {
   "cell_type": "code",
   "execution_count": 16,
   "metadata": {
    "ExecuteTime": {
     "end_time": "2019-01-04T21:45:30.289320Z",
     "start_time": "2019-01-04T21:44:45.255506Z"
    }
   },
   "outputs": [],
   "source": [
    "df = df.drop(columns=[\"capture_date\", \"latitude\", \"longitude\", \"elevation\", \"geohash4\"])\n",
    "df.to_csv(os.path.join(RESULTS_DIR, \"10_million_with_elevation_geohashes_timestamps.csv\"))"
   ]
  },
  {
   "cell_type": "code",
   "execution_count": 17,
   "metadata": {
    "ExecuteTime": {
     "end_time": "2019-01-04T21:45:32.750438Z",
     "start_time": "2019-01-04T21:45:30.291322Z"
    }
   },
   "outputs": [
    {
     "data": {
      "text/plain": [
       "11920"
      ]
     },
     "execution_count": 17,
     "metadata": {},
     "output_type": "execute_result"
    }
   ],
   "source": [
    "groupped_df = df[df.geohash5.isin(geohashes_for_regression)][[\"value\", \"geohash5\", \"timestamp\"]].groupby(\"geohash5\")\n",
    "len(groupped_df)"
   ]
  },
  {
   "cell_type": "code",
   "execution_count": 18,
   "metadata": {
    "ExecuteTime": {
     "end_time": "2019-01-04T21:45:32.762414Z",
     "start_time": "2019-01-04T21:45:32.756417Z"
    }
   },
   "outputs": [],
   "source": [
    "def prepare_regresion_model(one_group_df):\n",
    "    result = pd.Series()\n",
    "    X = np.array(one_group_df.timestamp).reshape(-1, 1)\n",
    "    y = np.array(one_group_df.value).reshape(-1, 1)\n",
    "    # sort by timestamp\n",
    "    train_size = int(0.8 * len(X))\n",
    "    X_train = X[:train_size]\n",
    "    X_test = X[train_size:]\n",
    "    y_train = y[:train_size]\n",
    "    y_test = y[train_size:]\n",
    "    \n",
    "    regr = linear_model.LinearRegression()\n",
    "    regr.fit(X_train, y_train)\n",
    "    \n",
    "    y_pred = regr.predict(X_test)\n",
    "    error = r2_score(y_test, y_pred)\n",
    "    return pd.Series({\"regression_error\": error})"
   ]
  },
  {
   "cell_type": "code",
   "execution_count": 19,
   "metadata": {
    "ExecuteTime": {
     "end_time": "2019-01-04T21:45:50.605320Z",
     "start_time": "2019-01-04T21:45:32.765413Z"
    }
   },
   "outputs": [],
   "source": [
    "df_after_training = groupped_df.apply(prepare_regresion_model).reset_index()"
   ]
  },
  {
   "cell_type": "code",
   "execution_count": 20,
   "metadata": {
    "ExecuteTime": {
     "end_time": "2019-01-04T21:45:50.614313Z",
     "start_time": "2019-01-04T21:45:50.606317Z"
    }
   },
   "outputs": [
    {
     "data": {
      "text/html": [
       "<div>\n",
       "<style scoped>\n",
       "    .dataframe tbody tr th:only-of-type {\n",
       "        vertical-align: middle;\n",
       "    }\n",
       "\n",
       "    .dataframe tbody tr th {\n",
       "        vertical-align: top;\n",
       "    }\n",
       "\n",
       "    .dataframe thead th {\n",
       "        text-align: right;\n",
       "    }\n",
       "</style>\n",
       "<table border=\"1\" class=\"dataframe\">\n",
       "  <thead>\n",
       "    <tr style=\"text-align: right;\">\n",
       "      <th></th>\n",
       "      <th>geohash5</th>\n",
       "      <th>regression_error</th>\n",
       "    </tr>\n",
       "  </thead>\n",
       "  <tbody>\n",
       "    <tr>\n",
       "      <th>0</th>\n",
       "      <td>6mc5m</td>\n",
       "      <td>0.405935</td>\n",
       "    </tr>\n",
       "    <tr>\n",
       "      <th>1</th>\n",
       "      <td>6mc5n</td>\n",
       "      <td>0.013665</td>\n",
       "    </tr>\n",
       "    <tr>\n",
       "      <th>2</th>\n",
       "      <td>6mc5p</td>\n",
       "      <td>0.698166</td>\n",
       "    </tr>\n",
       "    <tr>\n",
       "      <th>3</th>\n",
       "      <td>6mc5t</td>\n",
       "      <td>0.006640</td>\n",
       "    </tr>\n",
       "    <tr>\n",
       "      <th>4</th>\n",
       "      <td>6msem</td>\n",
       "      <td>-2.723922</td>\n",
       "    </tr>\n",
       "  </tbody>\n",
       "</table>\n",
       "</div>"
      ],
      "text/plain": [
       "  geohash5  regression_error\n",
       "0    6mc5m          0.405935\n",
       "1    6mc5n          0.013665\n",
       "2    6mc5p          0.698166\n",
       "3    6mc5t          0.006640\n",
       "4    6msem         -2.723922"
      ]
     },
     "execution_count": 20,
     "metadata": {},
     "output_type": "execute_result"
    }
   ],
   "source": [
    "df_after_training.head()"
   ]
  },
  {
   "cell_type": "code",
   "execution_count": 21,
   "metadata": {
    "ExecuteTime": {
     "end_time": "2019-01-04T21:45:50.628326Z",
     "start_time": "2019-01-04T21:45:50.616312Z"
    }
   },
   "outputs": [],
   "source": [
    "df_after_training = df_after_training[df_after_training.regression_error <= 100]"
   ]
  },
  {
   "cell_type": "code",
   "execution_count": 22,
   "metadata": {
    "ExecuteTime": {
     "end_time": "2019-01-04T21:45:50.638338Z",
     "start_time": "2019-01-04T21:45:50.629329Z"
    }
   },
   "outputs": [],
   "source": [
    "def get_coordinates(geo):\n",
    "    bbox = geohash.bbox(geo)\n",
    "    return [[bbox[\"w\"], bbox[\"n\"]], [bbox[\"e\"], bbox[\"n\"]], [bbox[\"e\"], bbox[\"s\"]], [bbox[\"w\"], bbox[\"s\"]]]\n",
    "\n",
    "def get_geo_data(ghash_df):\n",
    "    features = []\n",
    "\n",
    "    for geo, *_ in ghash_df.values:\n",
    "        features.append({\"type\": \"Feature\", \"id\": geo, \n",
    "                         \"geometry\": {\"type\": \"Polygon\", \"coordinates\": [get_coordinates(geo)]}})\n",
    "\n",
    "    return {\"type\": \"FeatureCollection\", \"features\": features}\n",
    "\n",
    "def visualize_with_folium(df):\n",
    "    m = folium.Map(location=[37.760806, 140.474722], zoom_start=10)\n",
    "\n",
    "    m.choropleth(\n",
    "        geo_data=get_geo_data(df),\n",
    "        name='choropleth',\n",
    "        data=df,\n",
    "        columns=['geohash5', 'regression_error'],\n",
    "        key_on='feature.id',\n",
    "        fill_color='YlOrRd',\n",
    "        fill_opacity=0.7,\n",
    "        line_opacity=0.2,\n",
    "        legend_name='regression mean square error'\n",
    "    )\n",
    "    folium.LayerControl().add_to(m)\n",
    "    return m"
   ]
  },
  {
   "cell_type": "code",
   "execution_count": 23,
   "metadata": {
    "ExecuteTime": {
     "end_time": "2019-01-04T21:45:50.787308Z",
     "start_time": "2019-01-04T21:45:50.639323Z"
    }
   },
   "outputs": [],
   "source": [
    "m = visualize_with_folium(df_after_training)"
   ]
  },
  {
   "cell_type": "code",
   "execution_count": 24,
   "metadata": {
    "ExecuteTime": {
     "end_time": "2019-01-04T21:45:52.220491Z",
     "start_time": "2019-01-04T21:45:50.788286Z"
    }
   },
   "outputs": [],
   "source": [
    "m.save(os.path.join(RESULTS_DIR, \"regression_errors.html\"))"
   ]
  }
 ],
 "metadata": {
  "kernelspec": {
   "display_name": "Python 3",
   "language": "python",
   "name": "python3"
  },
  "language_info": {
   "codemirror_mode": {
    "name": "ipython",
    "version": 3
   },
   "file_extension": ".py",
   "mimetype": "text/x-python",
   "name": "python",
   "nbconvert_exporter": "python",
   "pygments_lexer": "ipython3",
   "version": "3.7.0"
  }
 },
 "nbformat": 4,
 "nbformat_minor": 2
}
