{
 "cells": [
  {
   "cell_type": "code",
   "execution_count": 1,
   "metadata": {
    "ExecuteTime": {
     "end_time": "2018-11-18T15:52:14.967122Z",
     "start_time": "2018-11-18T15:52:08.249039Z"
    }
   },
   "outputs": [],
   "source": [
    "import pandas as pd\n",
    "import os\n",
    "\n",
    "SAFECAST_DATA_PATH = os.path.join('results', 'first_million.csv')\n",
    "df = pd.read_csv(SAFECAST_DATA_PATH)"
   ]
  },
  {
   "cell_type": "code",
   "execution_count": 2,
   "metadata": {
    "ExecuteTime": {
     "end_time": "2018-11-18T15:52:15.045082Z",
     "start_time": "2018-11-18T15:52:14.969122Z"
    }
   },
   "outputs": [
    {
     "data": {
      "text/html": [
       "<div>\n",
       "<style scoped>\n",
       "    .dataframe tbody tr th:only-of-type {\n",
       "        vertical-align: middle;\n",
       "    }\n",
       "\n",
       "    .dataframe tbody tr th {\n",
       "        vertical-align: top;\n",
       "    }\n",
       "\n",
       "    .dataframe thead th {\n",
       "        text-align: right;\n",
       "    }\n",
       "</style>\n",
       "<table border=\"1\" class=\"dataframe\">\n",
       "  <thead>\n",
       "    <tr style=\"text-align: right;\">\n",
       "      <th></th>\n",
       "      <th>captured time</th>\n",
       "      <th>latitude</th>\n",
       "      <th>longitude</th>\n",
       "      <th>value</th>\n",
       "    </tr>\n",
       "  </thead>\n",
       "  <tbody>\n",
       "    <tr>\n",
       "      <th>0</th>\n",
       "      <td>2018-10-21 01:00:26.000000</td>\n",
       "      <td>36.041080</td>\n",
       "      <td>140.226816</td>\n",
       "      <td>23.0</td>\n",
       "    </tr>\n",
       "    <tr>\n",
       "      <th>1</th>\n",
       "      <td>2018-10-21 01:00:22.000000</td>\n",
       "      <td>37.796306</td>\n",
       "      <td>140.514413</td>\n",
       "      <td>19.0</td>\n",
       "    </tr>\n",
       "    <tr>\n",
       "      <th>2</th>\n",
       "      <td>2018-10-21 01:00:16.000000</td>\n",
       "      <td>37.723330</td>\n",
       "      <td>140.476797</td>\n",
       "      <td>15.0</td>\n",
       "    </tr>\n",
       "    <tr>\n",
       "      <th>3</th>\n",
       "      <td>2018-10-21 00:59:16.000000</td>\n",
       "      <td>52.444900</td>\n",
       "      <td>13.315000</td>\n",
       "      <td>16.0</td>\n",
       "    </tr>\n",
       "    <tr>\n",
       "      <th>4</th>\n",
       "      <td>2018-10-21 01:00:16.000000</td>\n",
       "      <td>37.787500</td>\n",
       "      <td>140.552400</td>\n",
       "      <td>18.0</td>\n",
       "    </tr>\n",
       "  </tbody>\n",
       "</table>\n",
       "</div>"
      ],
      "text/plain": [
       "                captured time   latitude   longitude  value\n",
       "0  2018-10-21 01:00:26.000000  36.041080  140.226816   23.0\n",
       "1  2018-10-21 01:00:22.000000  37.796306  140.514413   19.0\n",
       "2  2018-10-21 01:00:16.000000  37.723330  140.476797   15.0\n",
       "3  2018-10-21 00:59:16.000000  52.444900   13.315000   16.0\n",
       "4  2018-10-21 01:00:16.000000  37.787500  140.552400   18.0"
      ]
     },
     "execution_count": 2,
     "metadata": {},
     "output_type": "execute_result"
    }
   ],
   "source": [
    "df.head()"
   ]
  },
  {
   "cell_type": "code",
   "execution_count": 3,
   "metadata": {
    "ExecuteTime": {
     "end_time": "2018-11-18T15:52:16.196174Z",
     "start_time": "2018-11-18T15:52:16.192165Z"
    }
   },
   "outputs": [
    {
     "data": {
      "text/plain": [
       "806849"
      ]
     },
     "execution_count": 3,
     "metadata": {},
     "output_type": "execute_result"
    }
   ],
   "source": [
    "len(df)"
   ]
  },
  {
   "cell_type": "code",
   "execution_count": 26,
   "metadata": {
    "ExecuteTime": {
     "end_time": "2018-11-18T16:09:46.619312Z",
     "start_time": "2018-11-18T16:09:46.612316Z"
    }
   },
   "outputs": [],
   "source": [
    "from gmalthgtparser import HgtParser\n",
    "from functools import lru_cache\n",
    "\n",
    "HGTDIR = \"hgt_files\"\n",
    "\n",
    "\n",
    "def get_file_name(lat, lon):\n",
    "    \n",
    "    @lru_cache(maxsize=1024)\n",
    "    def _get_file_name(latitude, longitude, ns, ew):\n",
    "        hgt_file = \"%(ns)s%(lat)02d%(ew)s%(lon)03d.hgt\" % {'lat': latitude, 'lon': longitude, 'ns': ns, 'ew': ew}\n",
    "        hgt_file_path = os.path.join(HGTDIR, hgt_file)\n",
    "        if os.path.isfile(hgt_file_path):\n",
    "            return hgt_file_path\n",
    "        else:\n",
    "            return None\n",
    "        \n",
    "    if lat >= 0.0:\n",
    "        ns = 'N'\n",
    "    else:\n",
    "        ns = 'S'\n",
    "        lat -= 1\n",
    "\n",
    "    if lon >= 0.0:\n",
    "        ew = 'E'\n",
    "    else:\n",
    "        ew = 'W'\n",
    "        lon -= 1\n",
    "    latitude = abs(lat)\n",
    "    longitude = abs(lon)\n",
    "    return _get_file_name(latitude, longitude, ns, ew)"
   ]
  },
  {
   "cell_type": "code",
   "execution_count": 5,
   "metadata": {
    "ExecuteTime": {
     "end_time": "2018-11-18T15:58:02.345688Z",
     "start_time": "2018-11-18T15:58:02.341690Z"
    }
   },
   "outputs": [],
   "source": [
    "def read_elevation_from_file(hgt_file, lat, lon):\n",
    "    with HgtParser(hgt_file) as parser:\n",
    "        return parser.get_elevation((lat, lon))[2]"
   ]
  },
  {
   "cell_type": "code",
   "execution_count": 6,
   "metadata": {
    "ExecuteTime": {
     "end_time": "2018-11-18T15:58:08.457749Z",
     "start_time": "2018-11-18T15:58:08.453734Z"
    }
   },
   "outputs": [],
   "source": [
    "def get_elevation(row):\n",
    "    lat, lon = row.latitude, row.longitude\n",
    "    hgt_file = get_file_name(lat, lon)\n",
    "    if hgt_file:\n",
    "        return read_elevation_from_file(hgt_file, lat, lon)\n",
    "    # Treat it as data void as in SRTM documentation\n",
    "    # if file is absent\n",
    "    return -32768"
   ]
  },
  {
   "cell_type": "code",
   "execution_count": 19,
   "metadata": {
    "ExecuteTime": {
     "end_time": "2018-11-18T16:04:00.880217Z",
     "start_time": "2018-11-18T16:04:00.876207Z"
    }
   },
   "outputs": [
    {
     "name": "stdout",
     "output_type": "stream",
     "text": [
      "N36.04E140.227.hgt\n",
      "N36E140.hgt\n"
     ]
    }
   ],
   "source": [
    "lat, lon = 36.041080, 140.226816\n",
    "get_file_name(lat, lon)"
   ]
  },
  {
   "cell_type": "code",
   "execution_count": 27,
   "metadata": {
    "ExecuteTime": {
     "end_time": "2018-11-18T16:24:41.897622Z",
     "start_time": "2018-11-18T16:09:49.124506Z"
    },
    "scrolled": true
   },
   "outputs": [],
   "source": [
    "df[\"elevation\"] = df.apply(get_elevation, axis=1)"
   ]
  },
  {
   "cell_type": "code",
   "execution_count": 28,
   "metadata": {
    "ExecuteTime": {
     "end_time": "2018-11-18T16:24:41.926611Z",
     "start_time": "2018-11-18T16:24:41.899605Z"
    },
    "scrolled": true
   },
   "outputs": [
    {
     "data": {
      "text/html": [
       "<div>\n",
       "<style scoped>\n",
       "    .dataframe tbody tr th:only-of-type {\n",
       "        vertical-align: middle;\n",
       "    }\n",
       "\n",
       "    .dataframe tbody tr th {\n",
       "        vertical-align: top;\n",
       "    }\n",
       "\n",
       "    .dataframe thead th {\n",
       "        text-align: right;\n",
       "    }\n",
       "</style>\n",
       "<table border=\"1\" class=\"dataframe\">\n",
       "  <thead>\n",
       "    <tr style=\"text-align: right;\">\n",
       "      <th></th>\n",
       "      <th>captured time</th>\n",
       "      <th>latitude</th>\n",
       "      <th>longitude</th>\n",
       "      <th>value</th>\n",
       "      <th>elevation</th>\n",
       "    </tr>\n",
       "  </thead>\n",
       "  <tbody>\n",
       "    <tr>\n",
       "      <th>0</th>\n",
       "      <td>2018-10-21 01:00:26.000000</td>\n",
       "      <td>36.041080</td>\n",
       "      <td>140.226816</td>\n",
       "      <td>23.0</td>\n",
       "      <td>31.0</td>\n",
       "    </tr>\n",
       "    <tr>\n",
       "      <th>1</th>\n",
       "      <td>2018-10-21 01:00:22.000000</td>\n",
       "      <td>37.796306</td>\n",
       "      <td>140.514413</td>\n",
       "      <td>19.0</td>\n",
       "      <td>72.0</td>\n",
       "    </tr>\n",
       "    <tr>\n",
       "      <th>2</th>\n",
       "      <td>2018-10-21 01:00:16.000000</td>\n",
       "      <td>37.723330</td>\n",
       "      <td>140.476797</td>\n",
       "      <td>15.0</td>\n",
       "      <td>141.0</td>\n",
       "    </tr>\n",
       "    <tr>\n",
       "      <th>3</th>\n",
       "      <td>2018-10-21 00:59:16.000000</td>\n",
       "      <td>52.444900</td>\n",
       "      <td>13.315000</td>\n",
       "      <td>16.0</td>\n",
       "      <td>47.0</td>\n",
       "    </tr>\n",
       "    <tr>\n",
       "      <th>4</th>\n",
       "      <td>2018-10-21 01:00:16.000000</td>\n",
       "      <td>37.787500</td>\n",
       "      <td>140.552400</td>\n",
       "      <td>18.0</td>\n",
       "      <td>107.0</td>\n",
       "    </tr>\n",
       "  </tbody>\n",
       "</table>\n",
       "</div>"
      ],
      "text/plain": [
       "                captured time   latitude   longitude  value  elevation\n",
       "0  2018-10-21 01:00:26.000000  36.041080  140.226816   23.0       31.0\n",
       "1  2018-10-21 01:00:22.000000  37.796306  140.514413   19.0       72.0\n",
       "2  2018-10-21 01:00:16.000000  37.723330  140.476797   15.0      141.0\n",
       "3  2018-10-21 00:59:16.000000  52.444900   13.315000   16.0       47.0\n",
       "4  2018-10-21 01:00:16.000000  37.787500  140.552400   18.0      107.0"
      ]
     },
     "execution_count": 28,
     "metadata": {},
     "output_type": "execute_result"
    }
   ],
   "source": [
    "df.head()"
   ]
  },
  {
   "cell_type": "code",
   "execution_count": 29,
   "metadata": {
    "ExecuteTime": {
     "end_time": "2018-11-18T16:24:41.965580Z",
     "start_time": "2018-11-18T16:24:41.928589Z"
    }
   },
   "outputs": [
    {
     "data": {
      "text/plain": [
       " 47.0      45049\n",
       " 10.0      40744\n",
       " 145.0     28078\n",
       " 8.0       27822\n",
       " 31.0      26355\n",
       " 2023.0    21770\n",
       " 12.0      21629\n",
       " 3.0       17006\n",
       " 22.0      14130\n",
       " 41.0      13870\n",
       " 7.0       13204\n",
       " 46.0      13186\n",
       " 5.0       12906\n",
       " 17.0      12550\n",
       " 11.0      12500\n",
       " 80.0      12493\n",
       " 23.0      11719\n",
       " 26.0      11598\n",
       " 238.0     11518\n",
       " 71.0      11353\n",
       " 218.0     11351\n",
       " 419.0     11347\n",
       " 585.0     11292\n",
       " 91.0      11285\n",
       " 210.0     11271\n",
       " 107.0     11253\n",
       " 462.0     11225\n",
       " 36.0      11032\n",
       " 131.0     10898\n",
       " 141.0     10772\n",
       "           ...  \n",
       " 988.0         1\n",
       " 1057.0        1\n",
       " 1873.0        1\n",
       " 1224.0        1\n",
       " 1249.0        1\n",
       " 1229.0        1\n",
       " 980.0         1\n",
       " 1826.0        1\n",
       " 1440.0        1\n",
       "-13.0          1\n",
       " 1704.0        1\n",
       " 1074.0        1\n",
       " 1060.0        1\n",
       " 1171.0        1\n",
       " 1027.0        1\n",
       " 1308.0        1\n",
       " 976.0         1\n",
       " 1173.0        1\n",
       " 1177.0        1\n",
       " 1605.0        1\n",
       " 1858.0        1\n",
       " 1496.0        1\n",
       " 1829.0        1\n",
       " 1287.0        1\n",
       " 1284.0        1\n",
       " 931.0         1\n",
       " 1421.0        1\n",
       " 1602.0        1\n",
       " 1762.0        1\n",
       " 1121.0        1\n",
       "Name: elevation, Length: 1616, dtype: int64"
      ]
     },
     "execution_count": 29,
     "metadata": {},
     "output_type": "execute_result"
    }
   ],
   "source": [
    "df.elevation.value_counts()"
   ]
  },
  {
   "cell_type": "code",
   "execution_count": 30,
   "metadata": {
    "ExecuteTime": {
     "end_time": "2018-11-18T16:24:47.480527Z",
     "start_time": "2018-11-18T16:24:41.967579Z"
    }
   },
   "outputs": [],
   "source": [
    "path = os.path.join(\"results\", \"first_million_with_elevation.csv\")\n",
    "df.to_csv(path, index=False)"
   ]
  },
  {
   "cell_type": "code",
   "execution_count": 1,
   "metadata": {
    "ExecuteTime": {
     "end_time": "2018-11-06T19:41:42.847476Z",
     "start_time": "2018-11-06T19:41:42.542310Z"
    }
   },
   "outputs": [],
   "source": [
    "import zipfile\n",
    "from concurrent.futures import ThreadPoolExecutor\n",
    "from io import BytesIO\n",
    "\n",
    "import requests\n",
    "from bs4 import BeautifulSoup\n",
    "\n",
    "files_dir = \"hgt_files\"\n",
    "\n",
    "\n",
    "def download_file(url):\n",
    "    resp = requests.get(url)\n",
    "    with zipfile.ZipFile(BytesIO(resp.content)) as zip_ref:\n",
    "        zip_ref.extractall(files_dir)\n",
    "    return url\n",
    "        \n",
    "\n",
    "def download_files():\n",
    "    file_urls = []\n",
    "    urls = [\n",
    "        \"https://dds.cr.usgs.gov/srtm/version2_1/SRTM3/Africa/\",\n",
    "        \"https://dds.cr.usgs.gov/srtm/version2_1/SRTM3/Australia/\",\n",
    "        \"https://dds.cr.usgs.gov/srtm/version2_1/SRTM3/Eurasia/\",\n",
    "        \"https://dds.cr.usgs.gov/srtm/version2_1/SRTM3/Islands/\",\n",
    "        \"https://dds.cr.usgs.gov/srtm/version2_1/SRTM3/North_America/\",\n",
    "        \"https://dds.cr.usgs.gov/srtm/version2_1/SRTM3/South_America/\"\n",
    "    ]\n",
    "    for url in urls:\n",
    "        resp = requests.get(url)\n",
    "        soup = BeautifulSoup(resp.text, \"html.parser\")\n",
    "        links = [url + link[\"href\"] for link in soup.find_all(\"a\") if \"hgt.zip\" in link[\"href\"]]\n",
    "        print(len(links), \"files in\", url)\n",
    "        file_urls.extend(links)\n",
    "    \n",
    "    print(len(file_urls), \"files to download\")\n",
    "    with ThreadPoolExecutor() as pool:\n",
    "        for downloaded_url in pool.map(download_file, file_urls):\n",
    "            print(downloaded_url)"
   ]
  }
 ],
 "metadata": {
  "kernelspec": {
   "display_name": "Python 3",
   "language": "python",
   "name": "python3"
  },
  "language_info": {
   "codemirror_mode": {
    "name": "ipython",
    "version": 3
   },
   "file_extension": ".py",
   "mimetype": "text/x-python",
   "name": "python",
   "nbconvert_exporter": "python",
   "pygments_lexer": "ipython3",
   "version": "3.7.0"
  }
 },
 "nbformat": 4,
 "nbformat_minor": 1
}
