{
 "cells": [
  {
   "cell_type": "code",
   "execution_count": 72,
   "metadata": {
    "ExecuteTime": {
     "end_time": "2018-11-19T18:25:00.522590Z",
     "start_time": "2018-11-19T18:24:30.605362Z"
    }
   },
   "outputs": [],
   "source": [
    "import pandas as pd\n",
    "import os\n",
    "\n",
    "# SAFECAST_DATA_PATH = os.path.join('results', 'first_million.csv')\n",
    "SAFECAST_DATA_PATH = r\"F:\\safecast\\chunks\\filtered.csv\"\n",
    "df = pd.read_csv(SAFECAST_DATA_PATH, nrows=10000000, names=[\"capture_date\", \"latitude\", \"longitude\", \"value\"])"
   ]
  },
  {
   "cell_type": "code",
   "execution_count": 73,
   "metadata": {
    "ExecuteTime": {
     "end_time": "2018-11-19T18:25:00.534584Z",
     "start_time": "2018-11-19T18:25:00.524590Z"
    },
    "scrolled": true
   },
   "outputs": [
    {
     "data": {
      "text/html": [
       "<div>\n",
       "<style scoped>\n",
       "    .dataframe tbody tr th:only-of-type {\n",
       "        vertical-align: middle;\n",
       "    }\n",
       "\n",
       "    .dataframe tbody tr th {\n",
       "        vertical-align: top;\n",
       "    }\n",
       "\n",
       "    .dataframe thead th {\n",
       "        text-align: right;\n",
       "    }\n",
       "</style>\n",
       "<table border=\"1\" class=\"dataframe\">\n",
       "  <thead>\n",
       "    <tr style=\"text-align: right;\">\n",
       "      <th></th>\n",
       "      <th>capture_date</th>\n",
       "      <th>latitude</th>\n",
       "      <th>longitude</th>\n",
       "      <th>value</th>\n",
       "    </tr>\n",
       "  </thead>\n",
       "  <tbody>\n",
       "    <tr>\n",
       "      <th>0</th>\n",
       "      <td>2018-10-21 01:00:26.000000</td>\n",
       "      <td>36.041080</td>\n",
       "      <td>140.226816</td>\n",
       "      <td>23.0</td>\n",
       "    </tr>\n",
       "    <tr>\n",
       "      <th>1</th>\n",
       "      <td>2018-10-21 01:00:22.000000</td>\n",
       "      <td>37.796306</td>\n",
       "      <td>140.514413</td>\n",
       "      <td>19.0</td>\n",
       "    </tr>\n",
       "    <tr>\n",
       "      <th>2</th>\n",
       "      <td>2018-10-21 01:00:16.000000</td>\n",
       "      <td>37.723330</td>\n",
       "      <td>140.476797</td>\n",
       "      <td>15.0</td>\n",
       "    </tr>\n",
       "    <tr>\n",
       "      <th>3</th>\n",
       "      <td>2018-10-21 00:59:16.000000</td>\n",
       "      <td>52.444900</td>\n",
       "      <td>13.315000</td>\n",
       "      <td>16.0</td>\n",
       "    </tr>\n",
       "    <tr>\n",
       "      <th>4</th>\n",
       "      <td>2018-10-21 01:00:16.000000</td>\n",
       "      <td>37.787500</td>\n",
       "      <td>140.552400</td>\n",
       "      <td>18.0</td>\n",
       "    </tr>\n",
       "  </tbody>\n",
       "</table>\n",
       "</div>"
      ],
      "text/plain": [
       "                 capture_date   latitude   longitude  value\n",
       "0  2018-10-21 01:00:26.000000  36.041080  140.226816   23.0\n",
       "1  2018-10-21 01:00:22.000000  37.796306  140.514413   19.0\n",
       "2  2018-10-21 01:00:16.000000  37.723330  140.476797   15.0\n",
       "3  2018-10-21 00:59:16.000000  52.444900   13.315000   16.0\n",
       "4  2018-10-21 01:00:16.000000  37.787500  140.552400   18.0"
      ]
     },
     "execution_count": 73,
     "metadata": {},
     "output_type": "execute_result"
    }
   ],
   "source": [
    "df.head()"
   ]
  },
  {
   "cell_type": "code",
   "execution_count": 75,
   "metadata": {
    "ExecuteTime": {
     "end_time": "2018-11-19T18:25:12.052447Z",
     "start_time": "2018-11-19T18:25:12.045438Z"
    }
   },
   "outputs": [],
   "source": [
    "from gmalthgtparser import HgtParser\n",
    "from functools import lru_cache\n",
    "\n",
    "HGTDIR = \"hgt_files\"\n",
    "\n",
    "\n",
    "def get_file_name(lat, lon):\n",
    "    \n",
    "    @lru_cache(maxsize=1024)\n",
    "    def _get_file_name(latitude, longitude, ns, ew):\n",
    "        hgt_file = \"%(ns)s%(lat)02d%(ew)s%(lon)03d.hgt\" % {'lat': latitude, 'lon': longitude, 'ns': ns, 'ew': ew}\n",
    "        hgt_file_path = os.path.join(HGTDIR, hgt_file)\n",
    "        if os.path.isfile(hgt_file_path):\n",
    "            return hgt_file_path\n",
    "        else:\n",
    "            return None\n",
    "        \n",
    "    if lat >= 0.0:\n",
    "        ns = 'N'\n",
    "    else:\n",
    "        ns = 'S'\n",
    "        lat -= 1\n",
    "\n",
    "    if lon >= 0.0:\n",
    "        ew = 'E'\n",
    "    else:\n",
    "        ew = 'W'\n",
    "        lon -= 1\n",
    "    latitude = abs(lat)\n",
    "    longitude = abs(lon)\n",
    "    return _get_file_name(latitude, longitude, ns, ew)"
   ]
  },
  {
   "cell_type": "code",
   "execution_count": 76,
   "metadata": {
    "ExecuteTime": {
     "end_time": "2018-11-19T18:25:14.481712Z",
     "start_time": "2018-11-19T18:25:14.476715Z"
    }
   },
   "outputs": [],
   "source": [
    "def read_elevation_from_file(hgt_file, lat, lon):\n",
    "    with HgtParser(hgt_file) as parser:\n",
    "        return parser.get_elevation((lat, lon))[2]"
   ]
  },
  {
   "cell_type": "code",
   "execution_count": 77,
   "metadata": {
    "ExecuteTime": {
     "end_time": "2018-11-19T18:25:15.043477Z",
     "start_time": "2018-11-19T18:25:15.037479Z"
    }
   },
   "outputs": [],
   "source": [
    "import numpy as np\n",
    "\n",
    "SAMPLES = 1201\n",
    "\n",
    "def read_elevation_from_file2(hgt_file, lat, lon):\n",
    "    \n",
    "    with open(hgt_file, 'rb') as hgt_data:\n",
    "        # Each data is 16bit signed integer(i2) - big endian(>)\n",
    "        elevations = np.fromfile(hgt_data, np.dtype('>i2'), SAMPLES*SAMPLES)\\\n",
    "                                .reshape((SAMPLES, SAMPLES))\n",
    "\n",
    "        lat_row = int(round((lat - int(lat)) * (SAMPLES - 1), 0))\n",
    "        if lat_row < 0:\n",
    "            lat_row = SAMPLES  - 1 + lat_row\n",
    "        lon_row = int(round((lon - int(lon)) * (SAMPLES - 1), 0))\n",
    "        if lon_row < 0:\n",
    "            lon_row = SAMPLES - 1 + lon_row\n",
    "        return elevations[SAMPLES - 1 - lat_row, lon_row].astype(int)"
   ]
  },
  {
   "cell_type": "code",
   "execution_count": 78,
   "metadata": {
    "ExecuteTime": {
     "end_time": "2018-11-19T18:25:17.206390Z",
     "start_time": "2018-11-19T18:25:17.116425Z"
    }
   },
   "outputs": [],
   "source": [
    "d = {}\n",
    "\n",
    "    \n",
    "def get_elevation_for_coords(lat, lon):\n",
    "    hgt_file = get_file_name(lat, lon)\n",
    "    if not hgt_file:\n",
    "        return -32768\n",
    "    \n",
    "    lat_row = int(round((lat - int(lat)) * (SAMPLES - 1), 0))\n",
    "    if lat_row < 0:\n",
    "        lat_row = SAMPLES - 1 + lat_row\n",
    "    lon_row = int(round((lon - int(lon)) * (SAMPLES - 1), 0))\n",
    "    if lon_row < 0:\n",
    "        lon_row = SAMPLES - 1 + lon_row\n",
    "    if hgt_file not in d:\n",
    "        with open(hgt_file, 'rb') as hgt_data:\n",
    "            d[hgt_file] = np.fromfile(hgt_data, np.dtype('>i2'), SAMPLES*SAMPLES).reshape((SAMPLES, SAMPLES))\n",
    "            \n",
    "    try:\n",
    "        return d[hgt_file][SAMPLES - 1 - lat_row, lon_row].astype(int)\n",
    "    except Exception as e:\n",
    "        print(lat, lon, repr(e))\n",
    "        return -32768\n"
   ]
  },
  {
   "cell_type": "code",
   "execution_count": 20,
   "metadata": {
    "ExecuteTime": {
     "end_time": "2018-11-19T16:58:18.834760Z",
     "start_time": "2018-11-19T16:58:18.800785Z"
    }
   },
   "outputs": [],
   "source": [
    "lat, lon = 52.444900, 13.315000\n",
    "hgt_file = get_file_name(lat, lon)"
   ]
  },
  {
   "cell_type": "code",
   "execution_count": 21,
   "metadata": {
    "ExecuteTime": {
     "end_time": "2018-11-19T16:58:22.018311Z",
     "start_time": "2018-11-19T16:58:19.720066Z"
    }
   },
   "outputs": [
    {
     "name": "stdout",
     "output_type": "stream",
     "text": [
      "2.76 ms ± 35.3 µs per loop (mean ± std. dev. of 7 runs, 100 loops each)\n"
     ]
    }
   ],
   "source": [
    "%%timeit\n",
    "read_elevation_from_file(hgt_file, lat, lon)"
   ]
  },
  {
   "cell_type": "code",
   "execution_count": 22,
   "metadata": {
    "ExecuteTime": {
     "end_time": "2018-11-19T16:58:24.307699Z",
     "start_time": "2018-11-19T16:58:22.021310Z"
    }
   },
   "outputs": [
    {
     "name": "stdout",
     "output_type": "stream",
     "text": [
      "2.75 ms ± 33.4 µs per loop (mean ± std. dev. of 7 runs, 100 loops each)\n"
     ]
    }
   ],
   "source": [
    "%%timeit\n",
    "read_elevation_from_file2(hgt_file, lat, lon)"
   ]
  },
  {
   "cell_type": "code",
   "execution_count": 79,
   "metadata": {
    "ExecuteTime": {
     "end_time": "2018-11-19T18:25:21.999869Z",
     "start_time": "2018-11-19T18:25:21.996869Z"
    }
   },
   "outputs": [],
   "source": [
    "def get_elevation(row):\n",
    "    lat, lon = row.latitude, row.longitude\n",
    "    return get_elevation_for_coords(lat, lon)"
   ]
  },
  {
   "cell_type": "code",
   "execution_count": 64,
   "metadata": {
    "ExecuteTime": {
     "end_time": "2018-11-19T17:52:03.786264Z",
     "start_time": "2018-11-19T17:52:03.773259Z"
    },
    "scrolled": true
   },
   "outputs": [
    {
     "name": "stdout",
     "output_type": "stream",
     "text": [
      "207\n",
      "207\n"
     ]
    },
    {
     "data": {
      "text/plain": [
       "(1135, 471)"
      ]
     },
     "execution_count": 64,
     "metadata": {},
     "output_type": "execute_result"
    }
   ],
   "source": [
    "lat = -33.945945\n",
    "lon = 18.3923316666667\n",
    "f = get_file_name(lat, lon)\n",
    "print(read_elevation_from_file(f, lat, lon))\n",
    "print(read_elevation_from_file2(f, lat, lon))\n",
    "lat_row = abs(int(round((lat - int(lat)) * (SAMPLES - 1), 0)))\n",
    "lon_row = int(round((lon - int(lon)) * (SAMPLES - 1), 0))\n",
    "lat_row, lon_row"
   ]
  },
  {
   "cell_type": "code",
   "execution_count": 63,
   "metadata": {
    "ExecuteTime": {
     "end_time": "2018-11-19T17:52:02.026149Z",
     "start_time": "2018-11-19T17:52:02.013158Z"
    }
   },
   "outputs": [
    {
     "name": "stdout",
     "output_type": "stream",
     "text": [
      "2023\n",
      "2023\n"
     ]
    },
    {
     "data": {
      "text/plain": [
       "(23, -309)"
      ]
     },
     "execution_count": 63,
     "metadata": {},
     "output_type": "execute_result"
    }
   ],
   "source": [
    "lat = 21.019000\n",
    "lon = -101.257400\n",
    "f = get_file_name(lat, lon)\n",
    "print(read_elevation_from_file(f, lat, lon))\n",
    "print(read_elevation_from_file2(f, lat, lon))\n",
    "lat_row = abs(int(round((lat - int(lat)) * (SAMPLES - 1), 0)))\n",
    "lon_row = int(round((lon - int(lon)) * (SAMPLES - 1), 0))\n",
    "lat_row, lon_row"
   ]
  },
  {
   "cell_type": "code",
   "execution_count": 80,
   "metadata": {
    "ExecuteTime": {
     "end_time": "2018-11-19T19:09:26.367691Z",
     "start_time": "2018-11-19T18:25:26.861553Z"
    },
    "scrolled": false
   },
   "outputs": [],
   "source": [
    "df[\"elevation\"] = df.apply(get_elevation, axis=1)"
   ]
  },
  {
   "cell_type": "code",
   "execution_count": 81,
   "metadata": {
    "ExecuteTime": {
     "end_time": "2018-11-19T19:20:05.928444Z",
     "start_time": "2018-11-19T19:20:05.779740Z"
    },
    "scrolled": true
   },
   "outputs": [
    {
     "data": {
      "text/plain": [
       "267481"
      ]
     },
     "execution_count": 81,
     "metadata": {},
     "output_type": "execute_result"
    }
   ],
   "source": [
    "len(df[df.elevation == -32768])"
   ]
  },
  {
   "cell_type": "code",
   "execution_count": 83,
   "metadata": {
    "ExecuteTime": {
     "end_time": "2018-11-19T19:20:17.261555Z",
     "start_time": "2018-11-19T19:20:17.256570Z"
    }
   },
   "outputs": [
    {
     "data": {
      "text/plain": [
       "841"
      ]
     },
     "execution_count": 83,
     "metadata": {},
     "output_type": "execute_result"
    }
   ],
   "source": [
    "len(d)"
   ]
  },
  {
   "cell_type": "code",
   "execution_count": 84,
   "metadata": {
    "ExecuteTime": {
     "end_time": "2018-11-19T19:24:19.920122Z",
     "start_time": "2018-11-19T19:24:18.457474Z"
    }
   },
   "outputs": [],
   "source": [
    "filtered_df = df[df.elevation != -32768]"
   ]
  },
  {
   "cell_type": "code",
   "execution_count": 85,
   "metadata": {
    "ExecuteTime": {
     "end_time": "2018-11-19T19:24:23.379526Z",
     "start_time": "2018-11-19T19:24:23.375515Z"
    }
   },
   "outputs": [
    {
     "data": {
      "text/plain": [
       "9732519"
      ]
     },
     "execution_count": 85,
     "metadata": {},
     "output_type": "execute_result"
    }
   ],
   "source": [
    "len(filtered_df)"
   ]
  },
  {
   "cell_type": "code",
   "execution_count": 86,
   "metadata": {
    "ExecuteTime": {
     "end_time": "2018-11-19T19:24:56.513587Z",
     "start_time": "2018-11-19T19:24:56.503592Z"
    }
   },
   "outputs": [
    {
     "data": {
      "text/html": [
       "<div>\n",
       "<style scoped>\n",
       "    .dataframe tbody tr th:only-of-type {\n",
       "        vertical-align: middle;\n",
       "    }\n",
       "\n",
       "    .dataframe tbody tr th {\n",
       "        vertical-align: top;\n",
       "    }\n",
       "\n",
       "    .dataframe thead th {\n",
       "        text-align: right;\n",
       "    }\n",
       "</style>\n",
       "<table border=\"1\" class=\"dataframe\">\n",
       "  <thead>\n",
       "    <tr style=\"text-align: right;\">\n",
       "      <th></th>\n",
       "      <th>capture_date</th>\n",
       "      <th>latitude</th>\n",
       "      <th>longitude</th>\n",
       "      <th>value</th>\n",
       "      <th>elevation</th>\n",
       "    </tr>\n",
       "  </thead>\n",
       "  <tbody>\n",
       "    <tr>\n",
       "      <th>0</th>\n",
       "      <td>2018-10-21 01:00:26.000000</td>\n",
       "      <td>36.041080</td>\n",
       "      <td>140.226816</td>\n",
       "      <td>23.0</td>\n",
       "      <td>31</td>\n",
       "    </tr>\n",
       "    <tr>\n",
       "      <th>1</th>\n",
       "      <td>2018-10-21 01:00:22.000000</td>\n",
       "      <td>37.796306</td>\n",
       "      <td>140.514413</td>\n",
       "      <td>19.0</td>\n",
       "      <td>72</td>\n",
       "    </tr>\n",
       "    <tr>\n",
       "      <th>2</th>\n",
       "      <td>2018-10-21 01:00:16.000000</td>\n",
       "      <td>37.723330</td>\n",
       "      <td>140.476797</td>\n",
       "      <td>15.0</td>\n",
       "      <td>141</td>\n",
       "    </tr>\n",
       "    <tr>\n",
       "      <th>3</th>\n",
       "      <td>2018-10-21 00:59:16.000000</td>\n",
       "      <td>52.444900</td>\n",
       "      <td>13.315000</td>\n",
       "      <td>16.0</td>\n",
       "      <td>47</td>\n",
       "    </tr>\n",
       "    <tr>\n",
       "      <th>4</th>\n",
       "      <td>2018-10-21 01:00:16.000000</td>\n",
       "      <td>37.787500</td>\n",
       "      <td>140.552400</td>\n",
       "      <td>18.0</td>\n",
       "      <td>107</td>\n",
       "    </tr>\n",
       "  </tbody>\n",
       "</table>\n",
       "</div>"
      ],
      "text/plain": [
       "                 capture_date   latitude   longitude  value  elevation\n",
       "0  2018-10-21 01:00:26.000000  36.041080  140.226816   23.0         31\n",
       "1  2018-10-21 01:00:22.000000  37.796306  140.514413   19.0         72\n",
       "2  2018-10-21 01:00:16.000000  37.723330  140.476797   15.0        141\n",
       "3  2018-10-21 00:59:16.000000  52.444900   13.315000   16.0         47\n",
       "4  2018-10-21 01:00:16.000000  37.787500  140.552400   18.0        107"
      ]
     },
     "execution_count": 86,
     "metadata": {},
     "output_type": "execute_result"
    }
   ],
   "source": [
    "filtered_df.head()"
   ]
  },
  {
   "cell_type": "code",
   "execution_count": 87,
   "metadata": {
    "ExecuteTime": {
     "end_time": "2018-11-19T19:26:12.147233Z",
     "start_time": "2018-11-19T19:25:05.511462Z"
    }
   },
   "outputs": [],
   "source": [
    "filtered_df.to_csv(os.path.join(\"results\", \"10_million_with_elevation.csv\"), index=False)"
   ]
  },
  {
   "cell_type": "code",
   "execution_count": 18,
   "metadata": {
    "ExecuteTime": {
     "end_time": "2018-11-01T20:02:34.229317Z",
     "start_time": "2018-11-01T20:02:32.371867Z"
    }
   },
   "outputs": [],
   "source": [
    "path = os.path.join(\"results\", \"fukushima_filtered_elevation.csv\")\n",
    "df.to_csv(path, index=False)"
   ]
  },
  {
   "cell_type": "code",
   "execution_count": 1,
   "metadata": {
    "ExecuteTime": {
     "end_time": "2018-11-06T19:41:42.847476Z",
     "start_time": "2018-11-06T19:41:42.542310Z"
    }
   },
   "outputs": [],
   "source": [
    "import zipfile\n",
    "from concurrent.futures import ThreadPoolExecutor\n",
    "from io import BytesIO\n",
    "\n",
    "import requests\n",
    "from bs4 import BeautifulSoup\n",
    "\n",
    "files_dir = \"hgt_files\"\n",
    "\n",
    "\n",
    "def download_file(url):\n",
    "    resp = requests.get(url)\n",
    "    with zipfile.ZipFile(BytesIO(resp.content)) as zip_ref:\n",
    "        zip_ref.extractall(files_dir)\n",
    "    return url\n",
    "        \n",
    "\n",
    "def download_files():\n",
    "    file_urls = []\n",
    "    urls = [\n",
    "        \"https://dds.cr.usgs.gov/srtm/version2_1/SRTM3/Africa/\",\n",
    "        \"https://dds.cr.usgs.gov/srtm/version2_1/SRTM3/Australia/\",\n",
    "        \"https://dds.cr.usgs.gov/srtm/version2_1/SRTM3/Eurasia/\",\n",
    "        \"https://dds.cr.usgs.gov/srtm/version2_1/SRTM3/Islands/\",\n",
    "        \"https://dds.cr.usgs.gov/srtm/version2_1/SRTM3/North_America/\",\n",
    "        \"https://dds.cr.usgs.gov/srtm/version2_1/SRTM3/South_America/\"\n",
    "    ]\n",
    "    for url in urls:\n",
    "        resp = requests.get(url)\n",
    "        soup = BeautifulSoup(resp.text, \"html.parser\")\n",
    "        links = [url + link[\"href\"] for link in soup.find_all(\"a\") if \"hgt.zip\" in link[\"href\"]]\n",
    "        print(len(links), \"files in\", url)\n",
    "        file_urls.extend(links)\n",
    "    \n",
    "    print(len(file_urls), \"files to download\")\n",
    "    with ThreadPoolExecutor() as pool:\n",
    "        for downloaded_url in pool.map(download_file, file_urls):\n",
    "            print(downloaded_url)"
   ]
  }
 ],
 "metadata": {
  "kernelspec": {
   "display_name": "Python 3",
   "language": "python",
   "name": "python3"
  },
  "language_info": {
   "codemirror_mode": {
    "name": "ipython",
    "version": 3
   },
   "file_extension": ".py",
   "mimetype": "text/x-python",
   "name": "python",
   "nbconvert_exporter": "python",
   "pygments_lexer": "ipython3",
   "version": "3.7.0"
  }
 },
 "nbformat": 4,
 "nbformat_minor": 1
}
