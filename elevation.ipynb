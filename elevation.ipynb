{
 "cells": [
  {
   "cell_type": "code",
   "execution_count": 5,
   "metadata": {
    "ExecuteTime": {
     "end_time": "2018-11-01T19:45:33.493340Z",
     "start_time": "2018-11-01T19:45:32.819715Z"
    }
   },
   "outputs": [],
   "source": [
    "import pandas as pd\n",
    "import os\n",
    "\n",
    "SAFECAST_DATA_PATH = os.path.join('results', 'fukushima_filtered.csv')\n",
    "df = pd.read_csv(SAFECAST_DATA_PATH)"
   ]
  },
  {
   "cell_type": "code",
   "execution_count": 6,
   "metadata": {
    "ExecuteTime": {
     "end_time": "2018-11-01T19:45:33.507331Z",
     "start_time": "2018-11-01T19:45:33.498326Z"
    }
   },
   "outputs": [
    {
     "data": {
      "text/html": [
       "<div>\n",
       "<style scoped>\n",
       "    .dataframe tbody tr th:only-of-type {\n",
       "        vertical-align: middle;\n",
       "    }\n",
       "\n",
       "    .dataframe tbody tr th {\n",
       "        vertical-align: top;\n",
       "    }\n",
       "\n",
       "    .dataframe thead th {\n",
       "        text-align: right;\n",
       "    }\n",
       "</style>\n",
       "<table border=\"1\" class=\"dataframe\">\n",
       "  <thead>\n",
       "    <tr style=\"text-align: right;\">\n",
       "      <th></th>\n",
       "      <th>captured time</th>\n",
       "      <th>latitude</th>\n",
       "      <th>longitude</th>\n",
       "      <th>value</th>\n",
       "    </tr>\n",
       "  </thead>\n",
       "  <tbody>\n",
       "    <tr>\n",
       "      <th>0</th>\n",
       "      <td>2018-10-21 01:00:22</td>\n",
       "      <td>37.796306</td>\n",
       "      <td>140.514413</td>\n",
       "      <td>19.0</td>\n",
       "    </tr>\n",
       "    <tr>\n",
       "      <th>1</th>\n",
       "      <td>2018-10-21 01:00:16</td>\n",
       "      <td>37.723330</td>\n",
       "      <td>140.476797</td>\n",
       "      <td>15.0</td>\n",
       "    </tr>\n",
       "    <tr>\n",
       "      <th>2</th>\n",
       "      <td>2018-10-21 01:00:16</td>\n",
       "      <td>37.787500</td>\n",
       "      <td>140.552400</td>\n",
       "      <td>18.0</td>\n",
       "    </tr>\n",
       "    <tr>\n",
       "      <th>3</th>\n",
       "      <td>2018-10-21 01:00:16</td>\n",
       "      <td>37.796306</td>\n",
       "      <td>140.514413</td>\n",
       "      <td>61.0</td>\n",
       "    </tr>\n",
       "    <tr>\n",
       "      <th>4</th>\n",
       "      <td>2018-10-21 01:00:14</td>\n",
       "      <td>37.792805</td>\n",
       "      <td>140.930957</td>\n",
       "      <td>13.0</td>\n",
       "    </tr>\n",
       "  </tbody>\n",
       "</table>\n",
       "</div>"
      ],
      "text/plain": [
       "         captured time   latitude   longitude  value\n",
       "0  2018-10-21 01:00:22  37.796306  140.514413   19.0\n",
       "1  2018-10-21 01:00:16  37.723330  140.476797   15.0\n",
       "2  2018-10-21 01:00:16  37.787500  140.552400   18.0\n",
       "3  2018-10-21 01:00:16  37.796306  140.514413   61.0\n",
       "4  2018-10-21 01:00:14  37.792805  140.930957   13.0"
      ]
     },
     "execution_count": 6,
     "metadata": {},
     "output_type": "execute_result"
    }
   ],
   "source": [
    "df.head()"
   ]
  },
  {
   "cell_type": "code",
   "execution_count": 7,
   "metadata": {
    "ExecuteTime": {
     "end_time": "2018-11-01T19:45:33.527307Z",
     "start_time": "2018-11-01T19:45:33.508319Z"
    }
   },
   "outputs": [
    {
     "data": {
      "text/html": [
       "<div>\n",
       "<style scoped>\n",
       "    .dataframe tbody tr th:only-of-type {\n",
       "        vertical-align: middle;\n",
       "    }\n",
       "\n",
       "    .dataframe tbody tr th {\n",
       "        vertical-align: top;\n",
       "    }\n",
       "\n",
       "    .dataframe thead th {\n",
       "        text-align: right;\n",
       "    }\n",
       "</style>\n",
       "<table border=\"1\" class=\"dataframe\">\n",
       "  <thead>\n",
       "    <tr style=\"text-align: right;\">\n",
       "      <th></th>\n",
       "      <th>captured time</th>\n",
       "      <th>latitude</th>\n",
       "      <th>longitude</th>\n",
       "      <th>value</th>\n",
       "    </tr>\n",
       "  </thead>\n",
       "  <tbody>\n",
       "    <tr>\n",
       "      <th>0</th>\n",
       "      <td>2018-10-21 01:00:22</td>\n",
       "      <td>37.796306</td>\n",
       "      <td>140.514413</td>\n",
       "      <td>19.0</td>\n",
       "    </tr>\n",
       "    <tr>\n",
       "      <th>1</th>\n",
       "      <td>2018-10-21 01:00:16</td>\n",
       "      <td>37.723330</td>\n",
       "      <td>140.476797</td>\n",
       "      <td>15.0</td>\n",
       "    </tr>\n",
       "    <tr>\n",
       "      <th>2</th>\n",
       "      <td>2018-10-21 01:00:16</td>\n",
       "      <td>37.787500</td>\n",
       "      <td>140.552400</td>\n",
       "      <td>18.0</td>\n",
       "    </tr>\n",
       "    <tr>\n",
       "      <th>3</th>\n",
       "      <td>2018-10-21 01:00:16</td>\n",
       "      <td>37.796306</td>\n",
       "      <td>140.514413</td>\n",
       "      <td>61.0</td>\n",
       "    </tr>\n",
       "    <tr>\n",
       "      <th>4</th>\n",
       "      <td>2018-10-21 01:00:14</td>\n",
       "      <td>37.792805</td>\n",
       "      <td>140.930957</td>\n",
       "      <td>13.0</td>\n",
       "    </tr>\n",
       "  </tbody>\n",
       "</table>\n",
       "</div>"
      ],
      "text/plain": [
       "         captured time   latitude   longitude  value\n",
       "0  2018-10-21 01:00:22  37.796306  140.514413   19.0\n",
       "1  2018-10-21 01:00:16  37.723330  140.476797   15.0\n",
       "2  2018-10-21 01:00:16  37.787500  140.552400   18.0\n",
       "3  2018-10-21 01:00:16  37.796306  140.514413   61.0\n",
       "4  2018-10-21 01:00:14  37.792805  140.930957   13.0"
      ]
     },
     "execution_count": 7,
     "metadata": {},
     "output_type": "execute_result"
    }
   ],
   "source": [
    "\n",
    "test = df.head()\n",
    "test"
   ]
  },
  {
   "cell_type": "code",
   "execution_count": 8,
   "metadata": {
    "ExecuteTime": {
     "end_time": "2018-11-01T19:45:33.580277Z",
     "start_time": "2018-11-01T19:45:33.533303Z"
    }
   },
   "outputs": [],
   "source": [
    "from gmalthgtparser import HgtParser\n",
    "HGTDIR = \"hgt_files\"\n",
    "\n",
    "def get_file_name(lat, lon):\n",
    "    \n",
    "    if lat >= 0.0:\n",
    "        ns = 'N'\n",
    "    else:\n",
    "        ns = 'S'\n",
    "\n",
    "    if lon >= 0.0:\n",
    "        ew = 'E'\n",
    "    else:\n",
    "        ew = 'W'\n",
    "\n",
    "    hgt_file = \"%(ns)s%(lat)02d%(ew)s%(lon)03d.hgt\" % {'lat': abs(lat), 'lon': abs(lon), 'ns': ns, 'ew': ew}\n",
    "    hgt_file_path = os.path.join(HGTDIR, hgt_file)\n",
    "    if os.path.isfile(hgt_file_path):\n",
    "        return hgt_file_path\n",
    "    else:\n",
    "        return None"
   ]
  },
  {
   "cell_type": "code",
   "execution_count": 9,
   "metadata": {
    "ExecuteTime": {
     "end_time": "2018-11-01T19:45:33.588285Z",
     "start_time": "2018-11-01T19:45:33.584276Z"
    }
   },
   "outputs": [],
   "source": [
    "def read_elevation_from_file(hgt_file, lat, lon):\n",
    "    with HgtParser(hgt_file) as parser:\n",
    "        return parser.get_elevation((lat, lon))[2]"
   ]
  },
  {
   "cell_type": "code",
   "execution_count": 12,
   "metadata": {
    "ExecuteTime": {
     "end_time": "2018-11-01T19:48:22.635850Z",
     "start_time": "2018-11-01T19:48:22.631852Z"
    }
   },
   "outputs": [],
   "source": [
    "def get_elevation(row):\n",
    "    lat, lon = row.latitude, row.longitude\n",
    "    hgt_file = get_file_name(lat, lon)\n",
    "    if hgt_file:\n",
    "        return read_elevation_from_file(hgt_file, lat, lon)\n",
    "    # Treat it as data void as in SRTM documentation\n",
    "    # if file is absent\n",
    "    return -32768"
   ]
  },
  {
   "cell_type": "code",
   "execution_count": 15,
   "metadata": {
    "ExecuteTime": {
     "end_time": "2018-11-01T19:58:48.221952Z",
     "start_time": "2018-11-01T19:55:49.210371Z"
    },
    "scrolled": true
   },
   "outputs": [],
   "source": [
    "df[\"elevation\"] = df.apply(get_elevation, axis=1)"
   ]
  },
  {
   "cell_type": "code",
   "execution_count": 16,
   "metadata": {
    "ExecuteTime": {
     "end_time": "2018-11-01T19:59:07.033164Z",
     "start_time": "2018-11-01T19:59:07.024168Z"
    }
   },
   "outputs": [
    {
     "data": {
      "text/plain": [
       "0          72\n",
       "1         141\n",
       "2         107\n",
       "3          72\n",
       "4           8\n",
       "5           8\n",
       "6         141\n",
       "7         107\n",
       "8           7\n",
       "9           7\n",
       "10         10\n",
       "11         10\n",
       "12        218\n",
       "13        218\n",
       "14          5\n",
       "15          5\n",
       "16         11\n",
       "17         11\n",
       "18         80\n",
       "19         80\n",
       "20        227\n",
       "21        419\n",
       "22        419\n",
       "23         69\n",
       "24         69\n",
       "25         12\n",
       "26         12\n",
       "27        462\n",
       "28        462\n",
       "29        233\n",
       "         ... \n",
       "216422    333\n",
       "216423    319\n",
       "216424    329\n",
       "216425    350\n",
       "216426    336\n",
       "216427    346\n",
       "216428    379\n",
       "216429    375\n",
       "216430    379\n",
       "216431    159\n",
       "216432    159\n",
       "216433     10\n",
       "216434     10\n",
       "216435    141\n",
       "216436     69\n",
       "216437    141\n",
       "216438     69\n",
       "216439    218\n",
       "216440    218\n",
       "216441     80\n",
       "216442     80\n",
       "216443    419\n",
       "216444    419\n",
       "216445     11\n",
       "216446     11\n",
       "216447    107\n",
       "216448     12\n",
       "216449    462\n",
       "216450    462\n",
       "216451     12\n",
       "Name: elevation, Length: 216452, dtype: int64"
      ]
     },
     "execution_count": 16,
     "metadata": {},
     "output_type": "execute_result"
    }
   ],
   "source": [
    "df.elevation"
   ]
  },
  {
   "cell_type": "code",
   "execution_count": 18,
   "metadata": {
    "ExecuteTime": {
     "end_time": "2018-11-01T20:02:34.229317Z",
     "start_time": "2018-11-01T20:02:32.371867Z"
    }
   },
   "outputs": [],
   "source": [
    "path = os.path.join(\"results\", \"fukushima_filtered_elevation.csv\")\n",
    "df.to_csv(path, index=False)"
   ]
  }
 ],
 "metadata": {
  "kernelspec": {
   "display_name": "Python 3",
   "language": "python",
   "name": "python3"
  },
  "language_info": {
   "codemirror_mode": {
    "name": "ipython",
    "version": 3
   },
   "file_extension": ".py",
   "mimetype": "text/x-python",
   "name": "python",
   "nbconvert_exporter": "python",
   "pygments_lexer": "ipython3",
   "version": "3.7.0"
  }
 },
 "nbformat": 4,
 "nbformat_minor": 1
}
