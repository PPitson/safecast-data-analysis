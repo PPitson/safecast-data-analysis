{
 "cells": [
  {
   "cell_type": "code",
   "execution_count": null,
   "metadata": {},
   "outputs": [],
   "source": [
    "import pandas as pd\n",
    "import os\n",
    "import folium\n",
    "import geohash"
   ]
  },
  {
   "cell_type": "code",
   "execution_count": null,
   "metadata": {},
   "outputs": [],
   "source": [
    "SAFECAST_DATA_PATH = os.path.join('results', 'fukushima_grouped.csv')\n",
    "\n",
    "df = pd.read_csv(SAFECAST_DATA_PATH)\n",
    "\n",
    "df.head()\n"
   ]
  },
  {
   "cell_type": "code",
   "execution_count": null,
   "metadata": {},
   "outputs": [],
   "source": [
    "\n",
    "def get_coordinates(geo):\n",
    "    geohash = geohash.decode(geo)\n",
    "    return [[1, 1], [2, 2], [3, 3], [4, 4]]\n"
   ]
  },
  {
   "cell_type": "code",
   "execution_count": null,
   "metadata": {},
   "outputs": [],
   "source": [
    "features = []\n",
    "\n",
    "for geo, _ in df.values:\n",
    "    features.append({\"type\": \"Feature\", \"id\": geo, \"properties\": {\"name\": \"\"}, \n",
    "                     \"geometry\": {\"type\": \"Polygon\", \"coordinates\": [get_coordinates(geo)]}})\n",
    "    \n",
    "features"
   ]
  },
  {
   "cell_type": "code",
   "execution_count": null,
   "metadata": {},
   "outputs": [],
   "source": [
    "\n",
    "geo_data = {\"type\": \"FeatureCollection\", \"features\": features}\n"
   ]
  },
  {
   "cell_type": "code",
   "execution_count": null,
   "metadata": {},
   "outputs": [],
   "source": [
    "m = folium.Map(location=[37, -102], zoom_start=5)\n",
    " \n",
    "# Add the color for the choropleth:\n",
    "m.choropleth(\n",
    " geo_data=geo_data,\n",
    " name='choropleth',\n",
    " data=df,\n",
    " columns=['State', 'Unemployment'],\n",
    " key_on='feature.id',\n",
    " fill_color='YlGn',\n",
    " fill_opacity=0.7,\n",
    " line_opacity=0.2,\n",
    " legend_name='Unemployment Rate (%)'\n",
    ")\n",
    "folium.LayerControl().add_to(m)"
   ]
  }
 ],
 "metadata": {},
 "nbformat": 4,
 "nbformat_minor": 0
}
