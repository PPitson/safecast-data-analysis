{
 "cells": [
  {
   "cell_type": "code",
   "execution_count": 2,
   "metadata": {},
   "outputs": [],
   "source": [
    "import pandas as pd \n",
    "import folium\n",
    "import os\n",
    "import geohash\n",
    "from folium.plugins import HeatMap"
   ]
  },
  {
   "cell_type": "code",
   "execution_count": 3,
   "metadata": {},
   "outputs": [],
   "source": [
    "SAFECAST_DATA_PATH = os.path.join('results', 'first_million_with_elevation.csv')\n",
    "df = pd.read_csv(SAFECAST_DATA_PATH)"
   ]
  },
  {
   "cell_type": "code",
   "execution_count": 4,
   "metadata": {},
   "outputs": [
    {
     "data": {
      "text/html": [
       "<div>\n",
       "<style scoped>\n",
       "    .dataframe tbody tr th:only-of-type {\n",
       "        vertical-align: middle;\n",
       "    }\n",
       "\n",
       "    .dataframe tbody tr th {\n",
       "        vertical-align: top;\n",
       "    }\n",
       "\n",
       "    .dataframe thead th {\n",
       "        text-align: right;\n",
       "    }\n",
       "</style>\n",
       "<table border=\"1\" class=\"dataframe\">\n",
       "  <thead>\n",
       "    <tr style=\"text-align: right;\">\n",
       "      <th></th>\n",
       "      <th>captured time</th>\n",
       "      <th>latitude</th>\n",
       "      <th>longitude</th>\n",
       "      <th>value</th>\n",
       "      <th>elevation</th>\n",
       "    </tr>\n",
       "  </thead>\n",
       "  <tbody>\n",
       "    <tr>\n",
       "      <th>0</th>\n",
       "      <td>2018-10-21 01:00:26.000000</td>\n",
       "      <td>36.041080</td>\n",
       "      <td>140.226816</td>\n",
       "      <td>23.0</td>\n",
       "      <td>31.0</td>\n",
       "    </tr>\n",
       "    <tr>\n",
       "      <th>1</th>\n",
       "      <td>2018-10-21 01:00:22.000000</td>\n",
       "      <td>37.796306</td>\n",
       "      <td>140.514413</td>\n",
       "      <td>19.0</td>\n",
       "      <td>72.0</td>\n",
       "    </tr>\n",
       "    <tr>\n",
       "      <th>2</th>\n",
       "      <td>2018-10-21 01:00:16.000000</td>\n",
       "      <td>37.723330</td>\n",
       "      <td>140.476797</td>\n",
       "      <td>15.0</td>\n",
       "      <td>141.0</td>\n",
       "    </tr>\n",
       "    <tr>\n",
       "      <th>3</th>\n",
       "      <td>2018-10-21 00:59:16.000000</td>\n",
       "      <td>52.444900</td>\n",
       "      <td>13.315000</td>\n",
       "      <td>16.0</td>\n",
       "      <td>47.0</td>\n",
       "    </tr>\n",
       "    <tr>\n",
       "      <th>4</th>\n",
       "      <td>2018-10-21 01:00:16.000000</td>\n",
       "      <td>37.787500</td>\n",
       "      <td>140.552400</td>\n",
       "      <td>18.0</td>\n",
       "      <td>107.0</td>\n",
       "    </tr>\n",
       "  </tbody>\n",
       "</table>\n",
       "</div>"
      ],
      "text/plain": [
       "                captured time   latitude   longitude  value  elevation\n",
       "0  2018-10-21 01:00:26.000000  36.041080  140.226816   23.0       31.0\n",
       "1  2018-10-21 01:00:22.000000  37.796306  140.514413   19.0       72.0\n",
       "2  2018-10-21 01:00:16.000000  37.723330  140.476797   15.0      141.0\n",
       "3  2018-10-21 00:59:16.000000  52.444900   13.315000   16.0       47.0\n",
       "4  2018-10-21 01:00:16.000000  37.787500  140.552400   18.0      107.0"
      ]
     },
     "execution_count": 4,
     "metadata": {},
     "output_type": "execute_result"
    }
   ],
   "source": [
    "df.head()"
   ]
  },
  {
   "cell_type": "code",
   "execution_count": 5,
   "metadata": {},
   "outputs": [
    {
     "data": {
      "text/plain": [
       "(806849, 5)"
      ]
     },
     "execution_count": 5,
     "metadata": {},
     "output_type": "execute_result"
    }
   ],
   "source": [
    "df.shape"
   ]
  },
  {
   "cell_type": "code",
   "execution_count": 6,
   "metadata": {},
   "outputs": [],
   "source": [
    "def compute_geohash(row):\n",
    "    return geohash.encode(row[\"latitude\"], row[\"longitude\"], precision=4)"
   ]
  },
  {
   "cell_type": "code",
   "execution_count": 7,
   "metadata": {},
   "outputs": [],
   "source": [
    "df[\"geohash\"] = df.apply(compute_geohash, axis=1)"
   ]
  },
  {
   "cell_type": "code",
   "execution_count": 178,
   "metadata": {},
   "outputs": [
    {
     "data": {
      "text/html": [
       "<div>\n",
       "<style scoped>\n",
       "    .dataframe tbody tr th:only-of-type {\n",
       "        vertical-align: middle;\n",
       "    }\n",
       "\n",
       "    .dataframe tbody tr th {\n",
       "        vertical-align: top;\n",
       "    }\n",
       "\n",
       "    .dataframe thead th {\n",
       "        text-align: right;\n",
       "    }\n",
       "</style>\n",
       "<table border=\"1\" class=\"dataframe\">\n",
       "  <thead>\n",
       "    <tr style=\"text-align: right;\">\n",
       "      <th></th>\n",
       "      <th>captured time</th>\n",
       "      <th>latitude</th>\n",
       "      <th>longitude</th>\n",
       "      <th>value</th>\n",
       "      <th>elevation</th>\n",
       "      <th>geohash</th>\n",
       "    </tr>\n",
       "  </thead>\n",
       "  <tbody>\n",
       "    <tr>\n",
       "      <th>0</th>\n",
       "      <td>2018-10-21 01:00:26.000000</td>\n",
       "      <td>36.041080</td>\n",
       "      <td>140.226816</td>\n",
       "      <td>23.0</td>\n",
       "      <td>31.0</td>\n",
       "      <td>xn7t</td>\n",
       "    </tr>\n",
       "    <tr>\n",
       "      <th>1</th>\n",
       "      <td>2018-10-21 01:00:22.000000</td>\n",
       "      <td>37.796306</td>\n",
       "      <td>140.514413</td>\n",
       "      <td>19.0</td>\n",
       "      <td>72.0</td>\n",
       "      <td>xnez</td>\n",
       "    </tr>\n",
       "    <tr>\n",
       "      <th>2</th>\n",
       "      <td>2018-10-21 01:00:16.000000</td>\n",
       "      <td>37.723330</td>\n",
       "      <td>140.476797</td>\n",
       "      <td>15.0</td>\n",
       "      <td>141.0</td>\n",
       "      <td>xney</td>\n",
       "    </tr>\n",
       "    <tr>\n",
       "      <th>3</th>\n",
       "      <td>2018-10-21 00:59:16.000000</td>\n",
       "      <td>52.444900</td>\n",
       "      <td>13.315000</td>\n",
       "      <td>16.0</td>\n",
       "      <td>47.0</td>\n",
       "      <td>u336</td>\n",
       "    </tr>\n",
       "    <tr>\n",
       "      <th>4</th>\n",
       "      <td>2018-10-21 01:00:16.000000</td>\n",
       "      <td>37.787500</td>\n",
       "      <td>140.552400</td>\n",
       "      <td>18.0</td>\n",
       "      <td>107.0</td>\n",
       "      <td>xney</td>\n",
       "    </tr>\n",
       "  </tbody>\n",
       "</table>\n",
       "</div>"
      ],
      "text/plain": [
       "                captured time   latitude   longitude  value  elevation geohash\n",
       "0  2018-10-21 01:00:26.000000  36.041080  140.226816   23.0       31.0    xn7t\n",
       "1  2018-10-21 01:00:22.000000  37.796306  140.514413   19.0       72.0    xnez\n",
       "2  2018-10-21 01:00:16.000000  37.723330  140.476797   15.0      141.0    xney\n",
       "3  2018-10-21 00:59:16.000000  52.444900   13.315000   16.0       47.0    u336\n",
       "4  2018-10-21 01:00:16.000000  37.787500  140.552400   18.0      107.0    xney"
      ]
     },
     "execution_count": 178,
     "metadata": {},
     "output_type": "execute_result"
    }
   ],
   "source": [
    "df.head()"
   ]
  },
  {
   "cell_type": "code",
   "execution_count": 200,
   "metadata": {},
   "outputs": [
    {
     "data": {
      "text/html": [
       "<div>\n",
       "<style scoped>\n",
       "    .dataframe tbody tr th:only-of-type {\n",
       "        vertical-align: middle;\n",
       "    }\n",
       "\n",
       "    .dataframe tbody tr th {\n",
       "        vertical-align: top;\n",
       "    }\n",
       "\n",
       "    .dataframe thead th {\n",
       "        text-align: right;\n",
       "    }\n",
       "</style>\n",
       "<table border=\"1\" class=\"dataframe\">\n",
       "  <thead>\n",
       "    <tr style=\"text-align: right;\">\n",
       "      <th></th>\n",
       "      <th>geohash</th>\n",
       "      <th>value</th>\n",
       "    </tr>\n",
       "  </thead>\n",
       "  <tbody>\n",
       "    <tr>\n",
       "      <th>0</th>\n",
       "      <td>8e8y</td>\n",
       "      <td>NaN</td>\n",
       "    </tr>\n",
       "    <tr>\n",
       "      <th>1</th>\n",
       "      <td>9exz</td>\n",
       "      <td>NaN</td>\n",
       "    </tr>\n",
       "    <tr>\n",
       "      <th>2</th>\n",
       "      <td>9mum</td>\n",
       "      <td>0.144442</td>\n",
       "    </tr>\n",
       "    <tr>\n",
       "      <th>3</th>\n",
       "      <td>9muq</td>\n",
       "      <td>-0.011311</td>\n",
       "    </tr>\n",
       "    <tr>\n",
       "      <th>4</th>\n",
       "      <td>9ppb</td>\n",
       "      <td>NaN</td>\n",
       "    </tr>\n",
       "  </tbody>\n",
       "</table>\n",
       "</div>"
      ],
      "text/plain": [
       "  geohash     value\n",
       "0    8e8y       NaN\n",
       "1    9exz       NaN\n",
       "2    9mum  0.144442\n",
       "3    9muq -0.011311\n",
       "4    9ppb       NaN"
      ]
     },
     "execution_count": 200,
     "metadata": {},
     "output_type": "execute_result"
    }
   ],
   "source": [
    "grouped_cor = df[[\"geohash\", \"value\", \"elevation\"]].groupby(\"geohash\").corr().iloc[0::2,-1].to_frame().reset_index()[['geohash', 'value']]\n",
    "grouped_cor.head()"
   ]
  },
  {
   "cell_type": "code",
   "execution_count": 205,
   "metadata": {},
   "outputs": [],
   "source": [
    "grouped_cor_filtered = grouped_cor[grouped_cor[\"value\"].notna()]"
   ]
  },
  {
   "cell_type": "code",
   "execution_count": 206,
   "metadata": {},
   "outputs": [
    {
     "data": {
      "text/html": [
       "<div>\n",
       "<style scoped>\n",
       "    .dataframe tbody tr th:only-of-type {\n",
       "        vertical-align: middle;\n",
       "    }\n",
       "\n",
       "    .dataframe tbody tr th {\n",
       "        vertical-align: top;\n",
       "    }\n",
       "\n",
       "    .dataframe thead th {\n",
       "        text-align: right;\n",
       "    }\n",
       "</style>\n",
       "<table border=\"1\" class=\"dataframe\">\n",
       "  <thead>\n",
       "    <tr style=\"text-align: right;\">\n",
       "      <th></th>\n",
       "      <th>geohash</th>\n",
       "      <th>value</th>\n",
       "    </tr>\n",
       "  </thead>\n",
       "  <tbody>\n",
       "    <tr>\n",
       "      <th>2</th>\n",
       "      <td>9mum</td>\n",
       "      <td>0.144442</td>\n",
       "    </tr>\n",
       "    <tr>\n",
       "      <th>3</th>\n",
       "      <td>9muq</td>\n",
       "      <td>-0.011311</td>\n",
       "    </tr>\n",
       "    <tr>\n",
       "      <th>5</th>\n",
       "      <td>9q4g</td>\n",
       "      <td>-0.026391</td>\n",
       "    </tr>\n",
       "    <tr>\n",
       "      <th>6</th>\n",
       "      <td>9q55</td>\n",
       "      <td>0.005160</td>\n",
       "    </tr>\n",
       "    <tr>\n",
       "      <th>7</th>\n",
       "      <td>9q5c</td>\n",
       "      <td>-0.662545</td>\n",
       "    </tr>\n",
       "  </tbody>\n",
       "</table>\n",
       "</div>"
      ],
      "text/plain": [
       "  geohash     value\n",
       "2    9mum  0.144442\n",
       "3    9muq -0.011311\n",
       "5    9q4g -0.026391\n",
       "6    9q55  0.005160\n",
       "7    9q5c -0.662545"
      ]
     },
     "execution_count": 206,
     "metadata": {},
     "output_type": "execute_result"
    }
   ],
   "source": [
    "grouped_cor_filtered.head()"
   ]
  },
  {
   "cell_type": "code",
   "execution_count": 207,
   "metadata": {},
   "outputs": [],
   "source": [
    "def compute_geohash_middle_lat(row):\n",
    "    box = geohash.bbox(row.geohash)\n",
    "    return (box['s'] + box['n']) / 2\n",
    "def compute_geohash_middle_lon(row):\n",
    "    box = geohash.bbox(row.geohash)\n",
    "    return (box['w'] + box['e']) / 2"
   ]
  },
  {
   "cell_type": "code",
   "execution_count": 208,
   "metadata": {},
   "outputs": [
    {
     "name": "stderr",
     "output_type": "stream",
     "text": [
      "/anaconda3/lib/python3.6/site-packages/ipykernel_launcher.py:1: SettingWithCopyWarning: \n",
      "A value is trying to be set on a copy of a slice from a DataFrame.\n",
      "Try using .loc[row_indexer,col_indexer] = value instead\n",
      "\n",
      "See the caveats in the documentation: http://pandas.pydata.org/pandas-docs/stable/indexing.html#indexing-view-versus-copy\n",
      "  \"\"\"Entry point for launching an IPython kernel.\n"
     ]
    }
   ],
   "source": [
    "grouped_cor_filtered[\"lat\"] = grouped_cor_filtered.apply(compute_geohash_middle_lat, axis=1)"
   ]
  },
  {
   "cell_type": "code",
   "execution_count": 209,
   "metadata": {},
   "outputs": [
    {
     "data": {
      "text/html": [
       "<div>\n",
       "<style scoped>\n",
       "    .dataframe tbody tr th:only-of-type {\n",
       "        vertical-align: middle;\n",
       "    }\n",
       "\n",
       "    .dataframe tbody tr th {\n",
       "        vertical-align: top;\n",
       "    }\n",
       "\n",
       "    .dataframe thead th {\n",
       "        text-align: right;\n",
       "    }\n",
       "</style>\n",
       "<table border=\"1\" class=\"dataframe\">\n",
       "  <thead>\n",
       "    <tr style=\"text-align: right;\">\n",
       "      <th></th>\n",
       "      <th>geohash</th>\n",
       "      <th>value</th>\n",
       "      <th>lat</th>\n",
       "    </tr>\n",
       "  </thead>\n",
       "  <tbody>\n",
       "    <tr>\n",
       "      <th>2</th>\n",
       "      <td>9mum</td>\n",
       "      <td>0.144442</td>\n",
       "      <td>33.310547</td>\n",
       "    </tr>\n",
       "    <tr>\n",
       "      <th>3</th>\n",
       "      <td>9muq</td>\n",
       "      <td>-0.011311</td>\n",
       "      <td>33.486328</td>\n",
       "    </tr>\n",
       "    <tr>\n",
       "      <th>5</th>\n",
       "      <td>9q4g</td>\n",
       "      <td>-0.026391</td>\n",
       "      <td>34.365234</td>\n",
       "    </tr>\n",
       "    <tr>\n",
       "      <th>6</th>\n",
       "      <td>9q55</td>\n",
       "      <td>0.005160</td>\n",
       "      <td>34.365234</td>\n",
       "    </tr>\n",
       "    <tr>\n",
       "      <th>7</th>\n",
       "      <td>9q5c</td>\n",
       "      <td>-0.662545</td>\n",
       "      <td>34.013672</td>\n",
       "    </tr>\n",
       "  </tbody>\n",
       "</table>\n",
       "</div>"
      ],
      "text/plain": [
       "  geohash     value        lat\n",
       "2    9mum  0.144442  33.310547\n",
       "3    9muq -0.011311  33.486328\n",
       "5    9q4g -0.026391  34.365234\n",
       "6    9q55  0.005160  34.365234\n",
       "7    9q5c -0.662545  34.013672"
      ]
     },
     "execution_count": 209,
     "metadata": {},
     "output_type": "execute_result"
    }
   ],
   "source": [
    "grouped_cor_filtered.head()"
   ]
  },
  {
   "cell_type": "code",
   "execution_count": 210,
   "metadata": {},
   "outputs": [
    {
     "name": "stderr",
     "output_type": "stream",
     "text": [
      "/anaconda3/lib/python3.6/site-packages/ipykernel_launcher.py:1: SettingWithCopyWarning: \n",
      "A value is trying to be set on a copy of a slice from a DataFrame.\n",
      "Try using .loc[row_indexer,col_indexer] = value instead\n",
      "\n",
      "See the caveats in the documentation: http://pandas.pydata.org/pandas-docs/stable/indexing.html#indexing-view-versus-copy\n",
      "  \"\"\"Entry point for launching an IPython kernel.\n"
     ]
    }
   ],
   "source": [
    "grouped_cor_filtered[\"lon\"] = grouped_cor_filtered.apply(compute_geohash_middle_lon, axis=1)"
   ]
  },
  {
   "cell_type": "code",
   "execution_count": 211,
   "metadata": {},
   "outputs": [
    {
     "data": {
      "text/html": [
       "<div>\n",
       "<style scoped>\n",
       "    .dataframe tbody tr th:only-of-type {\n",
       "        vertical-align: middle;\n",
       "    }\n",
       "\n",
       "    .dataframe tbody tr th {\n",
       "        vertical-align: top;\n",
       "    }\n",
       "\n",
       "    .dataframe thead th {\n",
       "        text-align: right;\n",
       "    }\n",
       "</style>\n",
       "<table border=\"1\" class=\"dataframe\">\n",
       "  <thead>\n",
       "    <tr style=\"text-align: right;\">\n",
       "      <th></th>\n",
       "      <th>geohash</th>\n",
       "      <th>value</th>\n",
       "      <th>lat</th>\n",
       "      <th>lon</th>\n",
       "    </tr>\n",
       "  </thead>\n",
       "  <tbody>\n",
       "    <tr>\n",
       "      <th>2</th>\n",
       "      <td>9mum</td>\n",
       "      <td>0.144442</td>\n",
       "      <td>33.310547</td>\n",
       "      <td>-117.597656</td>\n",
       "    </tr>\n",
       "    <tr>\n",
       "      <th>3</th>\n",
       "      <td>9muq</td>\n",
       "      <td>-0.011311</td>\n",
       "      <td>33.486328</td>\n",
       "      <td>-117.597656</td>\n",
       "    </tr>\n",
       "    <tr>\n",
       "      <th>5</th>\n",
       "      <td>9q4g</td>\n",
       "      <td>-0.026391</td>\n",
       "      <td>34.365234</td>\n",
       "      <td>-119.707031</td>\n",
       "    </tr>\n",
       "    <tr>\n",
       "      <th>6</th>\n",
       "      <td>9q55</td>\n",
       "      <td>0.005160</td>\n",
       "      <td>34.365234</td>\n",
       "      <td>-119.355469</td>\n",
       "    </tr>\n",
       "    <tr>\n",
       "      <th>7</th>\n",
       "      <td>9q5c</td>\n",
       "      <td>-0.662545</td>\n",
       "      <td>34.013672</td>\n",
       "      <td>-118.300781</td>\n",
       "    </tr>\n",
       "  </tbody>\n",
       "</table>\n",
       "</div>"
      ],
      "text/plain": [
       "  geohash     value        lat         lon\n",
       "2    9mum  0.144442  33.310547 -117.597656\n",
       "3    9muq -0.011311  33.486328 -117.597656\n",
       "5    9q4g -0.026391  34.365234 -119.707031\n",
       "6    9q55  0.005160  34.365234 -119.355469\n",
       "7    9q5c -0.662545  34.013672 -118.300781"
      ]
     },
     "execution_count": 211,
     "metadata": {},
     "output_type": "execute_result"
    }
   ],
   "source": [
    "grouped_cor_filtered.head()"
   ]
  },
  {
   "cell_type": "code",
   "execution_count": 213,
   "metadata": {},
   "outputs": [
    {
     "data": {
      "text/html": [
       "<div style=\"width:100%;\"><div style=\"position:relative;width:100%;height:0;padding-bottom:60%;\"><iframe src=\"data:text/html;charset=utf-8;base64,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\" style=\"position:absolute;width:100%;height:100%;left:0;top:0;border:none !important;\" allowfullscreen webkitallowfullscreen mozallowfullscreen></iframe></div></div>"
      ],
      "text/plain": [
       "<folium.folium.Map at 0x12fe1c358>"
      ]
     },
     "execution_count": 213,
     "metadata": {},
     "output_type": "execute_result"
    }
   ],
   "source": [
    "max_amount = float(grouped_cor_filtered['value'].max())\n",
    "\n",
    "hmap = folium.Map(location=[37.7503, 140.4676], zoom_start=7, )\n",
    "\n",
    "hm_wide = HeatMap( list(zip(grouped_cor_filtered.lat.values, grouped_cor_filtered.lon.values, grouped_cor_filtered.value.values)),\n",
    "                   min_opacity=0.2,\n",
    "                   max_val=max_amount,\n",
    "                   radius=17, blur=15, \n",
    "                   max_zoom=1, \n",
    "                 )\n",
    "\n",
    "hmap.add_child(hm_wide)"
   ]
  },
  {
   "cell_type": "code",
   "execution_count": null,
   "metadata": {},
   "outputs": [],
   "source": []
  }
 ],
 "metadata": {
  "kernelspec": {
   "display_name": "Python 3",
   "language": "python",
   "name": "python3"
  },
  "language_info": {
   "codemirror_mode": {
    "name": "ipython",
    "version": 3
   },
   "file_extension": ".py",
   "mimetype": "text/x-python",
   "name": "python",
   "nbconvert_exporter": "python",
   "pygments_lexer": "ipython3",
   "version": "3.6.5"
  }
 },
 "nbformat": 4,
 "nbformat_minor": 2
}
