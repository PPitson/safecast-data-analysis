{
 "cells": [
  {
   "cell_type": "code",
   "execution_count": 1,
   "metadata": {},
   "outputs": [],
   "source": [
    "import pandas as pd \n",
    "import folium\n",
    "import os\n",
    "import geohash\n",
    "from folium.plugins import HeatMap"
   ]
  },
  {
   "cell_type": "code",
   "execution_count": 2,
   "metadata": {},
   "outputs": [],
   "source": [
    "SAFECAST_DATA_PATH = os.path.join('results', 'first_million_with_elevation.csv')\n",
    "df = pd.read_csv(SAFECAST_DATA_PATH)"
   ]
  },
  {
   "cell_type": "code",
   "execution_count": 3,
   "metadata": {},
   "outputs": [
    {
     "data": {
      "text/html": [
       "<div>\n",
       "<style scoped>\n",
       "    .dataframe tbody tr th:only-of-type {\n",
       "        vertical-align: middle;\n",
       "    }\n",
       "\n",
       "    .dataframe tbody tr th {\n",
       "        vertical-align: top;\n",
       "    }\n",
       "\n",
       "    .dataframe thead th {\n",
       "        text-align: right;\n",
       "    }\n",
       "</style>\n",
       "<table border=\"1\" class=\"dataframe\">\n",
       "  <thead>\n",
       "    <tr style=\"text-align: right;\">\n",
       "      <th></th>\n",
       "      <th>captured time</th>\n",
       "      <th>latitude</th>\n",
       "      <th>longitude</th>\n",
       "      <th>value</th>\n",
       "      <th>elevation</th>\n",
       "    </tr>\n",
       "  </thead>\n",
       "  <tbody>\n",
       "    <tr>\n",
       "      <th>0</th>\n",
       "      <td>2018-10-21 01:00:26.000000</td>\n",
       "      <td>36.041080</td>\n",
       "      <td>140.226816</td>\n",
       "      <td>23.0</td>\n",
       "      <td>31.0</td>\n",
       "    </tr>\n",
       "    <tr>\n",
       "      <th>1</th>\n",
       "      <td>2018-10-21 01:00:22.000000</td>\n",
       "      <td>37.796306</td>\n",
       "      <td>140.514413</td>\n",
       "      <td>19.0</td>\n",
       "      <td>72.0</td>\n",
       "    </tr>\n",
       "    <tr>\n",
       "      <th>2</th>\n",
       "      <td>2018-10-21 01:00:16.000000</td>\n",
       "      <td>37.723330</td>\n",
       "      <td>140.476797</td>\n",
       "      <td>15.0</td>\n",
       "      <td>141.0</td>\n",
       "    </tr>\n",
       "    <tr>\n",
       "      <th>3</th>\n",
       "      <td>2018-10-21 00:59:16.000000</td>\n",
       "      <td>52.444900</td>\n",
       "      <td>13.315000</td>\n",
       "      <td>16.0</td>\n",
       "      <td>47.0</td>\n",
       "    </tr>\n",
       "    <tr>\n",
       "      <th>4</th>\n",
       "      <td>2018-10-21 01:00:16.000000</td>\n",
       "      <td>37.787500</td>\n",
       "      <td>140.552400</td>\n",
       "      <td>18.0</td>\n",
       "      <td>107.0</td>\n",
       "    </tr>\n",
       "  </tbody>\n",
       "</table>\n",
       "</div>"
      ],
      "text/plain": [
       "                captured time   latitude   longitude  value  elevation\n",
       "0  2018-10-21 01:00:26.000000  36.041080  140.226816   23.0       31.0\n",
       "1  2018-10-21 01:00:22.000000  37.796306  140.514413   19.0       72.0\n",
       "2  2018-10-21 01:00:16.000000  37.723330  140.476797   15.0      141.0\n",
       "3  2018-10-21 00:59:16.000000  52.444900   13.315000   16.0       47.0\n",
       "4  2018-10-21 01:00:16.000000  37.787500  140.552400   18.0      107.0"
      ]
     },
     "execution_count": 3,
     "metadata": {},
     "output_type": "execute_result"
    }
   ],
   "source": [
    "df.head()"
   ]
  },
  {
   "cell_type": "code",
   "execution_count": 4,
   "metadata": {},
   "outputs": [
    {
     "data": {
      "text/plain": [
       "(806849, 5)"
      ]
     },
     "execution_count": 4,
     "metadata": {},
     "output_type": "execute_result"
    }
   ],
   "source": [
    "df.shape"
   ]
  },
  {
   "cell_type": "code",
   "execution_count": 5,
   "metadata": {},
   "outputs": [],
   "source": [
    "def compute_geohash(row):\n",
    "    return geohash.encode(row[\"latitude\"], row[\"longitude\"], precision=4)"
   ]
  },
  {
   "cell_type": "code",
   "execution_count": 6,
   "metadata": {},
   "outputs": [],
   "source": [
    "df[\"geohash\"] = df.apply(compute_geohash, axis=1)"
   ]
  },
  {
   "cell_type": "code",
   "execution_count": 7,
   "metadata": {},
   "outputs": [
    {
     "data": {
      "text/html": [
       "<div>\n",
       "<style scoped>\n",
       "    .dataframe tbody tr th:only-of-type {\n",
       "        vertical-align: middle;\n",
       "    }\n",
       "\n",
       "    .dataframe tbody tr th {\n",
       "        vertical-align: top;\n",
       "    }\n",
       "\n",
       "    .dataframe thead th {\n",
       "        text-align: right;\n",
       "    }\n",
       "</style>\n",
       "<table border=\"1\" class=\"dataframe\">\n",
       "  <thead>\n",
       "    <tr style=\"text-align: right;\">\n",
       "      <th></th>\n",
       "      <th>captured time</th>\n",
       "      <th>latitude</th>\n",
       "      <th>longitude</th>\n",
       "      <th>value</th>\n",
       "      <th>elevation</th>\n",
       "      <th>geohash</th>\n",
       "    </tr>\n",
       "  </thead>\n",
       "  <tbody>\n",
       "    <tr>\n",
       "      <th>0</th>\n",
       "      <td>2018-10-21 01:00:26.000000</td>\n",
       "      <td>36.041080</td>\n",
       "      <td>140.226816</td>\n",
       "      <td>23.0</td>\n",
       "      <td>31.0</td>\n",
       "      <td>xn7t</td>\n",
       "    </tr>\n",
       "    <tr>\n",
       "      <th>1</th>\n",
       "      <td>2018-10-21 01:00:22.000000</td>\n",
       "      <td>37.796306</td>\n",
       "      <td>140.514413</td>\n",
       "      <td>19.0</td>\n",
       "      <td>72.0</td>\n",
       "      <td>xnez</td>\n",
       "    </tr>\n",
       "    <tr>\n",
       "      <th>2</th>\n",
       "      <td>2018-10-21 01:00:16.000000</td>\n",
       "      <td>37.723330</td>\n",
       "      <td>140.476797</td>\n",
       "      <td>15.0</td>\n",
       "      <td>141.0</td>\n",
       "      <td>xney</td>\n",
       "    </tr>\n",
       "    <tr>\n",
       "      <th>3</th>\n",
       "      <td>2018-10-21 00:59:16.000000</td>\n",
       "      <td>52.444900</td>\n",
       "      <td>13.315000</td>\n",
       "      <td>16.0</td>\n",
       "      <td>47.0</td>\n",
       "      <td>u336</td>\n",
       "    </tr>\n",
       "    <tr>\n",
       "      <th>4</th>\n",
       "      <td>2018-10-21 01:00:16.000000</td>\n",
       "      <td>37.787500</td>\n",
       "      <td>140.552400</td>\n",
       "      <td>18.0</td>\n",
       "      <td>107.0</td>\n",
       "      <td>xney</td>\n",
       "    </tr>\n",
       "  </tbody>\n",
       "</table>\n",
       "</div>"
      ],
      "text/plain": [
       "                captured time   latitude   longitude  value  elevation geohash\n",
       "0  2018-10-21 01:00:26.000000  36.041080  140.226816   23.0       31.0    xn7t\n",
       "1  2018-10-21 01:00:22.000000  37.796306  140.514413   19.0       72.0    xnez\n",
       "2  2018-10-21 01:00:16.000000  37.723330  140.476797   15.0      141.0    xney\n",
       "3  2018-10-21 00:59:16.000000  52.444900   13.315000   16.0       47.0    u336\n",
       "4  2018-10-21 01:00:16.000000  37.787500  140.552400   18.0      107.0    xney"
      ]
     },
     "execution_count": 7,
     "metadata": {},
     "output_type": "execute_result"
    }
   ],
   "source": [
    "df.head()"
   ]
  },
  {
   "cell_type": "code",
   "execution_count": 8,
   "metadata": {},
   "outputs": [
    {
     "data": {
      "text/html": [
       "<div>\n",
       "<style scoped>\n",
       "    .dataframe tbody tr th:only-of-type {\n",
       "        vertical-align: middle;\n",
       "    }\n",
       "\n",
       "    .dataframe tbody tr th {\n",
       "        vertical-align: top;\n",
       "    }\n",
       "\n",
       "    .dataframe thead th {\n",
       "        text-align: right;\n",
       "    }\n",
       "</style>\n",
       "<table border=\"1\" class=\"dataframe\">\n",
       "  <thead>\n",
       "    <tr style=\"text-align: right;\">\n",
       "      <th></th>\n",
       "      <th>geohash</th>\n",
       "      <th>value</th>\n",
       "    </tr>\n",
       "  </thead>\n",
       "  <tbody>\n",
       "    <tr>\n",
       "      <th>0</th>\n",
       "      <td>8e8y</td>\n",
       "      <td>NaN</td>\n",
       "    </tr>\n",
       "    <tr>\n",
       "      <th>1</th>\n",
       "      <td>9exz</td>\n",
       "      <td>NaN</td>\n",
       "    </tr>\n",
       "    <tr>\n",
       "      <th>2</th>\n",
       "      <td>9mum</td>\n",
       "      <td>0.144442</td>\n",
       "    </tr>\n",
       "    <tr>\n",
       "      <th>3</th>\n",
       "      <td>9muq</td>\n",
       "      <td>-0.011311</td>\n",
       "    </tr>\n",
       "    <tr>\n",
       "      <th>4</th>\n",
       "      <td>9ppb</td>\n",
       "      <td>NaN</td>\n",
       "    </tr>\n",
       "  </tbody>\n",
       "</table>\n",
       "</div>"
      ],
      "text/plain": [
       "  geohash     value\n",
       "0    8e8y       NaN\n",
       "1    9exz       NaN\n",
       "2    9mum  0.144442\n",
       "3    9muq -0.011311\n",
       "4    9ppb       NaN"
      ]
     },
     "execution_count": 8,
     "metadata": {},
     "output_type": "execute_result"
    }
   ],
   "source": [
    "grouped_cor = df[[\"geohash\", \"value\", \"elevation\"]].groupby(\"geohash\").corr().iloc[0::2,-1].to_frame().reset_index()[['geohash', 'value']]\n",
    "grouped_cor.head()"
   ]
  },
  {
   "cell_type": "code",
   "execution_count": 9,
   "metadata": {},
   "outputs": [],
   "source": [
    "grouped_cor_filtered = grouped_cor[grouped_cor[\"value\"].notna()]"
   ]
  },
  {
   "cell_type": "code",
   "execution_count": 10,
   "metadata": {},
   "outputs": [
    {
     "data": {
      "text/html": [
       "<div>\n",
       "<style scoped>\n",
       "    .dataframe tbody tr th:only-of-type {\n",
       "        vertical-align: middle;\n",
       "    }\n",
       "\n",
       "    .dataframe tbody tr th {\n",
       "        vertical-align: top;\n",
       "    }\n",
       "\n",
       "    .dataframe thead th {\n",
       "        text-align: right;\n",
       "    }\n",
       "</style>\n",
       "<table border=\"1\" class=\"dataframe\">\n",
       "  <thead>\n",
       "    <tr style=\"text-align: right;\">\n",
       "      <th></th>\n",
       "      <th>geohash</th>\n",
       "      <th>value</th>\n",
       "    </tr>\n",
       "  </thead>\n",
       "  <tbody>\n",
       "    <tr>\n",
       "      <th>2</th>\n",
       "      <td>9mum</td>\n",
       "      <td>0.144442</td>\n",
       "    </tr>\n",
       "    <tr>\n",
       "      <th>3</th>\n",
       "      <td>9muq</td>\n",
       "      <td>-0.011311</td>\n",
       "    </tr>\n",
       "    <tr>\n",
       "      <th>5</th>\n",
       "      <td>9q4g</td>\n",
       "      <td>-0.026391</td>\n",
       "    </tr>\n",
       "    <tr>\n",
       "      <th>6</th>\n",
       "      <td>9q55</td>\n",
       "      <td>0.005160</td>\n",
       "    </tr>\n",
       "    <tr>\n",
       "      <th>7</th>\n",
       "      <td>9q5c</td>\n",
       "      <td>-0.662545</td>\n",
       "    </tr>\n",
       "  </tbody>\n",
       "</table>\n",
       "</div>"
      ],
      "text/plain": [
       "  geohash     value\n",
       "2    9mum  0.144442\n",
       "3    9muq -0.011311\n",
       "5    9q4g -0.026391\n",
       "6    9q55  0.005160\n",
       "7    9q5c -0.662545"
      ]
     },
     "execution_count": 10,
     "metadata": {},
     "output_type": "execute_result"
    }
   ],
   "source": [
    "grouped_cor_filtered.head()"
   ]
  },
  {
   "cell_type": "code",
   "execution_count": 11,
   "metadata": {},
   "outputs": [],
   "source": [
    "def compute_geohash_middle_lat(row):\n",
    "    box = geohash.bbox(row.geohash)\n",
    "    return (box['s'] + box['n']) / 2\n",
    "def compute_geohash_middle_lon(row):\n",
    "    box = geohash.bbox(row.geohash)\n",
    "    return (box['w'] + box['e']) / 2"
   ]
  },
  {
   "cell_type": "code",
   "execution_count": 12,
   "metadata": {},
   "outputs": [
    {
     "name": "stderr",
     "output_type": "stream",
     "text": [
      "/anaconda3/lib/python3.6/site-packages/ipykernel_launcher.py:1: SettingWithCopyWarning: \n",
      "A value is trying to be set on a copy of a slice from a DataFrame.\n",
      "Try using .loc[row_indexer,col_indexer] = value instead\n",
      "\n",
      "See the caveats in the documentation: http://pandas.pydata.org/pandas-docs/stable/indexing.html#indexing-view-versus-copy\n",
      "  \"\"\"Entry point for launching an IPython kernel.\n"
     ]
    }
   ],
   "source": [
    "grouped_cor_filtered[\"lat\"] = grouped_cor_filtered.apply(compute_geohash_middle_lat, axis=1)"
   ]
  },
  {
   "cell_type": "code",
   "execution_count": 13,
   "metadata": {},
   "outputs": [
    {
     "data": {
      "text/html": [
       "<div>\n",
       "<style scoped>\n",
       "    .dataframe tbody tr th:only-of-type {\n",
       "        vertical-align: middle;\n",
       "    }\n",
       "\n",
       "    .dataframe tbody tr th {\n",
       "        vertical-align: top;\n",
       "    }\n",
       "\n",
       "    .dataframe thead th {\n",
       "        text-align: right;\n",
       "    }\n",
       "</style>\n",
       "<table border=\"1\" class=\"dataframe\">\n",
       "  <thead>\n",
       "    <tr style=\"text-align: right;\">\n",
       "      <th></th>\n",
       "      <th>geohash</th>\n",
       "      <th>value</th>\n",
       "      <th>lat</th>\n",
       "    </tr>\n",
       "  </thead>\n",
       "  <tbody>\n",
       "    <tr>\n",
       "      <th>2</th>\n",
       "      <td>9mum</td>\n",
       "      <td>0.144442</td>\n",
       "      <td>33.310547</td>\n",
       "    </tr>\n",
       "    <tr>\n",
       "      <th>3</th>\n",
       "      <td>9muq</td>\n",
       "      <td>-0.011311</td>\n",
       "      <td>33.486328</td>\n",
       "    </tr>\n",
       "    <tr>\n",
       "      <th>5</th>\n",
       "      <td>9q4g</td>\n",
       "      <td>-0.026391</td>\n",
       "      <td>34.365234</td>\n",
       "    </tr>\n",
       "    <tr>\n",
       "      <th>6</th>\n",
       "      <td>9q55</td>\n",
       "      <td>0.005160</td>\n",
       "      <td>34.365234</td>\n",
       "    </tr>\n",
       "    <tr>\n",
       "      <th>7</th>\n",
       "      <td>9q5c</td>\n",
       "      <td>-0.662545</td>\n",
       "      <td>34.013672</td>\n",
       "    </tr>\n",
       "  </tbody>\n",
       "</table>\n",
       "</div>"
      ],
      "text/plain": [
       "  geohash     value        lat\n",
       "2    9mum  0.144442  33.310547\n",
       "3    9muq -0.011311  33.486328\n",
       "5    9q4g -0.026391  34.365234\n",
       "6    9q55  0.005160  34.365234\n",
       "7    9q5c -0.662545  34.013672"
      ]
     },
     "execution_count": 13,
     "metadata": {},
     "output_type": "execute_result"
    }
   ],
   "source": [
    "grouped_cor_filtered.head()"
   ]
  },
  {
   "cell_type": "code",
   "execution_count": 14,
   "metadata": {},
   "outputs": [
    {
     "name": "stderr",
     "output_type": "stream",
     "text": [
      "/anaconda3/lib/python3.6/site-packages/ipykernel_launcher.py:1: SettingWithCopyWarning: \n",
      "A value is trying to be set on a copy of a slice from a DataFrame.\n",
      "Try using .loc[row_indexer,col_indexer] = value instead\n",
      "\n",
      "See the caveats in the documentation: http://pandas.pydata.org/pandas-docs/stable/indexing.html#indexing-view-versus-copy\n",
      "  \"\"\"Entry point for launching an IPython kernel.\n"
     ]
    }
   ],
   "source": [
    "grouped_cor_filtered[\"lon\"] = grouped_cor_filtered.apply(compute_geohash_middle_lon, axis=1)"
   ]
  },
  {
   "cell_type": "code",
   "execution_count": 15,
   "metadata": {},
   "outputs": [
    {
     "data": {
      "text/html": [
       "<div>\n",
       "<style scoped>\n",
       "    .dataframe tbody tr th:only-of-type {\n",
       "        vertical-align: middle;\n",
       "    }\n",
       "\n",
       "    .dataframe tbody tr th {\n",
       "        vertical-align: top;\n",
       "    }\n",
       "\n",
       "    .dataframe thead th {\n",
       "        text-align: right;\n",
       "    }\n",
       "</style>\n",
       "<table border=\"1\" class=\"dataframe\">\n",
       "  <thead>\n",
       "    <tr style=\"text-align: right;\">\n",
       "      <th></th>\n",
       "      <th>geohash</th>\n",
       "      <th>value</th>\n",
       "      <th>lat</th>\n",
       "      <th>lon</th>\n",
       "    </tr>\n",
       "  </thead>\n",
       "  <tbody>\n",
       "    <tr>\n",
       "      <th>2</th>\n",
       "      <td>9mum</td>\n",
       "      <td>0.144442</td>\n",
       "      <td>33.310547</td>\n",
       "      <td>-117.597656</td>\n",
       "    </tr>\n",
       "    <tr>\n",
       "      <th>3</th>\n",
       "      <td>9muq</td>\n",
       "      <td>-0.011311</td>\n",
       "      <td>33.486328</td>\n",
       "      <td>-117.597656</td>\n",
       "    </tr>\n",
       "    <tr>\n",
       "      <th>5</th>\n",
       "      <td>9q4g</td>\n",
       "      <td>-0.026391</td>\n",
       "      <td>34.365234</td>\n",
       "      <td>-119.707031</td>\n",
       "    </tr>\n",
       "    <tr>\n",
       "      <th>6</th>\n",
       "      <td>9q55</td>\n",
       "      <td>0.005160</td>\n",
       "      <td>34.365234</td>\n",
       "      <td>-119.355469</td>\n",
       "    </tr>\n",
       "    <tr>\n",
       "      <th>7</th>\n",
       "      <td>9q5c</td>\n",
       "      <td>-0.662545</td>\n",
       "      <td>34.013672</td>\n",
       "      <td>-118.300781</td>\n",
       "    </tr>\n",
       "  </tbody>\n",
       "</table>\n",
       "</div>"
      ],
      "text/plain": [
       "  geohash     value        lat         lon\n",
       "2    9mum  0.144442  33.310547 -117.597656\n",
       "3    9muq -0.011311  33.486328 -117.597656\n",
       "5    9q4g -0.026391  34.365234 -119.707031\n",
       "6    9q55  0.005160  34.365234 -119.355469\n",
       "7    9q5c -0.662545  34.013672 -118.300781"
      ]
     },
     "execution_count": 15,
     "metadata": {},
     "output_type": "execute_result"
    }
   ],
   "source": [
    "grouped_cor_filtered.head()"
   ]
  },
  {
   "cell_type": "code",
   "execution_count": 17,
   "metadata": {},
   "outputs": [
    {
     "name": "stderr",
     "output_type": "stream",
     "text": [
      "/anaconda3/lib/python3.6/site-packages/ipykernel_launcher.py:1: SettingWithCopyWarning: \n",
      "A value is trying to be set on a copy of a slice from a DataFrame.\n",
      "Try using .loc[row_indexer,col_indexer] = value instead\n",
      "\n",
      "See the caveats in the documentation: http://pandas.pydata.org/pandas-docs/stable/indexing.html#indexing-view-versus-copy\n",
      "  \"\"\"Entry point for launching an IPython kernel.\n"
     ]
    },
    {
     "data": {
      "text/html": [
       "<div>\n",
       "<style scoped>\n",
       "    .dataframe tbody tr th:only-of-type {\n",
       "        vertical-align: middle;\n",
       "    }\n",
       "\n",
       "    .dataframe tbody tr th {\n",
       "        vertical-align: top;\n",
       "    }\n",
       "\n",
       "    .dataframe thead th {\n",
       "        text-align: right;\n",
       "    }\n",
       "</style>\n",
       "<table border=\"1\" class=\"dataframe\">\n",
       "  <thead>\n",
       "    <tr style=\"text-align: right;\">\n",
       "      <th></th>\n",
       "      <th>geohash</th>\n",
       "      <th>value</th>\n",
       "      <th>lat</th>\n",
       "      <th>lon</th>\n",
       "    </tr>\n",
       "  </thead>\n",
       "  <tbody>\n",
       "    <tr>\n",
       "      <th>2</th>\n",
       "      <td>9mum</td>\n",
       "      <td>1.144442</td>\n",
       "      <td>33.310547</td>\n",
       "      <td>-117.597656</td>\n",
       "    </tr>\n",
       "    <tr>\n",
       "      <th>3</th>\n",
       "      <td>9muq</td>\n",
       "      <td>0.988689</td>\n",
       "      <td>33.486328</td>\n",
       "      <td>-117.597656</td>\n",
       "    </tr>\n",
       "    <tr>\n",
       "      <th>5</th>\n",
       "      <td>9q4g</td>\n",
       "      <td>0.973609</td>\n",
       "      <td>34.365234</td>\n",
       "      <td>-119.707031</td>\n",
       "    </tr>\n",
       "    <tr>\n",
       "      <th>6</th>\n",
       "      <td>9q55</td>\n",
       "      <td>1.005160</td>\n",
       "      <td>34.365234</td>\n",
       "      <td>-119.355469</td>\n",
       "    </tr>\n",
       "    <tr>\n",
       "      <th>7</th>\n",
       "      <td>9q5c</td>\n",
       "      <td>0.337455</td>\n",
       "      <td>34.013672</td>\n",
       "      <td>-118.300781</td>\n",
       "    </tr>\n",
       "  </tbody>\n",
       "</table>\n",
       "</div>"
      ],
      "text/plain": [
       "  geohash     value        lat         lon\n",
       "2    9mum  1.144442  33.310547 -117.597656\n",
       "3    9muq  0.988689  33.486328 -117.597656\n",
       "5    9q4g  0.973609  34.365234 -119.707031\n",
       "6    9q55  1.005160  34.365234 -119.355469\n",
       "7    9q5c  0.337455  34.013672 -118.300781"
      ]
     },
     "execution_count": 17,
     "metadata": {},
     "output_type": "execute_result"
    }
   ],
   "source": [
    "grouped_cor_filtered['value'] += 1\n",
    "grouped_cor_filtered.head()"
   ]
  },
  {
   "cell_type": "code",
   "execution_count": 18,
   "metadata": {},
   "outputs": [
    {
     "data": {
      "text/html": [
       "<div style=\"width:100%;\"><div style=\"position:relative;width:100%;height:0;padding-bottom:60%;\"><iframe src=\"data:text/html;charset=utf-8;base64,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\" style=\"position:absolute;width:100%;height:100%;left:0;top:0;border:none !important;\" allowfullscreen webkitallowfullscreen mozallowfullscreen></iframe></div></div>"
      ],
      "text/plain": [
       "<folium.folium.Map at 0x125eef518>"
      ]
     },
     "execution_count": 18,
     "metadata": {},
     "output_type": "execute_result"
    }
   ],
   "source": [
    "max_amount = float(grouped_cor_filtered['value'].max())\n",
    "\n",
    "hmap = folium.Map(location=[37.7503, 140.4676], zoom_start=7, )\n",
    "\n",
    "hm_wide = HeatMap( list(zip(grouped_cor_filtered.lat.values, grouped_cor_filtered.lon.values, grouped_cor_filtered.value.values)),\n",
    "                   min_opacity=0.2,\n",
    "                   max_val=max_amount,\n",
    "                   radius=17, blur=15, \n",
    "                   max_zoom=1, \n",
    "                 )\n",
    "\n",
    "hmap.add_child(hm_wide)"
   ]
  },
  {
   "cell_type": "code",
   "execution_count": null,
   "metadata": {},
   "outputs": [],
   "source": []
  }
 ],
 "metadata": {
  "kernelspec": {
   "display_name": "Python 3",
   "language": "python",
   "name": "python3"
  },
  "language_info": {
   "codemirror_mode": {
    "name": "ipython",
    "version": 3
   },
   "file_extension": ".py",
   "mimetype": "text/x-python",
   "name": "python",
   "nbconvert_exporter": "python",
   "pygments_lexer": "ipython3",
   "version": "3.6.5"
  }
 },
 "nbformat": 4,
 "nbformat_minor": 2
}
