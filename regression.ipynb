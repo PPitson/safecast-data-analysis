{
 "cells": [
  {
   "cell_type": "code",
   "execution_count": 1,
   "metadata": {},
   "outputs": [],
   "source": [
    "import pandas as pd \n",
    "import folium\n",
    "import os\n",
    "import geohash\n",
    "from folium.plugins import HeatMap\n",
    "from sklearn import datasets, linear_model\n",
    "from sklearn.metrics import mean_squared_error, r2_score\n",
    "from datetime import datetime\n",
    "import numpy as np"
   ]
  },
  {
   "cell_type": "code",
   "execution_count": 2,
   "metadata": {},
   "outputs": [],
   "source": [
    "df = pd.read_csv(\"10_million_with_elevation_and_geohashes.csv\")  "
   ]
  },
  {
   "cell_type": "code",
   "execution_count": 3,
   "metadata": {},
   "outputs": [
    {
     "data": {
      "text/html": [
       "<div>\n",
       "<style scoped>\n",
       "    .dataframe tbody tr th:only-of-type {\n",
       "        vertical-align: middle;\n",
       "    }\n",
       "\n",
       "    .dataframe tbody tr th {\n",
       "        vertical-align: top;\n",
       "    }\n",
       "\n",
       "    .dataframe thead th {\n",
       "        text-align: right;\n",
       "    }\n",
       "</style>\n",
       "<table border=\"1\" class=\"dataframe\">\n",
       "  <thead>\n",
       "    <tr style=\"text-align: right;\">\n",
       "      <th></th>\n",
       "      <th>capture_date</th>\n",
       "      <th>latitude</th>\n",
       "      <th>longitude</th>\n",
       "      <th>value</th>\n",
       "      <th>elevation</th>\n",
       "      <th>geohash</th>\n",
       "    </tr>\n",
       "  </thead>\n",
       "  <tbody>\n",
       "    <tr>\n",
       "      <th>0</th>\n",
       "      <td>2018-10-21 01:00:26.000000</td>\n",
       "      <td>36.041080</td>\n",
       "      <td>140.226816</td>\n",
       "      <td>23.0</td>\n",
       "      <td>31</td>\n",
       "      <td>xn7tncn498k2</td>\n",
       "    </tr>\n",
       "    <tr>\n",
       "      <th>1</th>\n",
       "      <td>2018-10-21 01:00:22.000000</td>\n",
       "      <td>37.796306</td>\n",
       "      <td>140.514413</td>\n",
       "      <td>19.0</td>\n",
       "      <td>72</td>\n",
       "      <td>xnezj2x7rnh7</td>\n",
       "    </tr>\n",
       "    <tr>\n",
       "      <th>2</th>\n",
       "      <td>2018-10-21 01:00:16.000000</td>\n",
       "      <td>37.723330</td>\n",
       "      <td>140.476797</td>\n",
       "      <td>15.0</td>\n",
       "      <td>141</td>\n",
       "      <td>xneysek46d7w</td>\n",
       "    </tr>\n",
       "    <tr>\n",
       "      <th>3</th>\n",
       "      <td>2018-10-21 00:59:16.000000</td>\n",
       "      <td>52.444900</td>\n",
       "      <td>13.315000</td>\n",
       "      <td>16.0</td>\n",
       "      <td>47</td>\n",
       "      <td>u336qgr9tvzw</td>\n",
       "    </tr>\n",
       "    <tr>\n",
       "      <th>4</th>\n",
       "      <td>2018-10-21 01:00:16.000000</td>\n",
       "      <td>37.787500</td>\n",
       "      <td>140.552400</td>\n",
       "      <td>18.0</td>\n",
       "      <td>107</td>\n",
       "      <td>xneyyr50hk99</td>\n",
       "    </tr>\n",
       "  </tbody>\n",
       "</table>\n",
       "</div>"
      ],
      "text/plain": [
       "                 capture_date   latitude   longitude  value  elevation  \\\n",
       "0  2018-10-21 01:00:26.000000  36.041080  140.226816   23.0         31   \n",
       "1  2018-10-21 01:00:22.000000  37.796306  140.514413   19.0         72   \n",
       "2  2018-10-21 01:00:16.000000  37.723330  140.476797   15.0        141   \n",
       "3  2018-10-21 00:59:16.000000  52.444900   13.315000   16.0         47   \n",
       "4  2018-10-21 01:00:16.000000  37.787500  140.552400   18.0        107   \n",
       "\n",
       "        geohash  \n",
       "0  xn7tncn498k2  \n",
       "1  xnezj2x7rnh7  \n",
       "2  xneysek46d7w  \n",
       "3  u336qgr9tvzw  \n",
       "4  xneyyr50hk99  "
      ]
     },
     "execution_count": 3,
     "metadata": {},
     "output_type": "execute_result"
    }
   ],
   "source": [
    "df.head()"
   ]
  },
  {
   "cell_type": "code",
   "execution_count": 4,
   "metadata": {},
   "outputs": [
    {
     "data": {
      "text/plain": [
       "(9732519, 6)"
      ]
     },
     "execution_count": 4,
     "metadata": {},
     "output_type": "execute_result"
    }
   ],
   "source": [
    "df.shape"
   ]
  },
  {
   "cell_type": "code",
   "execution_count": 5,
   "metadata": {},
   "outputs": [],
   "source": [
    "# https://www.elastic.co/guide/en/elasticsearch/reference/current/search-aggregations-bucket-geohashgrid-aggregation.html\n",
    "# geogash precision 8 - 38.2m x 19m\n",
    "# 4 - 39.1km x 19.5km"
   ]
  },
  {
   "cell_type": "code",
   "execution_count": 6,
   "metadata": {},
   "outputs": [],
   "source": [
    "def get_geohash8(row):\n",
    "    return row.geohash[:4]\n",
    "\n",
    "df[\"geohash8\"] = df.apply(get_geohash8, axis=1)"
   ]
  },
  {
   "cell_type": "code",
   "execution_count": 7,
   "metadata": {},
   "outputs": [
    {
     "data": {
      "text/plain": [
       "xn76    351804\n",
       "xney    309497\n",
       "xnsm    304731\n",
       "c20g    219053\n",
       "xneu    193008\n",
       "xn7t    188532\n",
       "9q5f    184063\n",
       "drtd    148120\n",
       "xn77    146484\n",
       "xnsn    130833\n",
       "Name: geohash8, dtype: int64"
      ]
     },
     "execution_count": 7,
     "metadata": {},
     "output_type": "execute_result"
    }
   ],
   "source": [
    "points_in_smallest_geohashes = df.geohash8.value_counts()\n",
    "points_in_smallest_geohashes[:10]"
   ]
  },
  {
   "cell_type": "code",
   "execution_count": 8,
   "metadata": {},
   "outputs": [
    {
     "data": {
      "text/plain": [
       "2218.99658002736"
      ]
     },
     "execution_count": 8,
     "metadata": {},
     "output_type": "execute_result"
    }
   ],
   "source": [
    "points_in_smallest_geohashes.mean()"
   ]
  },
  {
   "cell_type": "code",
   "execution_count": 9,
   "metadata": {},
   "outputs": [],
   "source": [
    "def get_timestamp(row):\n",
    "    try:\n",
    "        timestamp = datetime.strptime(row.capture_date, '%Y-%m-%d %H:%M:%S.%f').timestamp()\n",
    "        return timestamp\n",
    "    except:\n",
    "        timestamp = datetime.strptime(row.capture_date, '%Y-%m-%d %H:%M:%S').timestamp()\n",
    "        return timestamp"
   ]
  },
  {
   "cell_type": "code",
   "execution_count": 10,
   "metadata": {},
   "outputs": [
    {
     "name": "stdout",
     "output_type": "stream",
     "text": [
      "CPU times: user 10min 6s, sys: 12.4 s, total: 10min 18s\n",
      "Wall time: 11min 10s\n"
     ]
    }
   ],
   "source": [
    "%%time\n",
    "df[\"timestamp\"] = df.apply(get_timestamp, axis=1)"
   ]
  },
  {
   "cell_type": "code",
   "execution_count": 11,
   "metadata": {},
   "outputs": [
    {
     "data": {
      "text/plain": [
       "(9732519, 8)"
      ]
     },
     "execution_count": 11,
     "metadata": {},
     "output_type": "execute_result"
    }
   ],
   "source": [
    "df.shape"
   ]
  },
  {
   "cell_type": "code",
   "execution_count": 12,
   "metadata": {},
   "outputs": [
    {
     "data": {
      "text/html": [
       "<div>\n",
       "<style scoped>\n",
       "    .dataframe tbody tr th:only-of-type {\n",
       "        vertical-align: middle;\n",
       "    }\n",
       "\n",
       "    .dataframe tbody tr th {\n",
       "        vertical-align: top;\n",
       "    }\n",
       "\n",
       "    .dataframe thead th {\n",
       "        text-align: right;\n",
       "    }\n",
       "</style>\n",
       "<table border=\"1\" class=\"dataframe\">\n",
       "  <thead>\n",
       "    <tr style=\"text-align: right;\">\n",
       "      <th></th>\n",
       "      <th>capture_date</th>\n",
       "      <th>latitude</th>\n",
       "      <th>longitude</th>\n",
       "      <th>value</th>\n",
       "      <th>elevation</th>\n",
       "      <th>geohash</th>\n",
       "      <th>geohash8</th>\n",
       "      <th>timestamp</th>\n",
       "    </tr>\n",
       "  </thead>\n",
       "  <tbody>\n",
       "    <tr>\n",
       "      <th>0</th>\n",
       "      <td>2018-10-21 01:00:26.000000</td>\n",
       "      <td>36.041080</td>\n",
       "      <td>140.226816</td>\n",
       "      <td>23.0</td>\n",
       "      <td>31</td>\n",
       "      <td>xn7tncn498k2</td>\n",
       "      <td>xn7t</td>\n",
       "      <td>1.540076e+09</td>\n",
       "    </tr>\n",
       "    <tr>\n",
       "      <th>1</th>\n",
       "      <td>2018-10-21 01:00:22.000000</td>\n",
       "      <td>37.796306</td>\n",
       "      <td>140.514413</td>\n",
       "      <td>19.0</td>\n",
       "      <td>72</td>\n",
       "      <td>xnezj2x7rnh7</td>\n",
       "      <td>xnez</td>\n",
       "      <td>1.540076e+09</td>\n",
       "    </tr>\n",
       "    <tr>\n",
       "      <th>2</th>\n",
       "      <td>2018-10-21 01:00:16.000000</td>\n",
       "      <td>37.723330</td>\n",
       "      <td>140.476797</td>\n",
       "      <td>15.0</td>\n",
       "      <td>141</td>\n",
       "      <td>xneysek46d7w</td>\n",
       "      <td>xney</td>\n",
       "      <td>1.540076e+09</td>\n",
       "    </tr>\n",
       "    <tr>\n",
       "      <th>3</th>\n",
       "      <td>2018-10-21 00:59:16.000000</td>\n",
       "      <td>52.444900</td>\n",
       "      <td>13.315000</td>\n",
       "      <td>16.0</td>\n",
       "      <td>47</td>\n",
       "      <td>u336qgr9tvzw</td>\n",
       "      <td>u336</td>\n",
       "      <td>1.540076e+09</td>\n",
       "    </tr>\n",
       "    <tr>\n",
       "      <th>4</th>\n",
       "      <td>2018-10-21 01:00:16.000000</td>\n",
       "      <td>37.787500</td>\n",
       "      <td>140.552400</td>\n",
       "      <td>18.0</td>\n",
       "      <td>107</td>\n",
       "      <td>xneyyr50hk99</td>\n",
       "      <td>xney</td>\n",
       "      <td>1.540076e+09</td>\n",
       "    </tr>\n",
       "  </tbody>\n",
       "</table>\n",
       "</div>"
      ],
      "text/plain": [
       "                 capture_date   latitude   longitude  value  elevation  \\\n",
       "0  2018-10-21 01:00:26.000000  36.041080  140.226816   23.0         31   \n",
       "1  2018-10-21 01:00:22.000000  37.796306  140.514413   19.0         72   \n",
       "2  2018-10-21 01:00:16.000000  37.723330  140.476797   15.0        141   \n",
       "3  2018-10-21 00:59:16.000000  52.444900   13.315000   16.0         47   \n",
       "4  2018-10-21 01:00:16.000000  37.787500  140.552400   18.0        107   \n",
       "\n",
       "        geohash geohash8     timestamp  \n",
       "0  xn7tncn498k2     xn7t  1.540076e+09  \n",
       "1  xnezj2x7rnh7     xnez  1.540076e+09  \n",
       "2  xneysek46d7w     xney  1.540076e+09  \n",
       "3  u336qgr9tvzw     u336  1.540076e+09  \n",
       "4  xneyyr50hk99     xney  1.540076e+09  "
      ]
     },
     "execution_count": 12,
     "metadata": {},
     "output_type": "execute_result"
    }
   ],
   "source": [
    "df.head()"
   ]
  },
  {
   "cell_type": "code",
   "execution_count": 13,
   "metadata": {},
   "outputs": [],
   "source": [
    "def prepare_regresion_model(data):\n",
    "    new_data = pd.DataFrame(data=[[]])\n",
    "    size = data.shape[0]\n",
    "    new_data['count'] = size\n",
    "    \n",
    "    if size <= 1:\n",
    "        new_data['regresion'] = None\n",
    "        new_data['reg_error'] = None\n",
    "        return new_data\n",
    "    \n",
    "    train_size = int(0.8 * size)\n",
    "    test_size = size - train_size\n",
    "    \n",
    "    X_train = np.array(data.timestamp[:train_size]).reshape(-1, 1)\n",
    "    X_test = np.array(data.timestamp[train_size:]).reshape(-1, 1)\n",
    "    \n",
    "    Y_train = np.array(data.value[:train_size]).reshape(-1, 1)\n",
    "    Y_test = np.array(data.value[train_size:]).reshape(-1, 1)\n",
    "    \n",
    "    regr = linear_model.LinearRegression()\n",
    "\n",
    "    regr.fit(X_train, Y_train)\n",
    "    new_data['regresion'] = regr\n",
    "    \n",
    "    Y_pred = regr.predict(X_test)\n",
    "    new_data['reg_error'] = mean_squared_error(Y_test, Y_pred)\n",
    "    return new_data"
   ]
  },
  {
   "cell_type": "code",
   "execution_count": 14,
   "metadata": {},
   "outputs": [
    {
     "data": {
      "text/html": [
       "<div>\n",
       "<style scoped>\n",
       "    .dataframe tbody tr th:only-of-type {\n",
       "        vertical-align: middle;\n",
       "    }\n",
       "\n",
       "    .dataframe tbody tr th {\n",
       "        vertical-align: top;\n",
       "    }\n",
       "\n",
       "    .dataframe thead th {\n",
       "        text-align: right;\n",
       "    }\n",
       "</style>\n",
       "<table border=\"1\" class=\"dataframe\">\n",
       "  <thead>\n",
       "    <tr style=\"text-align: right;\">\n",
       "      <th></th>\n",
       "      <th>capture_date</th>\n",
       "      <th>latitude</th>\n",
       "      <th>longitude</th>\n",
       "      <th>value</th>\n",
       "      <th>elevation</th>\n",
       "      <th>geohash</th>\n",
       "      <th>geohash8</th>\n",
       "      <th>timestamp</th>\n",
       "    </tr>\n",
       "  </thead>\n",
       "  <tbody>\n",
       "    <tr>\n",
       "      <th>0</th>\n",
       "      <td>2018-10-21 01:00:26.000000</td>\n",
       "      <td>36.041080</td>\n",
       "      <td>140.226816</td>\n",
       "      <td>23.0</td>\n",
       "      <td>31</td>\n",
       "      <td>xn7tncn498k2</td>\n",
       "      <td>xn7t</td>\n",
       "      <td>1.540076e+09</td>\n",
       "    </tr>\n",
       "    <tr>\n",
       "      <th>1</th>\n",
       "      <td>2018-10-21 01:00:22.000000</td>\n",
       "      <td>37.796306</td>\n",
       "      <td>140.514413</td>\n",
       "      <td>19.0</td>\n",
       "      <td>72</td>\n",
       "      <td>xnezj2x7rnh7</td>\n",
       "      <td>xnez</td>\n",
       "      <td>1.540076e+09</td>\n",
       "    </tr>\n",
       "    <tr>\n",
       "      <th>2</th>\n",
       "      <td>2018-10-21 01:00:16.000000</td>\n",
       "      <td>37.723330</td>\n",
       "      <td>140.476797</td>\n",
       "      <td>15.0</td>\n",
       "      <td>141</td>\n",
       "      <td>xneysek46d7w</td>\n",
       "      <td>xney</td>\n",
       "      <td>1.540076e+09</td>\n",
       "    </tr>\n",
       "    <tr>\n",
       "      <th>3</th>\n",
       "      <td>2018-10-21 00:59:16.000000</td>\n",
       "      <td>52.444900</td>\n",
       "      <td>13.315000</td>\n",
       "      <td>16.0</td>\n",
       "      <td>47</td>\n",
       "      <td>u336qgr9tvzw</td>\n",
       "      <td>u336</td>\n",
       "      <td>1.540076e+09</td>\n",
       "    </tr>\n",
       "    <tr>\n",
       "      <th>4</th>\n",
       "      <td>2018-10-21 01:00:16.000000</td>\n",
       "      <td>37.787500</td>\n",
       "      <td>140.552400</td>\n",
       "      <td>18.0</td>\n",
       "      <td>107</td>\n",
       "      <td>xneyyr50hk99</td>\n",
       "      <td>xney</td>\n",
       "      <td>1.540076e+09</td>\n",
       "    </tr>\n",
       "  </tbody>\n",
       "</table>\n",
       "</div>"
      ],
      "text/plain": [
       "                 capture_date   latitude   longitude  value  elevation  \\\n",
       "0  2018-10-21 01:00:26.000000  36.041080  140.226816   23.0         31   \n",
       "1  2018-10-21 01:00:22.000000  37.796306  140.514413   19.0         72   \n",
       "2  2018-10-21 01:00:16.000000  37.723330  140.476797   15.0        141   \n",
       "3  2018-10-21 00:59:16.000000  52.444900   13.315000   16.0         47   \n",
       "4  2018-10-21 01:00:16.000000  37.787500  140.552400   18.0        107   \n",
       "\n",
       "        geohash geohash8     timestamp  \n",
       "0  xn7tncn498k2     xn7t  1.540076e+09  \n",
       "1  xnezj2x7rnh7     xnez  1.540076e+09  \n",
       "2  xneysek46d7w     xney  1.540076e+09  \n",
       "3  u336qgr9tvzw     u336  1.540076e+09  \n",
       "4  xneyyr50hk99     xney  1.540076e+09  "
      ]
     },
     "execution_count": 14,
     "metadata": {},
     "output_type": "execute_result"
    }
   ],
   "source": [
    "# todo reject if only one value per geohash\n",
    "tmp = df[:100000]\n",
    "tmp.head()"
   ]
  },
  {
   "cell_type": "code",
   "execution_count": 15,
   "metadata": {},
   "outputs": [
    {
     "name": "stdout",
     "output_type": "stream",
     "text": [
      "CPU times: user 709 ms, sys: 90.9 ms, total: 800 ms\n",
      "Wall time: 925 ms\n"
     ]
    }
   ],
   "source": [
    "%%time\n",
    "res = tmp.groupby('geohash8').apply(prepare_regresion_model)"
   ]
  },
  {
   "cell_type": "code",
   "execution_count": 16,
   "metadata": {},
   "outputs": [
    {
     "name": "stdout",
     "output_type": "stream",
     "text": [
      "CPU times: user 614 ms, sys: 16.8 ms, total: 631 ms\n",
      "Wall time: 561 ms\n"
     ]
    }
   ],
   "source": [
    "%%time\n",
    "sdfsdafsfs = tmp.groupby('geohash8').apply(prepare_regresion_model)"
   ]
  },
  {
   "cell_type": "code",
   "execution_count": 17,
   "metadata": {},
   "outputs": [],
   "source": [
    "res = res.reset_index()[['geohash8', 'count', 'regresion', 'reg_error']]"
   ]
  },
  {
   "cell_type": "code",
   "execution_count": 18,
   "metadata": {},
   "outputs": [
    {
     "data": {
      "text/html": [
       "<div>\n",
       "<style scoped>\n",
       "    .dataframe tbody tr th:only-of-type {\n",
       "        vertical-align: middle;\n",
       "    }\n",
       "\n",
       "    .dataframe tbody tr th {\n",
       "        vertical-align: top;\n",
       "    }\n",
       "\n",
       "    .dataframe thead th {\n",
       "        text-align: right;\n",
       "    }\n",
       "</style>\n",
       "<table border=\"1\" class=\"dataframe\">\n",
       "  <thead>\n",
       "    <tr style=\"text-align: right;\">\n",
       "      <th></th>\n",
       "      <th>geohash8</th>\n",
       "      <th>count</th>\n",
       "      <th>regresion</th>\n",
       "      <th>reg_error</th>\n",
       "    </tr>\n",
       "  </thead>\n",
       "  <tbody>\n",
       "    <tr>\n",
       "      <th>0</th>\n",
       "      <td>8e8y</td>\n",
       "      <td>459</td>\n",
       "      <td>LinearRegression(copy_X=True, fit_intercept=Tr...</td>\n",
       "      <td>6.460499</td>\n",
       "    </tr>\n",
       "    <tr>\n",
       "      <th>1</th>\n",
       "      <td>9exz</td>\n",
       "      <td>3622</td>\n",
       "      <td>LinearRegression(copy_X=True, fit_intercept=Tr...</td>\n",
       "      <td>20.157941</td>\n",
       "    </tr>\n",
       "    <tr>\n",
       "      <th>2</th>\n",
       "      <td>9mum</td>\n",
       "      <td>1292</td>\n",
       "      <td>LinearRegression(copy_X=True, fit_intercept=Tr...</td>\n",
       "      <td>50.388642</td>\n",
       "    </tr>\n",
       "    <tr>\n",
       "      <th>3</th>\n",
       "      <td>9muq</td>\n",
       "      <td>269</td>\n",
       "      <td>LinearRegression(copy_X=True, fit_intercept=Tr...</td>\n",
       "      <td>12.540149</td>\n",
       "    </tr>\n",
       "    <tr>\n",
       "      <th>4</th>\n",
       "      <td>9q4g</td>\n",
       "      <td>351</td>\n",
       "      <td>LinearRegression(copy_X=True, fit_intercept=Tr...</td>\n",
       "      <td>20.776396</td>\n",
       "    </tr>\n",
       "  </tbody>\n",
       "</table>\n",
       "</div>"
      ],
      "text/plain": [
       "  geohash8  count                                          regresion  \\\n",
       "0     8e8y    459  LinearRegression(copy_X=True, fit_intercept=Tr...   \n",
       "1     9exz   3622  LinearRegression(copy_X=True, fit_intercept=Tr...   \n",
       "2     9mum   1292  LinearRegression(copy_X=True, fit_intercept=Tr...   \n",
       "3     9muq    269  LinearRegression(copy_X=True, fit_intercept=Tr...   \n",
       "4     9q4g    351  LinearRegression(copy_X=True, fit_intercept=Tr...   \n",
       "\n",
       "   reg_error  \n",
       "0   6.460499  \n",
       "1  20.157941  \n",
       "2  50.388642  \n",
       "3  12.540149  \n",
       "4  20.776396  "
      ]
     },
     "execution_count": 18,
     "metadata": {},
     "output_type": "execute_result"
    }
   ],
   "source": [
    "res_2 = res[res[\"regresion\"].notna()]\n",
    "res_2.head()"
   ]
  },
  {
   "cell_type": "code",
   "execution_count": 19,
   "metadata": {},
   "outputs": [],
   "source": [
    "res_2.shape\n",
    "res_3 = res_2[['geohash8', 'reg_error']]"
   ]
  },
  {
   "cell_type": "code",
   "execution_count": 25,
   "metadata": {},
   "outputs": [
    {
     "data": {
      "text/plain": [
       "(52, 2)"
      ]
     },
     "execution_count": 25,
     "metadata": {},
     "output_type": "execute_result"
    }
   ],
   "source": [
    "res_3.shape"
   ]
  },
  {
   "cell_type": "code",
   "execution_count": 20,
   "metadata": {},
   "outputs": [],
   "source": [
    "def get_coordinates(geo):\n",
    "    bbox = geohash.bbox(geo)\n",
    "    return [[bbox[\"w\"], bbox[\"n\"]], [bbox[\"e\"], bbox[\"n\"]], [bbox[\"e\"], bbox[\"s\"]], [bbox[\"w\"], bbox[\"s\"]]]\n",
    "\n",
    "def get_geo_data(ghash_df):\n",
    "    features = []\n",
    "\n",
    "    for geo, _ in ghash_df.values:\n",
    "        features.append({\"type\": \"Feature\", \"id\": geo, \n",
    "                         \"geometry\": {\"type\": \"Polygon\", \"coordinates\": [get_coordinates(geo)]}})\n",
    "\n",
    "    return {\"type\": \"FeatureCollection\", \"features\": features}"
   ]
  },
  {
   "cell_type": "code",
   "execution_count": 21,
   "metadata": {},
   "outputs": [],
   "source": [
    "def visualize_with_folium(df):\n",
    "    m = folium.Map(location=[37.760806, 140.474722], zoom_start=10)\n",
    "\n",
    "    # Add the color for the choropleth:\n",
    "    m.choropleth(\n",
    "        geo_data=get_geo_data(df),\n",
    "        name='choropleth',\n",
    "        data=df,\n",
    "        columns=['geohash8', 'reg_error'],\n",
    "        key_on='feature.id',\n",
    "        fill_color='YlOrRd',\n",
    "        fill_opacity=0.7,\n",
    "        line_opacity=0.2,\n",
    "        legend_name='regression mean square error'\n",
    "    )\n",
    "    folium.LayerControl().add_to(m)\n",
    "    return m"
   ]
  },
  {
   "cell_type": "code",
   "execution_count": 22,
   "metadata": {},
   "outputs": [
    {
     "data": {
      "text/html": [
       "<div style=\"width:100%;\"><div style=\"position:relative;width:100%;height:0;padding-bottom:60%;\"><iframe src=\"data:text/html;charset=utf-8;base64,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\" style=\"position:absolute;width:100%;height:100%;left:0;top:0;border:none !important;\" allowfullscreen webkitallowfullscreen mozallowfullscreen></iframe></div></div>"
      ],
      "text/plain": [
       "<folium.folium.Map at 0x1a0b440160>"
      ]
     },
     "execution_count": 22,
     "metadata": {},
     "output_type": "execute_result"
    }
   ],
   "source": [
    "m = visualize_with_folium(res_3)\n",
    "m"
   ]
  },
  {
   "cell_type": "code",
   "execution_count": 23,
   "metadata": {},
   "outputs": [],
   "source": [
    "m.save(\"1million_geohash_error.html\")"
   ]
  },
  {
   "cell_type": "code",
   "execution_count": null,
   "metadata": {},
   "outputs": [],
   "source": []
  }
 ],
 "metadata": {
  "kernelspec": {
   "display_name": "Python 3",
   "language": "python",
   "name": "python3"
  },
  "language_info": {
   "codemirror_mode": {
    "name": "ipython",
    "version": 3
   },
   "file_extension": ".py",
   "mimetype": "text/x-python",
   "name": "python",
   "nbconvert_exporter": "python",
   "pygments_lexer": "ipython3",
   "version": "3.6.5"
  }
 },
 "nbformat": 4,
 "nbformat_minor": 2
}
