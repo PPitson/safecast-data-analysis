{
 "cells": [
  {
   "cell_type": "code",
   "execution_count": 40,
   "metadata": {
    "ExecuteTime": {
     "end_time": "2018-10-27T21:13:32.647367Z",
     "start_time": "2018-10-27T21:13:32.641368Z"
    }
   },
   "outputs": [],
   "source": [
    "import pandas as pd"
   ]
  },
  {
   "cell_type": "code",
   "execution_count": 41,
   "metadata": {
    "ExecuteTime": {
     "end_time": "2018-10-27T21:13:32.659357Z",
     "start_time": "2018-10-27T21:13:32.650363Z"
    }
   },
   "outputs": [],
   "source": [
    "SAFECAST_DATA_PATH = \"F:\\safecast\\measurements-out.csv\"\n",
    "NUMBER_OF_ROWS = 1000000"
   ]
  },
  {
   "cell_type": "code",
   "execution_count": 42,
   "metadata": {
    "ExecuteTime": {
     "end_time": "2018-10-27T21:13:37.745421Z",
     "start_time": "2018-10-27T21:13:32.661356Z"
    }
   },
   "outputs": [],
   "source": [
    "df = pd.read_csv(SAFECAST_DATA_PATH, nrows=NUMBER_OF_ROWS)"
   ]
  },
  {
   "cell_type": "code",
   "execution_count": 43,
   "metadata": {
    "ExecuteTime": {
     "end_time": "2018-10-27T21:13:37.765409Z",
     "start_time": "2018-10-27T21:13:37.748416Z"
    }
   },
   "outputs": [
    {
     "data": {
      "text/html": [
       "<div>\n",
       "<style scoped>\n",
       "    .dataframe tbody tr th:only-of-type {\n",
       "        vertical-align: middle;\n",
       "    }\n",
       "\n",
       "    .dataframe tbody tr th {\n",
       "        vertical-align: top;\n",
       "    }\n",
       "\n",
       "    .dataframe thead th {\n",
       "        text-align: right;\n",
       "    }\n",
       "</style>\n",
       "<table border=\"1\" class=\"dataframe\">\n",
       "  <thead>\n",
       "    <tr style=\"text-align: right;\">\n",
       "      <th></th>\n",
       "      <th>Captured Time</th>\n",
       "      <th>Latitude</th>\n",
       "      <th>Longitude</th>\n",
       "      <th>Value</th>\n",
       "      <th>Unit</th>\n",
       "      <th>Location Name</th>\n",
       "      <th>Device ID</th>\n",
       "      <th>MD5Sum</th>\n",
       "      <th>Height</th>\n",
       "      <th>Surface</th>\n",
       "      <th>Radiation</th>\n",
       "      <th>Uploaded Time</th>\n",
       "      <th>Loader ID</th>\n",
       "    </tr>\n",
       "  </thead>\n",
       "  <tbody>\n",
       "    <tr>\n",
       "      <th>0</th>\n",
       "      <td>2020-02-03 17:00:00</td>\n",
       "      <td>37.507552</td>\n",
       "      <td>139.941170</td>\n",
       "      <td>72.0</td>\n",
       "      <td>cpm</td>\n",
       "      <td>NaN</td>\n",
       "      <td>NaN</td>\n",
       "      <td>6449bbf7ce3b30a8e05bc23a0bc40644</td>\n",
       "      <td>NaN</td>\n",
       "      <td>NaN</td>\n",
       "      <td>NaN</td>\n",
       "      <td>2020-02-03 17:00:00</td>\n",
       "      <td>633.0</td>\n",
       "    </tr>\n",
       "    <tr>\n",
       "      <th>1</th>\n",
       "      <td>2020-02-03 11:00:00</td>\n",
       "      <td>37.507250</td>\n",
       "      <td>139.940000</td>\n",
       "      <td>55.0</td>\n",
       "      <td>cpm</td>\n",
       "      <td>NaN</td>\n",
       "      <td>NaN</td>\n",
       "      <td>2fa8bccef282796bcdc297679c4db5b3</td>\n",
       "      <td>NaN</td>\n",
       "      <td>NaN</td>\n",
       "      <td>NaN</td>\n",
       "      <td>2020-02-03 11:00:00</td>\n",
       "      <td>614.0</td>\n",
       "    </tr>\n",
       "    <tr>\n",
       "      <th>2</th>\n",
       "      <td>2020-02-03 11:00:00</td>\n",
       "      <td>37.505445</td>\n",
       "      <td>0.016667</td>\n",
       "      <td>68.0</td>\n",
       "      <td>cpm</td>\n",
       "      <td>NaN</td>\n",
       "      <td>NaN</td>\n",
       "      <td>a166df14f60b61095693684fc0f89c54</td>\n",
       "      <td>NaN</td>\n",
       "      <td>NaN</td>\n",
       "      <td>NaN</td>\n",
       "      <td>2020-02-03 11:00:00</td>\n",
       "      <td>614.0</td>\n",
       "    </tr>\n",
       "    <tr>\n",
       "      <th>3</th>\n",
       "      <td>2020-02-01 03:00:00</td>\n",
       "      <td>34.066487</td>\n",
       "      <td>-118.895217</td>\n",
       "      <td>50.0</td>\n",
       "      <td>cpm</td>\n",
       "      <td>NaN</td>\n",
       "      <td>NaN</td>\n",
       "      <td>da79c21520d3ff3f5ed010a70f4a6d29</td>\n",
       "      <td>NaN</td>\n",
       "      <td>NaN</td>\n",
       "      <td>NaN</td>\n",
       "      <td>2020-02-01 03:00:00</td>\n",
       "      <td>507.0</td>\n",
       "    </tr>\n",
       "    <tr>\n",
       "      <th>4</th>\n",
       "      <td>2020-02-01 01:00:00</td>\n",
       "      <td>37.673233</td>\n",
       "      <td>140.066667</td>\n",
       "      <td>48.0</td>\n",
       "      <td>cpm</td>\n",
       "      <td>NaN</td>\n",
       "      <td>NaN</td>\n",
       "      <td>6cdf740a2304a850185f74c0c4a4b878</td>\n",
       "      <td>NaN</td>\n",
       "      <td>NaN</td>\n",
       "      <td>NaN</td>\n",
       "      <td>2020-02-01 01:00:00</td>\n",
       "      <td>504.0</td>\n",
       "    </tr>\n",
       "  </tbody>\n",
       "</table>\n",
       "</div>"
      ],
      "text/plain": [
       "         Captured Time   Latitude   Longitude  Value Unit Location Name  \\\n",
       "0  2020-02-03 17:00:00  37.507552  139.941170   72.0  cpm           NaN   \n",
       "1  2020-02-03 11:00:00  37.507250  139.940000   55.0  cpm           NaN   \n",
       "2  2020-02-03 11:00:00  37.505445    0.016667   68.0  cpm           NaN   \n",
       "3  2020-02-01 03:00:00  34.066487 -118.895217   50.0  cpm           NaN   \n",
       "4  2020-02-01 01:00:00  37.673233  140.066667   48.0  cpm           NaN   \n",
       "\n",
       "   Device ID                            MD5Sum  Height  Surface  Radiation  \\\n",
       "0        NaN  6449bbf7ce3b30a8e05bc23a0bc40644     NaN      NaN        NaN   \n",
       "1        NaN  2fa8bccef282796bcdc297679c4db5b3     NaN      NaN        NaN   \n",
       "2        NaN  a166df14f60b61095693684fc0f89c54     NaN      NaN        NaN   \n",
       "3        NaN  da79c21520d3ff3f5ed010a70f4a6d29     NaN      NaN        NaN   \n",
       "4        NaN  6cdf740a2304a850185f74c0c4a4b878     NaN      NaN        NaN   \n",
       "\n",
       "         Uploaded Time  Loader ID  \n",
       "0  2020-02-03 17:00:00      633.0  \n",
       "1  2020-02-03 11:00:00      614.0  \n",
       "2  2020-02-03 11:00:00      614.0  \n",
       "3  2020-02-01 03:00:00      507.0  \n",
       "4  2020-02-01 01:00:00      504.0  "
      ]
     },
     "execution_count": 43,
     "metadata": {},
     "output_type": "execute_result"
    }
   ],
   "source": [
    "df.head()"
   ]
  },
  {
   "cell_type": "code",
   "execution_count": 44,
   "metadata": {
    "ExecuteTime": {
     "end_time": "2018-10-27T21:13:37.971287Z",
     "start_time": "2018-10-27T21:13:37.770409Z"
    }
   },
   "outputs": [],
   "source": [
    "df = df.rename(str.lower, axis=\"columns\")"
   ]
  },
  {
   "cell_type": "code",
   "execution_count": 45,
   "metadata": {
    "ExecuteTime": {
     "end_time": "2018-10-27T21:13:37.990278Z",
     "start_time": "2018-10-27T21:13:37.972287Z"
    },
    "scrolled": true
   },
   "outputs": [
    {
     "data": {
      "text/html": [
       "<div>\n",
       "<style scoped>\n",
       "    .dataframe tbody tr th:only-of-type {\n",
       "        vertical-align: middle;\n",
       "    }\n",
       "\n",
       "    .dataframe tbody tr th {\n",
       "        vertical-align: top;\n",
       "    }\n",
       "\n",
       "    .dataframe thead th {\n",
       "        text-align: right;\n",
       "    }\n",
       "</style>\n",
       "<table border=\"1\" class=\"dataframe\">\n",
       "  <thead>\n",
       "    <tr style=\"text-align: right;\">\n",
       "      <th></th>\n",
       "      <th>captured time</th>\n",
       "      <th>latitude</th>\n",
       "      <th>longitude</th>\n",
       "      <th>value</th>\n",
       "      <th>unit</th>\n",
       "      <th>location name</th>\n",
       "      <th>device id</th>\n",
       "      <th>md5sum</th>\n",
       "      <th>height</th>\n",
       "      <th>surface</th>\n",
       "      <th>radiation</th>\n",
       "      <th>uploaded time</th>\n",
       "      <th>loader id</th>\n",
       "    </tr>\n",
       "  </thead>\n",
       "  <tbody>\n",
       "    <tr>\n",
       "      <th>0</th>\n",
       "      <td>2020-02-03 17:00:00</td>\n",
       "      <td>37.507552</td>\n",
       "      <td>139.941170</td>\n",
       "      <td>72.0</td>\n",
       "      <td>cpm</td>\n",
       "      <td>NaN</td>\n",
       "      <td>NaN</td>\n",
       "      <td>6449bbf7ce3b30a8e05bc23a0bc40644</td>\n",
       "      <td>NaN</td>\n",
       "      <td>NaN</td>\n",
       "      <td>NaN</td>\n",
       "      <td>2020-02-03 17:00:00</td>\n",
       "      <td>633.0</td>\n",
       "    </tr>\n",
       "    <tr>\n",
       "      <th>1</th>\n",
       "      <td>2020-02-03 11:00:00</td>\n",
       "      <td>37.507250</td>\n",
       "      <td>139.940000</td>\n",
       "      <td>55.0</td>\n",
       "      <td>cpm</td>\n",
       "      <td>NaN</td>\n",
       "      <td>NaN</td>\n",
       "      <td>2fa8bccef282796bcdc297679c4db5b3</td>\n",
       "      <td>NaN</td>\n",
       "      <td>NaN</td>\n",
       "      <td>NaN</td>\n",
       "      <td>2020-02-03 11:00:00</td>\n",
       "      <td>614.0</td>\n",
       "    </tr>\n",
       "    <tr>\n",
       "      <th>2</th>\n",
       "      <td>2020-02-03 11:00:00</td>\n",
       "      <td>37.505445</td>\n",
       "      <td>0.016667</td>\n",
       "      <td>68.0</td>\n",
       "      <td>cpm</td>\n",
       "      <td>NaN</td>\n",
       "      <td>NaN</td>\n",
       "      <td>a166df14f60b61095693684fc0f89c54</td>\n",
       "      <td>NaN</td>\n",
       "      <td>NaN</td>\n",
       "      <td>NaN</td>\n",
       "      <td>2020-02-03 11:00:00</td>\n",
       "      <td>614.0</td>\n",
       "    </tr>\n",
       "    <tr>\n",
       "      <th>3</th>\n",
       "      <td>2020-02-01 03:00:00</td>\n",
       "      <td>34.066487</td>\n",
       "      <td>-118.895217</td>\n",
       "      <td>50.0</td>\n",
       "      <td>cpm</td>\n",
       "      <td>NaN</td>\n",
       "      <td>NaN</td>\n",
       "      <td>da79c21520d3ff3f5ed010a70f4a6d29</td>\n",
       "      <td>NaN</td>\n",
       "      <td>NaN</td>\n",
       "      <td>NaN</td>\n",
       "      <td>2020-02-01 03:00:00</td>\n",
       "      <td>507.0</td>\n",
       "    </tr>\n",
       "    <tr>\n",
       "      <th>4</th>\n",
       "      <td>2020-02-01 01:00:00</td>\n",
       "      <td>37.673233</td>\n",
       "      <td>140.066667</td>\n",
       "      <td>48.0</td>\n",
       "      <td>cpm</td>\n",
       "      <td>NaN</td>\n",
       "      <td>NaN</td>\n",
       "      <td>6cdf740a2304a850185f74c0c4a4b878</td>\n",
       "      <td>NaN</td>\n",
       "      <td>NaN</td>\n",
       "      <td>NaN</td>\n",
       "      <td>2020-02-01 01:00:00</td>\n",
       "      <td>504.0</td>\n",
       "    </tr>\n",
       "  </tbody>\n",
       "</table>\n",
       "</div>"
      ],
      "text/plain": [
       "         captured time   latitude   longitude  value unit location name  \\\n",
       "0  2020-02-03 17:00:00  37.507552  139.941170   72.0  cpm           NaN   \n",
       "1  2020-02-03 11:00:00  37.507250  139.940000   55.0  cpm           NaN   \n",
       "2  2020-02-03 11:00:00  37.505445    0.016667   68.0  cpm           NaN   \n",
       "3  2020-02-01 03:00:00  34.066487 -118.895217   50.0  cpm           NaN   \n",
       "4  2020-02-01 01:00:00  37.673233  140.066667   48.0  cpm           NaN   \n",
       "\n",
       "   device id                            md5sum  height  surface  radiation  \\\n",
       "0        NaN  6449bbf7ce3b30a8e05bc23a0bc40644     NaN      NaN        NaN   \n",
       "1        NaN  2fa8bccef282796bcdc297679c4db5b3     NaN      NaN        NaN   \n",
       "2        NaN  a166df14f60b61095693684fc0f89c54     NaN      NaN        NaN   \n",
       "3        NaN  da79c21520d3ff3f5ed010a70f4a6d29     NaN      NaN        NaN   \n",
       "4        NaN  6cdf740a2304a850185f74c0c4a4b878     NaN      NaN        NaN   \n",
       "\n",
       "         uploaded time  loader id  \n",
       "0  2020-02-03 17:00:00      633.0  \n",
       "1  2020-02-03 11:00:00      614.0  \n",
       "2  2020-02-03 11:00:00      614.0  \n",
       "3  2020-02-01 03:00:00      507.0  \n",
       "4  2020-02-01 01:00:00      504.0  "
      ]
     },
     "execution_count": 45,
     "metadata": {},
     "output_type": "execute_result"
    }
   ],
   "source": [
    "df.head()"
   ]
  },
  {
   "cell_type": "code",
   "execution_count": 46,
   "metadata": {
    "ExecuteTime": {
     "end_time": "2018-10-27T21:13:39.322506Z",
     "start_time": "2018-10-27T21:13:37.993276Z"
    }
   },
   "outputs": [],
   "source": [
    "df[\"captured time\"] = pd.to_datetime(df[\"captured time\"], errors=\"coerce\")\n",
    "df = df[df[\"captured time\"].notna()]\n",
    "df = df[df[\"captured time\"] <= pd.datetime.now()]"
   ]
  },
  {
   "cell_type": "code",
   "execution_count": 47,
   "metadata": {
    "ExecuteTime": {
     "end_time": "2018-10-27T21:13:39.344495Z",
     "start_time": "2018-10-27T21:13:39.323506Z"
    }
   },
   "outputs": [
    {
     "data": {
      "text/html": [
       "<div>\n",
       "<style scoped>\n",
       "    .dataframe tbody tr th:only-of-type {\n",
       "        vertical-align: middle;\n",
       "    }\n",
       "\n",
       "    .dataframe tbody tr th {\n",
       "        vertical-align: top;\n",
       "    }\n",
       "\n",
       "    .dataframe thead th {\n",
       "        text-align: right;\n",
       "    }\n",
       "</style>\n",
       "<table border=\"1\" class=\"dataframe\">\n",
       "  <thead>\n",
       "    <tr style=\"text-align: right;\">\n",
       "      <th></th>\n",
       "      <th>captured time</th>\n",
       "      <th>latitude</th>\n",
       "      <th>longitude</th>\n",
       "      <th>value</th>\n",
       "      <th>unit</th>\n",
       "      <th>location name</th>\n",
       "      <th>device id</th>\n",
       "      <th>md5sum</th>\n",
       "      <th>height</th>\n",
       "      <th>surface</th>\n",
       "      <th>radiation</th>\n",
       "      <th>uploaded time</th>\n",
       "      <th>loader id</th>\n",
       "    </tr>\n",
       "  </thead>\n",
       "  <tbody>\n",
       "    <tr>\n",
       "      <th>20</th>\n",
       "      <td>2018-10-21 01:00:28</td>\n",
       "      <td>37.796306</td>\n",
       "      <td>140.514413</td>\n",
       "      <td>20.1</td>\n",
       "      <td>status</td>\n",
       "      <td>NaN</td>\n",
       "      <td>100419.0</td>\n",
       "      <td>7086e4e874b812dafce85e9a80f7f40f</td>\n",
       "      <td>65.0</td>\n",
       "      <td>NaN</td>\n",
       "      <td>NaN</td>\n",
       "      <td>2018-10-21 01:00:28.190639</td>\n",
       "      <td>NaN</td>\n",
       "    </tr>\n",
       "    <tr>\n",
       "      <th>21</th>\n",
       "      <td>2018-10-21 01:00:26</td>\n",
       "      <td>36.041080</td>\n",
       "      <td>140.226816</td>\n",
       "      <td>23.0</td>\n",
       "      <td>cpm</td>\n",
       "      <td>NaN</td>\n",
       "      <td>63.0</td>\n",
       "      <td>005f723c1e83b84a7b7a2d1d704ccd09</td>\n",
       "      <td>NaN</td>\n",
       "      <td>NaN</td>\n",
       "      <td>NaN</td>\n",
       "      <td>2018-10-21 01:00:26.944596</td>\n",
       "      <td>NaN</td>\n",
       "    </tr>\n",
       "    <tr>\n",
       "      <th>22</th>\n",
       "      <td>2018-10-21 01:00:22</td>\n",
       "      <td>37.796306</td>\n",
       "      <td>140.514413</td>\n",
       "      <td>19.0</td>\n",
       "      <td>cpm</td>\n",
       "      <td>NaN</td>\n",
       "      <td>100412.0</td>\n",
       "      <td>902688b460af360d8ac66fcd59909e3f</td>\n",
       "      <td>65.0</td>\n",
       "      <td>NaN</td>\n",
       "      <td>NaN</td>\n",
       "      <td>2018-10-21 01:00:23.12721</td>\n",
       "      <td>NaN</td>\n",
       "    </tr>\n",
       "    <tr>\n",
       "      <th>23</th>\n",
       "      <td>2018-10-21 01:00:21</td>\n",
       "      <td>37.723330</td>\n",
       "      <td>140.476797</td>\n",
       "      <td>24.8</td>\n",
       "      <td>status</td>\n",
       "      <td>NaN</td>\n",
       "      <td>100429.0</td>\n",
       "      <td>ff7b8821fa4cff503e92e739578c84e2</td>\n",
       "      <td>145.0</td>\n",
       "      <td>NaN</td>\n",
       "      <td>NaN</td>\n",
       "      <td>2018-10-21 01:00:21.689528</td>\n",
       "      <td>NaN</td>\n",
       "    </tr>\n",
       "    <tr>\n",
       "      <th>24</th>\n",
       "      <td>2018-10-21 01:00:21</td>\n",
       "      <td>37.787500</td>\n",
       "      <td>140.552400</td>\n",
       "      <td>23.0</td>\n",
       "      <td>status</td>\n",
       "      <td>NaN</td>\n",
       "      <td>100409.0</td>\n",
       "      <td>f09743c1a79bb244c6b8b2b88c83cef0</td>\n",
       "      <td>60.0</td>\n",
       "      <td>NaN</td>\n",
       "      <td>NaN</td>\n",
       "      <td>2018-10-21 01:00:21.379591</td>\n",
       "      <td>NaN</td>\n",
       "    </tr>\n",
       "  </tbody>\n",
       "</table>\n",
       "</div>"
      ],
      "text/plain": [
       "         captured time   latitude   longitude  value    unit location name  \\\n",
       "20 2018-10-21 01:00:28  37.796306  140.514413   20.1  status           NaN   \n",
       "21 2018-10-21 01:00:26  36.041080  140.226816   23.0     cpm           NaN   \n",
       "22 2018-10-21 01:00:22  37.796306  140.514413   19.0     cpm           NaN   \n",
       "23 2018-10-21 01:00:21  37.723330  140.476797   24.8  status           NaN   \n",
       "24 2018-10-21 01:00:21  37.787500  140.552400   23.0  status           NaN   \n",
       "\n",
       "    device id                            md5sum  height  surface  radiation  \\\n",
       "20   100419.0  7086e4e874b812dafce85e9a80f7f40f    65.0      NaN        NaN   \n",
       "21       63.0  005f723c1e83b84a7b7a2d1d704ccd09     NaN      NaN        NaN   \n",
       "22   100412.0  902688b460af360d8ac66fcd59909e3f    65.0      NaN        NaN   \n",
       "23   100429.0  ff7b8821fa4cff503e92e739578c84e2   145.0      NaN        NaN   \n",
       "24   100409.0  f09743c1a79bb244c6b8b2b88c83cef0    60.0      NaN        NaN   \n",
       "\n",
       "                 uploaded time  loader id  \n",
       "20  2018-10-21 01:00:28.190639        NaN  \n",
       "21  2018-10-21 01:00:26.944596        NaN  \n",
       "22   2018-10-21 01:00:23.12721        NaN  \n",
       "23  2018-10-21 01:00:21.689528        NaN  \n",
       "24  2018-10-21 01:00:21.379591        NaN  "
      ]
     },
     "execution_count": 47,
     "metadata": {},
     "output_type": "execute_result"
    }
   ],
   "source": [
    "df.head()"
   ]
  },
  {
   "cell_type": "code",
   "execution_count": 48,
   "metadata": {
    "ExecuteTime": {
     "end_time": "2018-10-27T21:13:39.355488Z",
     "start_time": "2018-10-27T21:13:39.348498Z"
    }
   },
   "outputs": [
    {
     "data": {
      "text/plain": [
       "999903"
      ]
     },
     "execution_count": 48,
     "metadata": {},
     "output_type": "execute_result"
    }
   ],
   "source": [
    "len(df.index)"
   ]
  },
  {
   "cell_type": "code",
   "execution_count": 49,
   "metadata": {
    "ExecuteTime": {
     "end_time": "2018-10-27T21:13:39.519406Z",
     "start_time": "2018-10-27T21:13:39.359488Z"
    },
    "scrolled": true
   },
   "outputs": [
    {
     "data": {
      "text/plain": [
       "cpm        806849\n",
       "status     139426\n",
       "celcius     53170\n",
       "usv           458\n",
       "Name: unit, dtype: int64"
      ]
     },
     "execution_count": 49,
     "metadata": {},
     "output_type": "execute_result"
    }
   ],
   "source": [
    "df[\"unit\"].value_counts()"
   ]
  },
  {
   "cell_type": "code",
   "execution_count": 50,
   "metadata": {
    "ExecuteTime": {
     "end_time": "2018-10-27T21:13:39.603345Z",
     "start_time": "2018-10-27T21:13:39.520392Z"
    },
    "scrolled": true
   },
   "outputs": [
    {
     "data": {
      "text/plain": [
       "Berlin, DE               44861\n",
       "Kearneysville WV, USA    27694\n",
       "Guanajuato, MX           21770\n",
       "Venlo, NL                13412\n",
       "Co.Galway, IE             1581\n",
       "Brynamman, Wales            97\n",
       "fort bragg  ca               5\n",
       "Name: location name, dtype: int64"
      ]
     },
     "execution_count": 50,
     "metadata": {},
     "output_type": "execute_result"
    }
   ],
   "source": [
    "df[\"location name\"].value_counts()"
   ]
  },
  {
   "cell_type": "code",
   "execution_count": 51,
   "metadata": {
    "ExecuteTime": {
     "end_time": "2018-10-27T21:13:40.018104Z",
     "start_time": "2018-10-27T21:13:39.605344Z"
    }
   },
   "outputs": [
    {
     "data": {
      "text/plain": [
       "captured time         0\n",
       "latitude              0\n",
       "longitude             0\n",
       "value                 0\n",
       "unit                  0\n",
       "location name    890483\n",
       "device id        188015\n",
       "md5sum                0\n",
       "height           371795\n",
       "surface          999903\n",
       "radiation        999903\n",
       "uploaded time         0\n",
       "loader id        811889\n",
       "dtype: int64"
      ]
     },
     "execution_count": 51,
     "metadata": {},
     "output_type": "execute_result"
    }
   ],
   "source": [
    "df.isna().sum()   # how many NaN values are in each column"
   ]
  },
  {
   "cell_type": "code",
   "execution_count": 52,
   "metadata": {
    "ExecuteTime": {
     "end_time": "2018-10-27T21:13:40.265967Z",
     "start_time": "2018-10-27T21:13:40.019104Z"
    }
   },
   "outputs": [],
   "source": [
    "df = df[df[\"unit\"] == \"cpm\"]"
   ]
  },
  {
   "cell_type": "code",
   "execution_count": 53,
   "metadata": {
    "ExecuteTime": {
     "end_time": "2018-10-27T21:13:40.292950Z",
     "start_time": "2018-10-27T21:13:40.271958Z"
    }
   },
   "outputs": [
    {
     "data": {
      "text/html": [
       "<div>\n",
       "<style scoped>\n",
       "    .dataframe tbody tr th:only-of-type {\n",
       "        vertical-align: middle;\n",
       "    }\n",
       "\n",
       "    .dataframe tbody tr th {\n",
       "        vertical-align: top;\n",
       "    }\n",
       "\n",
       "    .dataframe thead th {\n",
       "        text-align: right;\n",
       "    }\n",
       "</style>\n",
       "<table border=\"1\" class=\"dataframe\">\n",
       "  <thead>\n",
       "    <tr style=\"text-align: right;\">\n",
       "      <th></th>\n",
       "      <th>captured time</th>\n",
       "      <th>latitude</th>\n",
       "      <th>longitude</th>\n",
       "      <th>value</th>\n",
       "      <th>unit</th>\n",
       "      <th>location name</th>\n",
       "      <th>device id</th>\n",
       "      <th>md5sum</th>\n",
       "      <th>height</th>\n",
       "      <th>surface</th>\n",
       "      <th>radiation</th>\n",
       "      <th>uploaded time</th>\n",
       "      <th>loader id</th>\n",
       "    </tr>\n",
       "  </thead>\n",
       "  <tbody>\n",
       "    <tr>\n",
       "      <th>21</th>\n",
       "      <td>2018-10-21 01:00:26</td>\n",
       "      <td>36.041080</td>\n",
       "      <td>140.226816</td>\n",
       "      <td>23.0</td>\n",
       "      <td>cpm</td>\n",
       "      <td>NaN</td>\n",
       "      <td>63.0</td>\n",
       "      <td>005f723c1e83b84a7b7a2d1d704ccd09</td>\n",
       "      <td>NaN</td>\n",
       "      <td>NaN</td>\n",
       "      <td>NaN</td>\n",
       "      <td>2018-10-21 01:00:26.944596</td>\n",
       "      <td>NaN</td>\n",
       "    </tr>\n",
       "    <tr>\n",
       "      <th>22</th>\n",
       "      <td>2018-10-21 01:00:22</td>\n",
       "      <td>37.796306</td>\n",
       "      <td>140.514413</td>\n",
       "      <td>19.0</td>\n",
       "      <td>cpm</td>\n",
       "      <td>NaN</td>\n",
       "      <td>100412.0</td>\n",
       "      <td>902688b460af360d8ac66fcd59909e3f</td>\n",
       "      <td>65.0</td>\n",
       "      <td>NaN</td>\n",
       "      <td>NaN</td>\n",
       "      <td>2018-10-21 01:00:23.12721</td>\n",
       "      <td>NaN</td>\n",
       "    </tr>\n",
       "    <tr>\n",
       "      <th>25</th>\n",
       "      <td>2018-10-21 01:00:16</td>\n",
       "      <td>37.723330</td>\n",
       "      <td>140.476797</td>\n",
       "      <td>15.0</td>\n",
       "      <td>cpm</td>\n",
       "      <td>NaN</td>\n",
       "      <td>100422.0</td>\n",
       "      <td>d3d7596f1e060552e18718ee14268648</td>\n",
       "      <td>145.0</td>\n",
       "      <td>NaN</td>\n",
       "      <td>NaN</td>\n",
       "      <td>2018-10-21 01:00:16.466003</td>\n",
       "      <td>NaN</td>\n",
       "    </tr>\n",
       "    <tr>\n",
       "      <th>26</th>\n",
       "      <td>2018-10-21 00:59:16</td>\n",
       "      <td>52.444900</td>\n",
       "      <td>13.315000</td>\n",
       "      <td>16.0</td>\n",
       "      <td>cpm</td>\n",
       "      <td>Berlin, DE</td>\n",
       "      <td>204.0</td>\n",
       "      <td>74516102788a4c5eb3f57c0b6e4990f1</td>\n",
       "      <td>NaN</td>\n",
       "      <td>NaN</td>\n",
       "      <td>NaN</td>\n",
       "      <td>2018-10-21 01:00:16.361779</td>\n",
       "      <td>NaN</td>\n",
       "    </tr>\n",
       "    <tr>\n",
       "      <th>27</th>\n",
       "      <td>2018-10-21 01:00:16</td>\n",
       "      <td>37.787500</td>\n",
       "      <td>140.552400</td>\n",
       "      <td>18.0</td>\n",
       "      <td>cpm</td>\n",
       "      <td>NaN</td>\n",
       "      <td>100402.0</td>\n",
       "      <td>6d031707e17c5370e57902821b9af6f6</td>\n",
       "      <td>60.0</td>\n",
       "      <td>NaN</td>\n",
       "      <td>NaN</td>\n",
       "      <td>2018-10-21 01:00:16.348347</td>\n",
       "      <td>NaN</td>\n",
       "    </tr>\n",
       "  </tbody>\n",
       "</table>\n",
       "</div>"
      ],
      "text/plain": [
       "         captured time   latitude   longitude  value unit location name  \\\n",
       "21 2018-10-21 01:00:26  36.041080  140.226816   23.0  cpm           NaN   \n",
       "22 2018-10-21 01:00:22  37.796306  140.514413   19.0  cpm           NaN   \n",
       "25 2018-10-21 01:00:16  37.723330  140.476797   15.0  cpm           NaN   \n",
       "26 2018-10-21 00:59:16  52.444900   13.315000   16.0  cpm    Berlin, DE   \n",
       "27 2018-10-21 01:00:16  37.787500  140.552400   18.0  cpm           NaN   \n",
       "\n",
       "    device id                            md5sum  height  surface  radiation  \\\n",
       "21       63.0  005f723c1e83b84a7b7a2d1d704ccd09     NaN      NaN        NaN   \n",
       "22   100412.0  902688b460af360d8ac66fcd59909e3f    65.0      NaN        NaN   \n",
       "25   100422.0  d3d7596f1e060552e18718ee14268648   145.0      NaN        NaN   \n",
       "26      204.0  74516102788a4c5eb3f57c0b6e4990f1     NaN      NaN        NaN   \n",
       "27   100402.0  6d031707e17c5370e57902821b9af6f6    60.0      NaN        NaN   \n",
       "\n",
       "                 uploaded time  loader id  \n",
       "21  2018-10-21 01:00:26.944596        NaN  \n",
       "22   2018-10-21 01:00:23.12721        NaN  \n",
       "25  2018-10-21 01:00:16.466003        NaN  \n",
       "26  2018-10-21 01:00:16.361779        NaN  \n",
       "27  2018-10-21 01:00:16.348347        NaN  "
      ]
     },
     "execution_count": 53,
     "metadata": {},
     "output_type": "execute_result"
    }
   ],
   "source": [
    "df.head()"
   ]
  },
  {
   "cell_type": "code",
   "execution_count": 54,
   "metadata": {
    "ExecuteTime": {
     "end_time": "2018-10-27T21:13:40.317931Z",
     "start_time": "2018-10-27T21:13:40.295944Z"
    }
   },
   "outputs": [
    {
     "data": {
      "text/plain": [
       "(Timestamp('2018-06-18 21:25:51'), Timestamp('2018-10-21 01:00:26'))"
      ]
     },
     "execution_count": 54,
     "metadata": {},
     "output_type": "execute_result"
    }
   ],
   "source": [
    "df[\"captured time\"].min(), df[\"captured time\"].max()"
   ]
  },
  {
   "cell_type": "code",
   "execution_count": 55,
   "metadata": {
    "ExecuteTime": {
     "end_time": "2018-10-27T21:13:40.338920Z",
     "start_time": "2018-10-27T21:13:40.318930Z"
    }
   },
   "outputs": [
    {
     "data": {
      "text/plain": [
       "(0.0, 12453.0)"
      ]
     },
     "execution_count": 55,
     "metadata": {},
     "output_type": "execute_result"
    }
   ],
   "source": [
    "df[\"value\"].min(), df[\"value\"].max()"
   ]
  },
  {
   "cell_type": "code",
   "execution_count": 56,
   "metadata": {
    "ExecuteTime": {
     "end_time": "2018-10-27T21:13:40.365903Z",
     "start_time": "2018-10-27T21:13:40.340918Z"
    }
   },
   "outputs": [],
   "source": [
    "columns_to_drop = [\n",
    "    \"location name\", \n",
    "    \"device id\", \n",
    "    \"md5sum\", \n",
    "    \"height\", \n",
    "    \"surface\", \n",
    "    \"radiation\", \n",
    "    \"uploaded time\", \n",
    "    \"loader id\", \n",
    "    \"unit\"  # all values have unit of 'cpm' so this column is not needed anymore\n",
    "]\n",
    "df = df.drop(columns=columns_to_drop)"
   ]
  },
  {
   "cell_type": "code",
   "execution_count": 57,
   "metadata": {
    "ExecuteTime": {
     "end_time": "2018-10-27T21:13:40.380898Z",
     "start_time": "2018-10-27T21:13:40.366903Z"
    }
   },
   "outputs": [
    {
     "data": {
      "text/html": [
       "<div>\n",
       "<style scoped>\n",
       "    .dataframe tbody tr th:only-of-type {\n",
       "        vertical-align: middle;\n",
       "    }\n",
       "\n",
       "    .dataframe tbody tr th {\n",
       "        vertical-align: top;\n",
       "    }\n",
       "\n",
       "    .dataframe thead th {\n",
       "        text-align: right;\n",
       "    }\n",
       "</style>\n",
       "<table border=\"1\" class=\"dataframe\">\n",
       "  <thead>\n",
       "    <tr style=\"text-align: right;\">\n",
       "      <th></th>\n",
       "      <th>captured time</th>\n",
       "      <th>latitude</th>\n",
       "      <th>longitude</th>\n",
       "      <th>value</th>\n",
       "    </tr>\n",
       "  </thead>\n",
       "  <tbody>\n",
       "    <tr>\n",
       "      <th>21</th>\n",
       "      <td>2018-10-21 01:00:26</td>\n",
       "      <td>36.041080</td>\n",
       "      <td>140.226816</td>\n",
       "      <td>23.0</td>\n",
       "    </tr>\n",
       "    <tr>\n",
       "      <th>22</th>\n",
       "      <td>2018-10-21 01:00:22</td>\n",
       "      <td>37.796306</td>\n",
       "      <td>140.514413</td>\n",
       "      <td>19.0</td>\n",
       "    </tr>\n",
       "    <tr>\n",
       "      <th>25</th>\n",
       "      <td>2018-10-21 01:00:16</td>\n",
       "      <td>37.723330</td>\n",
       "      <td>140.476797</td>\n",
       "      <td>15.0</td>\n",
       "    </tr>\n",
       "    <tr>\n",
       "      <th>26</th>\n",
       "      <td>2018-10-21 00:59:16</td>\n",
       "      <td>52.444900</td>\n",
       "      <td>13.315000</td>\n",
       "      <td>16.0</td>\n",
       "    </tr>\n",
       "    <tr>\n",
       "      <th>27</th>\n",
       "      <td>2018-10-21 01:00:16</td>\n",
       "      <td>37.787500</td>\n",
       "      <td>140.552400</td>\n",
       "      <td>18.0</td>\n",
       "    </tr>\n",
       "  </tbody>\n",
       "</table>\n",
       "</div>"
      ],
      "text/plain": [
       "         captured time   latitude   longitude  value\n",
       "21 2018-10-21 01:00:26  36.041080  140.226816   23.0\n",
       "22 2018-10-21 01:00:22  37.796306  140.514413   19.0\n",
       "25 2018-10-21 01:00:16  37.723330  140.476797   15.0\n",
       "26 2018-10-21 00:59:16  52.444900   13.315000   16.0\n",
       "27 2018-10-21 01:00:16  37.787500  140.552400   18.0"
      ]
     },
     "execution_count": 57,
     "metadata": {},
     "output_type": "execute_result"
    }
   ],
   "source": [
    "df.head()"
   ]
  },
  {
   "cell_type": "code",
   "execution_count": 58,
   "metadata": {
    "ExecuteTime": {
     "end_time": "2018-10-27T21:13:40.388891Z",
     "start_time": "2018-10-27T21:13:40.383896Z"
    }
   },
   "outputs": [
    {
     "data": {
      "text/plain": [
       "806849"
      ]
     },
     "execution_count": 58,
     "metadata": {},
     "output_type": "execute_result"
    }
   ],
   "source": [
    "len(df.index)"
   ]
  },
  {
   "cell_type": "code",
   "execution_count": 59,
   "metadata": {
    "ExecuteTime": {
     "end_time": "2018-10-27T21:13:40.395886Z",
     "start_time": "2018-10-27T21:13:40.390889Z"
    }
   },
   "outputs": [],
   "source": [
    "import json\n",
    "from shapely.geometry import shape, Point"
   ]
  },
  {
   "cell_type": "code",
   "execution_count": 60,
   "metadata": {
    "ExecuteTime": {
     "end_time": "2018-10-27T21:13:40.434864Z",
     "start_time": "2018-10-27T21:13:40.397885Z"
    }
   },
   "outputs": [
    {
     "data": {
      "image/svg+xml": [
       "<svg xmlns=\"http://www.w3.org/2000/svg\" xmlns:xlink=\"http://www.w3.org/1999/xlink\" width=\"100.0\" height=\"100.0\" viewBox=\"139.07382726 36.65341876 2.4547519799999975 1.4260967799999946\" preserveAspectRatio=\"xMinYMin meet\"><g transform=\"matrix(1,0,0,-1,0,74.7329343)\"><path fill-rule=\"evenodd\" fill=\"#66cc99\" stroke=\"#555555\" stroke-width=\"0.04909503959999995\" opacity=\"0.6\" d=\"M 139.164744,37.237514 L 139.16491,37.235676 L 139.165331,37.234926 L 139.165895,37.232167 L 139.166563,37.231811 L 139.167526,37.231851 L 139.169249,37.23014 L 139.169984,37.228946 L 139.170876,37.228504 L 139.171567,37.227199 L 139.172214,37.226486 L 139.172449,37.225068 L 139.173831,37.223644 L 139.178308,37.220015 L 139.179247,37.219749 L 139.180321,37.218924 L 139.183051,37.217393 L 139.183832,37.216466 L 139.18457,37.216005 L 139.184519,37.214887 L 139.18627,37.212554 L 139.186681,37.211503 L 139.186812,37.210257 L 139.18712,37.209715 L 139.187649,37.209415 L 139.189628,37.208823 L 139.190357,37.208042 L 139.190877,37.207071 L 139.191472,37.206626 L 139.192992,37.206059 L 139.19439,37.204667 L 139.19483,37.203674 L 139.194747,37.202227 L 139.195856,37.201426 L 139.196685,37.199453 L 139.196636,37.199 L 139.197009,37.197854 L 139.197069,37.197113 L 139.197026,37.196653 L 139.196537,37.196028 L 139.196575,37.19403 L 139.203204,37.193956 L 139.205257,37.194218 L 139.206409,37.195147 L 139.208376,37.195774 L 139.208582,37.195907 L 139.209526,37.19759 L 139.212698,37.199367 L 139.213398,37.200009 L 139.213759,37.201026 L 139.213856,37.202074 L 139.214259,37.203445 L 139.215319,37.204757 L 139.215872,37.206387 L 139.216928,37.207936 L 139.217584,37.20939 L 139.217839,37.209496 L 139.220656,37.209179 L 139.221029,37.208786 L 139.221124,37.208412 L 139.221037,37.205752 L 139.221348,37.204827 L 139.221918,37.204427 L 139.226232,37.203533 L 139.226544,37.203247 L 139.226392,37.202168 L 139.22532,37.200819 L 139.225095,37.200146 L 139.225168,37.199169 L 139.225643,37.198267 L 139.226264,37.197752 L 139.22843,37.197091 L 139.229187,37.196569 L 139.23049,37.194969 L 139.231247,37.193231 L 139.233541,37.191305 L 139.23564,37.188494 L 139.236829,37.188002 L 139.240199,37.18762 L 139.241193,37.186948 L 139.241292,37.186089 L 139.240829,37.185035 L 139.240859,37.18418 L 139.241725,37.183297 L 139.243581,37.182326 L 139.244421,37.1816 L 139.244572,37.181142 L 139.243541,37.177311 L 139.245268,37.177177 L 139.245258,37.17539 L 139.244997,37.174525 L 139.243809,37.174256 L 139.243132,37.173688 L 139.242864,37.173187 L 139.242715,37.172359 L 139.243207,37.170381 L 139.244386,37.169873 L 139.246053,37.170152 L 139.247327,37.169693 L 139.247182,37.167896 L 139.246371,37.167448 L 139.246123,37.167123 L 139.246081,37.166664 L 139.24641,37.166278 L 139.247314,37.166092 L 139.249076,37.166192 L 139.251151,37.165919 L 139.253171,37.165366 L 139.253837,37.164973 L 139.253617,37.164707 L 139.253136,37.164544 L 139.250742,37.164189 L 139.250287,37.163716 L 139.250914,37.162861 L 139.252426,37.162131 L 139.252936,37.161428 L 139.252653,37.159824 L 139.252974,37.158435 L 139.252521,37.158072 L 139.250622,37.157316 L 139.249997,37.156688 L 139.249869,37.156225 L 139.250215,37.153387 L 139.24983,37.151583 L 139.247556,37.147683 L 139.246903,37.146957 L 139.246193,37.146557 L 139.245897,37.145807 L 139.245332,37.142817 L 139.244907,37.139372 L 139.243841,37.134155 L 139.243756,37.131128 L 139.243975,37.128872 L 139.243828,37.128084 L 139.243292,37.127164 L 139.239414,37.12273 L 139.237983,37.120512 L 139.237068,37.118678 L 139.235954,37.115835 L 139.235364,37.113945 L 139.235139,37.112367 L 139.23526,37.10716 L 139.235948,37.101468 L 139.236485,37.100122 L 139.237557,37.098291 L 139.240898,37.093565 L 139.240606,37.092639 L 139.238708,37.090665 L 139.238779,37.089912 L 139.24088,37.087571 L 139.242241,37.085303 L 139.242751,37.084713 L 139.244921,37.083056 L 139.246376,37.082281 L 139.247524,37.082027 L 139.248252,37.081689 L 139.248904,37.081117 L 139.249137,37.080136 L 139.249051,37.079556 L 139.247449,37.076354 L 139.247125,37.07508 L 139.246492,37.073555 L 139.246509,37.072751 L 139.246902,37.071631 L 139.247014,37.070795 L 139.249434,37.067816 L 139.249874,37.06702 L 139.249844,37.066173 L 139.251074,37.065526 L 139.251403,37.064773 L 139.25279,37.063165 L 139.253452,37.062847 L 139.254168,37.062782 L 139.254541,37.062313 L 139.254638,37.061885 L 139.25436,37.059734 L 139.254679,37.058993 L 139.254957,37.057565 L 139.255445,37.057276 L 139.256853,37.056884 L 139.257293,37.0564 L 139.257181,37.055044 L 139.256611,37.053 L 139.256812,37.051197 L 139.257263,37.049756 L 139.257908,37.048456 L 139.259708,37.048234 L 139.260282,37.047798 L 139.260322,37.047598 L 139.259545,37.046022 L 139.259668,37.045537 L 139.260141,37.045183 L 139.260238,37.044391 L 139.259547,37.043299 L 139.258442,37.042607 L 139.257635,37.042342 L 139.256373,37.041226 L 139.254998,37.040371 L 139.253156,37.040197 L 139.252813,37.039813 L 139.253057,37.039174 L 139.254148,37.037697 L 139.25425,37.037249 L 139.254044,37.036722 L 139.253415,37.036273 L 139.253252,37.035968 L 139.253193,37.03431 L 139.252085,37.032912 L 139.250845,37.031815 L 139.248946,37.031191 L 139.248532,37.030902 L 139.248705,37.02958 L 139.249443,37.027745 L 139.249225,37.027433 L 139.24812,37.027349 L 139.24778,37.026962 L 139.248364,37.025537 L 139.248504,37.02395 L 139.247709,37.022768 L 139.247245,37.021504 L 139.244656,37.018542 L 139.244562,37.018056 L 139.244823,37.016687 L 139.243762,37.015995 L 139.243358,37.015136 L 139.243481,37.014913 L 139.244258,37.014459 L 139.244633,37.012859 L 139.246469,37.010685 L 139.246612,37.009276 L 139.249311,37.007136 L 139.249929,37.005848 L 139.251021,37.00462 L 139.250891,37.003628 L 139.251611,37.002342 L 139.251729,37.001566 L 139.251641,37.000575 L 139.251855,36.999666 L 139.251781,36.998982 L 139.252033,36.997864 L 139.252458,36.996937 L 139.253313,36.9958 L 139.253174,36.995232 L 139.252611,36.994254 L 139.252796,36.993642 L 139.253581,36.993002 L 139.253835,36.99015 L 139.254514,36.989535 L 139.255451,36.989276 L 139.255657,36.988749 L 139.255085,36.987017 L 139.254277,36.985849 L 139.253532,36.985146 L 139.253474,36.984419 L 139.253123,36.983596 L 139.250893,36.983187 L 139.249775,36.982391 L 139.248438,36.982376 L 139.247856,36.981876 L 139.247168,36.980486 L 139.247422,36.979792 L 139.248545,36.979336 L 139.249132,36.978801 L 139.249578,36.977691 L 139.250049,36.977394 L 139.251231,36.977249 L 139.25214,36.97657 L 139.252212,36.976092 L 139.25198,36.975414 L 139.252484,36.974645 L 139.252685,36.973548 L 139.252275,36.973079 L 139.251547,36.972644 L 139.249172,36.971692 L 139.248059,36.971416 L 139.247707,36.970988 L 139.247709,36.970714 L 139.247982,36.970336 L 139.248907,36.969775 L 139.24869,36.968709 L 139.249313,36.967576 L 139.249186,36.967296 L 139.248552,36.966956 L 139.248014,36.966381 L 139.247995,36.965881 L 139.248638,36.965281 L 139.249965,36.965389 L 139.250631,36.965258 L 139.251149,36.964695 L 139.25141,36.963828 L 139.251154,36.962032 L 139.250686,36.961845 L 139.249367,36.961913 L 139.248542,36.961341 L 139.248802,36.96074 L 139.249665,36.960113 L 139.250025,36.959655 L 139.250119,36.958371 L 139.249781,36.957178 L 139.249889,36.955815 L 139.249219,36.95566 L 139.248201,36.956188 L 139.247632,36.956301 L 139.24649,36.955881 L 139.246234,36.955535 L 139.24596,36.954248 L 139.245252,36.95337 L 139.245023,36.952345 L 139.243003,36.951189 L 139.24183,36.94991 L 139.241644,36.949514 L 139.241809,36.949076 L 139.242481,36.948699 L 139.243807,36.948481 L 139.244045,36.948271 L 139.244107,36.947868 L 139.243282,36.945697 L 139.243387,36.944616 L 139.243277,36.944366 L 139.242352,36.943646 L 139.241096,36.943635 L 139.240747,36.943471 L 139.240908,36.942911 L 139.241901,36.942021 L 139.241612,36.94155 L 139.24088,36.941276 L 139.239317,36.941321 L 139.236105,36.942291 L 139.235403,36.942343 L 139.234987,36.942193 L 139.232777,36.940644 L 139.231624,36.940346 L 139.230787,36.940659 L 139.229944,36.940049 L 139.230603,36.939033 L 139.229899,36.938546 L 139.229804,36.938273 L 139.230769,36.936791 L 139.23129,36.936689 L 139.231792,36.936825 L 139.231656,36.937277 L 139.231159,36.937465 L 139.231089,36.93767 L 139.231381,36.937844 L 139.232073,36.937756 L 139.231918,36.937152 L 139.232129,36.937015 L 139.23235,36.937043 L 139.232642,36.937366 L 139.233639,36.936978 L 139.234112,36.937112 L 139.234211,36.937286 L 139.23491,36.937396 L 139.234973,36.936731 L 139.234498,36.936035 L 139.234766,36.935007 L 139.234685,36.934353 L 139.234973,36.934342 L 139.235047,36.934064 L 139.23532,36.934199 L 139.235562,36.934023 L 139.236014,36.934087 L 139.236541,36.934273 L 139.236646,36.934838 L 139.236887,36.93488 L 139.23896,36.934112 L 139.238865,36.933244 L 139.239312,36.932775 L 139.239233,36.932272 L 139.23938,36.931875 L 139.240209,36.930463 L 139.24013,36.930156 L 139.240251,36.92992 L 139.240839,36.929322 L 139.241139,36.929417 L 139.241005,36.929881 L 139.24129,36.930031 L 139.241654,36.930038 L 139.241809,36.929758 L 139.242444,36.92953 L 139.243963,36.92966 L 139.244129,36.930027 L 139.245449,36.930469 L 139.246257,36.930379 L 139.246419,36.930524 L 139.246415,36.93092 L 139.24697,36.930809 L 139.247576,36.930924 L 139.247995,36.930644 L 139.248695,36.931021 L 139.24935,36.93102 L 139.249833,36.931294 L 139.250477,36.931079 L 139.250654,36.931159 L 139.250861,36.931697 L 139.252773,36.932377 L 139.254887,36.932422 L 139.255456,36.932914 L 139.256653,36.933385 L 139.257478,36.933941 L 139.258049,36.934524 L 139.258286,36.935262 L 139.259591,36.93608 L 139.259785,36.936445 L 139.260507,36.936894 L 139.261418,36.937915 L 139.262415,36.938175 L 139.263138,36.938186 L 139.263964,36.938526 L 139.264305,36.939032 L 139.264367,36.940251 L 139.2648,36.940884 L 139.266127,36.941154 L 139.266919,36.940922 L 139.267441,36.940453 L 139.267699,36.939682 L 139.268085,36.939156 L 139.268201,36.938594 L 139.268949,36.938163 L 139.270181,36.936986 L 139.272245,36.935474 L 139.273439,36.935087 L 139.274302,36.934584 L 139.27511,36.933636 L 139.276262,36.933511 L 139.277058,36.933852 L 139.277503,36.933875 L 139.278532,36.933422 L 139.279579,36.932608 L 139.280399,36.932411 L 139.280704,36.931834 L 139.281702,36.931148 L 139.284051,36.931655 L 139.284095,36.932176 L 139.284466,36.932879 L 139.284507,36.93349 L 139.285363,36.933658 L 139.286224,36.934228 L 139.287329,36.93431 L 139.287712,36.934039 L 139.289006,36.933999 L 139.289649,36.933816 L 139.290711,36.934087 L 139.290783,36.934456 L 139.29138,36.934384 L 139.291727,36.934625 L 139.292539,36.934809 L 139.292794,36.934527 L 139.29311,36.934477 L 139.294392,36.934665 L 139.295019,36.934319 L 139.302144,36.928477 L 139.302818,36.926898 L 139.303338,36.926382 L 139.304446,36.925825 L 139.305061,36.925813 L 139.309009,36.926965 L 139.312249,36.926885 L 139.31511,36.926612 L 139.318338,36.925509 L 139.321092,36.925632 L 139.32349,36.926053 L 139.325652,36.92561 L 139.327726,36.924546 L 139.333151,36.92456 L 139.334466,36.924842 L 139.336524,36.926439 L 139.338534,36.927608 L 139.340422,36.927856 L 139.342378,36.927534 L 139.342679,36.927354 L 139.343192,36.926603 L 139.34518,36.925624 L 139.344711,36.923511 L 139.345924,36.922172 L 139.348318,36.920252 L 139.349291,36.918852 L 139.350007,36.918364 L 139.34967,36.91431 L 139.349361,36.913466 L 139.349391,36.913041 L 139.350217,36.914328 L 139.351427,36.91513 L 139.352774,36.91577 L 139.355806,36.916328 L 139.356786,36.916759 L 139.357847,36.916832 L 139.359191,36.916354 L 139.36059,36.916246 L 139.361194,36.916376 L 139.36238,36.917075 L 139.363686,36.917573 L 139.364535,36.918289 L 139.365887,36.918027 L 139.36737,36.91807 L 139.368799,36.917507 L 139.369781,36.917324 L 139.370831,36.917441 L 139.372967,36.918408 L 139.375927,36.917084 L 139.376871,36.916138 L 139.378859,36.915594 L 139.379697,36.914883 L 139.380245,36.914747 L 139.381417,36.914036 L 139.38154,36.913732 L 139.381345,36.912595 L 139.381445,36.912278 L 139.383294,36.911403 L 139.385288,36.911829 L 139.386405,36.911408 L 139.390259,36.911421 L 139.391917,36.910932 L 139.393281,36.910796 L 139.394279,36.911508 L 139.394664,36.91225 L 139.395704,36.913061 L 139.396664,36.914346 L 139.39828,36.918038 L 139.398704,36.919343 L 139.399394,36.920384 L 139.400552,36.921487 L 139.402381,36.922795 L 139.403041,36.923504 L 139.407994,36.92657 L 139.411976,36.927714 L 139.41301,36.926617 L 139.413654,36.926224 L 139.414166,36.926042 L 139.416634,36.925993 L 139.417929,36.92571 L 139.419297,36.925166 L 139.420229,36.924122 L 139.4235,36.924699 L 139.424707,36.924669 L 139.426411,36.924223 L 139.427207,36.924212 L 139.427901,36.924449 L 139.430341,36.925932 L 139.431182,36.926811 L 139.429936,36.927575 L 139.429773,36.928631 L 139.429925,36.929251 L 139.431423,36.931167 L 139.432808,36.932323 L 139.432925,36.933091 L 139.433338,36.933872 L 139.434416,36.935107 L 139.435024,36.936093 L 139.434719,36.937074 L 139.434731,36.938916 L 139.435342,36.940397 L 139.434444,36.94158 L 139.434439,36.941854 L 139.435344,36.942287 L 139.436656,36.942612 L 139.438523,36.944158 L 139.440891,36.944786 L 139.441208,36.945079 L 139.441784,36.946175 L 139.441753,36.947566 L 139.444304,36.947385 L 139.446054,36.947659 L 139.447547,36.948692 L 139.448101,36.949421 L 139.450558,36.949699 L 139.452669,36.950624 L 139.453546,36.951733 L 139.453989,36.952067 L 139.454605,36.953052 L 139.456666,36.953836 L 139.457073,36.954215 L 139.457332,36.954839 L 139.457222,36.956434 L 139.457522,36.956825 L 139.458322,36.957322 L 139.458457,36.957968 L 139.459036,36.959053 L 139.458904,36.959827 L 139.457934,36.961619 L 139.458523,36.963086 L 139.458424,36.965772 L 139.458977,36.966906 L 139.459906,36.96803 L 139.459973,36.969754 L 139.461156,36.970721 L 139.461974,36.970976 L 139.464457,36.971284 L 139.465867,36.971184 L 139.466961,36.970877 L 139.467789,36.971061 L 139.468625,36.970926 L 139.470143,36.971475 L 139.472682,36.971355 L 139.476947,36.972672 L 139.479484,36.974057 L 139.480693,36.974436 L 139.482911,36.974829 L 139.484198,36.975472 L 139.48707,36.973 L 139.488102,36.972336 L 139.489079,36.971386 L 139.491279,36.970777 L 139.491635,36.970381 L 139.492792,36.96821 L 139.493303,36.96796 L 139.494155,36.967907 L 139.498942,36.969051 L 139.501102,36.968946 L 139.502661,36.969484 L 139.504,36.969618 L 139.504985,36.970665 L 139.506684,36.971685 L 139.508367,36.972979 L 139.509033,36.974034 L 139.511054,36.974906 L 139.512149,36.975152 L 139.513482,36.976826 L 139.514884,36.977731 L 139.515286,36.977869 L 139.51672,36.977896 L 139.518799,36.978839 L 139.520046,36.978939 L 139.521179,36.979289 L 139.523588,36.981493 L 139.525523,36.981253 L 139.525845,36.981092 L 139.526307,36.98043 L 139.526874,36.980196 L 139.527883,36.980454 L 139.530135,36.980638 L 139.532176,36.981611 L 139.532842,36.98177 L 139.533411,36.981642 L 139.535251,36.980585 L 139.536115,36.981573 L 139.537008,36.982019 L 139.536974,36.982506 L 139.538371,36.983812 L 139.53887,36.985203 L 139.540621,36.987083 L 139.543475,36.987918 L 139.543543,36.988717 L 139.54423,36.98955 L 139.544826,36.991057 L 139.546097,36.99177 L 139.546429,36.992515 L 139.547034,36.992739 L 139.547305,36.993261 L 139.547869,36.993638 L 139.548375,36.993548 L 139.549535,36.992613 L 139.550617,36.992632 L 139.552084,36.992373 L 139.553128,36.992742 L 139.55444,36.992473 L 139.555418,36.994783 L 139.556793,36.996842 L 139.559204,36.996991 L 139.564552,36.996856 L 139.567802,36.998818 L 139.56932,36.999423 L 139.571985,37.001614 L 139.576413,37.002079 L 139.577622,37.003298 L 139.578071,37.004283 L 139.579561,37.005014 L 139.579607,37.005352 L 139.579307,37.006228 L 139.579409,37.007311 L 139.580026,37.008385 L 139.580109,37.009664 L 139.580546,37.010167 L 139.580761,37.010831 L 139.581544,37.011476 L 139.581811,37.011995 L 139.582092,37.013211 L 139.581883,37.014903 L 139.582042,37.015083 L 139.583665,37.015324 L 139.585017,37.014784 L 139.587139,37.015513 L 139.587765,37.01547 L 139.589197,37.014301 L 139.590478,37.013605 L 139.592457,37.013816 L 139.593082,37.013428 L 139.594201,37.013103 L 139.595006,37.012423 L 139.595334,37.011891 L 139.595763,37.011742 L 139.598684,37.012046 L 139.599924,37.013518 L 139.59994,37.014353 L 139.602038,37.015222 L 139.602703,37.015982 L 139.603391,37.015593 L 139.604019,37.015504 L 139.604481,37.014901 L 139.605032,37.014673 L 139.607254,37.014132 L 139.609051,37.014239 L 139.611231,37.013726 L 139.611788,37.013878 L 139.613137,37.014819 L 139.616676,37.015176 L 139.619312,37.016631 L 139.618739,37.018646 L 139.61844,37.019025 L 139.618595,37.019551 L 139.619718,37.020192 L 139.620552,37.021165 L 139.621805,37.021776 L 139.622021,37.02243 L 139.622467,37.022821 L 139.622783,37.02385 L 139.623376,37.024659 L 139.625514,37.025987 L 139.625104,37.026391 L 139.624673,37.027518 L 139.623357,37.028415 L 139.623044,37.028954 L 139.623669,37.029919 L 139.62496,37.032722 L 139.625547,37.033225 L 139.626169,37.033457 L 139.628232,37.033431 L 139.630989,37.033812 L 139.631941,37.032596 L 139.632642,37.032289 L 139.636113,37.031836 L 139.637733,37.032212 L 139.638747,37.032133 L 139.639268,37.032455 L 139.640014,37.032648 L 139.640777,37.033193 L 139.64168,37.033987 L 139.642931,37.035544 L 139.643626,37.036007 L 139.644994,37.036446 L 139.647162,37.036621 L 139.648918,37.037366 L 139.651405,37.037282 L 139.651949,37.037462 L 139.654042,37.039707 L 139.655146,37.040593 L 139.655593,37.041254 L 139.655834,37.041978 L 139.657033,37.041531 L 139.658862,37.041463 L 139.660449,37.041212 L 139.661381,37.040606 L 139.663737,37.040376 L 139.66464,37.039842 L 139.664943,37.040532 L 139.665445,37.04096 L 139.665967,37.041727 L 139.667785,37.042111 L 139.66815,37.042949 L 139.668773,37.043631 L 139.669046,37.044231 L 139.668368,37.045659 L 139.668456,37.046265 L 139.669105,37.046844 L 139.670203,37.047135 L 139.671227,37.048204 L 139.670845,37.050835 L 139.670917,37.051173 L 139.67168,37.052254 L 139.67152,37.053141 L 139.671644,37.053749 L 139.671546,37.054426 L 139.671673,37.054949 L 139.67238,37.056142 L 139.672618,37.057237 L 139.673264,37.05775 L 139.675529,37.056861 L 139.676718,37.05674 L 139.680052,37.058646 L 139.681463,37.058578 L 139.683021,37.058998 L 139.684305,37.05913 L 139.684589,37.060317 L 139.686561,37.061211 L 139.686978,37.061291 L 139.688481,37.060852 L 139.689566,37.061261 L 139.690661,37.062169 L 139.692053,37.062549 L 139.692444,37.062518 L 139.69422,37.061645 L 139.695547,37.061214 L 139.697342,37.060957 L 139.698323,37.061008 L 139.699109,37.060611 L 139.699894,37.059651 L 139.700429,37.059328 L 139.701807,37.060691 L 139.704258,37.06242 L 139.705545,37.063919 L 139.706546,37.064149 L 139.708035,37.064171 L 139.709,37.065432 L 139.70989,37.065807 L 139.710102,37.066395 L 139.709867,37.067241 L 139.709926,37.067529 L 139.710995,37.068423 L 139.712289,37.068378 L 139.713879,37.06855 L 139.717924,37.068288 L 139.718145,37.068465 L 139.718813,37.070771 L 139.719237,37.070951 L 139.71969,37.070869 L 139.720248,37.070486 L 139.720984,37.069727 L 139.722115,37.069669 L 139.722897,37.069375 L 139.724071,37.06993 L 139.725661,37.069409 L 139.726675,37.068754 L 139.728868,37.069983 L 139.730794,37.069196 L 139.732841,37.068659 L 139.733594,37.069431 L 139.73449,37.070012 L 139.736257,37.070462 L 139.73727,37.07203 L 139.737365,37.072636 L 139.738297,37.07244 L 139.739741,37.07262 L 139.741214,37.071795 L 139.742163,37.071811 L 139.743531,37.072213 L 139.743877,37.072128 L 139.745366,37.071451 L 139.746106,37.070658 L 139.747343,37.070965 L 139.748862,37.071031 L 139.750406,37.070346 L 139.751806,37.070229 L 139.752701,37.070588 L 139.753013,37.070971 L 139.753128,37.07157 L 139.752947,37.073131 L 139.754918,37.074295 L 139.756764,37.074381 L 139.757631,37.074788 L 139.759065,37.074624 L 139.760459,37.075436 L 139.763085,37.075808 L 139.763347,37.076367 L 139.763459,37.077344 L 139.763346,37.077992 L 139.765164,37.080094 L 139.766549,37.080421 L 139.767234,37.081448 L 139.767727,37.081785 L 139.768513,37.082698 L 139.77078,37.083614 L 139.770455,37.084241 L 139.770885,37.085299 L 139.772356,37.086403 L 139.772859,37.087448 L 139.773609,37.088483 L 139.773798,37.089275 L 139.773776,37.090005 L 139.774899,37.091895 L 139.775833,37.091325 L 139.776949,37.089678 L 139.777969,37.088808 L 139.778245,37.088882 L 139.778935,37.08964 L 139.779921,37.089991 L 139.782148,37.089816 L 139.783048,37.089441 L 139.784673,37.090342 L 139.786528,37.090723 L 139.787939,37.090703 L 139.789271,37.090131 L 139.790756,37.089734 L 139.793303,37.089465 L 139.795468,37.088212 L 139.796963,37.088163 L 139.798364,37.087912 L 139.799531,37.087461 L 139.800654,37.086771 L 139.801461,37.086586 L 139.804551,37.086462 L 139.808328,37.085039 L 139.809408,37.084852 L 139.80997,37.085045 L 139.810597,37.085728 L 139.81111,37.085973 L 139.812854,37.085673 L 139.815324,37.085792 L 139.818812,37.085186 L 139.820485,37.08529 L 139.822081,37.085138 L 139.820526,37.086404 L 139.819878,37.087307 L 139.81972,37.087968 L 139.819732,37.08992 L 139.82008,37.092286 L 139.820034,37.092862 L 139.819502,37.094598 L 139.818641,37.095715 L 139.818233,37.096875 L 139.818322,37.097727 L 139.818773,37.099 L 139.818722,37.100037 L 139.819248,37.101269 L 139.819034,37.101536 L 139.819662,37.101907 L 139.820116,37.102976 L 139.820375,37.104398 L 139.8203,37.105976 L 139.821176,37.107298 L 139.821286,37.108325 L 139.820948,37.108893 L 139.819456,37.109845 L 139.818631,37.110271 L 139.81617,37.111082 L 139.816374,37.114258 L 139.816168,37.114852 L 139.815177,37.116152 L 139.81504,37.116617 L 139.816194,37.118022 L 139.818187,37.118625 L 139.818655,37.118911 L 139.818906,37.119431 L 139.819041,37.121799 L 139.820719,37.122873 L 139.822422,37.123319 L 139.827917,37.126292 L 139.828308,37.126652 L 139.828464,37.126893 L 139.828169,37.127644 L 139.828116,37.129009 L 139.829253,37.129505 L 139.829888,37.130147 L 139.831761,37.133642 L 139.833428,37.133659 L 139.834874,37.133367 L 139.837906,37.133336 L 139.839007,37.133169 L 139.839359,37.134527 L 139.83988,37.135576 L 139.841444,37.136401 L 139.842231,37.137114 L 139.843427,37.137427 L 139.844732,37.138003 L 139.846356,37.139147 L 139.847094,37.139221 L 139.847641,37.139472 L 139.847936,37.139391 L 139.849054,37.138402 L 139.851702,37.137164 L 139.856307,37.137809 L 139.857629,37.138311 L 139.858128,37.138692 L 139.858811,37.139601 L 139.861308,37.141103 L 139.861716,37.141588 L 139.862023,37.142516 L 139.863884,37.144577 L 139.865306,37.14562 L 139.866277,37.147229 L 139.869347,37.147571 L 139.872704,37.14636 L 139.876375,37.146044 L 139.877556,37.146128 L 139.878783,37.147017 L 139.881865,37.147966 L 139.885126,37.149825 L 139.886505,37.150043 L 139.888114,37.150074 L 139.889389,37.151244 L 139.891754,37.15187 L 139.892704,37.152579 L 139.894632,37.15326 L 139.900538,37.153634 L 139.901648,37.153903 L 139.902419,37.154272 L 139.902541,37.153753 L 139.903512,37.153062 L 139.904747,37.151655 L 139.905233,37.150603 L 139.906495,37.149533 L 139.907329,37.14909 L 139.911109,37.147863 L 139.912658,37.148255 L 139.916164,37.147613 L 139.916634,37.147771 L 139.917396,37.148436 L 139.918867,37.149296 L 139.920005,37.150286 L 139.920514,37.150527 L 139.924634,37.151906 L 139.927455,37.150964 L 139.928657,37.151013 L 139.929905,37.151303 L 139.930452,37.151474 L 139.931483,37.152398 L 139.933784,37.153737 L 139.938296,37.153559 L 139.943821,37.152594 L 139.945067,37.153757 L 139.945767,37.154088 L 139.946596,37.15424 L 139.95003,37.154218 L 139.951152,37.154701 L 139.952612,37.154981 L 139.954171,37.155034 L 139.9568,37.154237 L 139.957961,37.154151 L 139.959084,37.153559 L 139.960798,37.153511 L 139.961249,37.153297 L 139.962018,37.151647 L 139.961798,37.149848 L 139.962474,37.149187 L 139.962718,37.14865 L 139.963004,37.148494 L 139.964817,37.148663 L 139.96731,37.147796 L 139.969658,37.148785 L 139.971383,37.14758 L 139.972873,37.147109 L 139.974116,37.146955 L 139.977839,37.147076 L 139.978963,37.146942 L 139.981591,37.145971 L 139.983193,37.145156 L 139.984219,37.144945 L 139.986242,37.143811 L 139.987629,37.143588 L 139.990295,37.142749 L 139.990958,37.142756 L 139.991588,37.142966 L 139.993195,37.14373 L 139.994088,37.143671 L 139.995546,37.143882 L 139.996785,37.143574 L 139.998454,37.143406 L 139.999465,37.142806 L 140.002008,37.142815 L 140.003031,37.142443 L 140.004266,37.141706 L 140.004722,37.14196 L 140.006097,37.142 L 140.006887,37.141798 L 140.009577,37.141966 L 140.010606,37.141809 L 140.012123,37.141366 L 140.014541,37.140125 L 140.016036,37.139929 L 140.016504,37.139637 L 140.01705,37.139577 L 140.018653,37.139968 L 140.018926,37.140462 L 140.018881,37.141233 L 140.019198,37.141643 L 140.021837,37.142639 L 140.022713,37.143272 L 140.023242,37.143326 L 140.024435,37.143008 L 140.025421,37.142303 L 140.025657,37.141865 L 140.026323,37.141577 L 140.02628,37.140824 L 140.026976,37.140056 L 140.027829,37.139937 L 140.028508,37.139576 L 140.029402,37.139677 L 140.030788,37.13917 L 140.031144,37.139177 L 140.031641,37.139402 L 140.03178,37.139697 L 140.033035,37.140201 L 140.033903,37.139969 L 140.034788,37.140042 L 140.035323,37.13966 L 140.035756,37.139571 L 140.037584,37.139322 L 140.038643,37.139434 L 140.038959,37.13843 L 140.040119,37.138119 L 140.041089,37.137522 L 140.042306,37.137156 L 140.043303,37.137195 L 140.044346,37.136582 L 140.045426,37.136789 L 140.045733,37.136684 L 140.046152,37.136396 L 140.046388,37.135697 L 140.047186,37.13534 L 140.047658,37.134225 L 140.048228,37.133632 L 140.048325,37.132962 L 140.049236,37.131438 L 140.050819,37.130674 L 140.051603,37.130702 L 140.052213,37.130085 L 140.053086,37.129878 L 140.053449,37.129275 L 140.054036,37.129163 L 140.054549,37.128837 L 140.054897,37.128845 L 140.055351,37.128413 L 140.055797,37.127321 L 140.057052,37.127255 L 140.057336,37.126092 L 140.05853,37.126043 L 140.059459,37.125476 L 140.060514,37.125824 L 140.060795,37.126341 L 140.062032,37.127229 L 140.063478,37.127504 L 140.064252,37.126808 L 140.064783,37.127448 L 140.06547,37.127487 L 140.066057,37.127278 L 140.067041,37.126399 L 140.069671,37.126698 L 140.070543,37.126365 L 140.071559,37.126274 L 140.073096,37.125507 L 140.074168,37.125771 L 140.076684,37.125563 L 140.077715,37.125134 L 140.078478,37.124551 L 140.082571,37.123563 L 140.083901,37.122824 L 140.085132,37.122862 L 140.087401,37.122396 L 140.089053,37.121511 L 140.09155,37.122493 L 140.093524,37.124216 L 140.094524,37.123631 L 140.095329,37.124046 L 140.096472,37.123928 L 140.097546,37.124347 L 140.097972,37.124164 L 140.098371,37.123608 L 140.100423,37.123431 L 140.101227,37.122088 L 140.102658,37.121049 L 140.104747,37.12089 L 140.105417,37.12061 L 140.105846,37.119699 L 140.107632,37.119009 L 140.108275,37.117467 L 140.108932,37.116556 L 140.109198,37.116425 L 140.109935,37.116448 L 140.110535,37.116128 L 140.112039,37.114837 L 140.113186,37.114267 L 140.113998,37.113144 L 140.114737,37.112656 L 140.115489,37.112338 L 140.116538,37.112336 L 140.117574,37.112116 L 140.118278,37.111708 L 140.118878,37.11101 L 140.118908,37.110258 L 140.11912,37.110032 L 140.121119,37.109779 L 140.121538,37.108795 L 140.122357,37.108321 L 140.123221,37.108125 L 140.124663,37.108226 L 140.125861,37.107846 L 140.126298,37.107337 L 140.126803,37.106121 L 140.1278,37.105348 L 140.128103,37.104932 L 140.127988,37.104233 L 140.128246,37.104059 L 140.129145,37.103785 L 140.130596,37.103824 L 140.130921,37.103605 L 140.130942,37.103296 L 140.131117,37.103268 L 140.134655,37.103558 L 140.135756,37.10415 L 140.137119,37.106491 L 140.13743,37.106377 L 140.138148,37.105443 L 140.140071,37.104664 L 140.140436,37.104264 L 140.140456,37.103901 L 140.141097,37.102736 L 140.146461,37.099287 L 140.148509,37.09701 L 140.148431,37.096258 L 140.149157,37.096312 L 140.150779,37.094331 L 140.149298,37.093517 L 140.149095,37.093064 L 140.149363,37.092556 L 140.153684,37.091951 L 140.155184,37.091326 L 140.156218,37.091391 L 140.156766,37.089981 L 140.157419,37.089416 L 140.157428,37.089079 L 140.156791,37.088537 L 140.155153,37.087676 L 140.15352,37.087127 L 140.153064,37.086624 L 140.152903,37.086173 L 140.153148,37.085856 L 140.154286,37.085537 L 140.154721,37.08526 L 140.155032,37.084561 L 140.155832,37.083626 L 140.155958,37.082814 L 140.157166,37.082109 L 140.157058,37.081593 L 140.157185,37.081422 L 140.158679,37.080401 L 140.15926,37.080343 L 140.160626,37.079756 L 140.163694,37.07961 L 140.164352,37.079413 L 140.165603,37.078687 L 140.166331,37.07811 L 140.167246,37.076667 L 140.168261,37.076181 L 140.168947,37.075532 L 140.169093,37.075104 L 140.169037,37.074273 L 140.16937,37.073407 L 140.169807,37.073005 L 140.17103,37.072433 L 140.171579,37.071389 L 140.172812,37.070257 L 140.173132,37.070406 L 140.173889,37.07171 L 140.174473,37.071711 L 140.174893,37.071519 L 140.175439,37.070733 L 140.175816,37.070661 L 140.176373,37.069944 L 140.177449,37.069486 L 140.177559,37.06911 L 140.177748,37.069045 L 140.178364,37.069035 L 140.179172,37.069273 L 140.181127,37.068834 L 140.182644,37.068806 L 140.184518,37.069304 L 140.185789,37.06858 L 140.18587,37.067656 L 140.186819,37.067661 L 140.18857,37.066717 L 140.190201,37.066359 L 140.190923,37.065578 L 140.192566,37.065671 L 140.193047,37.065505 L 140.193376,37.065109 L 140.193994,37.063856 L 140.194599,37.063432 L 140.194635,37.063193 L 140.194182,37.062673 L 140.19411,37.062204 L 140.194611,37.061391 L 140.194571,37.060238 L 140.194323,37.059802 L 140.193546,37.059074 L 140.19338,37.058281 L 140.193023,37.058131 L 140.192025,37.058131 L 140.191569,37.057931 L 140.191471,37.057446 L 140.19071,37.05697 L 140.190636,37.056668 L 140.191562,37.055902 L 140.192408,37.055906 L 140.193053,37.055627 L 140.194806,37.051731 L 140.195226,37.051531 L 140.195866,37.051664 L 140.196281,37.051318 L 140.196541,37.050712 L 140.197933,37.050572 L 140.198424,37.04999 L 140.198443,37.049564 L 140.198716,37.049167 L 140.198698,37.048776 L 140.199403,37.048214 L 140.199768,37.047694 L 140.199948,37.046047 L 140.199583,37.045232 L 140.199538,37.044479 L 140.19915,37.043744 L 140.199707,37.043232 L 140.199824,37.042795 L 140.1994,37.041692 L 140.199029,37.041204 L 140.199014,37.040235 L 140.198318,37.038681 L 140.198471,37.038198 L 140.196645,37.037425 L 140.195787,37.03688 L 140.195579,37.036528 L 140.195726,37.036069 L 140.19643,37.03513 L 140.197251,37.034978 L 140.199492,37.032542 L 140.199443,37.032183 L 140.198809,37.031305 L 140.199043,37.030246 L 140.199501,37.029731 L 140.199237,37.028842 L 140.199272,37.028353 L 140.200346,37.027391 L 140.201469,37.026878 L 140.201604,37.025541 L 140.202323,37.025246 L 140.202769,37.024823 L 140.202835,37.024318 L 140.203066,37.023964 L 140.20506,37.023776 L 140.206153,37.023888 L 140.206716,37.023702 L 140.207323,37.023068 L 140.207761,37.02292 L 140.208973,37.022949 L 140.210251,37.021674 L 140.211479,37.020933 L 140.211939,37.019856 L 140.213098,37.019614 L 140.214533,37.01964 L 140.217649,37.020788 L 140.217932,37.020382 L 140.217982,37.019285 L 140.21812,37.019043 L 140.219969,37.018489 L 140.220203,37.018886 L 140.220223,37.019614 L 140.221737,37.019785 L 140.223035,37.02149 L 140.22306,37.022372 L 140.223746,37.02328 L 140.22464,37.023806 L 140.226302,37.023733 L 140.227366,37.024101 L 140.228809,37.023979 L 140.230399,37.024149 L 140.231621,37.02357 L 140.232095,37.023152 L 140.233146,37.023096 L 140.235921,37.023547 L 140.236319,37.023844 L 140.237477,37.024057 L 140.240456,37.023648 L 140.240817,37.023848 L 140.241945,37.023786 L 140.243281,37.02433 L 140.243543,37.024969 L 140.244017,37.025324 L 140.248687,37.025878 L 140.249449,37.025564 L 140.249786,37.024861 L 140.249209,37.023687 L 140.249521,37.023008 L 140.250264,37.022062 L 140.249469,37.021127 L 140.249454,37.02026 L 140.249641,37.019477 L 140.249039,37.018857 L 140.248929,37.018499 L 140.2493,37.018058 L 140.249492,37.017494 L 140.249513,37.016666 L 140.250061,37.015089 L 140.250826,37.014622 L 140.250895,37.01396 L 140.251136,37.013615 L 140.250793,37.012276 L 140.251092,37.010786 L 140.252031,37.010228 L 140.251331,37.009126 L 140.251112,37.009083 L 140.249681,37.009402 L 140.247973,37.009543 L 140.246241,37.009459 L 140.245361,37.009758 L 140.244881,37.010242 L 140.244914,37.009818 L 140.245799,37.008492 L 140.245698,37.00669 L 140.246002,37.005201 L 140.245445,37.004575 L 140.245191,37.003688 L 140.244347,37.003029 L 140.24408,37.001956 L 140.243659,37.001485 L 140.241954,37.000969 L 140.241301,37.000389 L 140.240317,37.000474 L 140.240199,37.000277 L 140.240888,36.998468 L 140.240603,36.997574 L 140.240883,36.997075 L 140.240829,36.996524 L 140.242475,36.996292 L 140.243348,36.995913 L 140.244375,36.994199 L 140.244503,36.993819 L 140.244399,36.993434 L 140.243489,36.992417 L 140.243568,36.991956 L 140.24394,36.991392 L 140.24502,36.990649 L 140.245852,36.989761 L 140.246829,36.989722 L 140.24913,36.988458 L 140.250147,36.988764 L 140.250232,36.988661 L 140.250254,36.987756 L 140.249954,36.986858 L 140.250694,36.985855 L 140.250148,36.984805 L 140.250606,36.984649 L 140.250918,36.984251 L 140.250962,36.983377 L 140.24997,36.982781 L 140.249168,36.9826 L 140.248258,36.981847 L 140.248078,36.981484 L 140.247021,36.980962 L 140.246975,36.980127 L 140.244187,36.978993 L 140.244087,36.978772 L 140.244565,36.978137 L 140.244031,36.977575 L 140.243648,36.97667 L 140.244182,36.975386 L 140.244123,36.974937 L 140.243734,36.974473 L 140.243656,36.974001 L 140.24389,36.97318 L 140.244708,36.972824 L 140.245336,36.972307 L 140.245498,36.971429 L 140.245731,36.971082 L 140.246419,36.97054 L 140.248152,36.969923 L 140.248836,36.968412 L 140.251154,36.967409 L 140.252312,36.966674 L 140.252229,36.96552 L 140.253034,36.963448 L 140.253076,36.96297 L 140.251424,36.962086 L 140.251084,36.961557 L 140.249557,36.960426 L 140.24937,36.960036 L 140.248843,36.959658 L 140.24817,36.958829 L 140.246676,36.958399 L 140.244673,36.957253 L 140.244258,36.955927 L 140.243475,36.955091 L 140.243103,36.9539 L 140.242584,36.953266 L 140.241571,36.952653 L 140.241198,36.95208 L 140.241185,36.951387 L 140.240769,36.950814 L 140.240633,36.950138 L 140.240809,36.948681 L 140.241093,36.947921 L 140.240578,36.946175 L 140.241062,36.945438 L 140.241898,36.945346 L 140.24284,36.944767 L 140.243046,36.944419 L 140.242888,36.943709 L 140.243023,36.943488 L 140.245029,36.943034 L 140.245552,36.942671 L 140.246314,36.942597 L 140.247304,36.941701 L 140.248394,36.941827 L 140.249597,36.941531 L 140.250832,36.942062 L 140.25133,36.942087 L 140.252258,36.941763 L 140.252468,36.941531 L 140.253496,36.941236 L 140.253713,36.94021 L 140.254579,36.939761 L 140.254911,36.938914 L 140.255322,36.938367 L 140.257236,36.938141 L 140.258347,36.937589 L 140.261723,36.937529 L 140.26167,36.936214 L 140.262151,36.935826 L 140.263537,36.935472 L 140.263773,36.93421 L 140.264243,36.933317 L 140.264848,36.933121 L 140.265883,36.933107 L 140.266239,36.932764 L 140.267339,36.932469 L 140.270696,36.930997 L 140.27194,36.930749 L 140.272961,36.930157 L 140.273942,36.930612 L 140.2744121,36.9305069 L 140.274848,36.930721 L 140.277495,36.931201 L 140.279111,36.932467 L 140.279275,36.932647 L 140.279459,36.933656 L 140.280277,36.934237 L 140.282339,36.934985 L 140.285111,36.935537 L 140.285966,36.935386 L 140.287554,36.934325 L 140.288739,36.933248 L 140.290594,36.93289 L 140.29269,36.933199 L 140.293226,36.932348 L 140.294456,36.931382 L 140.294698,36.930699 L 140.295502,36.930365 L 140.297032,36.928927 L 140.297317,36.928921 L 140.298567,36.929539 L 140.300325,36.928015 L 140.302986,36.926887 L 140.302872,36.925473 L 140.303789,36.92481 L 140.305914,36.923699 L 140.306615,36.922341 L 140.307311,36.921571 L 140.307576,36.919319 L 140.308932,36.918803 L 140.309977,36.91807 L 140.310738,36.917064 L 140.310976,36.916276 L 140.311379,36.915939 L 140.311836,36.915734 L 140.313192,36.915676 L 140.314144,36.914584 L 140.315606,36.913593 L 140.317404,36.913162 L 140.317775,36.912368 L 140.317934,36.911112 L 140.318238,36.910582 L 140.320434,36.908796 L 140.321651,36.908024 L 140.322008,36.907421 L 140.322226,36.906622 L 140.322068,36.905747 L 140.322226,36.904486 L 140.323337,36.902231 L 140.32302,36.899875 L 140.32337,36.897831 L 140.324184,36.896145 L 140.323827,36.894876 L 140.323899,36.893479 L 140.325539,36.892726 L 140.326512,36.891304 L 140.327166,36.891113 L 140.329898,36.891007 L 140.331042,36.890338 L 140.332061,36.889974 L 140.333318,36.888896 L 140.334224,36.888771 L 140.335117,36.88838 L 140.336598,36.888619 L 140.337676,36.887422 L 140.338563,36.887363 L 140.340765,36.886263 L 140.343629,36.886138 L 140.343748,36.885789 L 140.344086,36.885564 L 140.346367,36.885047 L 140.34808,36.885364 L 140.349727,36.886449 L 140.351216,36.886469 L 140.352419,36.886111 L 140.352664,36.885397 L 140.352915,36.885205 L 140.353788,36.885119 L 140.355323,36.884358 L 140.358742,36.885411 L 140.35945,36.8851 L 140.359886,36.885119 L 140.360601,36.885655 L 140.361864,36.885377 L 140.362367,36.885022 L 140.362956,36.885086 L 140.363419,36.884472 L 140.363742,36.884372 L 140.364205,36.884241 L 140.365198,36.884327 L 140.365423,36.883619 L 140.365919,36.883089 L 140.365912,36.882475 L 140.366388,36.882017 L 140.366468,36.881461 L 140.367228,36.881178 L 140.367764,36.880517 L 140.36787,36.87965 L 140.368379,36.878578 L 140.368492,36.877112 L 140.369438,36.876117 L 140.369166,36.875359 L 140.369186,36.874895 L 140.370813,36.873359 L 140.371296,36.872329 L 140.371429,36.871615 L 140.371668,36.871412 L 140.372419,36.871257 L 140.372265,36.870682 L 140.371898,36.870185 L 140.370469,36.869118 L 140.369734,36.868352 L 140.369455,36.867813 L 140.368845,36.867507 L 140.368577,36.867088 L 140.368276,36.865571 L 140.369062,36.86463 L 140.369477,36.863877 L 140.369588,36.863283 L 140.368687,36.862405 L 140.368393,36.861233 L 140.368922,36.859769 L 140.369029,36.858839 L 140.369576,36.8582 L 140.36987,36.857531 L 140.370021,36.856581 L 140.370374,36.856044 L 140.370605,36.855128 L 140.37091,36.855028 L 140.371746,36.855359 L 140.37204,36.854889 L 140.372216,36.853697 L 140.372833,36.85307 L 140.37337,36.852212 L 140.374535,36.851217 L 140.375196,36.850242 L 140.375424,36.849623 L 140.375189,36.848559 L 140.37631,36.847287 L 140.376876,36.847051 L 140.376821,36.846715 L 140.376343,36.845979 L 140.37628,36.844868 L 140.377611,36.843713 L 140.377714,36.843124 L 140.377207,36.842574 L 140.376332,36.842282 L 140.375843,36.841391 L 140.376284,36.84048 L 140.376439,36.839299 L 140.377045,36.838061 L 140.378783,36.837402 L 140.380327,36.836605 L 140.381388,36.836772 L 140.382503,36.836241 L 140.384472,36.835756 L 140.384526,36.836233 L 140.385505,36.83614 L 140.387116,36.834171 L 140.389036,36.833919 L 140.390228,36.833456 L 140.391257,36.833302 L 140.391893,36.832821 L 140.392855,36.832449 L 140.395057,36.832299 L 140.397011,36.833163 L 140.398158,36.832585 L 140.39992,36.831987 L 140.40033,36.832006 L 140.401085,36.832532 L 140.401427,36.832596 L 140.402968,36.831371 L 140.404652,36.831627 L 140.407403,36.832352 L 140.409737,36.830496 L 140.410255,36.830293 L 140.41242,36.831326 L 140.413344,36.832078 L 140.415084,36.832029 L 140.414739,36.830721 L 140.415535,36.829605 L 140.415828,36.828568 L 140.416373,36.828181 L 140.417362,36.827798 L 140.417651,36.827249 L 140.4187,36.826403 L 140.419786,36.826509 L 140.419925,36.826095 L 140.420549,36.825723 L 140.421256,36.82472 L 140.422127,36.824062 L 140.422255,36.823732 L 140.422184,36.823322 L 140.421485,36.822672 L 140.42147,36.822476 L 140.422236,36.821943 L 140.422488,36.8213 L 140.423014,36.820954 L 140.423052,36.820522 L 140.425156,36.820909 L 140.426528,36.820954 L 140.427667,36.820552 L 140.428663,36.819361 L 140.429723,36.81888 L 140.429926,36.818361 L 140.430433,36.818001 L 140.430955,36.817042 L 140.432985,36.818185 L 140.433789,36.819151 L 140.435078,36.819899 L 140.436209,36.821394 L 140.436916,36.82118 L 140.438486,36.821545 L 140.438648,36.820996 L 140.439441,36.820545 L 140.43949,36.819842 L 140.440204,36.818971 L 140.440069,36.818084 L 140.440911,36.81767 L 140.440982,36.817396 L 140.441741,36.816772 L 140.442857,36.816362 L 140.443338,36.815817 L 140.443319,36.81537 L 140.443962,36.814889 L 140.443913,36.81407 L 140.444428,36.814002 L 140.444612,36.813762 L 140.444101,36.812706 L 140.445007,36.81227 L 140.445255,36.811582 L 140.445924,36.811323 L 140.446044,36.810812 L 140.446522,36.810451 L 140.446668,36.809861 L 140.447116,36.80979 L 140.447315,36.809083 L 140.448134,36.809098 L 140.449216,36.809466 L 140.449423,36.809387 L 140.44963,36.80888 L 140.450231,36.808816 L 140.450547,36.808456 L 140.450494,36.807479 L 140.450818,36.807234 L 140.451174,36.806295 L 140.451393,36.806133 L 140.451761,36.806175 L 140.452091,36.805412 L 140.452907,36.80507 L 140.453377,36.804059 L 140.453179,36.803605 L 140.453324,36.802988 L 140.45441,36.80274 L 140.454673,36.802405 L 140.455474,36.802007 L 140.45668,36.802033 L 140.456744,36.801086 L 140.45659,36.800635 L 140.457684,36.799504 L 140.45715,36.79888 L 140.457101,36.798478 L 140.457733,36.798275 L 140.459063,36.798467 L 140.459687,36.797836 L 140.461476,36.797392 L 140.461859,36.797136 L 140.461938,36.796919 L 140.461517,36.795742 L 140.461656,36.795051 L 140.461998,36.794649 L 140.461991,36.793581 L 140.462634,36.792881 L 140.462882,36.792307 L 140.464024,36.791454 L 140.465043,36.791337 L 140.465745,36.791751 L 140.466504,36.791852 L 140.467632,36.792292 L 140.470556,36.794197 L 140.472331,36.794928 L 140.473049,36.79577 L 140.474282,36.7958 L 140.475026,36.796477 L 140.475652,36.796723 L 140.476426,36.79658 L 140.477358,36.79705 L 140.478606,36.796945 L 140.478459,36.797452 L 140.477865,36.7982 L 140.478313,36.798801 L 140.479406,36.799124 L 140.480034,36.799511 L 140.480165,36.801563 L 140.480075,36.802266 L 140.480575,36.803739 L 140.482615,36.804559 L 140.483465,36.805276 L 140.483709,36.805521 L 140.483931,36.806396 L 140.484569,36.806483 L 140.485344,36.807276 L 140.485441,36.807513 L 140.485257,36.808009 L 140.485475,36.808215 L 140.487061,36.808764 L 140.487463,36.80905 L 140.48841,36.80911 L 140.489166,36.809354 L 140.489308,36.80958 L 140.489169,36.811079 L 140.489361,36.811838 L 140.489718,36.812406 L 140.489282,36.812721 L 140.489602,36.813473 L 140.489459,36.8138 L 140.488481,36.814758 L 140.487846,36.814909 L 140.488425,36.816788 L 140.487283,36.817464 L 140.487985,36.818366 L 140.489226,36.818757 L 140.489549,36.818471 L 140.490409,36.818392 L 140.490864,36.818765 L 140.491221,36.819452 L 140.492104,36.819242 L 140.492777,36.819479 L 140.493344,36.819156 L 140.493314,36.818445 L 140.493593,36.818242 L 140.494453,36.818731 L 140.495028,36.81828 L 140.495746,36.818144 L 140.496659,36.819144 L 140.497887,36.819267 L 140.499845,36.819037 L 140.501466,36.818176 L 140.501867,36.818593 L 140.50291,36.819037 L 140.503371,36.819519 L 140.503408,36.820032 L 140.502959,36.821439 L 140.503515,36.822194 L 140.503697,36.822798 L 140.504408,36.823173 L 140.504836,36.823285 L 140.508351,36.822301 L 140.509507,36.822456 L 140.510042,36.821996 L 140.510561,36.821916 L 140.51154,36.822231 L 140.511861,36.823125 L 140.512219,36.823355 L 140.513402,36.823301 L 140.513899,36.823446 L 140.514707,36.825131 L 140.515911,36.825725 L 140.516847,36.826854 L 140.517109,36.828026 L 140.517029,36.829037 L 140.517585,36.829807 L 140.517939,36.831433 L 140.517468,36.832621 L 140.517724,36.832953 L 140.519073,36.833231 L 140.519469,36.833744 L 140.519597,36.83535 L 140.519089,36.836243 L 140.520559,36.836895 L 140.521908,36.837117 L 140.522066,36.837351 L 140.521967,36.837854 L 140.522217,36.838029 L 140.524267,36.838695 L 140.52681,36.839084 L 140.528467,36.839998 L 140.528268,36.840476 L 140.52832,36.841528 L 140.528897,36.841895 L 140.529051,36.842164 L 140.528177,36.843759 L 140.528911,36.844644 L 140.52868,36.845044 L 140.528694,36.84675 L 140.527706,36.847583 L 140.527908,36.848369 L 140.529047,36.848991 L 140.53023,36.849294 L 140.531395,36.849847 L 140.532718,36.850111 L 140.533298,36.851274 L 140.535106,36.852116 L 140.535723,36.853605 L 140.537149,36.854763 L 140.537634,36.855444 L 140.537513,36.857052 L 140.53802,36.85886 L 140.53849,36.859054 L 140.53971,36.859176 L 140.540868,36.859585 L 140.542973,36.858713 L 140.544307,36.858693 L 140.54531,36.858154 L 140.546835,36.85826 L 140.547739,36.858682 L 140.548224,36.85921 L 140.549822,36.859154 L 140.550237,36.859604 L 140.551531,36.859768 L 140.551663,36.860613 L 140.551953,36.860921 L 140.55231,36.861077 L 140.552968,36.860957 L 140.554301,36.861463 L 140.556896,36.860057 L 140.55917,36.861304 L 140.560511,36.863476 L 140.560908,36.863535 L 140.56201,36.863216 L 140.563028,36.862571 L 140.564127,36.862571 L 140.564998,36.862207 L 140.565104,36.862299 L 140.564906,36.862516 L 140.564972,36.863046 L 140.565518,36.864032 L 140.567452,36.863204 L 140.568646,36.864243 L 140.570641,36.863993 L 140.572258,36.864082 L 140.572585,36.864291 L 140.572802,36.865085 L 140.572298,36.866021 L 140.573195,36.866826 L 140.574448,36.867562 L 140.575315,36.869076 L 140.577773,36.868774 L 140.580456,36.866893 L 140.581598,36.867865 L 140.582855,36.868068 L 140.584531,36.870043 L 140.584725,36.870487 L 140.584718,36.871143 L 140.58528,36.87164 L 140.585357,36.872087 L 140.585938,36.872767 L 140.586015,36.873156 L 140.586834,36.87377 L 140.587713,36.874059 L 140.588738,36.874915 L 140.589351,36.87382 L 140.591155,36.872798 L 140.591663,36.872812 L 140.591968,36.873023 L 140.592229,36.873457 L 140.59271,36.875454 L 140.59321,36.876659 L 140.59325,36.877442 L 140.592887,36.878667 L 140.593265,36.880036 L 140.592816,36.88042 L 140.59231,36.881222 L 140.591608,36.881628 L 140.591362,36.882281 L 140.589881,36.884575 L 140.588808,36.885008 L 140.5879,36.885075 L 140.587808,36.885541 L 140.587154,36.88623 L 140.586188,36.886172 L 140.585787,36.886422 L 140.585629,36.886838 L 140.58625,36.887646 L 140.58481,36.888835 L 140.58413,36.88986 L 140.583689,36.890099 L 140.583472,36.890724 L 140.583619,36.891463 L 140.582862,36.892265 L 140.582462,36.893112 L 140.581775,36.893368 L 140.58122,36.892921 L 140.580885,36.892851 L 140.580143,36.893151 L 140.579838,36.893637 L 140.579746,36.895376 L 140.579419,36.895754 L 140.57936,36.89614 L 140.57993,36.897931 L 140.579636,36.898948 L 140.580525,36.900245 L 140.580132,36.900834 L 140.580106,36.901242 L 140.580933,36.902489 L 140.580742,36.903036 L 140.580859,36.903456 L 140.580756,36.904411 L 140.57857,36.905214 L 140.577108,36.906594 L 140.576274,36.906641 L 140.576218,36.907383 L 140.575954,36.907841 L 140.574216,36.908605 L 140.573856,36.908947 L 140.574194,36.910236 L 140.573808,36.911005 L 140.571787,36.912477 L 140.571335,36.912429 L 140.570519,36.911677 L 140.570144,36.911727 L 140.56985,36.911927 L 140.568718,36.913771 L 140.568336,36.913982 L 140.567363,36.913843 L 140.566881,36.913213 L 140.565253,36.912566 L 140.564941,36.91286 L 140.564893,36.91459 L 140.565257,36.915676 L 140.565639,36.916437 L 140.566278,36.916762 L 140.566337,36.917234 L 140.567667,36.918948 L 140.56773,36.919875 L 140.567385,36.921142 L 140.567955,36.923334 L 140.56787,36.925062 L 140.568691,36.926555 L 140.570567,36.931318 L 140.570327,36.931972 L 140.568563,36.932857 L 140.568169,36.933292 L 140.567198,36.935104 L 140.567428,36.936678 L 140.569517,36.938675 L 140.57112,36.939333 L 140.573146,36.939776 L 140.573732,36.939592 L 140.57423,36.939079 L 140.574908,36.939034 L 140.574836,36.939935 L 140.57443,36.940851 L 140.574456,36.941311 L 140.574679,36.942081 L 140.575417,36.942512 L 140.576029,36.942679 L 140.576988,36.942251 L 140.578495,36.942199 L 140.579062,36.942276 L 140.580384,36.942809 L 140.581431,36.942636 L 140.582166,36.942721 L 140.583188,36.943104 L 140.583841,36.944324 L 140.584069,36.944468 L 140.584836,36.944492 L 140.5862,36.945302 L 140.586588,36.945108 L 140.587556,36.943986 L 140.587532,36.94355 L 140.588103,36.941968 L 140.589281,36.939484 L 140.591054,36.938256 L 140.591644,36.938127 L 140.592109,36.938377 L 140.5925,36.939248 L 140.592852,36.939326 L 140.593703,36.938993 L 140.594443,36.938057 L 140.594283,36.937617 L 140.593379,36.936994 L 140.592469,36.936002 L 140.592606,36.935614 L 140.593857,36.934282 L 140.593996,36.933151 L 140.594528,36.932293 L 140.593948,36.931535 L 140.593939,36.931075 L 140.594439,36.930066 L 140.593492,36.928797 L 140.594035,36.928352 L 140.592858,36.927343 L 140.592656,36.926949 L 140.592772,36.92657 L 140.594059,36.926297 L 140.595626,36.925595 L 140.598027,36.925049 L 140.598701,36.923958 L 140.599216,36.923447 L 140.600012,36.92305 L 140.60123,36.922813 L 140.601206,36.922464 L 140.600702,36.922025 L 140.600598,36.921709 L 140.600749,36.920906 L 140.60105,36.920655 L 140.602367,36.920391 L 140.602874,36.919968 L 140.602894,36.91896 L 140.603938,36.918177 L 140.604448,36.917244 L 140.604577,36.916605 L 140.605488,36.916005 L 140.606686,36.914747 L 140.607175,36.912769 L 140.608289,36.912283 L 140.608862,36.911744 L 140.609747,36.911653 L 140.610372,36.910675 L 140.61075,36.910481 L 140.611412,36.910289 L 140.612452,36.910675 L 140.612775,36.910553 L 140.613135,36.909381 L 140.614271,36.908597 L 140.614723,36.907251 L 140.615619,36.906748 L 140.614649,36.904154 L 140.614752,36.903837 L 140.615502,36.903273 L 140.617291,36.903473 L 140.619706,36.902943 L 140.620951,36.902451 L 140.621728,36.903215 L 140.622412,36.903271 L 140.624123,36.902621 L 140.625264,36.902599 L 140.625796,36.901932 L 140.627972,36.90286 L 140.628107,36.902052 L 140.628396,36.901457 L 140.630468,36.900796 L 140.630653,36.899969 L 140.631933,36.899744 L 140.633589,36.899102 L 140.635132,36.898966 L 140.635681,36.898394 L 140.635964,36.897711 L 140.636196,36.897575 L 140.637264,36.897566 L 140.639046,36.898025 L 140.642073,36.899111 L 140.644457,36.89895 L 140.646431,36.899372 L 140.64666,36.899705 L 140.64669,36.900836 L 140.646902,36.90103 L 140.648401,36.90068 L 140.650856,36.899697 L 140.653456,36.900536 L 140.654268,36.90095 L 140.654941,36.901044 L 140.655221,36.899361 L 140.655032,36.898836 L 140.655847,36.897289 L 140.656063,36.897153 L 140.658083,36.897281 L 140.659104,36.897064 L 140.659969,36.896656 L 140.661481,36.896775 L 140.662687,36.896387 L 140.663681,36.896601 L 140.664303,36.896567 L 140.666476,36.895081 L 140.666998,36.894981 L 140.667668,36.895087 L 140.670264,36.894354 L 140.670652,36.893862 L 140.671696,36.893457 L 140.672632,36.893634 L 140.673383,36.893176 L 140.674969,36.893746 L 140.676104,36.893812 L 140.676862,36.893462 L 140.678357,36.89326 L 140.679051,36.892979 L 140.680085,36.893387 L 140.680583,36.892899 L 140.681412,36.892457 L 140.682729,36.891179 L 140.683045,36.89111 L 140.683476,36.890724 L 140.68515,36.89053 L 140.686026,36.890024 L 140.686719,36.890285 L 140.688252,36.889499 L 140.688461,36.889238 L 140.688006,36.888486 L 140.688969,36.888205 L 140.690909,36.888533 L 140.692431,36.887555 L 140.693493,36.888477 L 140.694428,36.888541 L 140.695018,36.888791 L 140.695334,36.888233 L 140.696884,36.88738 L 140.696877,36.887108 L 140.696338,36.886369 L 140.696389,36.886014 L 140.697274,36.885036 L 140.69843,36.884364 L 140.698847,36.883678 L 140.699093,36.883545 L 140.700727,36.883695 L 140.702346,36.883481 L 140.703273,36.882895 L 140.703852,36.881931 L 140.704357,36.881698 L 140.705617,36.88167 L 140.706058,36.881451 L 140.706139,36.88122 L 140.705031,36.880306 L 140.705054,36.880123 L 140.705654,36.879584 L 140.705411,36.878709 L 140.705469,36.878398 L 140.706105,36.87844 L 140.706961,36.878256 L 140.707402,36.878345 L 140.708581,36.877415 L 140.709844,36.877129 L 140.71012,36.876379 L 140.710955,36.875374 L 140.714252,36.872788 L 140.716586,36.872613 L 140.717724,36.872152 L 140.718936,36.872569 L 140.719522,36.872577 L 140.719909,36.872327 L 140.720226,36.871458 L 140.72063,36.871127 L 140.721418,36.870877 L 140.722213,36.871069 L 140.723247,36.87103 L 140.723607,36.871924 L 140.72355,36.873177 L 140.724068,36.874035 L 140.725894,36.874513 L 140.726763,36.874524 L 140.728174,36.874213 L 140.729336,36.874419 L 140.730868,36.87383 L 140.731188,36.87245 L 140.734189,36.871597 L 140.735155,36.872661 L 140.736546,36.872916 L 140.737024,36.873389 L 140.737614,36.873572 L 140.738311,36.874177 L 140.739553,36.874722 L 140.739873,36.875272 L 140.740352,36.875533 L 140.740827,36.875561 L 140.741473,36.875272 L 140.742282,36.874524 L 140.742881,36.87335 L 140.744575,36.87285 L 140.744703,36.872055 L 140.745639,36.871333 L 140.745996,36.871231 L 140.746637,36.871428 L 140.747662,36.871411 L 140.7493,36.870269 L 140.751962,36.870444 L 140.752812,36.870161 L 140.754699,36.869911 L 140.755537,36.869553 L 140.756062,36.868603 L 140.757299,36.867545 L 140.758362,36.867303 L 140.759099,36.867995 L 140.759812,36.869028 L 140.759762,36.869786 L 140.760012,36.870994 L 140.759899,36.871711 L 140.759287,36.871969 L 140.758187,36.871969 L 140.757912,36.872378 L 140.760087,36.872369 L 140.760374,36.872186 L 140.760437,36.871419 L 140.760712,36.870961 L 140.761712,36.870628 L 140.761999,36.870353 L 140.761862,36.870161 L 140.760662,36.870311 L 140.760437,36.870211 L 140.760362,36.869961 L 140.760524,36.869636 L 140.759687,36.866953 L 140.759837,36.866728 L 140.760912,36.866737 L 140.761412,36.866437 L 140.761812,36.865354 L 140.762324,36.865179 L 140.762937,36.864421 L 140.763487,36.864671 L 140.763712,36.865562 L 140.764199,36.866112 L 140.763999,36.866937 L 140.764374,36.866904 L 140.764624,36.866695 L 140.764799,36.86572 L 140.764374,36.865379 L 140.764062,36.864596 L 140.763437,36.864012 L 140.763424,36.863696 L 140.763799,36.863187 L 140.764124,36.863112 L 140.765512,36.863387 L 140.765937,36.864454 L 140.765974,36.865379 L 140.765312,36.866779 L 140.765349,36.867437 L 140.765537,36.867445 L 140.766587,36.865637 L 140.767312,36.865112 L 140.767237,36.864837 L 140.766687,36.865021 L 140.766462,36.864629 L 140.766637,36.864362 L 140.767037,36.864237 L 140.767062,36.863846 L 140.766374,36.863879 L 140.766237,36.863287 L 140.766374,36.863062 L 140.766812,36.863062 L 140.767112,36.862854 L 140.767262,36.862646 L 140.767199,36.862312 L 140.765949,36.862662 L 140.764924,36.862529 L 140.765024,36.862279 L 140.766812,36.861554 L 140.767849,36.861596 L 140.768587,36.861804 L 140.769212,36.862204 L 140.770599,36.862588 L 140.771524,36.863071 L 140.771674,36.864487 L 140.770887,36.864579 L 140.768937,36.865387 L 140.767237,36.866937 L 140.767074,36.867395 L 140.767237,36.86782 L 140.767649,36.866895 L 140.768562,36.866121 L 140.771449,36.865037 L 140.772199,36.865212 L 140.772649,36.865971 L 140.772162,36.866604 L 140.772099,36.867104 L 140.771524,36.867929 L 140.771674,36.868529 L 140.772049,36.868604 L 140.772286,36.867612 L 140.772611,36.867054 L 140.773524,36.866312 L 140.774736,36.867112 L 140.777186,36.867387 L 140.777786,36.867279 L 140.778223,36.867104 L 140.7785075,36.8663376 L 140.778812,36.8643343 L 140.781248,36.863929 L 140.781898,36.863279 L 140.782458,36.863191 L 140.78346,36.863363 L 140.784785,36.862263 L 140.785635,36.862288 L 140.786398,36.862113 L 140.785985,36.861022 L 140.786198,36.860288 L 140.78606,36.859238 L 140.785398,36.858372 L 140.785248,36.857905 L 140.785798,36.856447 L 140.786148,36.856231 L 140.786848,36.856172 L 140.787998,36.856631 L 140.78971,36.856489 L 140.791063,36.857449 L 140.79101,36.858614 L 140.792784,36.858622 L 140.792972,36.858747 L 140.7937556,36.8599261 L 140.79689,36.8630304 L 140.7974049,36.8645412 L 140.7989284,36.8675111 L 140.8041641,36.8707898 L 140.8226606,36.8758365 L 140.8342692,36.8766775 L 140.836651,36.8757678 L 140.8618209,36.862172 L 140.8682383,36.8550385 L 140.9673084,36.7915537 L 141.0308016,36.7443355 L 141.0402434,36.7489168 L 141.0493844,36.7538168 L 141.0582464,36.7589571 L 141.0666578,36.7644064 L 141.0750263,36.7701304 L 141.0830086,36.7761805 L 141.0904115,36.7824364 L 141.0975996,36.7888988 L 141.1077485,36.7947447 L 141.1277041,36.8067719 L 141.1372742,36.8131455 L 141.1462865,36.8198793 L 141.1549768,36.8270248 L 141.163002,36.8343413 L 141.1705551,36.8420521 L 141.1778078,36.8500712 L 141.1844597,36.8583642 L 141.190618,36.8668279 L 141.1961326,36.8755653 L 141.2013469,36.8845763 L 141.2058744,36.8937922 L 141.2098441,36.9030413 L 141.213274,36.9126924 L 141.2153165,36.916381 L 141.2199437,36.9263821 L 141.2225401,36.9325056 L 141.2248146,36.9387487 L 141.2268102,36.9450428 L 141.2286555,36.9514906 L 141.2302434,36.9580408 L 141.2314879,36.9646761 L 141.2324965,36.9713452 L 141.2336766,36.9845786 L 141.2339127,36.9912117 L 141.2337954,36.9979169 L 141.2333448,37.0044631 L 141.2319501,37.0175538 L 141.2319105,37.0241754 L 141.236481,37.0336142 L 141.2407296,37.0433772 L 141.2445276,37.0531904 L 141.2476819,37.0631736 L 141.2496989,37.0702962 L 141.2511366,37.0770245 L 141.2532823,37.0908386 L 141.2538402,37.0977191 L 141.2541836,37.1046674 L 141.2558358,37.1113584 L 141.2572091,37.1181686 L 141.2583464,37.1249268 L 141.2591403,37.131787 L 141.259548,37.1386467 L 141.2596767,37.1457109 L 141.2595909,37.1526377 L 141.2592755,37.159531 L 141.262355,37.1655026 L 141.267698,37.1774029 L 141.2720539,37.1896774 L 141.2738778,37.196002 L 141.2754442,37.2023089 L 141.2767746,37.2087007 L 141.277826,37.214904 L 141.2786414,37.2213631 L 141.2795641,37.2341942 L 141.2795426,37.2407029 L 141.2792422,37.2471769 L 141.2788131,37.253582 L 141.278045,37.2601028 L 141.2801879,37.265938 L 141.2822478,37.2722049 L 141.2840288,37.2787445 L 141.2855309,37.2850786 L 141.2867969,37.2915146 L 141.2877839,37.2980184 L 141.2889641,37.3108023 L 141.2892001,37.3175945 L 141.2886851,37.3302215 L 141.2881114,37.3368104 L 141.2892652,37.3442368 L 141.2900591,37.3522029 L 141.2905097,37.3602534 L 141.2904668,37.3680132 L 141.2900376,37.3759086 L 141.2892866,37.3837691 L 141.2911175,37.3917225 L 141.2924907,37.3997858 L 141.2935207,37.4079165 L 141.2940786,37.4161144 L 141.2944434,37.4244648 L 141.2939713,37.4328484 L 141.2933491,37.4411118 L 141.2921263,37.4493799 L 141.2936774,37.4588877 L 141.2945357,37.4685107 L 141.295158,37.4781494 L 141.2950936,37.4879061 L 141.2943815,37.4974138 L 141.2931859,37.5069574 L 141.2912806,37.5172852 L 141.2886841,37.5267967 L 141.2874699,37.5338333 L 141.2859568,37.5408396 L 141.2839767,37.5483339 L 141.2815826,37.5558986 L 141.2807621,37.5613287 L 141.2803973,37.5683533 L 141.279539,37.5757344 L 141.2783803,37.5831487 L 141.2790457,37.5893296 L 141.2794105,37.5949405 L 141.2795607,37.6007039 L 141.2823738,37.6072998 L 141.2846269,37.6137761 L 141.2867083,37.6203879 L 141.288618,37.62722 L 141.2900557,37.6339155 L 141.2913002,37.6406954 L 141.2922229,37.6475426 L 141.2932529,37.66132 L 141.2932314,37.6683182 L 141.2923946,37.6818541 L 141.2903346,37.6950819 L 141.2890043,37.7013978 L 141.2873949,37.7077301 L 141.2854852,37.7141468 L 141.2833394,37.720495 L 141.2809362,37.7267578 L 141.2782754,37.7328843 L 141.2753786,37.7390103 L 141.2722458,37.7448813 L 141.2651862,37.7566389 L 141.4376625,37.8867802 L 141.3696949,37.9378721 L 141.2990958,37.9885988 L 141.2214765,37.9750937 L 141.206778,37.9736221 L 141.1903629,37.9692241 L 141.0087728,37.9047053 L 140.9989819,37.9009872 L 140.9519681,37.8989046 L 140.9455952,37.8984982 L 140.934051,37.8969743 L 140.930742,37.896138 L 140.930349,37.896143 L 140.929757,37.896465 L 140.929447,37.896227 L 140.929314,37.895801 L 140.928569,37.895551 L 140.927986,37.895543 L 140.927043,37.895808 L 140.92594,37.895684 L 140.92495,37.895188 L 140.924168,37.895067 L 140.923874,37.894826 L 140.923826,37.892181 L 140.922892,37.892019 L 140.921902,37.892289 L 140.920473,37.892297 L 140.920174,37.892003 L 140.919828,37.892615 L 140.919594,37.893646 L 140.9198,37.894101 L 140.919538,37.894556 L 140.917641,37.89555 L 140.917525,37.896138 L 140.915806,37.897338 L 140.915556,37.897371 L 140.914831,37.898035 L 140.914412,37.897954 L 140.912883,37.896863 L 140.911876,37.896573 L 140.910241,37.896786 L 140.908993,37.897209 L 140.908043,37.89733 L 140.907563,37.897318 L 140.907169,37.896819 L 140.906501,37.896827 L 140.904012,37.897012 L 140.902534,37.897664 L 140.901085,37.897644 L 140.899615,37.900027 L 140.899703,37.900812 L 140.900001,37.901279 L 140.900457,37.901562 L 140.900476,37.902681 L 140.900678,37.903063 L 140.90067,37.903285 L 140.900408,37.90353 L 140.900573,37.904231 L 140.900186,37.904336 L 140.898113,37.902995 L 140.89647,37.902475 L 140.895544,37.902314 L 140.894469,37.902451 L 140.894103,37.902105 L 140.893789,37.902036 L 140.892609,37.902326 L 140.891518,37.902064 L 140.890922,37.902382 L 140.89066,37.902366 L 140.890362,37.902213 L 140.889637,37.901178 L 140.879946,37.897551 L 140.872808,37.896439 L 140.870122,37.896423 L 140.869246,37.895976 L 140.868276,37.895137 L 140.867014,37.894403 L 140.865323,37.893828 L 140.864085,37.892971 L 140.861928,37.892844 L 140.859649,37.892039 L 140.857662,37.891638 L 140.856635,37.891233 L 140.856218,37.890906 L 140.856867,37.889988 L 140.858243,37.889132 L 140.859904,37.888669 L 140.859751,37.888238 L 140.859109,37.8876 L 140.857345,37.887268 L 140.856721,37.886659 L 140.856426,37.885073 L 140.856599,37.883804 L 140.856506,37.88261 L 140.8566101,37.8824254 L 140.857198,37.882582 L 140.857205,37.882072 L 140.857419,37.881577 L 140.858955,37.880914 L 140.85991,37.879699 L 140.861089,37.879407 L 140.858891,37.877621 L 140.856617,37.876274 L 140.856335,37.875981 L 140.85615,37.875372 L 140.854546,37.874524 L 140.855188,37.873701 L 140.856364,37.872656 L 140.856474,37.872407 L 140.856371,37.871876 L 140.856888,37.870782 L 140.857793,37.869481 L 140.858414,37.869242 L 140.859661,37.86792 L 140.860641,37.867303 L 140.861272,37.865817 L 140.861069,37.864092 L 140.861148,37.863544 L 140.861529,37.862834 L 140.861433,37.861979 L 140.861226,37.861423 L 140.860584,37.86066 L 140.860392,37.85991 L 140.858746,37.856383 L 140.856311,37.855221 L 140.856151,37.854505 L 140.855086,37.852912 L 140.853721,37.852459 L 140.853503,37.851536 L 140.852634,37.851254 L 140.851404,37.851265 L 140.850941,37.850962 L 140.850777,37.85073 L 140.850901,37.850032 L 140.850506,37.849237 L 140.851379,37.847922 L 140.851696,37.8464 L 140.852762,37.844408 L 140.853087,37.843396 L 140.854231,37.841774 L 140.854163,37.839639 L 140.853981,37.838802 L 140.854184,37.837989 L 140.853807,37.837195 L 140.854025,37.836347 L 140.853404,37.835274 L 140.855057,37.833781 L 140.853885,37.83329 L 140.852661,37.831868 L 140.852255,37.830213 L 140.852309,37.829739 L 140.852722,37.829436 L 140.853561,37.829251 L 140.855524,37.829381 L 140.855944,37.828818 L 140.854791,37.827324 L 140.854272,37.826077 L 140.854104,37.825021 L 140.85417,37.824248 L 140.854011,37.823708 L 140.853766,37.823481 L 140.853925,37.821908 L 140.853606,37.821366 L 140.853624,37.821019 L 140.854066,37.820426 L 140.854376,37.819496 L 140.85561,37.818509 L 140.855896,37.818094 L 140.85685,37.817729 L 140.85775,37.816879 L 140.858209,37.814948 L 140.858184,37.814562 L 140.857948,37.81428 L 140.856918,37.81407 L 140.85515,37.813199 L 140.853921,37.811746 L 140.85415,37.811225 L 140.854146,37.810534 L 140.853781,37.80976 L 140.854096,37.808376 L 140.853683,37.807034 L 140.855216,37.805874 L 140.855389,37.804977 L 140.855835,37.804489 L 140.85774,37.803466 L 140.857906,37.803252 L 140.857878,37.802859 L 140.856967,37.801969 L 140.856532,37.801192 L 140.855744,37.800566 L 140.854543,37.79869 L 140.854822,37.797717 L 140.854718,37.797341 L 140.852809,37.796354 L 140.852321,37.795627 L 140.851684,37.795313 L 140.850126,37.795241 L 140.849172,37.795562 L 140.847819,37.795706 L 140.845859,37.795146 L 140.845188,37.79537 L 140.842844,37.795471 L 140.841315,37.796061 L 140.840509,37.796006 L 140.838053,37.795222 L 140.836972,37.795193 L 140.836416,37.795022 L 140.835296,37.795117 L 140.834239,37.795681 L 140.833802,37.795584 L 140.833224,37.795146 L 140.832022,37.795449 L 140.831516,37.794871 L 140.830476,37.794769 L 140.829347,37.795749 L 140.828259,37.795796 L 140.826993,37.796136 L 140.82592,37.796805 L 140.825363,37.797745 L 140.824333,37.797973 L 140.823764,37.7987 L 140.822434,37.798497 L 140.821585,37.798891 L 140.820633,37.798544 L 140.819419,37.798718 L 140.817416,37.798207 L 140.816357,37.798251 L 140.814983,37.797437 L 140.814039,37.797195 L 140.813209,37.796134 L 140.81145,37.7961 L 140.810355,37.795528 L 140.809716,37.795629 L 140.809226,37.795932 L 140.807918,37.797339 L 140.80646,37.797624 L 140.805973,37.798009 L 140.804707,37.797705 L 140.804281,37.797806 L 140.80334,37.797705 L 140.802422,37.798041 L 140.800726,37.797838 L 140.793749,37.800607 L 140.793268,37.800643 L 140.792187,37.800137 L 140.7907,37.801453 L 140.789926,37.801912 L 140.789507,37.801949 L 140.787808,37.801532 L 140.786691,37.802581 L 140.784973,37.803286 L 140.784315,37.80389 L 140.783209,37.804493 L 140.782023,37.804609 L 140.780707,37.805191 L 140.779569,37.805166 L 140.778458,37.806073 L 140.77798,37.806276 L 140.776653,37.806099 L 140.775023,37.806362 L 140.773696,37.804454 L 140.773584,37.803586 L 140.773678,37.80232 L 140.773031,37.801221 L 140.771527,37.80052 L 140.77011,37.80044 L 140.768981,37.800169 L 140.765475,37.79865 L 140.76465,37.797808 L 140.764405,37.797363 L 140.764408,37.796901 L 140.764986,37.796174 L 140.765818,37.795968 L 140.76643,37.796192 L 140.76691,37.797041 L 140.76816,37.797758 L 140.771686,37.79753 L 140.772715,37.797282 L 140.773114,37.796897 L 140.773024,37.795939 L 140.773252,37.79514 L 140.774232,37.794113 L 140.774832,37.79394 L 140.776647,37.794337 L 140.777418,37.79415 L 140.778903,37.793337 L 140.778823,37.792049 L 140.778975,37.791329 L 140.779376,37.790953 L 140.779705,37.790899 L 140.782816,37.791561 L 140.783274,37.791265 L 140.783036,37.789992 L 140.783516,37.789533 L 140.78429,37.78924 L 140.786745,37.789182 L 140.787106,37.789034 L 140.788061,37.78753 L 140.789645,37.78655 L 140.790376,37.785719 L 140.792205,37.784204 L 140.793448,37.782841 L 140.794457,37.78219 L 140.794457,37.781276 L 140.794892,37.780911 L 140.795788,37.780747 L 140.796554,37.780994 L 140.797205,37.781008 L 140.798915,37.780527 L 140.800939,37.780325 L 140.803204,37.779847 L 140.802459,37.779378 L 140.800316,37.778582 L 140.799577,37.778022 L 140.799121,37.777122 L 140.799259,37.776113 L 140.798298,37.775386 L 140.797878,37.774811 L 140.794949,37.773376 L 140.792056,37.773277 L 140.791569,37.773416 L 140.790013,37.774359 L 140.788383,37.774492 L 140.787006,37.774966 L 140.785556,37.775801 L 140.782993,37.777906 L 140.781932,37.778429 L 140.780039,37.778763 L 140.776647,37.781145 L 140.775189,37.781821 L 140.77091,37.782769 L 140.764986,37.783796 L 140.760418,37.785133 L 140.75877,37.785422 L 140.748959,37.785304 L 140.745649,37.788304 L 140.74512,37.788467 L 140.744369,37.788226 L 140.737999,37.787237 L 140.736262,37.785533 L 140.734861,37.784985 L 140.732914,37.783478 L 140.729864,37.782261 L 140.726941,37.781483 L 140.726438,37.781737 L 140.726212,37.782209 L 140.725918,37.784706 L 140.725389,37.786678 L 140.724199,37.78932 L 140.723999,37.790329 L 140.722973,37.792539 L 140.719643,37.793345 L 140.719012,37.793622 L 140.718302,37.794533 L 140.7171,37.794948 L 140.716241,37.796488 L 140.71595,37.796714 L 140.714816,37.797056 L 140.714287,37.797526 L 140.713178,37.799464 L 140.712211,37.800299 L 140.7098,37.801434 L 140.708259,37.801494 L 140.70682,37.802102 L 140.70629,37.801973 L 140.705765,37.802382 L 140.704174,37.802469 L 140.703513,37.802645 L 140.702756,37.803208 L 140.700745,37.803257 L 140.696838,37.802686 L 140.694344,37.803269 L 140.694341,37.803661 L 140.695075,37.804122 L 140.695251,37.804667 L 140.69434,37.805441 L 140.693782,37.806356 L 140.69237,37.807047 L 140.691865,37.807548 L 140.691919,37.80824 L 140.691336,37.80937 L 140.691571,37.810425 L 140.68977,37.812751 L 140.689748,37.813228 L 140.689031,37.813014 L 140.688171,37.813209 L 140.686695,37.814281 L 140.685358,37.815561 L 140.685544,37.816146 L 140.68525,37.816924 L 140.685224,37.817693 L 140.686418,37.819528 L 140.686518,37.819982 L 140.685641,37.821021 L 140.686128,37.822128 L 140.686151,37.822543 L 140.684883,37.823422 L 140.684613,37.823888 L 140.684991,37.82623 L 140.68412,37.827727 L 140.683531,37.828324 L 140.684306,37.830031 L 140.684348,37.830527 L 140.683032,37.832959 L 140.68256,37.833466 L 140.679587,37.83509 L 140.679335,37.83543 L 140.679205,37.836342 L 140.679476,37.836856 L 140.682057,37.837875 L 140.68283,37.838419 L 140.683767,37.838817 L 140.684215,37.839477 L 140.684437,37.840834 L 140.684812,37.841364 L 140.685814,37.84196 L 140.686859,37.842051 L 140.686874,37.842386 L 140.68629,37.843671 L 140.685768,37.844107 L 140.685983,37.845027 L 140.685686,37.845801 L 140.685578,37.84689 L 140.685922,37.847163 L 140.68643,37.847282 L 140.687794,37.847307 L 140.688166,37.848192 L 140.688667,37.84876 L 140.691491,37.849461 L 140.691519,37.850034 L 140.691978,37.850868 L 140.691859,37.851279 L 140.690972,37.851852 L 140.690771,37.85284 L 140.691133,37.853818 L 140.692224,37.855353 L 140.692167,37.856022 L 140.692747,37.856868 L 140.692851,37.857285 L 140.692314,37.857852 L 140.692421,37.858317 L 140.692131,37.8592 L 140.69168,37.859682 L 140.691644,37.860119 L 140.691423,37.860465 L 140.691412,37.861359 L 140.690496,37.862567 L 140.689379,37.862573 L 140.688645,37.863149 L 140.687682,37.864751 L 140.68625,37.866124 L 140.686154,37.867483 L 140.685789,37.867943 L 140.685868,37.868124 L 140.686512,37.868391 L 140.686844,37.868814 L 140.686859,37.869182 L 140.686394,37.869818 L 140.687349,37.870621 L 140.687428,37.871392 L 140.686633,37.87251 L 140.68494,37.872712 L 140.682929,37.873835 L 140.682589,37.874728 L 140.681841,37.875929 L 140.682284,37.876451 L 140.682718,37.877872 L 140.682853,37.879517 L 140.685541,37.880365 L 140.687664,37.881622 L 140.689124,37.882893 L 140.69086,37.883679 L 140.691017,37.883946 L 140.690774,37.884723 L 140.690226,37.885463 L 140.689632,37.885821 L 140.689918,37.88628 L 140.690094,37.887162 L 140.690051,37.888218 L 140.689034,37.888689 L 140.688515,37.88914 L 140.684875,37.889818 L 140.683802,37.89022 L 140.682309,37.890518 L 140.680305,37.891704 L 140.679242,37.892013 L 140.676844,37.892251 L 140.676046,37.892527 L 140.67402,37.892583 L 140.672255,37.892972 L 140.671453,37.89363 L 140.670079,37.894379 L 140.666947,37.895062 L 140.666672,37.895292 L 140.666364,37.896155 L 140.66514,37.8962 L 140.665054,37.896597 L 140.665261,37.897221 L 140.664893,37.897519 L 140.664134,37.897735 L 140.664005,37.897922 L 140.663987,37.898821 L 140.662831,37.899272 L 140.662574,37.900225 L 140.661414,37.900191 L 140.660498,37.900861 L 140.659975,37.900889 L 140.657126,37.900242 L 140.655022,37.900219 L 140.653011,37.899953 L 140.648931,37.898909 L 140.647263,37.898801 L 140.646833,37.898642 L 140.645745,37.897723 L 140.644643,37.895453 L 140.633363,37.89796 L 140.627314,37.899078 L 140.624208,37.900382 L 140.62342,37.901018 L 140.622418,37.902641 L 140.62249,37.903843 L 140.621461,37.905752 L 140.620963,37.907193 L 140.620963,37.908089 L 140.620669,37.908895 L 140.619893,37.909953 L 140.618565,37.91258 L 140.617307,37.913191 L 140.615702,37.914773 L 140.613022,37.91492 L 140.612366,37.915286 L 140.611622,37.915168 L 140.611055,37.914424 L 140.610053,37.913607 L 140.609975,37.913021 L 140.610405,37.912133 L 140.610227,37.911588 L 140.610321,37.91121 L 140.610179,37.911098 L 140.608459,37.910923 L 140.607552,37.911039 L 140.606944,37.910888 L 140.605517,37.911711 L 140.60504,37.911012 L 140.604704,37.91079 L 140.601814,37.909948 L 140.600687,37.910514 L 140.599061,37.908358 L 140.598883,37.907745 L 140.597608,37.907304 L 140.596601,37.906309 L 140.595778,37.906184 L 140.595494,37.90662 L 140.594802,37.907053 L 140.593518,37.906477 L 140.591278,37.906177 L 140.590166,37.906601 L 140.588886,37.907689 L 140.588089,37.907955 L 140.587088,37.909702 L 140.586694,37.910081 L 140.585383,37.909919 L 140.584266,37.908923 L 140.582777,37.909727 L 140.581324,37.911109 L 140.580621,37.912348 L 140.57898,37.912853 L 140.577543,37.913816 L 140.575287,37.914485 L 140.575345,37.914967 L 140.575109,37.915364 L 140.574181,37.916004 L 140.574123,37.916345 L 140.574417,37.916983 L 140.573955,37.917665 L 140.573184,37.918064 L 140.571569,37.918182 L 140.569838,37.918797 L 140.569476,37.919999 L 140.569638,37.921006 L 140.568957,37.921552 L 140.566352,37.922795 L 140.566094,37.92257 L 140.565867,37.92166 L 140.565374,37.921131 L 140.563925,37.920254 L 140.563413,37.91944 L 140.563316,37.918876 L 140.56258,37.918118 L 140.562531,37.917916 L 140.563032,37.917246 L 140.563211,37.916491 L 140.564356,37.915417 L 140.564273,37.915151 L 140.563121,37.915044 L 140.562329,37.914027 L 140.562463,37.91376 L 140.563772,37.912931 L 140.563668,37.912187 L 140.562897,37.911374 L 140.561461,37.910781 L 140.560444,37.910696 L 140.558919,37.909942 L 140.558418,37.909883 L 140.556914,37.910153 L 140.556204,37.909797 L 140.554551,37.909427 L 140.554095,37.909456 L 140.553175,37.909841 L 140.552053,37.909747 L 140.550789,37.910016 L 140.549899,37.910004 L 140.548441,37.909358 L 140.547573,37.90862 L 140.547214,37.908502 L 140.544499,37.908555 L 140.543464,37.908017 L 140.540711,37.907654 L 140.539025,37.908017 L 140.53686,37.907594 L 140.535286,37.906322 L 140.533146,37.906641 L 140.532369,37.90566 L 140.53164,37.90522 L 140.531299,37.905249 L 140.530286,37.905909 L 140.529411,37.906752 L 140.527855,37.907013 L 140.526113,37.907894 L 140.524396,37.907869 L 140.522508,37.908802 L 140.521861,37.908834 L 140.521364,37.908305 L 140.520915,37.908104 L 140.520784,37.90761 L 140.520571,37.907474 L 140.519206,37.907903 L 140.518813,37.907893 L 140.517523,37.907594 L 140.516794,37.907144 L 140.515762,37.905765 L 140.515769,37.905536 L 140.516226,37.905022 L 140.515803,37.904474 L 140.515912,37.903642 L 140.515766,37.903497 L 140.513261,37.903097 L 140.511649,37.903537 L 140.511103,37.904228 L 140.509331,37.905196 L 140.508942,37.905187 L 140.507711,37.904604 L 140.507221,37.904536 L 140.505684,37.904961 L 140.50457,37.905496 L 140.503355,37.905584 L 140.50254,37.905192 L 140.502147,37.904579 L 140.502364,37.903549 L 140.502024,37.902774 L 140.500591,37.90269 L 140.499739,37.902304 L 140.49953,37.902129 L 140.499676,37.901312 L 140.498322,37.900364 L 140.497215,37.900077 L 140.49613,37.900238 L 140.494393,37.89975 L 140.491871,37.900483 L 140.491354,37.900507 L 140.490636,37.900296 L 140.489938,37.89957 L 140.488832,37.899474 L 140.485604,37.900864 L 140.484478,37.90155 L 140.483074,37.901742 L 140.482908,37.903709 L 140.481225,37.904371 L 140.480249,37.904985 L 140.479393,37.905778 L 140.476637,37.90692 L 140.476104,37.907483 L 140.475091,37.909834 L 140.474437,37.910742 L 140.472859,37.911725 L 140.472746,37.912518 L 140.471931,37.913449 L 140.471851,37.914184 L 140.471068,37.914977 L 140.470991,37.916017 L 140.470442,37.916452 L 140.469506,37.917872 L 140.469425,37.918486 L 140.470038,37.919369 L 140.469448,37.91966 L 140.469224,37.919983 L 140.469579,37.920471 L 140.469702,37.921004 L 140.46847,37.922959 L 140.468287,37.923717 L 140.469176,37.925742 L 140.468408,37.927292 L 140.469293,37.928328 L 140.469487,37.929275 L 140.468688,37.930064 L 140.468796,37.930657 L 140.468643,37.931044 L 140.467866,37.931709 L 140.467938,37.934037 L 140.468688,37.936224 L 140.468453,37.936749 L 140.467454,37.937822 L 140.467405,37.938173 L 140.468363,37.938745 L 140.468393,37.939727 L 140.468692,37.940365 L 140.469298,37.940931 L 140.471096,37.942004 L 140.471728,37.943295 L 140.472704,37.944668 L 140.473851,37.945591 L 140.474854,37.946786 L 140.472175,37.947347 L 140.470897,37.947455 L 140.469971,37.948099 L 140.468653,37.948666 L 140.46829,37.949014 L 140.465868,37.949179 L 140.465089,37.949826 L 140.464004,37.950312 L 140.463011,37.951257 L 140.461908,37.951679 L 140.461926,37.952194 L 140.461592,37.952595 L 140.459482,37.951667 L 140.457609,37.951329 L 140.456041,37.950377 L 140.454999,37.95027 L 140.453421,37.950799 L 140.451893,37.950795 L 140.451107,37.951074 L 140.449047,37.950776 L 140.448171,37.95096 L 140.447789,37.95113 L 140.447527,37.951495 L 140.447194,37.95234 L 140.447143,37.953239 L 140.44618,37.954998 L 140.444626,37.956987 L 140.443858,37.956312 L 140.441954,37.95584 L 140.441371,37.955419 L 140.440038,37.955005 L 140.439107,37.954289 L 140.438482,37.954077 L 140.434063,37.953803 L 140.432382,37.95401 L 140.431294,37.954267 L 140.430656,37.954604 L 140.429103,37.954418 L 140.42832,37.955276 L 140.42674,37.955729 L 140.424305,37.956805 L 140.423293,37.958127 L 140.422608,37.958573 L 140.421584,37.958953 L 140.421095,37.959606 L 140.420932,37.96028 L 140.419911,37.960824 L 140.418163,37.961416 L 140.417263,37.96151 L 140.415441,37.962206 L 140.414883,37.963056 L 140.414078,37.963492 L 140.4134,37.963585 L 140.411404,37.963377 L 140.409097,37.963817 L 140.409215,37.964132 L 140.408718,37.965419 L 140.408359,37.966161 L 140.407868,37.966704 L 140.407823,37.968678 L 140.408043,37.969807 L 140.407939,37.970175 L 140.40757,37.970445 L 140.407451,37.970756 L 140.407843,37.971686 L 140.407907,37.972425 L 140.407428,37.973676 L 140.404331,37.973767 L 140.400701,37.974332 L 140.39828,37.974388 L 140.396843,37.973651 L 140.393617,37.972786 L 140.39214,37.970836 L 140.390423,37.970278 L 140.389639,37.969699 L 140.388383,37.969119 L 140.385614,37.964898 L 140.386003,37.963925 L 140.385312,37.961916 L 140.385887,37.960116 L 140.385711,37.959673 L 140.38603,37.958154 L 140.385732,37.956444 L 140.385958,37.955641 L 140.385832,37.955425 L 140.384752,37.954937 L 140.384747,37.954316 L 140.385014,37.953968 L 140.385606,37.953723 L 140.385633,37.953114 L 140.385316,37.952642 L 140.384467,37.95222 L 140.383153,37.953094 L 140.38177,37.953221 L 140.379439,37.953922 L 140.375823,37.954655 L 140.374765,37.954684 L 140.373584,37.955125 L 140.372651,37.955278 L 140.370659,37.956989 L 140.369541,37.956641 L 140.368254,37.957043 L 140.366414,37.957007 L 140.366019,37.957311 L 140.365443,37.95816 L 140.364179,37.958732 L 140.362621,37.958607 L 140.362001,37.958812 L 140.358851,37.958973 L 140.356266,37.957963 L 140.355058,37.95782 L 140.354381,37.955523 L 140.353535,37.954781 L 140.353512,37.954424 L 140.353738,37.954165 L 140.354652,37.953727 L 140.355048,37.953003 L 140.355714,37.952547 L 140.355747,37.952136 L 140.353952,37.951081 L 140.353083,37.95126 L 140.351176,37.950259 L 140.348568,37.95016 L 140.345576,37.951161 L 140.344369,37.951241 L 140.341987,37.951706 L 140.341219,37.952412 L 140.340971,37.953047 L 140.340056,37.953315 L 140.338476,37.954128 L 140.336904,37.954648 L 140.336015,37.955111 L 140.335789,37.954995 L 140.335293,37.954164 L 140.334999,37.953333 L 140.334931,37.952528 L 140.334243,37.95142 L 140.333283,37.951679 L 140.332595,37.952233 L 140.332279,37.952725 L 140.332075,37.953815 L 140.331353,37.954995 L 140.329942,37.956211 L 140.328971,37.958025 L 140.327628,37.958722 L 140.326058,37.958749 L 140.324602,37.957962 L 140.321758,37.958203 L 140.32108,37.958606 L 140.319929,37.958882 L 140.31836,37.958221 L 140.317784,37.958319 L 140.316429,37.958114 L 140.315188,37.958802 L 140.315097,37.959562 L 140.314849,37.960125 L 140.315041,37.96109 L 140.315583,37.961966 L 140.315594,37.962386 L 140.315029,37.963101 L 140.314713,37.963968 L 140.314183,37.964415 L 140.313009,37.964424 L 140.312162,37.964021 L 140.311383,37.964156 L 140.310345,37.963914 L 140.309769,37.964164 L 140.308504,37.963592 L 140.308234,37.964976 L 140.307883,37.965416 L 140.307048,37.965889 L 140.306698,37.966345 L 140.304655,37.967132 L 140.304294,37.967498 L 140.302905,37.967793 L 140.302397,37.969035 L 140.299552,37.969652 L 140.298096,37.969697 L 140.296109,37.970349 L 140.293524,37.970143 L 140.292734,37.970358 L 140.291627,37.970358 L 140.291492,37.97051 L 140.291458,37.971538 L 140.28999,37.972315 L 140.284109,37.973119 L 140.282624,37.974748 L 140.281144,37.975581 L 140.27998,37.976647 L 140.277214,37.975581 L 140.275959,37.974361 L 140.275694,37.973762 L 140.275908,37.97293 L 140.275878,37.972356 L 140.275092,37.97209 L 140.274531,37.971338 L 140.273276,37.970805 L 140.272275,37.96855 L 140.271745,37.968049 L 140.271612,37.967395 L 140.271275,37.966821 L 140.271949,37.965771 L 140.271949,37.964268 L 140.272541,37.963427 L 140.272204,37.962336 L 140.272255,37.96106 L 140.272123,37.96068 L 140.272664,37.9595 L 140.272327,37.958441 L 140.27247,37.957932 L 140.273164,37.957375 L 140.273337,37.956793 L 140.275368,37.956955 L 140.276174,37.956729 L 140.276297,37.955896 L 140.276215,37.954062 L 140.277001,37.953658 L 140.278053,37.952632 L 140.277532,37.95209 L 140.277359,37.951161 L 140.27742,37.950022 L 140.27692,37.94923 L 140.276828,37.948785 L 140.276318,37.948066 L 140.275267,37.94725 L 140.27741,37.945319 L 140.277665,37.944575 L 140.277706,37.943468 L 140.278216,37.943072 L 140.278563,37.942539 L 140.280911,37.941593 L 140.280982,37.941351 L 140.279339,37.939533 L 140.278727,37.939282 L 140.278125,37.93929 L 140.278339,37.938644 L 140.278308,37.937941 L 140.278686,37.937181 L 140.278655,37.936139 L 140.278911,37.935549 L 140.278778,37.93441 L 140.279319,37.933609 L 140.278523,37.932632 L 140.278442,37.931299 L 140.278238,37.93079 L 140.27835,37.930071 L 140.27589,37.928277 L 140.275839,37.927808 L 140.276595,37.927008 L 140.276636,37.926637 L 140.276483,37.926354 L 140.275278,37.924891 L 140.274237,37.924124 L 140.273758,37.923138 L 140.273839,37.922693 L 140.272727,37.921506 L 140.272258,37.920641 L 140.272064,37.919914 L 140.270912,37.919266 L 140.269806,37.919116 L 140.268935,37.918771 L 140.267677,37.918066 L 140.266561,37.917091 L 140.266135,37.916184 L 140.266201,37.914482 L 140.266419,37.913522 L 140.266059,37.913027 L 140.264546,37.91209 L 140.264508,37.91194 L 140.264641,37.910838 L 140.265114,37.910178 L 140.264565,37.909353 L 140.264716,37.907284 L 140.264622,37.906219 L 140.26535,37.905462 L 140.265691,37.904502 L 140.265445,37.904029 L 140.265275,37.902927 L 140.266022,37.901091 L 140.266079,37.899703 L 140.266259,37.899456 L 140.26746,37.898877 L 140.267089,37.896577 L 140.267625,37.895704 L 140.268432,37.895149 L 140.268558,37.89426 L 140.269072,37.893803 L 140.269995,37.892368 L 140.270181,37.891382 L 140.270698,37.890741 L 140.270465,37.890304 L 140.269628,37.88983 L 140.267858,37.889186 L 140.266328,37.888916 L 140.266375,37.888447 L 140.267299,37.887336 L 140.267269,37.886512 L 140.266766,37.886148 L 140.26508,37.88627 L 140.264744,37.885959 L 140.265121,37.883909 L 140.265767,37.883265 L 140.265043,37.881866 L 140.26496,37.881006 L 140.265157,37.880382 L 140.264894,37.879521 L 140.265417,37.878964 L 140.265477,37.878676 L 140.26641,37.877951 L 140.267551,37.877552 L 140.269929,37.874364 L 140.269134,37.87343 L 140.269199,37.872747 L 140.268542,37.871079 L 140.269493,37.869783 L 140.269307,37.868174 L 140.269941,37.866549 L 140.269468,37.865182 L 140.267918,37.864981 L 140.267407,37.864191 L 140.265951,37.86297 L 140.265446,37.862158 L 140.265296,37.861395 L 140.265553,37.86048 L 140.265523,37.859101 L 140.266086,37.858324 L 140.267419,37.85738 L 140.266827,37.855494 L 140.265649,37.855153 L 140.265279,37.854821 L 140.266008,37.854011 L 140.266421,37.853101 L 140.266391,37.851996 L 140.265733,37.850617 L 140.265942,37.849309 L 140.266391,37.848186 L 140.267318,37.847569 L 140.266774,37.846569 L 140.266445,37.84503 L 140.266164,37.844646 L 140.26272,37.842044 L 140.262188,37.840352 L 140.263545,37.839523 L 140.264669,37.839238 L 140.265201,37.838873 L 140.262965,37.83739 L 140.26266,37.837001 L 140.26269,37.836703 L 140.263289,37.836331 L 140.263302,37.836046 L 140.262248,37.834979 L 140.262095,37.834419 L 140.262943,37.832407 L 140.264978,37.830152 L 140.264955,37.829606 L 140.265568,37.828951 L 140.26553,37.828264 L 140.265949,37.828045 L 140.266921,37.827079 L 140.267361,37.825682 L 140.267679,37.825478 L 140.269044,37.825341 L 140.26876,37.824256 L 140.268973,37.823791 L 140.270047,37.823469 L 140.271103,37.823483 L 140.272735,37.822433 L 140.274075,37.821898 L 140.274626,37.821144 L 140.275442,37.820722 L 140.276117,37.820736 L 140.276641,37.821123 L 140.277645,37.820737 L 140.278287,37.821076 L 140.279769,37.820058 L 140.279749,37.819495 L 140.280284,37.819052 L 140.281256,37.818497 L 140.282194,37.818381 L 140.283729,37.817058 L 140.284483,37.816761 L 140.285081,37.816063 L 140.284843,37.815655 L 140.285027,37.815373 L 140.285324,37.815292 L 140.285912,37.815504 L 140.286369,37.815416 L 140.286563,37.815234 L 140.286898,37.814255 L 140.28736,37.813831 L 140.288162,37.813877 L 140.288604,37.814444 L 140.289824,37.814968 L 140.290563,37.815107 L 140.291345,37.814941 L 140.293221,37.813757 L 140.293488,37.813449 L 140.293522,37.813071 L 140.293114,37.811995 L 140.29325,37.811424 L 140.294052,37.81085 L 140.295398,37.811047 L 140.295849,37.810962 L 140.295782,37.810333 L 140.296234,37.809547 L 140.297099,37.808929 L 140.297866,37.809041 L 140.298547,37.808579 L 140.2988,37.807927 L 140.298489,37.80726 L 140.297478,37.806396 L 140.295437,37.805702 L 140.294796,37.804838 L 140.294178,37.804476 L 140.293401,37.804202 L 140.292064,37.804028 L 140.29171,37.803473 L 140.291005,37.802952 L 140.290548,37.802135 L 140.290315,37.801259 L 140.287565,37.800754 L 140.286428,37.800839 L 140.284921,37.799744 L 140.283901,37.79947 L 140.283279,37.798768 L 140.28219,37.798232 L 140.28202,37.797947 L 140.282049,37.797252 L 140.281704,37.796597 L 140.281943,37.795795 L 140.281957,37.794692 L 140.282501,37.793049 L 140.282404,37.792193 L 140.281724,37.791353 L 140.280081,37.790242 L 140.279683,37.789217 L 140.279187,37.788662 L 140.278322,37.788072 L 140.276835,37.78764 L 140.276767,37.787184 L 140.277049,37.786059 L 140.277598,37.785206 L 140.27823,37.784759 L 140.277598,37.78388 L 140.277387,37.783233 L 140.276831,37.782716 L 140.276267,37.781771 L 140.275932,37.781559 L 140.275208,37.781659 L 140.273993,37.781528 L 140.273449,37.781042 L 140.272039,37.78048 L 140.267991,37.780345 L 140.267039,37.779566 L 140.266014,37.779068 L 140.265193,37.777609 L 140.264706,37.777366 L 140.263875,37.776475 L 140.263108,37.775924 L 140.262573,37.775241 L 140.263453,37.774027 L 140.263414,37.773637 L 140.262972,37.773035 L 140.261908,37.772453 L 140.26046,37.770968 L 140.256995,37.769704 L 140.255391,37.768176 L 140.25493,37.764621 L 140.253696,37.763803 L 140.252491,37.763452 L 140.251737,37.762449 L 140.25044,37.762021 L 140.249041,37.760479 L 140.246529,37.759621 L 140.245036,37.75893 L 140.244351,37.758417 L 140.244072,37.757214 L 140.243197,37.756419 L 140.242005,37.754969 L 140.240407,37.75353 L 140.240232,37.753007 L 140.240488,37.751061 L 140.240277,37.750435 L 140.238973,37.748222 L 140.237235,37.746471 L 140.235488,37.745889 L 140.231378,37.745982 L 140.229768,37.745709 L 140.228788,37.745771 L 140.226598,37.746408 L 140.22266,37.746565 L 140.221864,37.746335 L 140.221164,37.745896 L 140.220096,37.745774 L 140.218663,37.746185 L 140.215527,37.748198 L 140.214257,37.748229 L 140.213041,37.747912 L 140.211999,37.747897 L 140.210763,37.748049 L 140.209431,37.748568 L 140.208591,37.748557 L 140.207391,37.748979 L 140.206273,37.748631 L 140.205092,37.747564 L 140.204801,37.747533 L 140.204368,37.747701 L 140.200696,37.750437 L 140.20016,37.751058 L 140.199978,37.752446 L 140.199579,37.752814 L 140.197378,37.752845 L 140.196521,37.753211 L 140.191205,37.753154 L 140.190275,37.753474 L 140.189059,37.754171 L 140.188271,37.754137 L 140.1877,37.753841 L 140.185432,37.754796 L 140.180706,37.756176 L 140.179221,37.756453 L 140.175018,37.756398 L 140.171386,37.755993 L 140.170175,37.756 L 140.168911,37.756331 L 140.166913,37.757247 L 140.166395,37.757294 L 140.164079,37.756826 L 140.161542,37.756719 L 140.156181,37.754724 L 140.154003,37.7534 L 140.151141,37.753145 L 140.147936,37.752531 L 140.145991,37.752723 L 140.145846,37.751707 L 140.143981,37.746255 L 140.143048,37.744655 L 140.142037,37.743439 L 140.140996,37.74265 L 140.140104,37.740213 L 140.140066,37.73943 L 140.140658,37.738369 L 140.140674,37.738081 L 140.137083,37.738829 L 140.133625,37.7385 L 140.132686,37.738122 L 140.129129,37.735808 L 140.128448,37.735207 L 140.127722,37.73399 L 140.124393,37.733829 L 140.122611,37.733971 L 140.120346,37.734657 L 140.117548,37.734358 L 140.115353,37.734358 L 140.11062,37.737005 L 140.106637,37.738287 L 140.105849,37.738404 L 140.105102,37.738244 L 140.104371,37.737793 L 140.104096,37.737356 L 140.103789,37.737184 L 140.103366,37.737188 L 140.1021,37.737715 L 140.101412,37.738451 L 140.10124,37.739452 L 140.100426,37.740112 L 140.099106,37.740467 L 140.098519,37.741228 L 140.098501,37.742393 L 140.096472,37.743765 L 140.096197,37.744316 L 140.096198,37.746937 L 140.095279,37.748339 L 140.094177,37.74945 L 140.092574,37.750013 L 140.092228,37.750658 L 140.091119,37.751505 L 140.090398,37.752569 L 140.090019,37.753733 L 140.089051,37.755161 L 140.087448,37.755844 L 140.087034,37.756242 L 140.0865,37.757442 L 140.086712,37.758046 L 140.083402,37.757847 L 140.081843,37.757097 L 140.080303,37.756091 L 140.076826,37.757444 L 140.073879,37.757526 L 140.072384,37.757844 L 140.069105,37.757847 L 140.068331,37.75928 L 140.067663,37.75972 L 140.067429,37.760109 L 140.067548,37.761576 L 140.066908,37.763434 L 140.067142,37.764517 L 140.066521,37.764778 L 140.0661,37.765207 L 140.065993,37.765867 L 140.065111,37.766772 L 140.06512,37.767396 L 140.064982,37.767621 L 140.064586,37.7678 L 140.063523,37.767782 L 140.062378,37.769256 L 140.061025,37.769745 L 140.060484,37.770254 L 140.059469,37.770672 L 140.058908,37.771154 L 140.057726,37.771311 L 140.055723,37.770863 L 140.053499,37.770842 L 140.053286,37.771666 L 140.054007,37.773134 L 140.05402,37.774069 L 140.054341,37.774487 L 140.054468,37.775038 L 140.053699,37.776164 L 140.053719,37.776514 L 140.052671,37.778572 L 140.052315,37.778922 L 140.051409,37.779336 L 140.050494,37.779036 L 140.049266,37.778919 L 140.048464,37.779052 L 140.048191,37.778866 L 140.047529,37.778252 L 140.047349,37.777534 L 140.044712,37.774142 L 140.044725,37.773369 L 140.044565,37.772908 L 140.044211,37.772638 L 140.04303,37.772407 L 140.041033,37.770944 L 140.040612,37.770253 L 140.038656,37.768687 L 140.037481,37.767982 L 140.035297,37.76728 L 140.033614,37.767333 L 140.032491,37.76768 L 140.031434,37.768884 L 140.031151,37.768041 L 140.030596,37.767579 L 140.029014,37.767338 L 140.026897,37.766212 L 140.02643,37.766127 L 140.02474,37.766292 L 140.021842,37.765298 L 140.021141,37.764302 L 140.020126,37.763594 L 140.020046,37.762694 L 140.019485,37.762026 L 140.018964,37.762005 L 140.017963,37.762272 L 140.017362,37.762823 L 140.017061,37.762903 L 140.014684,37.762672 L 140.012902,37.761787 L 140.011613,37.762368 L 140.010083,37.763997 L 140.008995,37.762646 L 140.0081,37.76272 L 140.006805,37.761827 L 140.006077,37.761536 L 140.00565,37.761101 L 140.003146,37.760155 L 140.001977,37.759402 L 140.000101,37.760015 L 139.999387,37.761101 L 139.998872,37.761339 L 139.998211,37.761308 L 139.995933,37.760259 L 139.995089,37.760151 L 139.992552,37.758702 L 139.990892,37.759534 L 139.989382,37.760048 L 139.987654,37.760083 L 139.986482,37.760411 L 139.984328,37.761933 L 139.983654,37.763791 L 139.983094,37.764368 L 139.981191,37.765039 L 139.980255,37.765098 L 139.979278,37.765776 L 139.978023,37.766243 L 139.977788,37.767673 L 139.978192,37.768247 L 139.978359,37.769016 L 139.977824,37.770388 L 139.978561,37.771438 L 139.978929,37.773554 L 139.976863,37.77475 L 139.975759,37.77582 L 139.973955,37.775577 L 139.97337,37.775781 L 139.973283,37.77682 L 139.973089,37.777277 L 139.972939,37.777478 L 139.971919,37.777732 L 139.971885,37.779095 L 139.971674,37.779222 L 139.971055,37.779198 L 139.970639,37.779462 L 139.97014,37.780084 L 139.969762,37.781194 L 139.967281,37.783656 L 139.967204,37.784586 L 139.967393,37.785619 L 139.967572,37.786026 L 139.968799,37.78747 L 139.968911,37.787881 L 139.968765,37.788468 L 139.968098,37.78901 L 139.96758,37.789986 L 139.966672,37.790773 L 139.966003,37.791037 L 139.965016,37.790976 L 139.964469,37.791203 L 139.9629,37.792737 L 139.962251,37.793629 L 139.961183,37.794381 L 139.960976,37.795046 L 139.960129,37.79565 L 139.95992,37.796653 L 139.959436,37.797421 L 139.959347,37.797955 L 139.960353,37.800979 L 139.961622,37.802056 L 139.961926,37.802648 L 139.962057,37.803286 L 139.961854,37.803851 L 139.961763,37.804942 L 139.962113,37.805805 L 139.961748,37.80627 L 139.960751,37.806965 L 139.959989,37.808489 L 139.959881,37.808954 L 139.959983,37.810708 L 139.959524,37.811671 L 139.958673,37.812623 L 139.957902,37.814864 L 139.957089,37.815107 L 139.955927,37.815749 L 139.952742,37.815696 L 139.951228,37.816159 L 139.949859,37.816372 L 139.949249,37.816786 L 139.948167,37.818191 L 139.945907,37.819045 L 139.945018,37.819185 L 139.944524,37.8198 L 139.944036,37.819969 L 139.942114,37.82136 L 139.940861,37.821741 L 139.940179,37.822459 L 139.939953,37.823435 L 139.939104,37.824442 L 139.938401,37.826531 L 139.937771,37.827239 L 139.937247,37.828198 L 139.937015,37.828298 L 139.933788,37.828914 L 139.932704,37.829386 L 139.931817,37.829217 L 139.931316,37.829297 L 139.927941,37.827526 L 139.927644,37.826943 L 139.927726,37.826029 L 139.928075,37.825771 L 139.930058,37.82558 L 139.930201,37.82543 L 139.92953,37.82454 L 139.92953,37.823902 L 139.929931,37.823136 L 139.930069,37.822473 L 139.92961,37.82196 L 139.927763,37.821572 L 139.927363,37.821115 L 139.927321,37.820691 L 139.927971,37.819916 L 139.928046,37.819456 L 139.927408,37.818736 L 139.927015,37.817624 L 139.925198,37.816045 L 139.925081,37.815611 L 139.925431,37.814037 L 139.92481,37.813516 L 139.922909,37.81332 L 139.919619,37.813799 L 139.917874,37.813345 L 139.917595,37.813375 L 139.916227,37.814424 L 139.915259,37.814136 L 139.913214,37.814238 L 139.912015,37.8138 L 139.910072,37.814097 L 139.909658,37.814304 L 139.908876,37.815095 L 139.907364,37.81543 L 139.905087,37.814361 L 139.903829,37.814189 L 139.902621,37.813781 L 139.901223,37.812222 L 139.900014,37.811553 L 139.899208,37.810807 L 139.899064,37.810391 L 139.898815,37.810282 L 139.897771,37.810184 L 139.893332,37.810531 L 139.891879,37.810251 L 139.889045,37.811072 L 139.888166,37.810601 L 139.886603,37.809159 L 139.884897,37.810302 L 139.882278,37.810902 L 139.880056,37.810108 L 139.879431,37.810272 L 139.879068,37.810686 L 139.878966,37.811548 L 139.878776,37.811735 L 139.877585,37.81215 L 139.876153,37.81325 L 139.876123,37.814099 L 139.876524,37.815906 L 139.876765,37.816361 L 139.876642,37.817068 L 139.876406,37.817332 L 139.87584,37.817386 L 139.873766,37.816491 L 139.872579,37.816817 L 139.871991,37.817165 L 139.871746,37.81776 L 139.871119,37.818132 L 139.870537,37.818969 L 139.86934,37.819129 L 139.868701,37.819494 L 139.867948,37.820994 L 139.867761,37.821792 L 139.866379,37.823087 L 139.865552,37.823392 L 139.863667,37.824796 L 139.861803,37.825311 L 139.858563,37.82654 L 139.857701,37.826541 L 139.855969,37.825885 L 139.853609,37.823477 L 139.852365,37.823451 L 139.851843,37.823274 L 139.851162,37.822458 L 139.850873,37.821472 L 139.850574,37.821301 L 139.849098,37.820821 L 139.847592,37.820542 L 139.846647,37.820142 L 139.845429,37.81995 L 139.844135,37.819306 L 139.841419,37.816497 L 139.841037,37.816388 L 139.840264,37.816489 L 139.839534,37.815984 L 139.838318,37.814701 L 139.837859,37.814498 L 139.837129,37.814356 L 139.836118,37.814462 L 139.834547,37.815597 L 139.832417,37.815396 L 139.829969,37.814836 L 139.827287,37.812846 L 139.82662,37.811907 L 139.825832,37.812189 L 139.825427,37.81296 L 139.824893,37.813214 L 139.823384,37.812477 L 139.821598,37.811996 L 139.820139,37.81035 L 139.818805,37.809844 L 139.818458,37.809122 L 139.817723,37.808277 L 139.816929,37.807836 L 139.816058,37.80761 L 139.815481,37.806475 L 139.814206,37.805767 L 139.813708,37.804939 L 139.81349,37.804172 L 139.813281,37.804002 L 139.812063,37.803681 L 139.810833,37.803719 L 139.810142,37.803262 L 139.809742,37.803264 L 139.808084,37.803712 L 139.80599,37.805133 L 139.804783,37.805562 L 139.804221,37.805421 L 139.804114,37.806275 L 139.804391,37.808108 L 139.804074,37.808819 L 139.803888,37.810754 L 139.802837,37.812827 L 139.802561,37.813871 L 139.802663,37.814334 L 139.803402,37.815164 L 139.80205,37.815446 L 139.80133,37.816018 L 139.800428,37.816266 L 139.799222,37.816891 L 139.796729,37.817306 L 139.79576,37.81731 L 139.794941,37.817644 L 139.794588,37.81806 L 139.794171,37.819043 L 139.793502,37.819897 L 139.793254,37.820839 L 139.790667,37.821661 L 139.78891,37.823132 L 139.788888,37.825011 L 139.788481,37.825679 L 139.788202,37.826665 L 139.786401,37.828689 L 139.785143,37.829283 L 139.783786,37.830774 L 139.78343,37.83156 L 139.782939,37.831971 L 139.781433,37.831942 L 139.779954,37.831616 L 139.77851,37.830523 L 139.776413,37.829948 L 139.775588,37.829873 L 139.774144,37.830178 L 139.773156,37.830045 L 139.77208,37.829568 L 139.771819,37.82929 L 139.771694,37.828647 L 139.771401,37.828431 L 139.770902,37.828382 L 139.769211,37.828772 L 139.768063,37.828427 L 139.765618,37.827274 L 139.762991,37.826701 L 139.761368,37.825774 L 139.75981,37.825251 L 139.758889,37.825121 L 139.757881,37.824622 L 139.757525,37.82417 L 139.757465,37.823671 L 139.756215,37.822562 L 139.755407,37.822134 L 139.753857,37.822076 L 139.750105,37.821429 L 139.748716,37.820873 L 139.744778,37.820743 L 139.743676,37.820546 L 139.742527,37.820623 L 139.741292,37.820295 L 139.740336,37.821487 L 139.73952,37.821994 L 139.739067,37.822652 L 139.738444,37.823152 L 139.73858,37.82367 L 139.738498,37.824969 L 139.737402,37.826239 L 139.736823,37.82746 L 139.736208,37.828111 L 139.734819,37.828988 L 139.732635,37.830799 L 139.731144,37.830831 L 139.730391,37.830544 L 139.729561,37.831016 L 139.728493,37.832821 L 139.728033,37.833226 L 139.727537,37.834008 L 139.727448,37.835296 L 139.726264,37.835575 L 139.724064,37.83692 L 139.723708,37.837411 L 139.722731,37.837969 L 139.722342,37.838474 L 139.720842,37.839689 L 139.719812,37.841474 L 139.719198,37.84196 L 139.719369,37.842597 L 139.719219,37.843405 L 139.719299,37.843891 L 139.718818,37.845065 L 139.718311,37.845257 L 139.717697,37.846025 L 139.716598,37.846516 L 139.715984,37.847022 L 139.715885,37.847284 L 139.715889,37.848388 L 139.716465,37.851665 L 139.716277,37.853379 L 139.715872,37.854015 L 139.710407,37.855528 L 139.708438,37.855739 L 139.707156,37.856047 L 139.706153,37.855931 L 139.703094,37.853251 L 139.700087,37.851638 L 139.697785,37.849663 L 139.697268,37.848736 L 139.695962,37.848533 L 139.692237,37.848772 L 139.690954,37.848715 L 139.690408,37.848446 L 139.689736,37.847511 L 139.687825,37.846864 L 139.687285,37.846833 L 139.685756,37.847226 L 139.684629,37.847169 L 139.682163,37.847412 L 139.680815,37.846953 L 139.682373,37.84671 L 139.683413,37.846882 L 139.684516,37.846784 L 139.685602,37.84689 L 139.687495,37.846479 L 139.689101,37.846666 L 139.690653,37.847295 L 139.690841,37.848238 L 139.691074,37.848336 L 139.692534,37.848398 L 139.697737,37.847695 L 139.698267,37.847992 L 139.698204,37.848392 L 139.698354,37.848689 L 139.699242,37.849435 L 139.700906,37.849911 L 139.702156,37.849917 L 139.702958,37.850632 L 139.704795,37.8517 L 139.707128,37.852447 L 139.707487,37.853107 L 139.708788,37.853897 L 139.710675,37.854396 L 139.714635,37.852924 L 139.714955,37.852599 L 139.715355,37.851599 L 139.715342,37.850948 L 139.714903,37.849683 L 139.714988,37.849265 L 139.715231,37.849014 L 139.71513,37.848731 L 139.715521,37.848296 L 139.715639,37.847029 L 139.716177,37.846409 L 139.7176,37.845679 L 139.717975,37.845169 L 139.71855,37.844929 L 139.718973,37.843856 L 139.719086,37.842609 L 139.718855,37.84186 L 139.719471,37.841406 L 139.720541,37.83957 L 139.72185,37.838576 L 139.722512,37.837803 L 139.723258,37.837433 L 139.723881,37.836746 L 139.726202,37.83528 L 139.727033,37.835013 L 139.727189,37.83399 L 139.727533,37.833247 L 139.728094,37.832808 L 139.728922,37.831282 L 139.729445,37.830754 L 139.730316,37.830272 L 139.731134,37.830587 L 139.732518,37.830506 L 139.734746,37.828664 L 139.735963,37.827922 L 139.736528,37.827268 L 139.737035,37.826068 L 139.738105,37.824963 L 139.738259,37.823697 L 139.738034,37.823173 L 139.73881,37.822491 L 139.739308,37.821725 L 139.740168,37.821209 L 139.740808,37.820258 L 139.740877,37.819878 L 139.740592,37.819569 L 139.740577,37.819312 L 139.740969,37.818951 L 139.741491,37.817715 L 139.738569,37.815551 L 139.737287,37.8156 L 139.735329,37.815053 L 139.73404,37.814376 L 139.729249,37.813647 L 139.72853,37.812434 L 139.727991,37.812042 L 139.727361,37.811732 L 139.725013,37.811454 L 139.723194,37.810339 L 139.722896,37.809697 L 139.721607,37.809425 L 139.720659,37.807762 L 139.719835,37.806936 L 139.71891,37.805231 L 139.715986,37.802328 L 139.715693,37.80175 L 139.715459,37.800659 L 139.713809,37.799791 L 139.713526,37.798994 L 139.711666,37.798507 L 139.709605,37.797343 L 139.707926,37.797065 L 139.705347,37.796181 L 139.704791,37.795662 L 139.704272,37.794797 L 139.704146,37.793655 L 139.703376,37.792301 L 139.702951,37.791849 L 139.700747,37.790506 L 139.699327,37.789219 L 139.698218,37.787886 L 139.697696,37.786573 L 139.696546,37.785124 L 139.69414,37.783924 L 139.691428,37.782148 L 139.688679,37.780807 L 139.687244,37.779136 L 139.685986,37.77893 L 139.685113,37.778151 L 139.684159,37.777765 L 139.682755,37.776783 L 139.680291,37.775396 L 139.680176,37.775046 L 139.680644,37.774363 L 139.680545,37.773696 L 139.679779,37.772727 L 139.678706,37.772353 L 139.67819,37.771979 L 139.67794,37.771532 L 139.677809,37.770474 L 139.677574,37.769973 L 139.675975,37.768821 L 139.673476,37.767899 L 139.673258,37.767645 L 139.673332,37.766886 L 139.673204,37.766521 L 139.670319,37.764902 L 139.668693,37.763267 L 139.668427,37.762229 L 139.667596,37.760265 L 139.667716,37.758686 L 139.667322,37.75778 L 139.666699,37.757032 L 139.664979,37.756358 L 139.663459,37.756212 L 139.660538,37.755387 L 139.659058,37.755288 L 139.657874,37.755009 L 139.657735,37.754437 L 139.657893,37.752989 L 139.657769,37.752231 L 139.658142,37.751518 L 139.659149,37.750273 L 139.658683,37.745851 L 139.658903,37.745253 L 139.658852,37.744956 L 139.658199,37.743656 L 139.657588,37.742937 L 139.657634,37.741395 L 139.657431,37.741046 L 139.655769,37.739813 L 139.654622,37.739264 L 139.653728,37.738459 L 139.652164,37.737781 L 139.652035,37.736957 L 139.652169,37.735718 L 139.651488,37.735194 L 139.651198,37.734322 L 139.650066,37.733092 L 139.650602,37.732303 L 139.650625,37.732011 L 139.650287,37.731184 L 139.649694,37.730417 L 139.649599,37.729064 L 139.648379,37.728954 L 139.646765,37.728198 L 139.644249,37.728011 L 139.642934,37.72761 L 139.642699,37.727306 L 139.642599,37.72645 L 139.64225,37.72552 L 139.642052,37.725367 L 139.641161,37.72528 L 139.640659,37.724966 L 139.64035,37.724373 L 139.640548,37.723374 L 139.640448,37.723073 L 139.639135,37.722229 L 139.638282,37.721197 L 139.636743,37.720975 L 139.636161,37.720661 L 139.635416,37.719915 L 139.633694,37.719507 L 139.632408,37.719925 L 139.631754,37.719853 L 139.631385,37.719549 L 139.632001,37.717685 L 139.632738,37.71643 L 139.630718,37.714753 L 139.629391,37.713423 L 139.627265,37.711833 L 139.62405,37.710189 L 139.624474,37.708351 L 139.624154,37.707197 L 139.623687,37.706829 L 139.623853,37.705871 L 139.623498,37.704757 L 139.62367,37.704131 L 139.623415,37.703095 L 139.623455,37.702544 L 139.621658,37.701465 L 139.621508,37.700942 L 139.621535,37.700114 L 139.621706,37.699823 L 139.623396,37.698489 L 139.623536,37.697281 L 139.6243,37.696449 L 139.624169,37.695286 L 139.624788,37.694766 L 139.625745,37.693214 L 139.625912,37.693036 L 139.62752,37.692886 L 139.628195,37.692408 L 139.628281,37.691758 L 139.627538,37.690497 L 139.627999,37.68933 L 139.627419,37.688795 L 139.62719,37.688286 L 139.626828,37.688204 L 139.626087,37.688476 L 139.62516,37.688489 L 139.624773,37.688872 L 139.623777,37.689338 L 139.622437,37.689226 L 139.622113,37.688982 L 139.621078,37.689162 L 139.61972,37.688656 L 139.617636,37.688806 L 139.614885,37.687723 L 139.614823,37.687495 L 139.615119,37.68707 L 139.615119,37.686799 L 139.614252,37.68651 L 139.613454,37.685737 L 139.611713,37.68566 L 139.610519,37.684599 L 139.609399,37.684273 L 139.609361,37.683505 L 139.608111,37.682944 L 139.606724,37.680783 L 139.605871,37.680397 L 139.605518,37.6797 L 139.604466,37.679297 L 139.604921,37.678561 L 139.605962,37.677632 L 139.605869,37.677238 L 139.605276,37.676689 L 139.605377,37.675284 L 139.604977,37.674136 L 139.60435,37.673472 L 139.602807,37.672987 L 139.60103,37.671284 L 139.600842,37.670789 L 139.600882,37.668762 L 139.599416,37.66839 L 139.598999,37.668061 L 139.598395,37.667138 L 139.596407,37.665866 L 139.594852,37.665215 L 139.593818,37.665078 L 139.592568,37.665433 L 139.591849,37.665821 L 139.591512,37.666401 L 139.591344,37.667621 L 139.588647,37.66725 L 139.588109,37.666231 L 139.587336,37.665338 L 139.586869,37.664215 L 139.584792,37.662322 L 139.583743,37.661994 L 139.582334,37.661297 L 139.579793,37.660798 L 139.578924,37.659693 L 139.57756,37.658852 L 139.576307,37.658334 L 139.574081,37.656411 L 139.572939,37.656021 L 139.571212,37.655825 L 139.569546,37.653819 L 139.56848,37.653136 L 139.567869,37.653442 L 139.5657,37.653977 L 139.563045,37.653816 L 139.561261,37.653081 L 139.560192,37.652067 L 139.559324,37.651601 L 139.557301,37.651444 L 139.555676,37.651117 L 139.555157,37.650818 L 139.554512,37.650114 L 139.551646,37.650106 L 139.54928,37.64904 L 139.549407,37.648512 L 139.550934,37.646471 L 139.551115,37.645302 L 139.551567,37.644579 L 139.551522,37.644065 L 139.551808,37.643467 L 139.552753,37.642352 L 139.554171,37.64189 L 139.555126,37.641383 L 139.555291,37.641082 L 139.555052,37.64043 L 139.553662,37.639769 L 139.553151,37.639285 L 139.55281,37.638639 L 139.552034,37.637897 L 139.551678,37.636824 L 139.550597,37.635919 L 139.54948,37.63563 L 139.547601,37.633879 L 139.547464,37.633544 L 139.547496,37.632568 L 139.546834,37.631634 L 139.546904,37.630353 L 139.546478,37.629856 L 139.546027,37.628893 L 139.546062,37.628072 L 139.54673,37.627677 L 139.546571,37.625586 L 139.547429,37.624199 L 139.547875,37.621762 L 139.549147,37.620824 L 139.550467,37.619145 L 139.551869,37.618924 L 139.552187,37.618576 L 139.551364,37.61592 L 139.548772,37.614977 L 139.548505,37.614134 L 139.548091,37.613649 L 139.549036,37.611647 L 139.548664,37.610941 L 139.548527,37.609638 L 139.548718,37.609151 L 139.550222,37.607544 L 139.550334,37.607113 L 139.551145,37.605937 L 139.552417,37.60463 L 139.552773,37.603735 L 139.55326,37.603551 L 139.554119,37.602562 L 139.554713,37.602287 L 139.555712,37.602133 L 139.557566,37.602527 L 139.559551,37.601798 L 139.562337,37.600112 L 139.562464,37.599593 L 139.562792,37.599104 L 139.563154,37.598878 L 139.563609,37.597898 L 139.564055,37.597621 L 139.564974,37.597386 L 139.564166,37.596725 L 139.563994,37.596208 L 139.565165,37.594833 L 139.565257,37.593788 L 139.565693,37.592812 L 139.565486,37.591298 L 139.565804,37.59039 L 139.565419,37.589484 L 139.564688,37.588947 L 139.564141,37.588833 L 139.564182,37.588445 L 139.564497,37.587888 L 139.565391,37.587226 L 139.565544,37.58634 L 139.566402,37.585199 L 139.567462,37.584651 L 139.567384,37.584243 L 139.566272,37.583766 L 139.566074,37.583143 L 139.567966,37.580765 L 139.568174,37.579932 L 139.569566,37.579893 L 139.570051,37.579755 L 139.570446,37.579416 L 139.570644,37.577577 L 139.57117,37.577011 L 139.571125,37.575681 L 139.571651,37.574363 L 139.571274,37.573585 L 139.570379,37.572906 L 139.571211,37.572054 L 139.572371,37.57035 L 139.571868,37.569106 L 139.571775,37.568182 L 139.571271,37.567838 L 139.569786,37.56517 L 139.56869,37.563679 L 139.567779,37.5632 L 139.567559,37.562885 L 139.567955,37.561881 L 139.567761,37.561087 L 139.567795,37.560388 L 139.568254,37.559701 L 139.568821,37.558125 L 139.568664,37.556739 L 139.568806,37.554905 L 139.568601,37.553795 L 139.569567,37.552787 L 139.569981,37.551897 L 139.570264,37.5506 L 139.566788,37.547907 L 139.565725,37.546112 L 139.567844,37.544942 L 139.568963,37.544646 L 139.569806,37.544106 L 139.570615,37.544001 L 139.570936,37.543763 L 139.571354,37.542999 L 139.571477,37.542094 L 139.570209,37.540016 L 139.570187,37.539066 L 139.572204,37.537388 L 139.573216,37.536995 L 139.575147,37.535469 L 139.576409,37.534734 L 139.57799,37.531106 L 139.578695,37.530019 L 139.580098,37.529597 L 139.582276,37.529309 L 139.583257,37.5281 L 139.584175,37.527764 L 139.585503,37.527769 L 139.586491,37.52822 L 139.588148,37.528634 L 139.589162,37.528573 L 139.590535,37.528034 L 139.590587,37.526991 L 139.591091,37.525294 L 139.590535,37.524932 L 139.589229,37.524473 L 139.588125,37.523312 L 139.587898,37.522556 L 139.58795,37.520895 L 139.587614,37.520452 L 139.586947,37.520228 L 139.586674,37.519875 L 139.586805,37.517846 L 139.586697,37.517075 L 139.584638,37.515476 L 139.58431,37.514756 L 139.584347,37.514303 L 139.585093,37.512899 L 139.58362,37.511779 L 139.581579,37.511327 L 139.581147,37.510887 L 139.578401,37.509689 L 139.576697,37.508397 L 139.575637,37.507373 L 139.575197,37.507153 L 139.574302,37.507117 L 139.573429,37.506709 L 139.572504,37.505995 L 139.571579,37.504897 L 139.568692,37.503599 L 139.567342,37.502508 L 139.564737,37.501676 L 139.564197,37.502176 L 139.562332,37.503209 L 139.561691,37.503926 L 139.560377,37.503924 L 139.559337,37.504251 L 139.558311,37.504017 L 139.556133,37.504105 L 139.555927,37.504292 L 139.555756,37.505303 L 139.555222,37.506072 L 139.551854,37.507672 L 139.550451,37.50784 L 139.548929,37.508983 L 139.545001,37.509369 L 139.544047,37.510652 L 139.543267,37.511284 L 139.543286,37.511703 L 139.543088,37.512056 L 139.541167,37.511298 L 139.539145,37.51116 L 139.536832,37.511868 L 139.534941,37.511829 L 139.531632,37.512859 L 139.529778,37.512341 L 139.528167,37.512352 L 139.525955,37.51394 L 139.524056,37.514185 L 139.523425,37.514541 L 139.521881,37.514291 L 139.519587,37.513603 L 139.518547,37.512481 L 139.517316,37.510689 L 139.516562,37.509862 L 139.515156,37.509427 L 139.513653,37.508582 L 139.513358,37.508674 L 139.512735,37.509358 L 139.512284,37.509593 L 139.510299,37.509927 L 139.508352,37.510748 L 139.508117,37.510754 L 139.505692,37.50956 L 139.503701,37.510151 L 139.502917,37.511404 L 139.502346,37.511775 L 139.501153,37.511687 L 139.500078,37.512115 L 139.496725,37.512572 L 139.495047,37.512388 L 139.493754,37.512026 L 139.493203,37.512058 L 139.491002,37.511535 L 139.488929,37.510767 L 139.488249,37.510029 L 139.485782,37.510279 L 139.484551,37.509328 L 139.484177,37.508484 L 139.483926,37.507179 L 139.482942,37.506202 L 139.480103,37.504222 L 139.478559,37.503848 L 139.47767,37.50284 L 139.476103,37.502556 L 139.475549,37.502738 L 139.47478,37.503722 L 139.472383,37.505387 L 139.471766,37.506385 L 139.468973,37.506651 L 139.468069,37.507494 L 139.466086,37.508332 L 139.465896,37.50902 L 139.465259,37.509719 L 139.464806,37.510997 L 139.46389,37.512155 L 139.463593,37.512903 L 139.462037,37.513733 L 139.460337,37.514191 L 139.459084,37.515193 L 139.457936,37.515796 L 139.458011,37.516874 L 139.457187,37.51787 L 139.453762,37.517265 L 139.452411,37.517187 L 139.450635,37.517361 L 139.446907,37.515908 L 139.444181,37.515277 L 139.443147,37.514538 L 139.442129,37.514431 L 139.439123,37.513192 L 139.437459,37.513709 L 139.435704,37.513992 L 139.434162,37.514511 L 139.433503,37.514517 L 139.43203,37.514165 L 139.429412,37.514711 L 139.428417,37.514252 L 139.428291,37.513408 L 139.427823,37.512472 L 139.427908,37.511346 L 139.42671,37.511018 L 139.425963,37.510991 L 139.424263,37.511107 L 139.423964,37.511355 L 139.423421,37.511446 L 139.422038,37.510602 L 139.418009,37.509955 L 139.414237,37.510158 L 139.414089,37.509435 L 139.414326,37.508866 L 139.414205,37.5083 L 139.413531,37.507398 L 139.411234,37.505165 L 139.410697,37.503559 L 139.410674,37.501924 L 139.411328,37.500845 L 139.412221,37.499788 L 139.412655,37.498581 L 139.413655,37.497835 L 139.414021,37.496803 L 139.413723,37.496478 L 139.409901,37.494667 L 139.407879,37.492464 L 139.407991,37.491159 L 139.408583,37.490009 L 139.408624,37.489149 L 139.408197,37.488165 L 139.406955,37.486677 L 139.406943,37.486466 L 139.407609,37.48613 L 139.40876,37.485097 L 139.409839,37.483888 L 139.40993,37.483578 L 139.409126,37.481611 L 139.408441,37.4805 L 139.408007,37.479159 L 139.407168,37.478721 L 139.405775,37.477574 L 139.405359,37.476909 L 139.405278,37.476058 L 139.404612,37.475053 L 139.404587,37.473402 L 139.40553,37.470643 L 139.404845,37.469946 L 139.404633,37.469285 L 139.404589,37.468191 L 139.406163,37.467053 L 139.406312,37.466781 L 139.406318,37.466048 L 139.405087,37.465031 L 139.401598,37.462965 L 139.397501,37.459841 L 139.39544,37.46016 L 139.394394,37.460482 L 139.391995,37.460613 L 139.390369,37.461515 L 139.389905,37.461942 L 139.389169,37.462097 L 139.384977,37.463738 L 139.38192,37.4638 L 139.379599,37.463111 L 139.379001,37.463075 L 139.376317,37.463274 L 139.375153,37.463669 L 139.37375,37.463861 L 139.372661,37.464615 L 139.370664,37.46557 L 139.369062,37.465304 L 139.368524,37.465409 L 139.366406,37.468407 L 139.364758,37.46905 L 139.363615,37.469256 L 139.36297,37.469815 L 139.362539,37.46997 L 139.361667,37.469381 L 139.360025,37.468771 L 139.359332,37.468844 L 139.357892,37.467917 L 139.355853,37.467211 L 139.35487,37.467074 L 139.353748,37.467168 L 139.352468,37.467603 L 139.351629,37.468076 L 139.351363,37.467279 L 139.351242,37.465558 L 139.34945,37.464418 L 139.347973,37.462373 L 139.346389,37.460709 L 139.345717,37.460247 L 139.341435,37.459919 L 139.338687,37.458607 L 139.337448,37.458778 L 139.335131,37.457791 L 139.331522,37.458376 L 139.330596,37.458389 L 139.329561,37.459402 L 139.32846,37.45959 L 139.327525,37.459966 L 139.326429,37.461129 L 139.326311,37.461551 L 139.32646,37.462388 L 139.323548,37.461525 L 139.321851,37.460628 L 139.320683,37.460633 L 139.319441,37.460141 L 139.316682,37.459796 L 139.315447,37.459355 L 139.315064,37.458986 L 139.314135,37.457275 L 139.313314,37.456865 L 139.312534,37.456141 L 139.310714,37.455647 L 139.309966,37.455825 L 139.309271,37.456364 L 139.307114,37.458602 L 139.306588,37.458777 L 139.304789,37.458841 L 139.302833,37.457878 L 139.300419,37.457484 L 139.299873,37.456926 L 139.298917,37.456398 L 139.29869,37.455786 L 139.298499,37.45565 L 139.297122,37.455412 L 139.295612,37.454746 L 139.293142,37.454321 L 139.292843,37.453597 L 139.292578,37.453452 L 139.290851,37.452992 L 139.28986,37.452543 L 139.288815,37.452508 L 139.288023,37.452269 L 139.28674,37.452354 L 139.28606,37.451916 L 139.284533,37.450158 L 139.283956,37.449911 L 139.282018,37.449833 L 139.281368,37.450067 L 139.280891,37.450437 L 139.279045,37.452622 L 139.278812,37.453205 L 139.277884,37.452807 L 139.277209,37.452827 L 139.274824,37.45167 L 139.274177,37.451278 L 139.273181,37.45029 L 139.272383,37.450173 L 139.271137,37.450304 L 139.269906,37.450221 L 139.266556,37.449128 L 139.265928,37.448683 L 139.263972,37.448535 L 139.261949,37.447847 L 139.260899,37.44784 L 139.258547,37.447012 L 139.258066,37.447154 L 139.257734,37.447575 L 139.257691,37.44793 L 139.258046,37.448601 L 139.257555,37.44885 L 139.256321,37.450923 L 139.254602,37.451835 L 139.25144,37.452522 L 139.249714,37.451707 L 139.249196,37.451023 L 139.248136,37.450635 L 139.247002,37.449284 L 139.246479,37.448879 L 139.244969,37.448672 L 139.244143,37.448383 L 139.243412,37.447902 L 139.240845,37.446779 L 139.240236,37.446059 L 139.238674,37.446026 L 139.237459,37.445149 L 139.235511,37.444821 L 139.234563,37.444909 L 139.231878,37.445573 L 139.231562,37.445884 L 139.231156,37.446853 L 139.230834,37.447093 L 139.228469,37.447342 L 139.227911,37.447698 L 139.227105,37.447247 L 139.225989,37.448172 L 139.22478,37.448066 L 139.224498,37.44818 L 139.223637,37.449164 L 139.223297,37.449046 L 139.222989,37.448618 L 139.22271,37.447601 L 139.22229,37.447087 L 139.222433,37.446522 L 139.222255,37.446076 L 139.221771,37.445791 L 139.220321,37.445809 L 139.219709,37.445379 L 139.218704,37.445284 L 139.215127,37.44199 L 139.21491,37.441602 L 139.214848,37.440978 L 139.215072,37.439977 L 139.214152,37.439232 L 139.213307,37.439136 L 139.213068,37.438867 L 139.213041,37.438316 L 139.213562,37.43645 L 139.211112,37.433519 L 139.210682,37.432228 L 139.209528,37.431723 L 139.209409,37.430854 L 139.207936,37.429516 L 139.207522,37.42891 L 139.206735,37.423931 L 139.206961,37.423096 L 139.207073,37.420438 L 139.208423,37.416792 L 139.207922,37.416598 L 139.206469,37.416476 L 139.204962,37.416017 L 139.204163,37.415505 L 139.203132,37.414524 L 139.20094,37.414129 L 139.198679,37.413029 L 139.198293,37.412658 L 139.197236,37.410768 L 139.198821,37.410204 L 139.201707,37.408831 L 139.202868,37.407618 L 139.203579,37.406501 L 139.204579,37.406156 L 139.204679,37.404974 L 139.205634,37.403176 L 139.20575,37.402431 L 139.207107,37.40131 L 139.207594,37.400604 L 139.207401,37.397258 L 139.207702,37.39622 L 139.209007,37.395059 L 139.210477,37.393277 L 139.212124,37.392096 L 139.212518,37.391864 L 139.21382,37.391713 L 139.215291,37.391266 L 139.217912,37.391574 L 139.22017,37.392029 L 139.220843,37.392426 L 139.221657,37.393259 L 139.222596,37.393259 L 139.223317,37.393015 L 139.224074,37.392342 L 139.226152,37.391087 L 139.228106,37.390867 L 139.227011,37.389137 L 139.227133,37.388733 L 139.227757,37.38858 L 139.230501,37.38847 L 139.23113,37.388257 L 139.231492,37.387879 L 139.231655,37.387377 L 139.231603,37.386932 L 139.230768,37.385518 L 139.23067,37.384963 L 139.230936,37.384305 L 139.231543,37.3837 L 139.231292,37.383429 L 139.230642,37.383248 L 139.23052,37.382827 L 139.231756,37.38198 L 139.231399,37.38093 L 139.231452,37.380234 L 139.231928,37.379925 L 139.233527,37.379545 L 139.234896,37.378853 L 139.235292,37.377729 L 139.236709,37.376122 L 139.236799,37.37499 L 139.237572,37.374093 L 139.238048,37.372632 L 139.237616,37.370486 L 139.236824,37.369484 L 139.237551,37.368828 L 139.237694,37.368335 L 139.236539,37.36723 L 139.236287,37.366453 L 139.236229,37.364536 L 139.235069,37.362149 L 139.234886,37.360431 L 139.23357,37.358298 L 139.233544,37.357015 L 139.234525,37.353889 L 139.234836,37.350767 L 139.233579,37.346416 L 139.233416,37.344703 L 139.233617,37.343603 L 139.232109,37.342923 L 139.231106,37.342832 L 139.229509,37.34288 L 139.22814,37.343277 L 139.227793,37.342432 L 139.226502,37.340995 L 139.226041,37.340698 L 139.22496,37.340531 L 139.224817,37.339887 L 139.22421,37.339347 L 139.224191,37.338794 L 139.223581,37.338158 L 139.223474,37.337826 L 139.222522,37.337512 L 139.221606,37.336855 L 139.221488,37.336412 L 139.221844,37.335892 L 139.221827,37.335667 L 139.22028,37.335049 L 139.218869,37.334788 L 139.217859,37.334152 L 139.218264,37.333353 L 139.219243,37.332077 L 139.220337,37.331566 L 139.220324,37.33122 L 139.21962,37.329826 L 139.220193,37.328884 L 139.220544,37.326933 L 139.220904,37.32641 L 139.220602,37.324902 L 139.221056,37.323729 L 139.22248,37.322526 L 139.223574,37.322024 L 139.224212,37.321436 L 139.224277,37.319986 L 139.223971,37.319148 L 139.222832,37.318037 L 139.222401,37.315938 L 139.22187,37.314679 L 139.217394,37.310362 L 139.215738,37.30907 L 139.215682,37.308644 L 139.215887,37.308043 L 139.216525,37.30719 L 139.217227,37.306762 L 139.217698,37.305247 L 139.216163,37.301591 L 139.215293,37.300364 L 139.214873,37.299231 L 139.214463,37.297267 L 139.214654,37.295861 L 139.214166,37.293297 L 139.21466,37.292021 L 139.21341,37.288087 L 139.212312,37.286241 L 139.210437,37.284973 L 139.207558,37.284662 L 139.206369,37.284297 L 139.205731,37.283876 L 139.204736,37.282844 L 139.204364,37.282117 L 139.203154,37.280922 L 139.20172,37.278965 L 139.200508,37.277912 L 139.19901,37.277395 L 139.198281,37.276206 L 139.197569,37.275393 L 139.196192,37.274634 L 139.19482,37.274487 L 139.193047,37.273415 L 139.192706,37.272688 L 139.191919,37.269406 L 139.18976,37.268948 L 139.189327,37.268732 L 139.188829,37.26822 L 139.187831,37.266616 L 139.186527,37.265833 L 139.185426,37.264751 L 139.18357,37.263817 L 139.183031,37.263072 L 139.182803,37.262446 L 139.182843,37.262072 L 139.182546,37.261741 L 139.181654,37.261441 L 139.179073,37.259777 L 139.178297,37.258551 L 139.177844,37.256725 L 139.176709,37.256527 L 139.175211,37.256696 L 139.174739,37.256436 L 139.173927,37.253822 L 139.173227,37.252607 L 139.171507,37.251407 L 139.170283,37.250296 L 139.170382,37.249143 L 139.169909,37.247655 L 139.166943,37.24345 L 139.166379,37.241636 L 139.165853,37.240647 L 139.164898,37.239781 L 139.164748,37.239429 L 139.164744,37.237514 z\" /></g></svg>"
      ],
      "text/plain": [
       "<shapely.geometry.polygon.Polygon at 0x24700733240>"
      ]
     },
     "execution_count": 60,
     "metadata": {},
     "output_type": "execute_result"
    }
   ],
   "source": [
    "with open(\"fukushima.json\") as file:\n",
    "    fukushima_polygon = json.load(file)\n",
    "\n",
    "fukushima = shape(fukushima_polygon)\n",
    "fukushima"
   ]
  },
  {
   "cell_type": "code",
   "execution_count": 61,
   "metadata": {
    "ExecuteTime": {
     "end_time": "2018-10-27T21:13:40.440860Z",
     "start_time": "2018-10-27T21:13:40.436863Z"
    }
   },
   "outputs": [],
   "source": [
    "def in_fukushima(row):\n",
    "    return fukushima.contains(Point(row[\"longitude\"], row[\"latitude\"]))"
   ]
  },
  {
   "cell_type": "code",
   "execution_count": 62,
   "metadata": {
    "ExecuteTime": {
     "end_time": "2018-10-27T21:21:59.445385Z",
     "start_time": "2018-10-27T21:13:40.443865Z"
    }
   },
   "outputs": [],
   "source": [
    "df = df[df.apply(in_fukushima, axis=1)]"
   ]
  },
  {
   "cell_type": "code",
   "execution_count": 63,
   "metadata": {
    "ExecuteTime": {
     "end_time": "2018-10-27T21:21:59.452370Z",
     "start_time": "2018-10-27T21:21:59.447371Z"
    }
   },
   "outputs": [
    {
     "data": {
      "text/plain": [
       "216452"
      ]
     },
     "execution_count": 63,
     "metadata": {},
     "output_type": "execute_result"
    }
   ],
   "source": [
    "len(df.index)"
   ]
  },
  {
   "cell_type": "code",
   "execution_count": 64,
   "metadata": {
    "ExecuteTime": {
     "end_time": "2018-10-27T21:22:01.028994Z",
     "start_time": "2018-10-27T21:21:59.454369Z"
    }
   },
   "outputs": [],
   "source": [
    "df.to_csv(\"fukushima_filtered.csv\", index=False)"
   ]
  },
  {
   "cell_type": "code",
   "execution_count": 65,
   "metadata": {
    "ExecuteTime": {
     "end_time": "2018-10-27T21:22:01.041972Z",
     "start_time": "2018-10-27T21:22:01.029978Z"
    }
   },
   "outputs": [
    {
     "data": {
      "text/plain": [
       "(Timestamp('2018-08-27 08:11:51'), Timestamp('2018-10-21 01:00:22'))"
      ]
     },
     "execution_count": 65,
     "metadata": {},
     "output_type": "execute_result"
    }
   ],
   "source": [
    "df[\"captured time\"].min(), df[\"captured time\"].max()"
   ]
  },
  {
   "cell_type": "code",
   "execution_count": 66,
   "metadata": {
    "ExecuteTime": {
     "end_time": "2018-10-27T21:22:01.045972Z",
     "start_time": "2018-10-27T21:22:01.042971Z"
    }
   },
   "outputs": [],
   "source": [
    "import geohash\n",
    "\n",
    "def compute_geohash(row):\n",
    "    return geohash.encode(row[\"latitude\"], row[\"longitude\"], precision=6)"
   ]
  },
  {
   "cell_type": "code",
   "execution_count": 67,
   "metadata": {
    "ExecuteTime": {
     "end_time": "2018-10-27T21:22:06.553974Z",
     "start_time": "2018-10-27T21:22:01.046969Z"
    }
   },
   "outputs": [],
   "source": [
    "df[\"geohash\"] = df.apply(compute_geohash, axis=1)"
   ]
  },
  {
   "cell_type": "code",
   "execution_count": 68,
   "metadata": {
    "ExecuteTime": {
     "end_time": "2018-10-27T21:22:06.565966Z",
     "start_time": "2018-10-27T21:22:06.555970Z"
    }
   },
   "outputs": [
    {
     "data": {
      "text/html": [
       "<div>\n",
       "<style scoped>\n",
       "    .dataframe tbody tr th:only-of-type {\n",
       "        vertical-align: middle;\n",
       "    }\n",
       "\n",
       "    .dataframe tbody tr th {\n",
       "        vertical-align: top;\n",
       "    }\n",
       "\n",
       "    .dataframe thead th {\n",
       "        text-align: right;\n",
       "    }\n",
       "</style>\n",
       "<table border=\"1\" class=\"dataframe\">\n",
       "  <thead>\n",
       "    <tr style=\"text-align: right;\">\n",
       "      <th></th>\n",
       "      <th>captured time</th>\n",
       "      <th>latitude</th>\n",
       "      <th>longitude</th>\n",
       "      <th>value</th>\n",
       "      <th>geohash</th>\n",
       "    </tr>\n",
       "  </thead>\n",
       "  <tbody>\n",
       "    <tr>\n",
       "      <th>22</th>\n",
       "      <td>2018-10-21 01:00:22</td>\n",
       "      <td>37.796306</td>\n",
       "      <td>140.514413</td>\n",
       "      <td>19.0</td>\n",
       "      <td>xnezj2</td>\n",
       "    </tr>\n",
       "    <tr>\n",
       "      <th>25</th>\n",
       "      <td>2018-10-21 01:00:16</td>\n",
       "      <td>37.723330</td>\n",
       "      <td>140.476797</td>\n",
       "      <td>15.0</td>\n",
       "      <td>xneyse</td>\n",
       "    </tr>\n",
       "    <tr>\n",
       "      <th>27</th>\n",
       "      <td>2018-10-21 01:00:16</td>\n",
       "      <td>37.787500</td>\n",
       "      <td>140.552400</td>\n",
       "      <td>18.0</td>\n",
       "      <td>xneyyr</td>\n",
       "    </tr>\n",
       "    <tr>\n",
       "      <th>28</th>\n",
       "      <td>2018-10-21 01:00:16</td>\n",
       "      <td>37.796306</td>\n",
       "      <td>140.514413</td>\n",
       "      <td>61.0</td>\n",
       "      <td>xnezj2</td>\n",
       "    </tr>\n",
       "    <tr>\n",
       "      <th>30</th>\n",
       "      <td>2018-10-21 01:00:14</td>\n",
       "      <td>37.792805</td>\n",
       "      <td>140.930957</td>\n",
       "      <td>13.0</td>\n",
       "      <td>xnsnyz</td>\n",
       "    </tr>\n",
       "  </tbody>\n",
       "</table>\n",
       "</div>"
      ],
      "text/plain": [
       "         captured time   latitude   longitude  value geohash\n",
       "22 2018-10-21 01:00:22  37.796306  140.514413   19.0  xnezj2\n",
       "25 2018-10-21 01:00:16  37.723330  140.476797   15.0  xneyse\n",
       "27 2018-10-21 01:00:16  37.787500  140.552400   18.0  xneyyr\n",
       "28 2018-10-21 01:00:16  37.796306  140.514413   61.0  xnezj2\n",
       "30 2018-10-21 01:00:14  37.792805  140.930957   13.0  xnsnyz"
      ]
     },
     "execution_count": 68,
     "metadata": {},
     "output_type": "execute_result"
    }
   ],
   "source": [
    "df.head()"
   ]
  },
  {
   "cell_type": "code",
   "execution_count": 69,
   "metadata": {
    "ExecuteTime": {
     "end_time": "2018-10-27T21:22:06.603950Z",
     "start_time": "2018-10-27T21:22:06.568964Z"
    }
   },
   "outputs": [],
   "source": [
    "grouped = df[[\"geohash\", \"value\"]].groupby([\"geohash\"]).mean()"
   ]
  },
  {
   "cell_type": "code",
   "execution_count": 70,
   "metadata": {
    "ExecuteTime": {
     "end_time": "2018-10-27T21:22:06.613946Z",
     "start_time": "2018-10-27T21:22:06.606941Z"
    }
   },
   "outputs": [
    {
     "data": {
      "text/html": [
       "<div>\n",
       "<style scoped>\n",
       "    .dataframe tbody tr th:only-of-type {\n",
       "        vertical-align: middle;\n",
       "    }\n",
       "\n",
       "    .dataframe tbody tr th {\n",
       "        vertical-align: top;\n",
       "    }\n",
       "\n",
       "    .dataframe thead th {\n",
       "        text-align: right;\n",
       "    }\n",
       "</style>\n",
       "<table border=\"1\" class=\"dataframe\">\n",
       "  <thead>\n",
       "    <tr style=\"text-align: right;\">\n",
       "      <th></th>\n",
       "      <th>value</th>\n",
       "    </tr>\n",
       "    <tr>\n",
       "      <th>geohash</th>\n",
       "      <th></th>\n",
       "    </tr>\n",
       "  </thead>\n",
       "  <tbody>\n",
       "    <tr>\n",
       "      <th>xnecec</th>\n",
       "      <td>29.000000</td>\n",
       "    </tr>\n",
       "    <tr>\n",
       "      <th>xnecee</th>\n",
       "      <td>37.000000</td>\n",
       "    </tr>\n",
       "    <tr>\n",
       "      <th>xnecef</th>\n",
       "      <td>32.714286</td>\n",
       "    </tr>\n",
       "    <tr>\n",
       "      <th>xneceq</th>\n",
       "      <td>40.807692</td>\n",
       "    </tr>\n",
       "    <tr>\n",
       "      <th>xnecer</th>\n",
       "      <td>29.800000</td>\n",
       "    </tr>\n",
       "  </tbody>\n",
       "</table>\n",
       "</div>"
      ],
      "text/plain": [
       "             value\n",
       "geohash           \n",
       "xnecec   29.000000\n",
       "xnecee   37.000000\n",
       "xnecef   32.714286\n",
       "xneceq   40.807692\n",
       "xnecer   29.800000"
      ]
     },
     "execution_count": 70,
     "metadata": {},
     "output_type": "execute_result"
    }
   ],
   "source": [
    "grouped.head()"
   ]
  },
  {
   "cell_type": "code",
   "execution_count": 71,
   "metadata": {
    "ExecuteTime": {
     "end_time": "2018-10-27T21:22:06.621938Z",
     "start_time": "2018-10-27T21:22:06.615937Z"
    },
    "scrolled": false
   },
   "outputs": [
    {
     "name": "stdout",
     "output_type": "stream",
     "text": [
      "xnecec\n",
      "29.0\n",
      "\n",
      "xnecee\n",
      "37.0\n",
      "\n",
      "xnecef\n",
      "32.714285714285715\n",
      "\n"
     ]
    }
   ],
   "source": [
    "for index, row in grouped.head(n=3).iterrows():\n",
    "    print(index)\n",
    "    print(row.value)\n",
    "    print()"
   ]
  },
  {
   "cell_type": "code",
   "execution_count": 72,
   "metadata": {
    "ExecuteTime": {
     "end_time": "2018-10-27T21:22:06.635924Z",
     "start_time": "2018-10-27T21:22:06.624932Z"
    }
   },
   "outputs": [],
   "source": [
    "grouped.to_csv(\"fukushima_grouped.csv\")"
   ]
  }
 ],
 "metadata": {
  "kernelspec": {
   "display_name": "Python 3",
   "language": "python",
   "name": "python3"
  },
  "language_info": {
   "codemirror_mode": {
    "name": "ipython",
    "version": 3
   },
   "file_extension": ".py",
   "mimetype": "text/x-python",
   "name": "python",
   "nbconvert_exporter": "python",
   "pygments_lexer": "ipython3",
   "version": "3.7.0"
  }
 },
 "nbformat": 4,
 "nbformat_minor": 1
}
