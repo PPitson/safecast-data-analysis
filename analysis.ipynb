{
 "cells": [
  {
   "cell_type": "code",
   "execution_count": 1,
   "metadata": {
    "ExecuteTime": {
     "end_time": "2018-10-27T11:47:58.583726Z",
     "start_time": "2018-10-27T11:47:58.101018Z"
    }
   },
   "outputs": [],
   "source": [
    "import pandas as pd"
   ]
  },
  {
   "cell_type": "code",
   "execution_count": 2,
   "metadata": {
    "ExecuteTime": {
     "end_time": "2018-10-27T11:47:58.588724Z",
     "start_time": "2018-10-27T11:47:58.585726Z"
    }
   },
   "outputs": [],
   "source": [
    "SAFECAST_DATA_PATH = \"F:\\safecast\\measurements-out.csv\""
   ]
  },
  {
   "cell_type": "code",
   "execution_count": 3,
   "metadata": {
    "ExecuteTime": {
     "end_time": "2018-10-27T11:48:05.985446Z",
     "start_time": "2018-10-27T11:47:58.589722Z"
    }
   },
   "outputs": [],
   "source": [
    "df = pd.read_csv(SAFECAST_DATA_PATH, nrows=1000000, parse_dates=[\"Captured Time\", \"Uploaded Time\"])"
   ]
  },
  {
   "cell_type": "code",
   "execution_count": 4,
   "metadata": {
    "ExecuteTime": {
     "end_time": "2018-10-27T11:48:06.010435Z",
     "start_time": "2018-10-27T11:48:05.988445Z"
    }
   },
   "outputs": [
    {
     "data": {
      "text/html": [
       "<div>\n",
       "<style scoped>\n",
       "    .dataframe tbody tr th:only-of-type {\n",
       "        vertical-align: middle;\n",
       "    }\n",
       "\n",
       "    .dataframe tbody tr th {\n",
       "        vertical-align: top;\n",
       "    }\n",
       "\n",
       "    .dataframe thead th {\n",
       "        text-align: right;\n",
       "    }\n",
       "</style>\n",
       "<table border=\"1\" class=\"dataframe\">\n",
       "  <thead>\n",
       "    <tr style=\"text-align: right;\">\n",
       "      <th></th>\n",
       "      <th>Captured Time</th>\n",
       "      <th>Latitude</th>\n",
       "      <th>Longitude</th>\n",
       "      <th>Value</th>\n",
       "      <th>Unit</th>\n",
       "      <th>Location Name</th>\n",
       "      <th>Device ID</th>\n",
       "      <th>MD5Sum</th>\n",
       "      <th>Height</th>\n",
       "      <th>Surface</th>\n",
       "      <th>Radiation</th>\n",
       "      <th>Uploaded Time</th>\n",
       "      <th>Loader ID</th>\n",
       "    </tr>\n",
       "  </thead>\n",
       "  <tbody>\n",
       "    <tr>\n",
       "      <th>0</th>\n",
       "      <td>2020-02-03 17:00:00</td>\n",
       "      <td>37.507552</td>\n",
       "      <td>139.941170</td>\n",
       "      <td>72.0</td>\n",
       "      <td>cpm</td>\n",
       "      <td>NaN</td>\n",
       "      <td>NaN</td>\n",
       "      <td>6449bbf7ce3b30a8e05bc23a0bc40644</td>\n",
       "      <td>NaN</td>\n",
       "      <td>NaN</td>\n",
       "      <td>NaN</td>\n",
       "      <td>2020-02-03 17:00:00</td>\n",
       "      <td>633.0</td>\n",
       "    </tr>\n",
       "    <tr>\n",
       "      <th>1</th>\n",
       "      <td>2020-02-03 11:00:00</td>\n",
       "      <td>37.507250</td>\n",
       "      <td>139.940000</td>\n",
       "      <td>55.0</td>\n",
       "      <td>cpm</td>\n",
       "      <td>NaN</td>\n",
       "      <td>NaN</td>\n",
       "      <td>2fa8bccef282796bcdc297679c4db5b3</td>\n",
       "      <td>NaN</td>\n",
       "      <td>NaN</td>\n",
       "      <td>NaN</td>\n",
       "      <td>2020-02-03 11:00:00</td>\n",
       "      <td>614.0</td>\n",
       "    </tr>\n",
       "    <tr>\n",
       "      <th>2</th>\n",
       "      <td>2020-02-03 11:00:00</td>\n",
       "      <td>37.505445</td>\n",
       "      <td>0.016667</td>\n",
       "      <td>68.0</td>\n",
       "      <td>cpm</td>\n",
       "      <td>NaN</td>\n",
       "      <td>NaN</td>\n",
       "      <td>a166df14f60b61095693684fc0f89c54</td>\n",
       "      <td>NaN</td>\n",
       "      <td>NaN</td>\n",
       "      <td>NaN</td>\n",
       "      <td>2020-02-03 11:00:00</td>\n",
       "      <td>614.0</td>\n",
       "    </tr>\n",
       "    <tr>\n",
       "      <th>3</th>\n",
       "      <td>2020-02-01 03:00:00</td>\n",
       "      <td>34.066487</td>\n",
       "      <td>-118.895217</td>\n",
       "      <td>50.0</td>\n",
       "      <td>cpm</td>\n",
       "      <td>NaN</td>\n",
       "      <td>NaN</td>\n",
       "      <td>da79c21520d3ff3f5ed010a70f4a6d29</td>\n",
       "      <td>NaN</td>\n",
       "      <td>NaN</td>\n",
       "      <td>NaN</td>\n",
       "      <td>2020-02-01 03:00:00</td>\n",
       "      <td>507.0</td>\n",
       "    </tr>\n",
       "    <tr>\n",
       "      <th>4</th>\n",
       "      <td>2020-02-01 01:00:00</td>\n",
       "      <td>37.673233</td>\n",
       "      <td>140.066667</td>\n",
       "      <td>48.0</td>\n",
       "      <td>cpm</td>\n",
       "      <td>NaN</td>\n",
       "      <td>NaN</td>\n",
       "      <td>6cdf740a2304a850185f74c0c4a4b878</td>\n",
       "      <td>NaN</td>\n",
       "      <td>NaN</td>\n",
       "      <td>NaN</td>\n",
       "      <td>2020-02-01 01:00:00</td>\n",
       "      <td>504.0</td>\n",
       "    </tr>\n",
       "  </tbody>\n",
       "</table>\n",
       "</div>"
      ],
      "text/plain": [
       "        Captured Time   Latitude   Longitude  Value Unit Location Name  \\\n",
       "0 2020-02-03 17:00:00  37.507552  139.941170   72.0  cpm           NaN   \n",
       "1 2020-02-03 11:00:00  37.507250  139.940000   55.0  cpm           NaN   \n",
       "2 2020-02-03 11:00:00  37.505445    0.016667   68.0  cpm           NaN   \n",
       "3 2020-02-01 03:00:00  34.066487 -118.895217   50.0  cpm           NaN   \n",
       "4 2020-02-01 01:00:00  37.673233  140.066667   48.0  cpm           NaN   \n",
       "\n",
       "   Device ID                            MD5Sum  Height  Surface  Radiation  \\\n",
       "0        NaN  6449bbf7ce3b30a8e05bc23a0bc40644     NaN      NaN        NaN   \n",
       "1        NaN  2fa8bccef282796bcdc297679c4db5b3     NaN      NaN        NaN   \n",
       "2        NaN  a166df14f60b61095693684fc0f89c54     NaN      NaN        NaN   \n",
       "3        NaN  da79c21520d3ff3f5ed010a70f4a6d29     NaN      NaN        NaN   \n",
       "4        NaN  6cdf740a2304a850185f74c0c4a4b878     NaN      NaN        NaN   \n",
       "\n",
       "        Uploaded Time  Loader ID  \n",
       "0 2020-02-03 17:00:00      633.0  \n",
       "1 2020-02-03 11:00:00      614.0  \n",
       "2 2020-02-03 11:00:00      614.0  \n",
       "3 2020-02-01 03:00:00      507.0  \n",
       "4 2020-02-01 01:00:00      504.0  "
      ]
     },
     "execution_count": 4,
     "metadata": {},
     "output_type": "execute_result"
    }
   ],
   "source": [
    "df.head()"
   ]
  },
  {
   "cell_type": "code",
   "execution_count": 5,
   "metadata": {
    "ExecuteTime": {
     "end_time": "2018-10-27T11:48:06.180334Z",
     "start_time": "2018-10-27T11:48:06.014433Z"
    }
   },
   "outputs": [],
   "source": [
    "df = df.rename(str.lower, axis=\"columns\")"
   ]
  },
  {
   "cell_type": "code",
   "execution_count": 6,
   "metadata": {
    "ExecuteTime": {
     "end_time": "2018-10-27T11:48:06.199323Z",
     "start_time": "2018-10-27T11:48:06.182333Z"
    }
   },
   "outputs": [
    {
     "data": {
      "text/html": [
       "<div>\n",
       "<style scoped>\n",
       "    .dataframe tbody tr th:only-of-type {\n",
       "        vertical-align: middle;\n",
       "    }\n",
       "\n",
       "    .dataframe tbody tr th {\n",
       "        vertical-align: top;\n",
       "    }\n",
       "\n",
       "    .dataframe thead th {\n",
       "        text-align: right;\n",
       "    }\n",
       "</style>\n",
       "<table border=\"1\" class=\"dataframe\">\n",
       "  <thead>\n",
       "    <tr style=\"text-align: right;\">\n",
       "      <th></th>\n",
       "      <th>captured time</th>\n",
       "      <th>latitude</th>\n",
       "      <th>longitude</th>\n",
       "      <th>value</th>\n",
       "      <th>unit</th>\n",
       "      <th>location name</th>\n",
       "      <th>device id</th>\n",
       "      <th>md5sum</th>\n",
       "      <th>height</th>\n",
       "      <th>surface</th>\n",
       "      <th>radiation</th>\n",
       "      <th>uploaded time</th>\n",
       "      <th>loader id</th>\n",
       "    </tr>\n",
       "  </thead>\n",
       "  <tbody>\n",
       "    <tr>\n",
       "      <th>0</th>\n",
       "      <td>2020-02-03 17:00:00</td>\n",
       "      <td>37.507552</td>\n",
       "      <td>139.941170</td>\n",
       "      <td>72.0</td>\n",
       "      <td>cpm</td>\n",
       "      <td>NaN</td>\n",
       "      <td>NaN</td>\n",
       "      <td>6449bbf7ce3b30a8e05bc23a0bc40644</td>\n",
       "      <td>NaN</td>\n",
       "      <td>NaN</td>\n",
       "      <td>NaN</td>\n",
       "      <td>2020-02-03 17:00:00</td>\n",
       "      <td>633.0</td>\n",
       "    </tr>\n",
       "    <tr>\n",
       "      <th>1</th>\n",
       "      <td>2020-02-03 11:00:00</td>\n",
       "      <td>37.507250</td>\n",
       "      <td>139.940000</td>\n",
       "      <td>55.0</td>\n",
       "      <td>cpm</td>\n",
       "      <td>NaN</td>\n",
       "      <td>NaN</td>\n",
       "      <td>2fa8bccef282796bcdc297679c4db5b3</td>\n",
       "      <td>NaN</td>\n",
       "      <td>NaN</td>\n",
       "      <td>NaN</td>\n",
       "      <td>2020-02-03 11:00:00</td>\n",
       "      <td>614.0</td>\n",
       "    </tr>\n",
       "    <tr>\n",
       "      <th>2</th>\n",
       "      <td>2020-02-03 11:00:00</td>\n",
       "      <td>37.505445</td>\n",
       "      <td>0.016667</td>\n",
       "      <td>68.0</td>\n",
       "      <td>cpm</td>\n",
       "      <td>NaN</td>\n",
       "      <td>NaN</td>\n",
       "      <td>a166df14f60b61095693684fc0f89c54</td>\n",
       "      <td>NaN</td>\n",
       "      <td>NaN</td>\n",
       "      <td>NaN</td>\n",
       "      <td>2020-02-03 11:00:00</td>\n",
       "      <td>614.0</td>\n",
       "    </tr>\n",
       "    <tr>\n",
       "      <th>3</th>\n",
       "      <td>2020-02-01 03:00:00</td>\n",
       "      <td>34.066487</td>\n",
       "      <td>-118.895217</td>\n",
       "      <td>50.0</td>\n",
       "      <td>cpm</td>\n",
       "      <td>NaN</td>\n",
       "      <td>NaN</td>\n",
       "      <td>da79c21520d3ff3f5ed010a70f4a6d29</td>\n",
       "      <td>NaN</td>\n",
       "      <td>NaN</td>\n",
       "      <td>NaN</td>\n",
       "      <td>2020-02-01 03:00:00</td>\n",
       "      <td>507.0</td>\n",
       "    </tr>\n",
       "    <tr>\n",
       "      <th>4</th>\n",
       "      <td>2020-02-01 01:00:00</td>\n",
       "      <td>37.673233</td>\n",
       "      <td>140.066667</td>\n",
       "      <td>48.0</td>\n",
       "      <td>cpm</td>\n",
       "      <td>NaN</td>\n",
       "      <td>NaN</td>\n",
       "      <td>6cdf740a2304a850185f74c0c4a4b878</td>\n",
       "      <td>NaN</td>\n",
       "      <td>NaN</td>\n",
       "      <td>NaN</td>\n",
       "      <td>2020-02-01 01:00:00</td>\n",
       "      <td>504.0</td>\n",
       "    </tr>\n",
       "  </tbody>\n",
       "</table>\n",
       "</div>"
      ],
      "text/plain": [
       "        captured time   latitude   longitude  value unit location name  \\\n",
       "0 2020-02-03 17:00:00  37.507552  139.941170   72.0  cpm           NaN   \n",
       "1 2020-02-03 11:00:00  37.507250  139.940000   55.0  cpm           NaN   \n",
       "2 2020-02-03 11:00:00  37.505445    0.016667   68.0  cpm           NaN   \n",
       "3 2020-02-01 03:00:00  34.066487 -118.895217   50.0  cpm           NaN   \n",
       "4 2020-02-01 01:00:00  37.673233  140.066667   48.0  cpm           NaN   \n",
       "\n",
       "   device id                            md5sum  height  surface  radiation  \\\n",
       "0        NaN  6449bbf7ce3b30a8e05bc23a0bc40644     NaN      NaN        NaN   \n",
       "1        NaN  2fa8bccef282796bcdc297679c4db5b3     NaN      NaN        NaN   \n",
       "2        NaN  a166df14f60b61095693684fc0f89c54     NaN      NaN        NaN   \n",
       "3        NaN  da79c21520d3ff3f5ed010a70f4a6d29     NaN      NaN        NaN   \n",
       "4        NaN  6cdf740a2304a850185f74c0c4a4b878     NaN      NaN        NaN   \n",
       "\n",
       "        uploaded time  loader id  \n",
       "0 2020-02-03 17:00:00      633.0  \n",
       "1 2020-02-03 11:00:00      614.0  \n",
       "2 2020-02-03 11:00:00      614.0  \n",
       "3 2020-02-01 03:00:00      507.0  \n",
       "4 2020-02-01 01:00:00      504.0  "
      ]
     },
     "execution_count": 6,
     "metadata": {},
     "output_type": "execute_result"
    }
   ],
   "source": [
    "df.head()"
   ]
  },
  {
   "cell_type": "code",
   "execution_count": 7,
   "metadata": {
    "ExecuteTime": {
     "end_time": "2018-10-27T11:48:06.317294Z",
     "start_time": "2018-10-27T11:48:06.200323Z"
    }
   },
   "outputs": [],
   "source": [
    "df = df[df[\"captured time\"] <= pd.datetime.now()]"
   ]
  },
  {
   "cell_type": "code",
   "execution_count": 8,
   "metadata": {
    "ExecuteTime": {
     "end_time": "2018-10-27T11:48:06.335245Z",
     "start_time": "2018-10-27T11:48:06.319255Z"
    }
   },
   "outputs": [
    {
     "data": {
      "text/html": [
       "<div>\n",
       "<style scoped>\n",
       "    .dataframe tbody tr th:only-of-type {\n",
       "        vertical-align: middle;\n",
       "    }\n",
       "\n",
       "    .dataframe tbody tr th {\n",
       "        vertical-align: top;\n",
       "    }\n",
       "\n",
       "    .dataframe thead th {\n",
       "        text-align: right;\n",
       "    }\n",
       "</style>\n",
       "<table border=\"1\" class=\"dataframe\">\n",
       "  <thead>\n",
       "    <tr style=\"text-align: right;\">\n",
       "      <th></th>\n",
       "      <th>captured time</th>\n",
       "      <th>latitude</th>\n",
       "      <th>longitude</th>\n",
       "      <th>value</th>\n",
       "      <th>unit</th>\n",
       "      <th>location name</th>\n",
       "      <th>device id</th>\n",
       "      <th>md5sum</th>\n",
       "      <th>height</th>\n",
       "      <th>surface</th>\n",
       "      <th>radiation</th>\n",
       "      <th>uploaded time</th>\n",
       "      <th>loader id</th>\n",
       "    </tr>\n",
       "  </thead>\n",
       "  <tbody>\n",
       "    <tr>\n",
       "      <th>20</th>\n",
       "      <td>2018-10-21 01:00:28</td>\n",
       "      <td>37.796306</td>\n",
       "      <td>140.514413</td>\n",
       "      <td>20.1</td>\n",
       "      <td>status</td>\n",
       "      <td>NaN</td>\n",
       "      <td>100419.0</td>\n",
       "      <td>7086e4e874b812dafce85e9a80f7f40f</td>\n",
       "      <td>65.0</td>\n",
       "      <td>NaN</td>\n",
       "      <td>NaN</td>\n",
       "      <td>2018-10-21 01:00:28.190639</td>\n",
       "      <td>NaN</td>\n",
       "    </tr>\n",
       "    <tr>\n",
       "      <th>21</th>\n",
       "      <td>2018-10-21 01:00:26</td>\n",
       "      <td>36.041080</td>\n",
       "      <td>140.226816</td>\n",
       "      <td>23.0</td>\n",
       "      <td>cpm</td>\n",
       "      <td>NaN</td>\n",
       "      <td>63.0</td>\n",
       "      <td>005f723c1e83b84a7b7a2d1d704ccd09</td>\n",
       "      <td>NaN</td>\n",
       "      <td>NaN</td>\n",
       "      <td>NaN</td>\n",
       "      <td>2018-10-21 01:00:26.944596</td>\n",
       "      <td>NaN</td>\n",
       "    </tr>\n",
       "    <tr>\n",
       "      <th>22</th>\n",
       "      <td>2018-10-21 01:00:22</td>\n",
       "      <td>37.796306</td>\n",
       "      <td>140.514413</td>\n",
       "      <td>19.0</td>\n",
       "      <td>cpm</td>\n",
       "      <td>NaN</td>\n",
       "      <td>100412.0</td>\n",
       "      <td>902688b460af360d8ac66fcd59909e3f</td>\n",
       "      <td>65.0</td>\n",
       "      <td>NaN</td>\n",
       "      <td>NaN</td>\n",
       "      <td>2018-10-21 01:00:23.127210</td>\n",
       "      <td>NaN</td>\n",
       "    </tr>\n",
       "    <tr>\n",
       "      <th>23</th>\n",
       "      <td>2018-10-21 01:00:21</td>\n",
       "      <td>37.723330</td>\n",
       "      <td>140.476797</td>\n",
       "      <td>24.8</td>\n",
       "      <td>status</td>\n",
       "      <td>NaN</td>\n",
       "      <td>100429.0</td>\n",
       "      <td>ff7b8821fa4cff503e92e739578c84e2</td>\n",
       "      <td>145.0</td>\n",
       "      <td>NaN</td>\n",
       "      <td>NaN</td>\n",
       "      <td>2018-10-21 01:00:21.689528</td>\n",
       "      <td>NaN</td>\n",
       "    </tr>\n",
       "    <tr>\n",
       "      <th>24</th>\n",
       "      <td>2018-10-21 01:00:21</td>\n",
       "      <td>37.787500</td>\n",
       "      <td>140.552400</td>\n",
       "      <td>23.0</td>\n",
       "      <td>status</td>\n",
       "      <td>NaN</td>\n",
       "      <td>100409.0</td>\n",
       "      <td>f09743c1a79bb244c6b8b2b88c83cef0</td>\n",
       "      <td>60.0</td>\n",
       "      <td>NaN</td>\n",
       "      <td>NaN</td>\n",
       "      <td>2018-10-21 01:00:21.379591</td>\n",
       "      <td>NaN</td>\n",
       "    </tr>\n",
       "  </tbody>\n",
       "</table>\n",
       "</div>"
      ],
      "text/plain": [
       "         captured time   latitude   longitude  value    unit location name  \\\n",
       "20 2018-10-21 01:00:28  37.796306  140.514413   20.1  status           NaN   \n",
       "21 2018-10-21 01:00:26  36.041080  140.226816   23.0     cpm           NaN   \n",
       "22 2018-10-21 01:00:22  37.796306  140.514413   19.0     cpm           NaN   \n",
       "23 2018-10-21 01:00:21  37.723330  140.476797   24.8  status           NaN   \n",
       "24 2018-10-21 01:00:21  37.787500  140.552400   23.0  status           NaN   \n",
       "\n",
       "    device id                            md5sum  height  surface  radiation  \\\n",
       "20   100419.0  7086e4e874b812dafce85e9a80f7f40f    65.0      NaN        NaN   \n",
       "21       63.0  005f723c1e83b84a7b7a2d1d704ccd09     NaN      NaN        NaN   \n",
       "22   100412.0  902688b460af360d8ac66fcd59909e3f    65.0      NaN        NaN   \n",
       "23   100429.0  ff7b8821fa4cff503e92e739578c84e2   145.0      NaN        NaN   \n",
       "24   100409.0  f09743c1a79bb244c6b8b2b88c83cef0    60.0      NaN        NaN   \n",
       "\n",
       "                uploaded time  loader id  \n",
       "20 2018-10-21 01:00:28.190639        NaN  \n",
       "21 2018-10-21 01:00:26.944596        NaN  \n",
       "22 2018-10-21 01:00:23.127210        NaN  \n",
       "23 2018-10-21 01:00:21.689528        NaN  \n",
       "24 2018-10-21 01:00:21.379591        NaN  "
      ]
     },
     "execution_count": 8,
     "metadata": {},
     "output_type": "execute_result"
    }
   ],
   "source": [
    "df.head()"
   ]
  },
  {
   "cell_type": "code",
   "execution_count": 9,
   "metadata": {
    "ExecuteTime": {
     "end_time": "2018-10-27T11:48:06.341247Z",
     "start_time": "2018-10-27T11:48:06.336245Z"
    }
   },
   "outputs": [
    {
     "data": {
      "text/plain": [
       "999903"
      ]
     },
     "execution_count": 9,
     "metadata": {},
     "output_type": "execute_result"
    }
   ],
   "source": [
    "len(df.index)"
   ]
  },
  {
   "cell_type": "code",
   "execution_count": 10,
   "metadata": {
    "ExecuteTime": {
     "end_time": "2018-10-27T11:48:06.488170Z",
     "start_time": "2018-10-27T11:48:06.344243Z"
    },
    "scrolled": true
   },
   "outputs": [
    {
     "data": {
      "text/plain": [
       "cpm        806849\n",
       "status     139426\n",
       "celcius     53170\n",
       "usv           458\n",
       "Name: unit, dtype: int64"
      ]
     },
     "execution_count": 10,
     "metadata": {},
     "output_type": "execute_result"
    }
   ],
   "source": [
    "df[\"unit\"].value_counts()"
   ]
  },
  {
   "cell_type": "code",
   "execution_count": 11,
   "metadata": {
    "ExecuteTime": {
     "end_time": "2018-10-27T11:48:06.568111Z",
     "start_time": "2018-10-27T11:48:06.489157Z"
    },
    "scrolled": true
   },
   "outputs": [
    {
     "data": {
      "text/plain": [
       "Berlin, DE               44861\n",
       "Kearneysville WV, USA    27694\n",
       "Guanajuato, MX           21770\n",
       "Venlo, NL                13412\n",
       "Co.Galway, IE             1581\n",
       "Brynamman, Wales            97\n",
       "fort bragg  ca               5\n",
       "Name: location name, dtype: int64"
      ]
     },
     "execution_count": 11,
     "metadata": {},
     "output_type": "execute_result"
    }
   ],
   "source": [
    "df[\"location name\"].value_counts()"
   ]
  },
  {
   "cell_type": "code",
   "execution_count": 12,
   "metadata": {
    "ExecuteTime": {
     "end_time": "2018-10-27T11:48:06.902930Z",
     "start_time": "2018-10-27T11:48:06.570109Z"
    }
   },
   "outputs": [
    {
     "data": {
      "text/plain": [
       "captured time         0\n",
       "latitude              0\n",
       "longitude             0\n",
       "value                 0\n",
       "unit                  0\n",
       "location name    890483\n",
       "device id        188015\n",
       "md5sum                0\n",
       "height           371795\n",
       "surface          999903\n",
       "radiation        999903\n",
       "uploaded time         0\n",
       "loader id        811889\n",
       "dtype: int64"
      ]
     },
     "execution_count": 12,
     "metadata": {},
     "output_type": "execute_result"
    }
   ],
   "source": [
    "df.isna().sum()   # how many NaN values are in each column"
   ]
  },
  {
   "cell_type": "code",
   "execution_count": 13,
   "metadata": {
    "ExecuteTime": {
     "end_time": "2018-10-27T11:48:07.078855Z",
     "start_time": "2018-10-27T11:48:06.903917Z"
    }
   },
   "outputs": [],
   "source": [
    "df = df[df[\"unit\"] == \"cpm\"]"
   ]
  },
  {
   "cell_type": "code",
   "execution_count": 14,
   "metadata": {
    "ExecuteTime": {
     "end_time": "2018-10-27T11:48:07.095808Z",
     "start_time": "2018-10-27T11:48:07.079814Z"
    }
   },
   "outputs": [
    {
     "data": {
      "text/html": [
       "<div>\n",
       "<style scoped>\n",
       "    .dataframe tbody tr th:only-of-type {\n",
       "        vertical-align: middle;\n",
       "    }\n",
       "\n",
       "    .dataframe tbody tr th {\n",
       "        vertical-align: top;\n",
       "    }\n",
       "\n",
       "    .dataframe thead th {\n",
       "        text-align: right;\n",
       "    }\n",
       "</style>\n",
       "<table border=\"1\" class=\"dataframe\">\n",
       "  <thead>\n",
       "    <tr style=\"text-align: right;\">\n",
       "      <th></th>\n",
       "      <th>captured time</th>\n",
       "      <th>latitude</th>\n",
       "      <th>longitude</th>\n",
       "      <th>value</th>\n",
       "      <th>unit</th>\n",
       "      <th>location name</th>\n",
       "      <th>device id</th>\n",
       "      <th>md5sum</th>\n",
       "      <th>height</th>\n",
       "      <th>surface</th>\n",
       "      <th>radiation</th>\n",
       "      <th>uploaded time</th>\n",
       "      <th>loader id</th>\n",
       "    </tr>\n",
       "  </thead>\n",
       "  <tbody>\n",
       "    <tr>\n",
       "      <th>21</th>\n",
       "      <td>2018-10-21 01:00:26</td>\n",
       "      <td>36.041080</td>\n",
       "      <td>140.226816</td>\n",
       "      <td>23.0</td>\n",
       "      <td>cpm</td>\n",
       "      <td>NaN</td>\n",
       "      <td>63.0</td>\n",
       "      <td>005f723c1e83b84a7b7a2d1d704ccd09</td>\n",
       "      <td>NaN</td>\n",
       "      <td>NaN</td>\n",
       "      <td>NaN</td>\n",
       "      <td>2018-10-21 01:00:26.944596</td>\n",
       "      <td>NaN</td>\n",
       "    </tr>\n",
       "    <tr>\n",
       "      <th>22</th>\n",
       "      <td>2018-10-21 01:00:22</td>\n",
       "      <td>37.796306</td>\n",
       "      <td>140.514413</td>\n",
       "      <td>19.0</td>\n",
       "      <td>cpm</td>\n",
       "      <td>NaN</td>\n",
       "      <td>100412.0</td>\n",
       "      <td>902688b460af360d8ac66fcd59909e3f</td>\n",
       "      <td>65.0</td>\n",
       "      <td>NaN</td>\n",
       "      <td>NaN</td>\n",
       "      <td>2018-10-21 01:00:23.127210</td>\n",
       "      <td>NaN</td>\n",
       "    </tr>\n",
       "    <tr>\n",
       "      <th>25</th>\n",
       "      <td>2018-10-21 01:00:16</td>\n",
       "      <td>37.723330</td>\n",
       "      <td>140.476797</td>\n",
       "      <td>15.0</td>\n",
       "      <td>cpm</td>\n",
       "      <td>NaN</td>\n",
       "      <td>100422.0</td>\n",
       "      <td>d3d7596f1e060552e18718ee14268648</td>\n",
       "      <td>145.0</td>\n",
       "      <td>NaN</td>\n",
       "      <td>NaN</td>\n",
       "      <td>2018-10-21 01:00:16.466003</td>\n",
       "      <td>NaN</td>\n",
       "    </tr>\n",
       "    <tr>\n",
       "      <th>26</th>\n",
       "      <td>2018-10-21 00:59:16</td>\n",
       "      <td>52.444900</td>\n",
       "      <td>13.315000</td>\n",
       "      <td>16.0</td>\n",
       "      <td>cpm</td>\n",
       "      <td>Berlin, DE</td>\n",
       "      <td>204.0</td>\n",
       "      <td>74516102788a4c5eb3f57c0b6e4990f1</td>\n",
       "      <td>NaN</td>\n",
       "      <td>NaN</td>\n",
       "      <td>NaN</td>\n",
       "      <td>2018-10-21 01:00:16.361779</td>\n",
       "      <td>NaN</td>\n",
       "    </tr>\n",
       "    <tr>\n",
       "      <th>27</th>\n",
       "      <td>2018-10-21 01:00:16</td>\n",
       "      <td>37.787500</td>\n",
       "      <td>140.552400</td>\n",
       "      <td>18.0</td>\n",
       "      <td>cpm</td>\n",
       "      <td>NaN</td>\n",
       "      <td>100402.0</td>\n",
       "      <td>6d031707e17c5370e57902821b9af6f6</td>\n",
       "      <td>60.0</td>\n",
       "      <td>NaN</td>\n",
       "      <td>NaN</td>\n",
       "      <td>2018-10-21 01:00:16.348347</td>\n",
       "      <td>NaN</td>\n",
       "    </tr>\n",
       "  </tbody>\n",
       "</table>\n",
       "</div>"
      ],
      "text/plain": [
       "         captured time   latitude   longitude  value unit location name  \\\n",
       "21 2018-10-21 01:00:26  36.041080  140.226816   23.0  cpm           NaN   \n",
       "22 2018-10-21 01:00:22  37.796306  140.514413   19.0  cpm           NaN   \n",
       "25 2018-10-21 01:00:16  37.723330  140.476797   15.0  cpm           NaN   \n",
       "26 2018-10-21 00:59:16  52.444900   13.315000   16.0  cpm    Berlin, DE   \n",
       "27 2018-10-21 01:00:16  37.787500  140.552400   18.0  cpm           NaN   \n",
       "\n",
       "    device id                            md5sum  height  surface  radiation  \\\n",
       "21       63.0  005f723c1e83b84a7b7a2d1d704ccd09     NaN      NaN        NaN   \n",
       "22   100412.0  902688b460af360d8ac66fcd59909e3f    65.0      NaN        NaN   \n",
       "25   100422.0  d3d7596f1e060552e18718ee14268648   145.0      NaN        NaN   \n",
       "26      204.0  74516102788a4c5eb3f57c0b6e4990f1     NaN      NaN        NaN   \n",
       "27   100402.0  6d031707e17c5370e57902821b9af6f6    60.0      NaN        NaN   \n",
       "\n",
       "                uploaded time  loader id  \n",
       "21 2018-10-21 01:00:26.944596        NaN  \n",
       "22 2018-10-21 01:00:23.127210        NaN  \n",
       "25 2018-10-21 01:00:16.466003        NaN  \n",
       "26 2018-10-21 01:00:16.361779        NaN  \n",
       "27 2018-10-21 01:00:16.348347        NaN  "
      ]
     },
     "execution_count": 14,
     "metadata": {},
     "output_type": "execute_result"
    }
   ],
   "source": [
    "df.head()"
   ]
  },
  {
   "cell_type": "code",
   "execution_count": 15,
   "metadata": {
    "ExecuteTime": {
     "end_time": "2018-10-27T11:48:07.125788Z",
     "start_time": "2018-10-27T11:48:07.097805Z"
    }
   },
   "outputs": [
    {
     "data": {
      "text/plain": [
       "(Timestamp('2018-06-18 21:25:51'), Timestamp('2018-10-21 01:00:26'))"
      ]
     },
     "execution_count": 15,
     "metadata": {},
     "output_type": "execute_result"
    }
   ],
   "source": [
    "df[\"captured time\"].min(), df[\"captured time\"].max()"
   ]
  },
  {
   "cell_type": "code",
   "execution_count": null,
   "metadata": {},
   "outputs": [],
   "source": []
  }
 ],
 "metadata": {
  "kernelspec": {
   "display_name": "Python 3",
   "language": "python",
   "name": "python3"
  },
  "language_info": {
   "codemirror_mode": {
    "name": "ipython",
    "version": 3
   },
   "file_extension": ".py",
   "mimetype": "text/x-python",
   "name": "python",
   "nbconvert_exporter": "python",
   "pygments_lexer": "ipython3",
   "version": "3.7.0"
  }
 },
 "nbformat": 4,
 "nbformat_minor": 1
}
