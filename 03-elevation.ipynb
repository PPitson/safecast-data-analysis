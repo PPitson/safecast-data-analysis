{
 "cells": [
  {
   "cell_type": "code",
   "execution_count": 1,
   "metadata": {
    "ExecuteTime": {
     "end_time": "2019-01-03T21:33:27.788418Z",
     "start_time": "2019-01-03T21:33:26.846508Z"
    }
   },
   "outputs": [],
   "source": [
    "import pandas as pd\n",
    "import os\n",
    "import numpy as np\n",
    "from functools import lru_cache"
   ]
  },
  {
   "cell_type": "code",
   "execution_count": 2,
   "metadata": {
    "ExecuteTime": {
     "end_time": "2019-01-03T21:33:27.796412Z",
     "start_time": "2019-01-03T21:33:27.791416Z"
    }
   },
   "outputs": [],
   "source": [
    "SAFECAST_DATA_PATH = r\"F:\\safecast\\chunks\\filtered.csv\"\n",
    "HGTDIR = \"hgt_files\"\n",
    "RESULTS_DIR = \"results\"\n",
    "NUMBER_OF_ROWS = 10000000"
   ]
  },
  {
   "cell_type": "code",
   "execution_count": 3,
   "metadata": {
    "ExecuteTime": {
     "end_time": "2019-01-03T21:34:15.936758Z",
     "start_time": "2019-01-03T21:33:27.799410Z"
    }
   },
   "outputs": [],
   "source": [
    "df = pd.read_csv(SAFECAST_DATA_PATH, nrows=NUMBER_OF_ROWS, names=[\"capture_date\", \"latitude\", \"longitude\", \"value\"])"
   ]
  },
  {
   "cell_type": "code",
   "execution_count": 4,
   "metadata": {
    "ExecuteTime": {
     "end_time": "2019-01-03T21:34:15.969741Z",
     "start_time": "2019-01-03T21:34:15.940741Z"
    },
    "scrolled": true
   },
   "outputs": [
    {
     "data": {
      "text/html": [
       "<div>\n",
       "<style scoped>\n",
       "    .dataframe tbody tr th:only-of-type {\n",
       "        vertical-align: middle;\n",
       "    }\n",
       "\n",
       "    .dataframe tbody tr th {\n",
       "        vertical-align: top;\n",
       "    }\n",
       "\n",
       "    .dataframe thead th {\n",
       "        text-align: right;\n",
       "    }\n",
       "</style>\n",
       "<table border=\"1\" class=\"dataframe\">\n",
       "  <thead>\n",
       "    <tr style=\"text-align: right;\">\n",
       "      <th></th>\n",
       "      <th>capture_date</th>\n",
       "      <th>latitude</th>\n",
       "      <th>longitude</th>\n",
       "      <th>value</th>\n",
       "    </tr>\n",
       "  </thead>\n",
       "  <tbody>\n",
       "    <tr>\n",
       "      <th>0</th>\n",
       "      <td>2018-10-21 01:00:26.000000</td>\n",
       "      <td>36.041080</td>\n",
       "      <td>140.226816</td>\n",
       "      <td>23.0</td>\n",
       "    </tr>\n",
       "    <tr>\n",
       "      <th>1</th>\n",
       "      <td>2018-10-21 01:00:22.000000</td>\n",
       "      <td>37.796306</td>\n",
       "      <td>140.514413</td>\n",
       "      <td>19.0</td>\n",
       "    </tr>\n",
       "    <tr>\n",
       "      <th>2</th>\n",
       "      <td>2018-10-21 01:00:16.000000</td>\n",
       "      <td>37.723330</td>\n",
       "      <td>140.476797</td>\n",
       "      <td>15.0</td>\n",
       "    </tr>\n",
       "    <tr>\n",
       "      <th>3</th>\n",
       "      <td>2018-10-21 00:59:16.000000</td>\n",
       "      <td>52.444900</td>\n",
       "      <td>13.315000</td>\n",
       "      <td>16.0</td>\n",
       "    </tr>\n",
       "    <tr>\n",
       "      <th>4</th>\n",
       "      <td>2018-10-21 01:00:16.000000</td>\n",
       "      <td>37.787500</td>\n",
       "      <td>140.552400</td>\n",
       "      <td>18.0</td>\n",
       "    </tr>\n",
       "  </tbody>\n",
       "</table>\n",
       "</div>"
      ],
      "text/plain": [
       "                 capture_date   latitude   longitude  value\n",
       "0  2018-10-21 01:00:26.000000  36.041080  140.226816   23.0\n",
       "1  2018-10-21 01:00:22.000000  37.796306  140.514413   19.0\n",
       "2  2018-10-21 01:00:16.000000  37.723330  140.476797   15.0\n",
       "3  2018-10-21 00:59:16.000000  52.444900   13.315000   16.0\n",
       "4  2018-10-21 01:00:16.000000  37.787500  140.552400   18.0"
      ]
     },
     "execution_count": 4,
     "metadata": {},
     "output_type": "execute_result"
    }
   ],
   "source": [
    "df.head()"
   ]
  },
  {
   "cell_type": "code",
   "execution_count": 5,
   "metadata": {
    "ExecuteTime": {
     "end_time": "2019-01-03T21:34:15.980721Z",
     "start_time": "2019-01-03T21:34:15.971723Z"
    }
   },
   "outputs": [],
   "source": [
    "def get_file_name(lat, lon):\n",
    "    \n",
    "    @lru_cache(maxsize=1024)\n",
    "    def _get_file_name(latitude, longitude, ns, ew):\n",
    "        hgt_file = \"%(ns)s%(lat)02d%(ew)s%(lon)03d.hgt\" % {'lat': latitude, 'lon': longitude, 'ns': ns, 'ew': ew}\n",
    "        hgt_file_path = os.path.join(HGTDIR, hgt_file)\n",
    "        if os.path.isfile(hgt_file_path):\n",
    "            return hgt_file_path\n",
    "        else:\n",
    "            return None\n",
    "        \n",
    "    if lat >= 0.0:\n",
    "        ns = 'N'\n",
    "    else:\n",
    "        ns = 'S'\n",
    "        lat -= 1\n",
    "\n",
    "    if lon >= 0.0:\n",
    "        ew = 'E'\n",
    "    else:\n",
    "        ew = 'W'\n",
    "        lon -= 1\n",
    "    latitude = abs(lat)\n",
    "    longitude = abs(lon)\n",
    "    return _get_file_name(latitude, longitude, ns, ew)"
   ]
  },
  {
   "cell_type": "code",
   "execution_count": 6,
   "metadata": {
    "ExecuteTime": {
     "end_time": "2019-01-03T21:34:15.994710Z",
     "start_time": "2019-01-03T21:34:15.983716Z"
    }
   },
   "outputs": [],
   "source": [
    "d = {}\n",
    "SAMPLES = 1201\n",
    "\n",
    "    \n",
    "def get_elevation_for_coords(lat, lon):\n",
    "    hgt_file = get_file_name(lat, lon)\n",
    "    if not hgt_file:\n",
    "        return -32768\n",
    "    \n",
    "    lat_row = int(round((lat - int(lat)) * (SAMPLES - 1), 0))\n",
    "    if lat_row < 0:\n",
    "        lat_row = SAMPLES - 1 + lat_row\n",
    "    lon_row = int(round((lon - int(lon)) * (SAMPLES - 1), 0))\n",
    "    if lon_row < 0:\n",
    "        lon_row = SAMPLES - 1 + lon_row\n",
    "    if hgt_file not in d:\n",
    "        with open(hgt_file, 'rb') as hgt_data:\n",
    "            d[hgt_file] = np.fromfile(hgt_data, np.dtype('>i2'), SAMPLES*SAMPLES).reshape((SAMPLES, SAMPLES))\n",
    "            \n",
    "    try:\n",
    "        return d[hgt_file][SAMPLES - 1 - lat_row, lon_row].astype(int)\n",
    "    except Exception as e:\n",
    "        print(lat, lon, repr(e))\n",
    "        return -32768\n"
   ]
  },
  {
   "cell_type": "code",
   "execution_count": 7,
   "metadata": {
    "ExecuteTime": {
     "end_time": "2019-01-03T21:34:16.006703Z",
     "start_time": "2019-01-03T21:34:15.999707Z"
    }
   },
   "outputs": [],
   "source": [
    "def get_elevation(row):\n",
    "    lat, lon = row.latitude, row.longitude\n",
    "    return get_elevation_for_coords(lat, lon)"
   ]
  },
  {
   "cell_type": "code",
   "execution_count": 80,
   "metadata": {
    "ExecuteTime": {
     "end_time": "2018-11-19T19:09:26.367691Z",
     "start_time": "2018-11-19T18:25:26.861553Z"
    },
    "scrolled": false
   },
   "outputs": [],
   "source": [
    "df[\"elevation\"] = df.apply(get_elevation, axis=1)   # expensive"
   ]
  },
  {
   "cell_type": "code",
   "execution_count": 81,
   "metadata": {
    "ExecuteTime": {
     "end_time": "2018-11-19T19:20:05.928444Z",
     "start_time": "2018-11-19T19:20:05.779740Z"
    },
    "scrolled": true
   },
   "outputs": [
    {
     "data": {
      "text/plain": [
       "267481"
      ]
     },
     "execution_count": 81,
     "metadata": {},
     "output_type": "execute_result"
    }
   ],
   "source": [
    "len(df[df.elevation == -32768])"
   ]
  },
  {
   "cell_type": "code",
   "execution_count": 83,
   "metadata": {
    "ExecuteTime": {
     "end_time": "2018-11-19T19:20:17.261555Z",
     "start_time": "2018-11-19T19:20:17.256570Z"
    }
   },
   "outputs": [
    {
     "data": {
      "text/plain": [
       "841"
      ]
     },
     "execution_count": 83,
     "metadata": {},
     "output_type": "execute_result"
    }
   ],
   "source": [
    "len(d)"
   ]
  },
  {
   "cell_type": "code",
   "execution_count": 84,
   "metadata": {
    "ExecuteTime": {
     "end_time": "2018-11-19T19:24:19.920122Z",
     "start_time": "2018-11-19T19:24:18.457474Z"
    }
   },
   "outputs": [],
   "source": [
    "filtered_df = df[df.elevation != -32768]"
   ]
  },
  {
   "cell_type": "code",
   "execution_count": 85,
   "metadata": {
    "ExecuteTime": {
     "end_time": "2018-11-19T19:24:23.379526Z",
     "start_time": "2018-11-19T19:24:23.375515Z"
    }
   },
   "outputs": [
    {
     "data": {
      "text/plain": [
       "9732519"
      ]
     },
     "execution_count": 85,
     "metadata": {},
     "output_type": "execute_result"
    }
   ],
   "source": [
    "len(filtered_df)"
   ]
  },
  {
   "cell_type": "code",
   "execution_count": 86,
   "metadata": {
    "ExecuteTime": {
     "end_time": "2018-11-19T19:24:56.513587Z",
     "start_time": "2018-11-19T19:24:56.503592Z"
    }
   },
   "outputs": [
    {
     "data": {
      "text/html": [
       "<div>\n",
       "<style scoped>\n",
       "    .dataframe tbody tr th:only-of-type {\n",
       "        vertical-align: middle;\n",
       "    }\n",
       "\n",
       "    .dataframe tbody tr th {\n",
       "        vertical-align: top;\n",
       "    }\n",
       "\n",
       "    .dataframe thead th {\n",
       "        text-align: right;\n",
       "    }\n",
       "</style>\n",
       "<table border=\"1\" class=\"dataframe\">\n",
       "  <thead>\n",
       "    <tr style=\"text-align: right;\">\n",
       "      <th></th>\n",
       "      <th>capture_date</th>\n",
       "      <th>latitude</th>\n",
       "      <th>longitude</th>\n",
       "      <th>value</th>\n",
       "      <th>elevation</th>\n",
       "    </tr>\n",
       "  </thead>\n",
       "  <tbody>\n",
       "    <tr>\n",
       "      <th>0</th>\n",
       "      <td>2018-10-21 01:00:26.000000</td>\n",
       "      <td>36.041080</td>\n",
       "      <td>140.226816</td>\n",
       "      <td>23.0</td>\n",
       "      <td>31</td>\n",
       "    </tr>\n",
       "    <tr>\n",
       "      <th>1</th>\n",
       "      <td>2018-10-21 01:00:22.000000</td>\n",
       "      <td>37.796306</td>\n",
       "      <td>140.514413</td>\n",
       "      <td>19.0</td>\n",
       "      <td>72</td>\n",
       "    </tr>\n",
       "    <tr>\n",
       "      <th>2</th>\n",
       "      <td>2018-10-21 01:00:16.000000</td>\n",
       "      <td>37.723330</td>\n",
       "      <td>140.476797</td>\n",
       "      <td>15.0</td>\n",
       "      <td>141</td>\n",
       "    </tr>\n",
       "    <tr>\n",
       "      <th>3</th>\n",
       "      <td>2018-10-21 00:59:16.000000</td>\n",
       "      <td>52.444900</td>\n",
       "      <td>13.315000</td>\n",
       "      <td>16.0</td>\n",
       "      <td>47</td>\n",
       "    </tr>\n",
       "    <tr>\n",
       "      <th>4</th>\n",
       "      <td>2018-10-21 01:00:16.000000</td>\n",
       "      <td>37.787500</td>\n",
       "      <td>140.552400</td>\n",
       "      <td>18.0</td>\n",
       "      <td>107</td>\n",
       "    </tr>\n",
       "  </tbody>\n",
       "</table>\n",
       "</div>"
      ],
      "text/plain": [
       "                 capture_date   latitude   longitude  value  elevation\n",
       "0  2018-10-21 01:00:26.000000  36.041080  140.226816   23.0         31\n",
       "1  2018-10-21 01:00:22.000000  37.796306  140.514413   19.0         72\n",
       "2  2018-10-21 01:00:16.000000  37.723330  140.476797   15.0        141\n",
       "3  2018-10-21 00:59:16.000000  52.444900   13.315000   16.0         47\n",
       "4  2018-10-21 01:00:16.000000  37.787500  140.552400   18.0        107"
      ]
     },
     "execution_count": 86,
     "metadata": {},
     "output_type": "execute_result"
    }
   ],
   "source": [
    "filtered_df.head()"
   ]
  },
  {
   "cell_type": "code",
   "execution_count": 87,
   "metadata": {
    "ExecuteTime": {
     "end_time": "2018-11-19T19:26:12.147233Z",
     "start_time": "2018-11-19T19:25:05.511462Z"
    }
   },
   "outputs": [],
   "source": [
    "filtered_df.to_csv(os.path.join(RESULTS_DIR, \"10_million_with_elevation.csv\"), index=False)"
   ]
  }
 ],
 "metadata": {
  "kernelspec": {
   "display_name": "Python 3",
   "language": "python",
   "name": "python3"
  },
  "language_info": {
   "codemirror_mode": {
    "name": "ipython",
    "version": 3
   },
   "file_extension": ".py",
   "mimetype": "text/x-python",
   "name": "python",
   "nbconvert_exporter": "python",
   "pygments_lexer": "ipython3",
   "version": "3.7.0"
  }
 },
 "nbformat": 4,
 "nbformat_minor": 1
}
