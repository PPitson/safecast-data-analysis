{
 "cells": [
  {
   "cell_type": "code",
   "execution_count": 4,
   "metadata": {
    "ExecuteTime": {
     "end_time": "2018-11-16T20:40:01.740009Z",
     "start_time": "2018-11-16T20:40:00.087827Z"
    }
   },
   "outputs": [],
   "source": [
    "import pandas as pd\n",
    "import os\n",
    "import folium\n",
    "import geohash"
   ]
  },
  {
   "cell_type": "code",
   "execution_count": 2,
   "metadata": {
    "ExecuteTime": {
     "end_time": "2018-11-16T20:38:44.583544Z",
     "start_time": "2018-11-16T20:38:42.199902Z"
    }
   },
   "outputs": [],
   "source": [
    "df = pd.read_csv(\"results/first_million.csv\")"
   ]
  },
  {
   "cell_type": "code",
   "execution_count": 3,
   "metadata": {
    "ExecuteTime": {
     "end_time": "2018-11-16T20:38:47.168469Z",
     "start_time": "2018-11-16T20:38:47.150467Z"
    }
   },
   "outputs": [
    {
     "data": {
      "text/html": [
       "<div>\n",
       "<style scoped>\n",
       "    .dataframe tbody tr th:only-of-type {\n",
       "        vertical-align: middle;\n",
       "    }\n",
       "\n",
       "    .dataframe tbody tr th {\n",
       "        vertical-align: top;\n",
       "    }\n",
       "\n",
       "    .dataframe thead th {\n",
       "        text-align: right;\n",
       "    }\n",
       "</style>\n",
       "<table border=\"1\" class=\"dataframe\">\n",
       "  <thead>\n",
       "    <tr style=\"text-align: right;\">\n",
       "      <th></th>\n",
       "      <th>captured time</th>\n",
       "      <th>latitude</th>\n",
       "      <th>longitude</th>\n",
       "      <th>value</th>\n",
       "    </tr>\n",
       "  </thead>\n",
       "  <tbody>\n",
       "    <tr>\n",
       "      <th>0</th>\n",
       "      <td>2018-10-21 01:00:26.000000</td>\n",
       "      <td>36.041080</td>\n",
       "      <td>140.226816</td>\n",
       "      <td>23.0</td>\n",
       "    </tr>\n",
       "    <tr>\n",
       "      <th>1</th>\n",
       "      <td>2018-10-21 01:00:22.000000</td>\n",
       "      <td>37.796306</td>\n",
       "      <td>140.514413</td>\n",
       "      <td>19.0</td>\n",
       "    </tr>\n",
       "    <tr>\n",
       "      <th>2</th>\n",
       "      <td>2018-10-21 01:00:16.000000</td>\n",
       "      <td>37.723330</td>\n",
       "      <td>140.476797</td>\n",
       "      <td>15.0</td>\n",
       "    </tr>\n",
       "    <tr>\n",
       "      <th>3</th>\n",
       "      <td>2018-10-21 00:59:16.000000</td>\n",
       "      <td>52.444900</td>\n",
       "      <td>13.315000</td>\n",
       "      <td>16.0</td>\n",
       "    </tr>\n",
       "    <tr>\n",
       "      <th>4</th>\n",
       "      <td>2018-10-21 01:00:16.000000</td>\n",
       "      <td>37.787500</td>\n",
       "      <td>140.552400</td>\n",
       "      <td>18.0</td>\n",
       "    </tr>\n",
       "  </tbody>\n",
       "</table>\n",
       "</div>"
      ],
      "text/plain": [
       "                captured time   latitude   longitude  value\n",
       "0  2018-10-21 01:00:26.000000  36.041080  140.226816   23.0\n",
       "1  2018-10-21 01:00:22.000000  37.796306  140.514413   19.0\n",
       "2  2018-10-21 01:00:16.000000  37.723330  140.476797   15.0\n",
       "3  2018-10-21 00:59:16.000000  52.444900   13.315000   16.0\n",
       "4  2018-10-21 01:00:16.000000  37.787500  140.552400   18.0"
      ]
     },
     "execution_count": 3,
     "metadata": {},
     "output_type": "execute_result"
    }
   ],
   "source": [
    "df.head()"
   ]
  },
  {
   "cell_type": "code",
   "execution_count": 6,
   "metadata": {
    "ExecuteTime": {
     "end_time": "2018-11-16T20:40:39.905946Z",
     "start_time": "2018-11-16T20:40:39.902936Z"
    }
   },
   "outputs": [],
   "source": [
    "def compute_geohash(row):\n",
    "    return geohash.encode(row[\"latitude\"], row[\"longitude\"], precision=3)"
   ]
  },
  {
   "cell_type": "code",
   "execution_count": 7,
   "metadata": {
    "ExecuteTime": {
     "end_time": "2018-11-16T20:41:05.853668Z",
     "start_time": "2018-11-16T20:40:49.733821Z"
    }
   },
   "outputs": [],
   "source": [
    "df[\"geohash\"] = df.apply(compute_geohash, axis=1)"
   ]
  },
  {
   "cell_type": "code",
   "execution_count": 8,
   "metadata": {
    "ExecuteTime": {
     "end_time": "2018-11-16T20:41:11.425213Z",
     "start_time": "2018-11-16T20:41:11.415217Z"
    }
   },
   "outputs": [
    {
     "data": {
      "text/html": [
       "<div>\n",
       "<style scoped>\n",
       "    .dataframe tbody tr th:only-of-type {\n",
       "        vertical-align: middle;\n",
       "    }\n",
       "\n",
       "    .dataframe tbody tr th {\n",
       "        vertical-align: top;\n",
       "    }\n",
       "\n",
       "    .dataframe thead th {\n",
       "        text-align: right;\n",
       "    }\n",
       "</style>\n",
       "<table border=\"1\" class=\"dataframe\">\n",
       "  <thead>\n",
       "    <tr style=\"text-align: right;\">\n",
       "      <th></th>\n",
       "      <th>captured time</th>\n",
       "      <th>latitude</th>\n",
       "      <th>longitude</th>\n",
       "      <th>value</th>\n",
       "      <th>geohash</th>\n",
       "    </tr>\n",
       "  </thead>\n",
       "  <tbody>\n",
       "    <tr>\n",
       "      <th>0</th>\n",
       "      <td>2018-10-21 01:00:26.000000</td>\n",
       "      <td>36.041080</td>\n",
       "      <td>140.226816</td>\n",
       "      <td>23.0</td>\n",
       "      <td>xn7</td>\n",
       "    </tr>\n",
       "    <tr>\n",
       "      <th>1</th>\n",
       "      <td>2018-10-21 01:00:22.000000</td>\n",
       "      <td>37.796306</td>\n",
       "      <td>140.514413</td>\n",
       "      <td>19.0</td>\n",
       "      <td>xne</td>\n",
       "    </tr>\n",
       "    <tr>\n",
       "      <th>2</th>\n",
       "      <td>2018-10-21 01:00:16.000000</td>\n",
       "      <td>37.723330</td>\n",
       "      <td>140.476797</td>\n",
       "      <td>15.0</td>\n",
       "      <td>xne</td>\n",
       "    </tr>\n",
       "    <tr>\n",
       "      <th>3</th>\n",
       "      <td>2018-10-21 00:59:16.000000</td>\n",
       "      <td>52.444900</td>\n",
       "      <td>13.315000</td>\n",
       "      <td>16.0</td>\n",
       "      <td>u33</td>\n",
       "    </tr>\n",
       "    <tr>\n",
       "      <th>4</th>\n",
       "      <td>2018-10-21 01:00:16.000000</td>\n",
       "      <td>37.787500</td>\n",
       "      <td>140.552400</td>\n",
       "      <td>18.0</td>\n",
       "      <td>xne</td>\n",
       "    </tr>\n",
       "  </tbody>\n",
       "</table>\n",
       "</div>"
      ],
      "text/plain": [
       "                captured time   latitude   longitude  value geohash\n",
       "0  2018-10-21 01:00:26.000000  36.041080  140.226816   23.0     xn7\n",
       "1  2018-10-21 01:00:22.000000  37.796306  140.514413   19.0     xne\n",
       "2  2018-10-21 01:00:16.000000  37.723330  140.476797   15.0     xne\n",
       "3  2018-10-21 00:59:16.000000  52.444900   13.315000   16.0     u33\n",
       "4  2018-10-21 01:00:16.000000  37.787500  140.552400   18.0     xne"
      ]
     },
     "execution_count": 8,
     "metadata": {},
     "output_type": "execute_result"
    }
   ],
   "source": [
    "df.head()"
   ]
  },
  {
   "cell_type": "code",
   "execution_count": 9,
   "metadata": {
    "ExecuteTime": {
     "end_time": "2018-11-16T20:41:18.882718Z",
     "start_time": "2018-11-16T20:41:18.670739Z"
    }
   },
   "outputs": [],
   "source": [
    "grouped = df[[\"geohash\", \"value\"]].groupby([\"geohash\"]).mean()"
   ]
  },
  {
   "cell_type": "code",
   "execution_count": 10,
   "metadata": {
    "ExecuteTime": {
     "end_time": "2018-11-16T20:41:21.925118Z",
     "start_time": "2018-11-16T20:41:21.918136Z"
    }
   },
   "outputs": [
    {
     "data": {
      "text/html": [
       "<div>\n",
       "<style scoped>\n",
       "    .dataframe tbody tr th:only-of-type {\n",
       "        vertical-align: middle;\n",
       "    }\n",
       "\n",
       "    .dataframe tbody tr th {\n",
       "        vertical-align: top;\n",
       "    }\n",
       "\n",
       "    .dataframe thead th {\n",
       "        text-align: right;\n",
       "    }\n",
       "</style>\n",
       "<table border=\"1\" class=\"dataframe\">\n",
       "  <thead>\n",
       "    <tr style=\"text-align: right;\">\n",
       "      <th></th>\n",
       "      <th>value</th>\n",
       "    </tr>\n",
       "    <tr>\n",
       "      <th>geohash</th>\n",
       "      <th></th>\n",
       "    </tr>\n",
       "  </thead>\n",
       "  <tbody>\n",
       "    <tr>\n",
       "      <th>8e8</th>\n",
       "      <td>30.033472</td>\n",
       "    </tr>\n",
       "    <tr>\n",
       "      <th>9ex</th>\n",
       "      <td>1507.435186</td>\n",
       "    </tr>\n",
       "    <tr>\n",
       "      <th>9mu</th>\n",
       "      <td>34.157321</td>\n",
       "    </tr>\n",
       "    <tr>\n",
       "      <th>9pp</th>\n",
       "      <td>36.000000</td>\n",
       "    </tr>\n",
       "    <tr>\n",
       "      <th>9q4</th>\n",
       "      <td>36.587536</td>\n",
       "    </tr>\n",
       "  </tbody>\n",
       "</table>\n",
       "</div>"
      ],
      "text/plain": [
       "               value\n",
       "geohash             \n",
       "8e8        30.033472\n",
       "9ex      1507.435186\n",
       "9mu        34.157321\n",
       "9pp        36.000000\n",
       "9q4        36.587536"
      ]
     },
     "execution_count": 10,
     "metadata": {},
     "output_type": "execute_result"
    }
   ],
   "source": [
    "grouped.head()"
   ]
  },
  {
   "cell_type": "code",
   "execution_count": 17,
   "metadata": {
    "ExecuteTime": {
     "end_time": "2018-11-16T20:44:12.467215Z",
     "start_time": "2018-11-16T20:44:12.462225Z"
    }
   },
   "outputs": [],
   "source": [
    "grouped = grouped.reset_index()"
   ]
  },
  {
   "cell_type": "code",
   "execution_count": 18,
   "metadata": {
    "ExecuteTime": {
     "end_time": "2018-11-16T20:44:16.672907Z",
     "start_time": "2018-11-16T20:44:16.660917Z"
    }
   },
   "outputs": [
    {
     "data": {
      "text/html": [
       "<div>\n",
       "<style scoped>\n",
       "    .dataframe tbody tr th:only-of-type {\n",
       "        vertical-align: middle;\n",
       "    }\n",
       "\n",
       "    .dataframe tbody tr th {\n",
       "        vertical-align: top;\n",
       "    }\n",
       "\n",
       "    .dataframe thead th {\n",
       "        text-align: right;\n",
       "    }\n",
       "</style>\n",
       "<table border=\"1\" class=\"dataframe\">\n",
       "  <thead>\n",
       "    <tr style=\"text-align: right;\">\n",
       "      <th></th>\n",
       "      <th>geohash</th>\n",
       "      <th>value</th>\n",
       "    </tr>\n",
       "  </thead>\n",
       "  <tbody>\n",
       "    <tr>\n",
       "      <th>0</th>\n",
       "      <td>8e8</td>\n",
       "      <td>30.033472</td>\n",
       "    </tr>\n",
       "    <tr>\n",
       "      <th>1</th>\n",
       "      <td>9ex</td>\n",
       "      <td>1507.435186</td>\n",
       "    </tr>\n",
       "    <tr>\n",
       "      <th>2</th>\n",
       "      <td>9mu</td>\n",
       "      <td>34.157321</td>\n",
       "    </tr>\n",
       "    <tr>\n",
       "      <th>3</th>\n",
       "      <td>9pp</td>\n",
       "      <td>36.000000</td>\n",
       "    </tr>\n",
       "    <tr>\n",
       "      <th>4</th>\n",
       "      <td>9q4</td>\n",
       "      <td>36.587536</td>\n",
       "    </tr>\n",
       "  </tbody>\n",
       "</table>\n",
       "</div>"
      ],
      "text/plain": [
       "  geohash        value\n",
       "0     8e8    30.033472\n",
       "1     9ex  1507.435186\n",
       "2     9mu    34.157321\n",
       "3     9pp    36.000000\n",
       "4     9q4    36.587536"
      ]
     },
     "execution_count": 18,
     "metadata": {},
     "output_type": "execute_result"
    }
   ],
   "source": [
    "grouped.head()"
   ]
  },
  {
   "cell_type": "code",
   "execution_count": 19,
   "metadata": {
    "ExecuteTime": {
     "end_time": "2018-11-16T20:44:50.666217Z",
     "start_time": "2018-11-16T20:44:50.662220Z"
    }
   },
   "outputs": [],
   "source": [
    "def decode_geohash(row):\n",
    "    return pd.Series(geohash.decode(row.geohash))"
   ]
  },
  {
   "cell_type": "code",
   "execution_count": 23,
   "metadata": {
    "ExecuteTime": {
     "end_time": "2018-11-16T20:48:11.458196Z",
     "start_time": "2018-11-16T20:48:11.412211Z"
    }
   },
   "outputs": [],
   "source": [
    "grouped[['latitude', 'longitude']] = grouped.apply(decode_geohash, axis=1)"
   ]
  },
  {
   "cell_type": "code",
   "execution_count": 24,
   "metadata": {
    "ExecuteTime": {
     "end_time": "2018-11-16T20:48:17.134964Z",
     "start_time": "2018-11-16T20:48:17.124980Z"
    },
    "scrolled": true
   },
   "outputs": [
    {
     "data": {
      "text/html": [
       "<div>\n",
       "<style scoped>\n",
       "    .dataframe tbody tr th:only-of-type {\n",
       "        vertical-align: middle;\n",
       "    }\n",
       "\n",
       "    .dataframe tbody tr th {\n",
       "        vertical-align: top;\n",
       "    }\n",
       "\n",
       "    .dataframe thead th {\n",
       "        text-align: right;\n",
       "    }\n",
       "</style>\n",
       "<table border=\"1\" class=\"dataframe\">\n",
       "  <thead>\n",
       "    <tr style=\"text-align: right;\">\n",
       "      <th></th>\n",
       "      <th>geohash</th>\n",
       "      <th>value</th>\n",
       "      <th>latitude</th>\n",
       "      <th>longitude</th>\n",
       "    </tr>\n",
       "  </thead>\n",
       "  <tbody>\n",
       "    <tr>\n",
       "      <th>0</th>\n",
       "      <td>8e8</td>\n",
       "      <td>30.033472</td>\n",
       "      <td>20.390625</td>\n",
       "      <td>-156.796875</td>\n",
       "    </tr>\n",
       "    <tr>\n",
       "      <th>1</th>\n",
       "      <td>9ex</td>\n",
       "      <td>1507.435186</td>\n",
       "      <td>20.390625</td>\n",
       "      <td>-101.953125</td>\n",
       "    </tr>\n",
       "    <tr>\n",
       "      <th>2</th>\n",
       "      <td>9mu</td>\n",
       "      <td>34.157321</td>\n",
       "      <td>33.046875</td>\n",
       "      <td>-117.421875</td>\n",
       "    </tr>\n",
       "    <tr>\n",
       "      <th>3</th>\n",
       "      <td>9pp</td>\n",
       "      <td>36.000000</td>\n",
       "      <td>40.078125</td>\n",
       "      <td>-124.453125</td>\n",
       "    </tr>\n",
       "    <tr>\n",
       "      <th>4</th>\n",
       "      <td>9q4</td>\n",
       "      <td>36.587536</td>\n",
       "      <td>34.453125</td>\n",
       "      <td>-120.234375</td>\n",
       "    </tr>\n",
       "  </tbody>\n",
       "</table>\n",
       "</div>"
      ],
      "text/plain": [
       "  geohash        value   latitude   longitude\n",
       "0     8e8    30.033472  20.390625 -156.796875\n",
       "1     9ex  1507.435186  20.390625 -101.953125\n",
       "2     9mu    34.157321  33.046875 -117.421875\n",
       "3     9pp    36.000000  40.078125 -124.453125\n",
       "4     9q4    36.587536  34.453125 -120.234375"
      ]
     },
     "execution_count": 24,
     "metadata": {},
     "output_type": "execute_result"
    }
   ],
   "source": [
    "grouped.head()"
   ]
  },
  {
   "cell_type": "code",
   "execution_count": 25,
   "metadata": {
    "ExecuteTime": {
     "end_time": "2018-11-16T20:48:25.859062Z",
     "start_time": "2018-11-16T20:48:25.854065Z"
    }
   },
   "outputs": [
    {
     "data": {
      "text/plain": [
       "213"
      ]
     },
     "execution_count": 25,
     "metadata": {},
     "output_type": "execute_result"
    }
   ],
   "source": [
    "len(grouped.index)"
   ]
  },
  {
   "cell_type": "code",
   "execution_count": 26,
   "metadata": {
    "ExecuteTime": {
     "end_time": "2018-11-16T20:49:13.109785Z",
     "start_time": "2018-11-16T20:49:12.656439Z"
    }
   },
   "outputs": [],
   "source": [
    "import folium\n",
    "from folium.plugins import HeatMap"
   ]
  },
  {
   "cell_type": "code",
   "execution_count": 28,
   "metadata": {
    "ExecuteTime": {
     "end_time": "2018-11-16T20:49:27.217185Z",
     "start_time": "2018-11-16T20:49:27.212186Z"
    }
   },
   "outputs": [
    {
     "data": {
      "text/plain": [
       "1507.435186035829"
      ]
     },
     "execution_count": 28,
     "metadata": {},
     "output_type": "execute_result"
    }
   ],
   "source": [
    "max_value = grouped.value.max()\n",
    "max_value"
   ]
  },
  {
   "cell_type": "code",
   "execution_count": 30,
   "metadata": {
    "ExecuteTime": {
     "end_time": "2018-11-16T20:49:40.407351Z",
     "start_time": "2018-11-16T20:49:40.396360Z"
    }
   },
   "outputs": [],
   "source": [
    "hmap = folium.Map(location=[42.5, -75.5], zoom_start=7)"
   ]
  },
  {
   "cell_type": "code",
   "execution_count": 35,
   "metadata": {
    "ExecuteTime": {
     "end_time": "2018-11-16T20:54:47.049034Z",
     "start_time": "2018-11-16T20:54:47.029034Z"
    }
   },
   "outputs": [
    {
     "data": {
      "text/html": [
       "<div style=\"width:100%;\"><div style=\"position:relative;width:100%;height:0;padding-bottom:60%;\"><iframe src=\"data:text/html;charset=utf-8;base64,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\" style=\"position:absolute;width:100%;height:100%;left:0;top:0;border:none !important;\" allowfullscreen webkitallowfullscreen mozallowfullscreen></iframe></div></div>"
      ],
      "text/plain": [
       "<folium.folium.Map at 0x1ff0c897470>"
      ]
     },
     "execution_count": 35,
     "metadata": {},
     "output_type": "execute_result"
    }
   ],
   "source": [
    "hm_wide = HeatMap(list(zip(grouped.latitude.values, grouped.longitude.values, grouped.value.values)),\n",
    "                   min_opacity=0.2,\n",
    "                   max_val=max_value,\n",
    "                   radius=17, blur=15, \n",
    "                   max_zoom=1, \n",
    "                 )\n",
    "hmap.add_child(hm_wide)"
   ]
  },
  {
   "cell_type": "code",
   "execution_count": 36,
   "metadata": {
    "ExecuteTime": {
     "end_time": "2018-11-16T20:56:33.963453Z",
     "start_time": "2018-11-16T20:56:33.955463Z"
    }
   },
   "outputs": [],
   "source": [
    "fukushima = pd.read_csv(\"results/fukushima_grouped.csv\")"
   ]
  },
  {
   "cell_type": "code",
   "execution_count": 37,
   "metadata": {
    "ExecuteTime": {
     "end_time": "2018-11-16T20:56:36.399717Z",
     "start_time": "2018-11-16T20:56:36.389724Z"
    },
    "scrolled": true
   },
   "outputs": [
    {
     "data": {
      "text/html": [
       "<div>\n",
       "<style scoped>\n",
       "    .dataframe tbody tr th:only-of-type {\n",
       "        vertical-align: middle;\n",
       "    }\n",
       "\n",
       "    .dataframe tbody tr th {\n",
       "        vertical-align: top;\n",
       "    }\n",
       "\n",
       "    .dataframe thead th {\n",
       "        text-align: right;\n",
       "    }\n",
       "</style>\n",
       "<table border=\"1\" class=\"dataframe\">\n",
       "  <thead>\n",
       "    <tr style=\"text-align: right;\">\n",
       "      <th></th>\n",
       "      <th>geohash</th>\n",
       "      <th>value</th>\n",
       "    </tr>\n",
       "  </thead>\n",
       "  <tbody>\n",
       "    <tr>\n",
       "      <th>0</th>\n",
       "      <td>xnecec</td>\n",
       "      <td>29.000000</td>\n",
       "    </tr>\n",
       "    <tr>\n",
       "      <th>1</th>\n",
       "      <td>xnecee</td>\n",
       "      <td>37.000000</td>\n",
       "    </tr>\n",
       "    <tr>\n",
       "      <th>2</th>\n",
       "      <td>xnecef</td>\n",
       "      <td>32.714286</td>\n",
       "    </tr>\n",
       "    <tr>\n",
       "      <th>3</th>\n",
       "      <td>xneceq</td>\n",
       "      <td>40.807692</td>\n",
       "    </tr>\n",
       "    <tr>\n",
       "      <th>4</th>\n",
       "      <td>xnecer</td>\n",
       "      <td>29.800000</td>\n",
       "    </tr>\n",
       "  </tbody>\n",
       "</table>\n",
       "</div>"
      ],
      "text/plain": [
       "  geohash      value\n",
       "0  xnecec  29.000000\n",
       "1  xnecee  37.000000\n",
       "2  xnecef  32.714286\n",
       "3  xneceq  40.807692\n",
       "4  xnecer  29.800000"
      ]
     },
     "execution_count": 37,
     "metadata": {},
     "output_type": "execute_result"
    }
   ],
   "source": [
    "fukushima.head()"
   ]
  },
  {
   "cell_type": "code",
   "execution_count": 38,
   "metadata": {
    "ExecuteTime": {
     "end_time": "2018-11-16T20:57:08.246432Z",
     "start_time": "2018-11-16T20:57:08.163493Z"
    }
   },
   "outputs": [],
   "source": [
    "fukushima[['latitude', 'longitude']] = fukushima.apply(decode_geohash, axis=1)"
   ]
  },
  {
   "cell_type": "code",
   "execution_count": 39,
   "metadata": {
    "ExecuteTime": {
     "end_time": "2018-11-16T20:57:18.896342Z",
     "start_time": "2018-11-16T20:57:18.891345Z"
    }
   },
   "outputs": [
    {
     "data": {
      "text/plain": [
       "475"
      ]
     },
     "execution_count": 39,
     "metadata": {},
     "output_type": "execute_result"
    }
   ],
   "source": [
    "len(fukushima.index)"
   ]
  },
  {
   "cell_type": "code",
   "execution_count": 43,
   "metadata": {
    "ExecuteTime": {
     "end_time": "2018-11-16T21:01:57.959048Z",
     "start_time": "2018-11-16T21:01:57.932051Z"
    }
   },
   "outputs": [
    {
     "data": {
      "text/html": [
       "<div style=\"width:100%;\"><div style=\"position:relative;width:100%;height:0;padding-bottom:60%;\"><iframe src=\"data:text/html;charset=utf-8;base64,PCFET0NUWVBFIGh0bWw+CjxoZWFkPiAgICAKICAgIDxtZXRhIGh0dHAtZXF1aXY9ImNvbnRlbnQtdHlwZSIgY29udGVudD0idGV4dC9odG1sOyBjaGFyc2V0PVVURi04IiAvPgogICAgPHNjcmlwdD5MX1BSRUZFUl9DQU5WQVM9ZmFsc2U7IExfTk9fVE9VQ0g9ZmFsc2U7IExfRElTQUJMRV8zRD1mYWxzZTs8L3NjcmlwdD4KICAgIDxzY3JpcHQgc3JjPSJodHRwczovL2Nkbi5qc2RlbGl2ci5uZXQvbnBtL2xlYWZsZXRAMS4yLjAvZGlzdC9sZWFmbGV0LmpzIj48L3NjcmlwdD4KICAgIDxzY3JpcHQgc3JjPSJodHRwczovL2FqYXguZ29vZ2xlYXBpcy5jb20vYWpheC9saWJzL2pxdWVyeS8xLjExLjEvanF1ZXJ5Lm1pbi5qcyI+PC9zY3JpcHQ+CiAgICA8c2NyaXB0IHNyYz0iaHR0cHM6Ly9tYXhjZG4uYm9vdHN0cmFwY2RuLmNvbS9ib290c3RyYXAvMy4yLjAvanMvYm9vdHN0cmFwLm1pbi5qcyI+PC9zY3JpcHQ+CiAgICA8c2NyaXB0IHNyYz0iaHR0cHM6Ly9jZG5qcy5jbG91ZGZsYXJlLmNvbS9hamF4L2xpYnMvTGVhZmxldC5hd2Vzb21lLW1hcmtlcnMvMi4wLjIvbGVhZmxldC5hd2Vzb21lLW1hcmtlcnMuanMiPjwvc2NyaXB0PgogICAgPGxpbmsgcmVsPSJzdHlsZXNoZWV0IiBocmVmPSJodHRwczovL2Nkbi5qc2RlbGl2ci5uZXQvbnBtL2xlYWZsZXRAMS4yLjAvZGlzdC9sZWFmbGV0LmNzcyIvPgogICAgPGxpbmsgcmVsPSJzdHlsZXNoZWV0IiBocmVmPSJodHRwczovL21heGNkbi5ib290c3RyYXBjZG4uY29tL2Jvb3RzdHJhcC8zLjIuMC9jc3MvYm9vdHN0cmFwLm1pbi5jc3MiLz4KICAgIDxsaW5rIHJlbD0ic3R5bGVzaGVldCIgaHJlZj0iaHR0cHM6Ly9tYXhjZG4uYm9vdHN0cmFwY2RuLmNvbS9ib290c3RyYXAvMy4yLjAvY3NzL2Jvb3RzdHJhcC10aGVtZS5taW4uY3NzIi8+CiAgICA8bGluayByZWw9InN0eWxlc2hlZXQiIGhyZWY9Imh0dHBzOi8vbWF4Y2RuLmJvb3RzdHJhcGNkbi5jb20vZm9udC1hd2Vzb21lLzQuNi4zL2Nzcy9mb250LWF3ZXNvbWUubWluLmNzcyIvPgogICAgPGxpbmsgcmVsPSJzdHlsZXNoZWV0IiBocmVmPSJodHRwczovL2NkbmpzLmNsb3VkZmxhcmUuY29tL2FqYXgvbGlicy9MZWFmbGV0LmF3ZXNvbWUtbWFya2Vycy8yLjAuMi9sZWFmbGV0LmF3ZXNvbWUtbWFya2Vycy5jc3MiLz4KICAgIDxsaW5rIHJlbD0ic3R5bGVzaGVldCIgaHJlZj0iaHR0cHM6Ly9yYXdnaXQuY29tL3B5dGhvbi12aXN1YWxpemF0aW9uL2ZvbGl1bS9tYXN0ZXIvZm9saXVtL3RlbXBsYXRlcy9sZWFmbGV0LmF3ZXNvbWUucm90YXRlLmNzcyIvPgogICAgPHN0eWxlPmh0bWwsIGJvZHkge3dpZHRoOiAxMDAlO2hlaWdodDogMTAwJTttYXJnaW46IDA7cGFkZGluZzogMDt9PC9zdHlsZT4KICAgIDxzdHlsZT4jbWFwIHtwb3NpdGlvbjphYnNvbHV0ZTt0b3A6MDtib3R0b206MDtyaWdodDowO2xlZnQ6MDt9PC9zdHlsZT4KICAgIAogICAgPHN0eWxlPiNtYXBfM2E5ODkwNDAyNWVjNGI5MGI5NGVmNDUyNzY1N2JlMmMgewogICAgICAgIHBvc2l0aW9uOiByZWxhdGl2ZTsKICAgICAgICB3aWR0aDogMTAwLjAlOwogICAgICAgIGhlaWdodDogMTAwLjAlOwogICAgICAgIGxlZnQ6IDAuMCU7CiAgICAgICAgdG9wOiAwLjAlOwogICAgICAgIH0KICAgIDwvc3R5bGU+CiAgICA8c2NyaXB0IHNyYz0iaHR0cHM6Ly9sZWFmbGV0LmdpdGh1Yi5pby9MZWFmbGV0LmhlYXQvZGlzdC9sZWFmbGV0LWhlYXQuanMiPjwvc2NyaXB0Pgo8L2hlYWQ+Cjxib2R5PiAgICAKICAgIAogICAgPGRpdiBjbGFzcz0iZm9saXVtLW1hcCIgaWQ9Im1hcF8zYTk4OTA0MDI1ZWM0YjkwYjk0ZWY0NTI3NjU3YmUyYyIgPjwvZGl2Pgo8L2JvZHk+CjxzY3JpcHQ+ICAgIAogICAgCiAgICAKICAgICAgICB2YXIgYm91bmRzID0gbnVsbDsKICAgIAoKICAgIHZhciBtYXBfM2E5ODkwNDAyNWVjNGI5MGI5NGVmNDUyNzY1N2JlMmMgPSBMLm1hcCgKICAgICAgICAnbWFwXzNhOTg5MDQwMjVlYzRiOTBiOTRlZjQ1Mjc2NTdiZTJjJywgewogICAgICAgIGNlbnRlcjogWzQyLjUsIC03NS41XSwKICAgICAgICB6b29tOiA3LAogICAgICAgIG1heEJvdW5kczogYm91bmRzLAogICAgICAgIGxheWVyczogW10sCiAgICAgICAgd29ybGRDb3B5SnVtcDogZmFsc2UsCiAgICAgICAgY3JzOiBMLkNSUy5FUFNHMzg1NywKICAgICAgICB6b29tQ29udHJvbDogdHJ1ZSwKICAgICAgICB9KTsKCiAgICAKICAgIAogICAgdmFyIHRpbGVfbGF5ZXJfNjU1Y2NlNmJmODk5NGMwYThmOGIwMGYxOTA3ZTdkZGQgPSBMLnRpbGVMYXllcigKICAgICAgICAnaHR0cHM6Ly97c30udGlsZS5vcGVuc3RyZWV0bWFwLm9yZy97en0ve3h9L3t5fS5wbmcnLAogICAgICAgIHsKICAgICAgICAiYXR0cmlidXRpb24iOiBudWxsLAogICAgICAgICJkZXRlY3RSZXRpbmEiOiBmYWxzZSwKICAgICAgICAibWF4TmF0aXZlWm9vbSI6IDE4LAogICAgICAgICJtYXhab29tIjogMTgsCiAgICAgICAgIm1pblpvb20iOiAwLAogICAgICAgICJub1dyYXAiOiBmYWxzZSwKICAgICAgICAic3ViZG9tYWlucyI6ICJhYmMiCn0pLmFkZFRvKG1hcF8zYTk4OTA0MDI1ZWM0YjkwYjk0ZWY0NTI3NjU3YmUyYyk7CiAgICAKICAgICAgICAgICAgdmFyIGhlYXRfbWFwX2MxNGFiMDEyOWU4ZTRjMGFiNTM2Nzg3ZjBlNDlmMmJmID0gTC5oZWF0TGF5ZXIoCiAgICAgICAgICAgICAgICBbWzM2LjgzNDQxMTYyMTA5Mzc1LCAxNDAuNDQzNzI1NTg1OTM3NSwgMjkuMF0sIFszNi44NDUzOTc5NDkyMTg3NSwgMTQwLjQzMjczOTI1NzgxMjUsIDM3LjBdLCBbMzYuODM5OTA0Nzg1MTU2MjUsIDE0MC40NDM3MjU1ODU5Mzc1LCAzMi43MTQyODU3MTQyODU3MTVdLCBbMzYuODYxODc3NDQxNDA2MjUsIDE0MC40MjE3NTI5Mjk2ODc1LCA0MC44MDc2OTIzMDc2OTIzMTRdLCBbMzYuODY3MzcwNjA1NDY4NzUsIDE0MC40MjE3NTI5Mjk2ODc1LCAyOS44XSwgWzM2Ljg1MDg5MTExMzI4MTI1LCAxNDAuNDMyNzM5MjU3ODEyNSwgMzUuODU3MTQyODU3MTQyODU0XSwgWzM2Ljg1NjM4NDI3NzM0Mzc1LCAxNDAuNDMyNzM5MjU3ODEyNSwgMzguNDQ0NDQ0NDQ0NDQ0NDM2XSwgWzM2Ljg2MTg3NzQ0MTQwNjI1LCAxNDAuNDMyNzM5MjU3ODEyNSwgMzcuNV0sIFszNi44NzI4NjM3Njk1MzEyNSwgMTQwLjQyMTc1MjkyOTY4NzUsIDMzLjYyOTYyOTYyOTYyOTYyNl0sIFszNi44MDE0NTI2MzY3MTg3NSwgMTQwLjQ2NTY5ODI0MjE4NzUsIDM3LjBdLCBbMzYuNzk1OTU5NDcyNjU2MjUsIDE0MC40NzY2ODQ1NzAzMTI1LCAzOC43NV0sIFszNi44MDE0NTI2MzY3MTg3NSwgMTQwLjQ3NjY4NDU3MDMxMjUsIDM4LjVdLCBbMzYuODA2OTQ1ODAwNzgxMjUsIDE0MC40NjU2OTgyNDIxODc1LCAzMy42NjY2NjY2NjY2NjY2NjRdLCBbMzYuODEyNDM4OTY0ODQzNzUsIDE0MC40NjU2OTgyNDIxODc1LCAzNy42MjVdLCBbMzYuODE3OTMyMTI4OTA2MjUsIDE0MC40NTQ3MTE5MTQwNjI1LCAzNS4wXSwgWzM2LjgyMzQyNTI5Mjk2ODc1LCAxNDAuNDU0NzExOTE0MDYyNSwgMzMuNTcxNDI4NTcxNDI4NTddLCBbMzYuODE3OTMyMTI4OTA2MjUsIDE0MC40NjU2OTgyNDIxODc1LCAzOS42XSwgWzM2LjgyODkxODQ1NzAzMTI1LCAxNDAuNDU0NzExOTE0MDYyNSwgMzcuMzMzMzMzMzMzMzMzMzM2XSwgWzM2LjgzNDQxMTYyMTA5Mzc1LCAxNDAuNDU0NzExOTE0MDYyNSwgMzIuMjVdLCBbMzYuOTQ5NzY4MDY2NDA2MjUsIDE0MC4yNDU5NzE2Nzk2ODc1LCAyODQuMF0sIFszNi45Mzg3ODE3MzgyODEyNSwgMTQwLjI1Njk1ODAwNzgxMjUsIDI4NC4wXSwgWzM3LjA4MTYwNDAwMzkwNjI1LCAxNDAuMTgwMDUzNzEwOTM3NSwgMzEzLjBdLCBbMzcuMDM3NjU4NjkxNDA2MjUsIDE0MC4yMDIwMjYzNjcxODc1LCAyOTQuMF0sIFszNy4wNDMxNTE4NTU0Njg3NSwgMTQwLjIwMjAyNjM2NzE4NzUsIDMwNy4wXSwgWzM3LjAyNjY3MjM2MzI4MTI1LCAxNDAuMjEzMDEyNjk1MzEyNSwgMjg5LjBdLCBbMzcuMDU0MTM4MTgzNTkzNzUsIDE0MC4yMDIwMjYzNjcxODc1LCAzMTguMF0sIFszNy4wNzYxMTA4Mzk4NDM3NSwgMTQwLjE5MTA0MDAzOTA2MjUsIDMxNy4wXSwgWzM3LjI2Mjg3ODQxNzk2ODc1LCAxNDAuMDkyMTYzMDg1OTM3NSwgMzEwLjBdLCBbMzcuMDkyNTkwMzMyMDMxMjUsIDE0MC4xODAwNTM3MTA5Mzc1LCAzMTUuMF0sIFszNy4xMDM1NzY2NjAxNTYyNSwgMTQwLjE2OTA2NzM4MjgxMjUsIDMwOS4wXSwgWzM3LjEwOTA2OTgyNDIxODc1LCAxNDAuMTY5MDY3MzgyODEyNSwgMzEzLjBdLCBbMzcuMTMxMDQyNDgwNDY4NzUsIDE0MC4xNTgwODEwNTQ2ODc1LCAzMTkuMF0sIFszNy4xMjAwNTYxNTIzNDM3NSwgMTQwLjE2OTA2NzM4MjgxMjUsIDMxMC4wXSwgWzM3LjE2OTQ5NDYyODkwNjI1LCAxNDAuMTM2MTA4Mzk4NDM3NSwgMzI1LjBdLCBbMzcuMTQyMDI4ODA4NTkzNzUsIDE0MC4xNTgwODEwNTQ2ODc1LCAzMTkuMF0sIFszNy4xNTMwMTUxMzY3MTg3NSwgMTQwLjE0NzA5NDcyNjU2MjUsIDMyOS4wXSwgWzM3LjE1ODUwODMwMDc4MTI1LCAxNDAuMTQ3MDk0NzI2NTYyNSwgMzI3LjBdLCBbMzcuMTgwNDgwOTU3MDMxMjUsIDE0MC4xMzYxMDgzOTg0Mzc1LCAzMjUuMF0sIFszNy4xOTY5NjA0NDkyMTg3NSwgMTQwLjEyNTEyMjA3MDMxMjUsIDMzMC4wXSwgWzM3LjE5MTQ2NzI4NTE1NjI1LCAxNDAuMTM2MTA4Mzk4NDM3NSwgMzI4LjBdLCBbMzcuMjE4OTMzMTA1NDY4NzUsIDE0MC4xMTQxMzU3NDIxODc1LCAzMjkuMF0sIFszNy4yMDc5NDY3NzczNDM3NSwgMTQwLjEyNTEyMjA3MDMxMjUsIDMzMC4wXSwgWzM3LjIyNDQyNjI2OTUzMTI1LCAxNDAuMTE0MTM1NzQyMTg3NSwgMzI4LjBdLCBbMzcuMjM1NDEyNTk3NjU2MjUsIDE0MC4xMTQxMzU3NDIxODc1LCAzMjUuMF0sIFszNy4yNDYzOTg5MjU3ODEyNSwgMTQwLjEwMzE0OTQxNDA2MjUsIDMxOC4wXSwgWzM3LjI1NzM4NTI1MzkwNjI1LCAxNDAuMTAzMTQ5NDE0MDYyNSwgMzIyLjBdLCBbMzcuNDM4NjU5NjY3OTY4NzUsIDEzOS45MTYzODE4MzU5Mzc1LCAyNzQuMF0sIFszNy42MTQ0NDA5MTc5Njg3NSwgMTM5LjY0MTcyMzYzMjgxMjUsIDMwNi4wXSwgWzM3LjYwODk0Nzc1MzkwNjI1LCAxMzkuNjUyNzA5OTYwOTM3NSwgMzE2LjBdLCBbMzcuNTY1MDAyNDQxNDA2MjUsIDEzOS43MTg2Mjc5Mjk2ODc1LCAzMjMuMF0sIFszNy41NTk1MDkyNzczNDM3NSwgMTM5LjcyOTYxNDI1NzgxMjUsIDMyOS4wXSwgWzM3LjU1NDAxNjExMzI4MTI1LCAxMzkuNzQwNjAwNTg1OTM3NSwgMzIyLjBdLCBbMzcuNTkyNDY4MjYxNzE4NzUsIDEzOS42NzQ2ODI2MTcxODc1LCAzMDYuMF0sIFszNy41ODE0ODE5MzM1OTM3NSwgMTM5LjY5NjY1NTI3MzQzNzUsIDMxMS4wXSwgWzM3LjU4Njk3NTA5NzY1NjI1LCAxMzkuNjg1NjY4OTQ1MzEyNSwgMzA0LjBdLCBbMzcuNjAzNDU0NTg5ODQzNzUsIDEzOS42NjM2OTYyODkwNjI1LCAzMDcuMF0sIFszNy41NzU5ODg3Njk1MzEyNSwgMTM5LjcwNzY0MTYwMTU2MjUsIDMyMy4wXSwgWzM3LjUyNjU1MDI5Mjk2ODc1LCAxMzkuNzg0NTQ1ODk4NDM3NSwgMzEzLjBdLCBbMzcuNTA0NTc3NjM2NzE4NzUsIDEzOS44MTc1MDQ4ODI4MTI1LCAzMDguMF0sIFszNy40OTkwODQ0NzI2NTYyNSwgMTM5LjgyODQ5MTIxMDkzNzUsIDMwMC4wXSwgWzM3LjUxNTU2Mzk2NDg0Mzc1LCAxMzkuNzk1NTMyMjI2NTYyNSwgMzEwLjBdLCBbMzcuNTEwMDcwODAwNzgxMjUsIDEzOS44MDY1MTg1NTQ2ODc1LCAzMDcuMF0sIFszNy40ODI2MDQ5ODA0Njg3NSwgMTM5Ljg1MDQ2Mzg2NzE4NzUsIDI4Mi4wXSwgWzM3LjQ3MTYxODY1MjM0Mzc1LCAxMzkuODcyNDM2NTIzNDM3NSwgMjg3LjBdLCBbMzcuNDYwNjMyMzI0MjE4NzUsIDEzOS44OTQ0MDkxNzk2ODc1LCAyODQuMF0sIFszNy40NDQxNTI4MzIwMzEyNSwgMTM5LjkxNjM4MTgzNTkzNzUsIDI4Ny4wXSwgWzM3LjQ1NTEzOTE2MDE1NjI1LCAxMzkuOTA1Mzk1NTA3ODEyNSwgMjk1LjBdLCBbMzcuNDY2MTI1NDg4MjgxMjUsIDEzOS44ODM0MjI4NTE1NjI1LCAyODEuMF0sIFszNy40ODgwOTgxNDQ1MzEyNSwgMTM5LjgzOTQ3NzUzOTA2MjUsIDI4Ny4wXSwgWzM3LjUzNzUzNjYyMTA5Mzc1LCAxMzkuNzYyNTczMjQyMTg3NSwgMzE1LjBdLCBbMzcuNTQ4NTIyOTQ5MjE4NzUsIDEzOS43NTE1ODY5MTQwNjI1LCAzMTcuMF0sIFszNy41MzIwNDM0NTcwMzEyNSwgMTM5Ljc3MzU1OTU3MDMxMjUsIDMxNy4wXSwgWzM3LjU4MTQ4MTkzMzU5Mzc1LCAxMzkuOTE2MzgxODM1OTM3NSwgNDEuMDMwMzAzMDMwMzAzMDNdLCBbMzcuNTg2OTc1MDk3NjU2MjUsIDEzOS45MDUzOTU1MDc4MTI1LCAzOS4yMDgzMzMzMzMzMzMzMzZdLCBbMzcuNTkyNDY4MjYxNzE4NzUsIDEzOS45MDUzOTU1MDc4MTI1LCAzNi4zNTcxNDI4NTcxNDI4NTRdLCBbMzcuNTg2OTc1MDk3NjU2MjUsIDEzOS45MTYzODE4MzU5Mzc1LCA0Ni4xNjY2NjY2NjY2NjY2Nl0sIFszNy41OTI0NjgyNjE3MTg3NSwgMTM5LjkxNjM4MTgzNTkzNzUsIDM3LjU0NTQ1NDU0NTQ1NDU1XSwgWzM3LjYxNDQ0MDkxNzk2ODc1LCAxMzkuODk0NDA5MTc5Njg3NSwgMzIuMzYzNjM2MzYzNjM2MzddLCBbMzcuNTk3OTYxNDI1NzgxMjUsIDEzOS45MTYzODE4MzU5Mzc1LCAzNy4yXSwgWzM3LjYwMzQ1NDU4OTg0Mzc1LCAxMzkuOTE2MzgxODM1OTM3NSwgMzcuOF0sIFszNy42MDg5NDc3NTM5MDYyNSwgMTM5LjkwNTM5NTUwNzgxMjUsIDQxLjc1XSwgWzM3LjYxNDQ0MDkxNzk2ODc1LCAxMzkuOTA1Mzk1NTA3ODEyNSwgMzkuMF0sIFszNy42MDg5NDc3NTM5MDYyNSwgMTM5LjkxNjM4MTgzNTkzNzUsIDM1LjgyNzU4NjIwNjg5NjU1NV0sIFszNy42MTQ0NDA5MTc5Njg3NSwgMTM5LjkxNjM4MTgzNTkzNzUsIDM1Ljg3NV0sIFszNy42MzY0MTM1NzQyMTg3NSwgMTM5LjYwODc2NDY0ODQzNzUsIDI5NC4wXSwgWzM3LjY1ODM4NjIzMDQ2ODc1LCAxMzkuNTg2NzkxOTkyMTg3NSwgMzA4LjBdLCBbMzcuNjQ3Mzk5OTAyMzQzNzUsIDEzOS42MDg3NjQ2NDg0Mzc1LCAyOTcuMF0sIFszNy42NTI4OTMwNjY0MDYyNSwgMTM5LjU5Nzc3ODMyMDMxMjUsIDI5OS4wXSwgWzM3LjYyNTQyNzI0NjA5Mzc1LCAxMzkuNjMwNzM3MzA0Njg3NSwgMzA3LjBdLCBbMzcuNjMwOTIwNDEwMTU2MjUsIDEzOS42MTk3NTA5NzY1NjI1LCAzMDIuMF0sIFszNy42MTk5MzQwODIwMzEyNSwgMTM5Ljg5NDQwOTE3OTY4NzUsIDI4LjBdLCBbMzcuNjE5OTM0MDgyMDMxMjUsIDEzOS45MDUzOTU1MDc4MTI1LCAyOS43MTQyODU3MTQyODU3MTVdLCBbMzcuNjI1NDI3MjQ2MDkzNzUsIDEzOS45MDUzOTU1MDc4MTI1LCAzNS4wXSwgWzM3LjYxOTkzNDA4MjAzMTI1LCAxMzkuOTE2MzgxODM1OTM3NSwgMzcuNV0sIFszNy42MzA5MjA0MTAxNTYyNSwgMTM5LjkwNTM5NTUwNzgxMjUsIDQxLjJdLCBbMzcuNjMwOTIwNDEwMTU2MjUsIDEzOS45MTYzODE4MzU5Mzc1LCA0Mi41ODMzMzMzMzMzMzMzMzZdLCBbMzcuNjM2NDEzNTc0MjE4NzUsIDEzOS45MTYzODE4MzU5Mzc1LCAzNy4yMjIyMjIyMjIyMjIyMl0sIFszNy42NDczOTk5MDIzNDM3NSwgMTM5Ljg4MzQyMjg1MTU2MjUsIDMzLjQ2MTUzODQ2MTUzODQ2XSwgWzM3LjY0NzM5OTkwMjM0Mzc1LCAxMzkuODk0NDA5MTc5Njg3NSwgNDguMjY2NjY2NjY2NjY2NjZdLCBbMzcuNjUyODkzMDY2NDA2MjUsIDEzOS44ODM0MjI4NTE1NjI1LCA0MC40Mzc1XSwgWzM3LjY1ODM4NjIzMDQ2ODc1LCAxMzkuODgzNDIyODUxNTYyNSwgMjYuMl0sIFszNy42NDczOTk5MDIzNDM3NSwgMTM5LjkwNTM5NTUwNzgxMjUsIDMzLjExNzY0NzA1ODgyMzUzNl0sIFszNy42NDE5MDY3MzgyODEyNSwgMTM5LjkxNjM4MTgzNTkzNzUsIDM2Ljc3Nzc3Nzc3Nzc3Nzc4XSwgWzM3LjY0NzM5OTkwMjM0Mzc1LCAxMzkuOTE2MzgxODM1OTM3NSwgMzMuMF0sIFszNy42NzQ4NjU3MjI2NTYyNSwgMTM5Ljg3MjQzNjUyMzQzNzUsIDMxLjM5MTMwNDM0NzgyNjA5XSwgWzM3LjY2Mzg3OTM5NDUzMTI1LCAxMzkuODgzNDIyODUxNTYyNSwgMzguNzVdLCBbMzcuNjY5MzcyNTU4NTkzNzUsIDEzOS44ODM0MjI4NTE1NjI1LCAzNy4zNzVdLCBbMzcuNjc0ODY1NzIyNjU2MjUsIDEzOS44ODM0MjI4NTE1NjI1LCAzMC42MjVdLCBbMzcuMjczODY0NzQ2MDkzNzUsIDE0MC4wOTIxNjMwODU5Mzc1LCAyOTcuMF0sIFszNy4yODQ4NTEwNzQyMTg3NSwgMTQwLjA4MTE3Njc1NzgxMjUsIDI4OS4wXSwgWzM3LjMwMTMzMDU2NjQwNjI1LCAxNDAuMDcwMTkwNDI5Njg3NSwgMjkwLjBdLCBbMzcuMjkwMzQ0MjM4MjgxMjUsIDE0MC4wODExNzY3NTc4MTI1LCAzMDEuMF0sIFszNy4zMjg3OTYzODY3MTg3NSwgMTQwLjA0ODIxNzc3MzQzNzUsIDI4My4wXSwgWzM3LjMzOTc4MjcxNDg0Mzc1LCAxNDAuMDQ4MjE3NzczNDM3NSwgMjc1LjBdLCBbMzcuMzQ1Mjc1ODc4OTA2MjUsIDE0MC4wMzcyMzE0NDUzMTI1LCAyNzkuMF0sIFszNy4zMTc4MTAwNTg1OTM3NSwgMTQwLjA1OTIwNDEwMTU2MjUsIDI3Ny4wXSwgWzM3LjMxMjMxNjg5NDUzMTI1LCAxNDAuMDcwMTkwNDI5Njg3NSwgMjg1LjBdLCBbMzcuMzk0NzE0MzU1NDY4NzUsIDEzOS45ODIyOTk4MDQ2ODc1LCAyOTEuMF0sIFszNy4zNzgyMzQ4NjMyODEyNSwgMTQwLjAwNDI3MjQ2MDkzNzUsIDMwMy4wXSwgWzM3LjM4OTIyMTE5MTQwNjI1LCAxMzkuOTkzMjg2MTMyODEyNSwgMjkyLjBdLCBbMzcuNDE2Njg3MDExNzE4NzUsIDEzOS45NDkzNDA4MjAzMTI1LCAyODcuMF0sIFszNy40MTExOTM4NDc2NTYyNSwgMTM5Ljk2MDMyNzE0ODQzNzUsIDI4NS4wXSwgWzM3LjQyMjE4MDE3NTc4MTI1LCAxMzkuOTM4MzU0NDkyMTg3NSwgMjgyLjBdLCBbMzcuNDMzMTY2NTAzOTA2MjUsIDEzOS45MjczNjgxNjQwNjI1LCAyODAuMF0sIFszNy40MDAyMDc1MTk1MzEyNSwgMTM5Ljk3MTMxMzQ3NjU2MjUsIDI5My4wXSwgWzM3LjM1NjI2MjIwNzAzMTI1LCAxNDAuMDI2MjQ1MTE3MTg3NSwgMjgxLjBdLCBbMzcuMzYxNzU1MzcxMDkzNzUsIDE0MC4wMjYyNDUxMTcxODc1LCAyODAuMF0sIFszNy4zNzI3NDE2OTkyMTg3NSwgMTQwLjAxNTI1ODc4OTA2MjUsIDI5MC4wXSwgWzM3LjM5NDcxNDM1NTQ2ODc1LCAxNDAuMDcwMTkwNDI5Njg3NSwgMzEuMF0sIFszNy4zODM3MjgwMjczNDM3NSwgMTQwLjA5MjE2MzA4NTkzNzUsIDM3LjZdLCBbMzcuMzk0NzE0MzU1NDY4NzUsIDE0MC4wODExNzY3NTc4MTI1LCAzNi42MzMzMzMzMzMzMzMzM10sIFszNy4zODkyMjExOTE0MDYyNSwgMTQwLjA5MjE2MzA4NTkzNzUsIDM3LjA3MTQyODU3MTQyODU3XSwgWzM3LjM5NDcxNDM1NTQ2ODc1LCAxNDAuMDkyMTYzMDg1OTM3NSwgMzQuNV0sIFszNy40MTY2ODcwMTE3MTg3NSwgMTQwLjAzNzIzMTQ0NTMxMjUsIDMxLjE2NjY2NjY2NjY2NjY3XSwgWzM3LjQxMTE5Mzg0NzY1NjI1LCAxNDAuMDQ4MjE3NzczNDM3NSwgMzUuMF0sIFszNy40MTY2ODcwMTE3MTg3NSwgMTQwLjA0ODIxNzc3MzQzNzUsIDM0LjBdLCBbMzcuNDIyMTgwMTc1NzgxMjUsIDE0MC4wMjYyNDUxMTcxODc1LCAyOS42NjY2NjY2NjY2NjY2N10sIFszNy40Mjc2NzMzMzk4NDM3NSwgMTQwLjAyNjI0NTExNzE4NzUsIDM1LjcxNDI4NTcxNDI4NTcxNV0sIFszNy40Mzg2NTk2Njc5Njg3NSwgMTQwLjAxNTI1ODc4OTA2MjUsIDMwLjBdLCBbMzcuNDMzMTY2NTAzOTA2MjUsIDE0MC4wMjYyNDUxMTcxODc1LCAzOS4xNjY2NjY2NjY2NjY2Nl0sIFszNy40Mzg2NTk2Njc5Njg3NSwgMTQwLjAyNjI0NTExNzE4NzUsIDM2LjVdLCBbMzcuNDIyMTgwMTc1NzgxMjUsIDE0MC4wMzcyMzE0NDUzMTI1LCAzMS4wXSwgWzM3LjQwNTcwMDY4MzU5Mzc1LCAxNDAuMDU5MjA0MTAxNTYyNSwgMzAuOF0sIFszNy40MDAyMDc1MTk1MzEyNSwgMTQwLjA3MDE5MDQyOTY4NzUsIDMzLjUzMzMzMzMzMzMzMzMzXSwgWzM3LjQwNTcwMDY4MzU5Mzc1LCAxNDAuMDcwMTkwNDI5Njg3NSwgMzUuNV0sIFszNy40MTExOTM4NDc2NTYyNSwgMTQwLjA1OTIwNDEwMTU2MjUsIDI2LjFdLCBbMzcuMzgzNzI4MDI3MzQzNzUsIDE0MC4xMDMxNDk0MTQwNjI1LCAzMy4xXSwgWzM3LjM4MzcyODAyNzM0Mzc1LCAxNDAuMTE0MTM1NzQyMTg3NSwgMzguNjY2NjY2NjY2NjY2NjZdLCBbMzcuMzg5MjIxMTkxNDA2MjUsIDE0MC4xMDMxNDk0MTQwNjI1LCAzMi4wXSwgWzM3LjM4MzcyODAyNzM0Mzc1LCAxNDAuMTI1MTIyMDcwMzEyNSwgNDEuNTgzMzMzMzMzMzMzMzM2XSwgWzM3LjM4OTIyMTE5MTQwNjI1LCAxNDAuMTI1MTIyMDcwMzEyNSwgNDAuODc1XSwgWzM3LjM5NDcxNDM1NTQ2ODc1LCAxNDAuMTI1MTIyMDcwMzEyNSwgMzcuMF0sIFszNy4zOTQ3MTQzNTU0Njg3NSwgMTQwLjEzNjEwODM5ODQzNzUsIDM2LjM4NDYxNTM4NDYxNTM5NF0sIFszNy4zOTQ3MTQzNTU0Njg3NSwgMTQwLjE0NzA5NDcyNjU2MjUsIDQ0LjBdLCBbMzcuMzk0NzE0MzU1NDY4NzUsIDE0MC4xNTgwODEwNTQ2ODc1LCAzMi4yNV0sIFszNy4zOTQ3MTQzNTU0Njg3NSwgMTQwLjE2OTA2NzM4MjgxMjUsIDI5LjZdLCBbMzcuMzk0NzE0MzU1NDY4NzUsIDE0MC4xODAwNTM3MTA5Mzc1LCAzOC4wOTA5MDkwOTA5MDkwOV0sIFszNy40MDAyMDc1MTk1MzEyNSwgMTQwLjE0NzA5NDcyNjU2MjUsIDMzLjE0Mjg1NzE0Mjg1NzE0Nl0sIFszNy40MDAyMDc1MTk1MzEyNSwgMTQwLjE1ODA4MTA1NDY4NzUsIDM0LjI3MjcyNzI3MjcyNzI3XSwgWzM3LjM5NDcxNDM1NTQ2ODc1LCAxNDAuMjAyMDI2MzY3MTg3NSwgMzUuNjUzODQ2MTUzODQ2MTQ2XSwgWzM3LjM4OTIyMTE5MTQwNjI1LCAxNDAuMjEzMDEyNjk1MzEyNSwgNDYuNzI3MjcyNzI3MjcyNzNdLCBbMzcuMzk0NzE0MzU1NDY4NzUsIDE0MC4yMTMwMTI2OTUzMTI1LCA0NC45MjMwNzY5MjMwNzY5M10sIFszNy4zODkyMjExOTE0MDYyNSwgMTQwLjIyMzk5OTAyMzQzNzUsIDQxLjE0Mjg1NzE0Mjg1NzE0Nl0sIFszNy4zODkyMjExOTE0MDYyNSwgMTQwLjIzNDk4NTM1MTU2MjUsIDQzLjIyMjIyMjIyMjIyMjIyXSwgWzM3LjM5NDcxNDM1NTQ2ODc1LCAxNDAuMjM0OTg1MzUxNTYyNSwgMzguMF0sIFszNy4zOTQ3MTQzNTU0Njg3NSwgMTQwLjI0NTk3MTY3OTY4NzUsIDQ4Ljc2OTIzMDc2OTIzMDc3NF0sIFszNy4zOTQ3MTQzNTU0Njg3NSwgMTQwLjI2Nzk0NDMzNTkzNzUsIDM1LjYyNV0sIFszNy40MDAyMDc1MTk1MzEyNSwgMTQwLjI1Njk1ODAwNzgxMjUsIDQ2LjA4MzMzMzMzMzMzMzM0XSwgWzM3LjQwMDIwNzUxOTUzMTI1LCAxNDAuMjY3OTQ0MzM1OTM3NSwgMzkuMF0sIFszNy40ODI2MDQ5ODA0Njg3NSwgMTQwLjAwNDI3MjQ2MDkzNzUsIDQ2LjBdLCBbMzcuNDkzNTkxMzA4NTkzNzUsIDEzOS45MjczNjgxNjQwNjI1LCAyNy43MTQ0MTI4MTEzODc5MDZdLCBbMzcuNDkzNTkxMzA4NTkzNzUsIDEzOS45MzgzNTQ0OTIxODc1LCAzOS43NDQwODk1ODkzODJdLCBbMzcuNTA0NTc3NjM2NzE4NzUsIDEzOS45NDkzNDA4MjAzMTI1LCA0MC44MzMzMzMzMzMzMzMzMzZdLCBbMzcuNTA0NTc3NjM2NzE4NzUsIDEzOS45NjAzMjcxNDg0Mzc1LCA1MC4wXSwgWzM3LjUxMDA3MDgwMDc4MTI1LCAxMzkuOTI3MzY4MTY0MDYyNSwgMzIuMjg3NjcxMjMyODc2NzFdLCBbMzcuNTE1NTYzOTY0ODQzNzUsIDEzOS45MjczNjgxNjQwNjI1LCAzMS40MTE3NjQ3MDU4ODIzNTVdLCBbMzcuNTEwMDcwODAwNzgxMjUsIDEzOS45MzgzNTQ0OTIxODc1LCAzNi45Njk2OTY5Njk2OTY5N10sIFszNy41MTU1NjM5NjQ4NDM3NSwgMTM5LjkzODM1NDQ5MjE4NzUsIDMyLjkxMTExMTExMTExMTExXSwgWzM3LjUyMTA1NzEyODkwNjI1LCAxMzkuOTM4MzU0NDkyMTg3NSwgMzEuMF0sIFszNy41MTAwNzA4MDA3ODEyNSwgMTM5Ljk2MDMyNzE0ODQzNzUsIDM4LjddLCBbMzcuNTE1NTYzOTY0ODQzNzUsIDEzOS45NjAzMjcxNDg0Mzc1LCA0Mi42OTIzMDc2OTIzMDc2ODZdLCBbMzcuNTIxMDU3MTI4OTA2MjUsIDEzOS45NDkzNDA4MjAzMTI1LCAyOS44XSwgWzM3LjUyNjU1MDI5Mjk2ODc1LCAxMzkuOTQ5MzQwODIwMzEyNSwgMzEuMDgzMzMzMzMzMzMzMzNdLCBbMzcuNTIxMDU3MTI4OTA2MjUsIDEzOS45NjAzMjcxNDg0Mzc1LCA0OS44NzVdLCBbMzcuNDg4MDk4MTQ0NTMxMjUsIDE0MC4wMDQyNzI0NjA5Mzc1LCA0My4xXSwgWzM3LjQ5MzU5MTMwODU5Mzc1LCAxNDAuMDA0MjcyNDYwOTM3NSwgNDEuM10sIFszNy40OTkwODQ0NzI2NTYyNSwgMTM5Ljk5MzI4NjEzMjgxMjUsIDMyLjZdLCBbMzcuNTA0NTc3NjM2NzE4NzUsIDEzOS45OTMyODYxMzI4MTI1LCAzMy41NTU1NTU1NTU1NTU1Nl0sIFszNy40OTkwODQ0NzI2NTYyNSwgMTQwLjAwNDI3MjQ2MDkzNzUsIDMxLjRdLCBbMzcuNTE1NTYzOTY0ODQzNzUsIDEzOS45NzEzMTM0NzY1NjI1LCA0NS4zMTI1XSwgWzM3LjUxMDA3MDgwMDc4MTI1LCAxMzkuOTgyMjk5ODA0Njg3NSwgMzQuNzVdLCBbMzcuNTE1NTYzOTY0ODQzNzUsIDEzOS45ODIyOTk4MDQ2ODc1LCA0Ni44NF0sIFszNy41MjEwNTcxMjg5MDYyNSwgMTM5Ljk3MTMxMzQ3NjU2MjUsIDQ0LjM3NV0sIFszNy41MjEwNTcxMjg5MDYyNSwgMTM5Ljk4MjI5OTgwNDY4NzUsIDM4LjZdLCBbMzcuNTI2NTUwMjkyOTY4NzUsIDEzOS45ODIyOTk4MDQ2ODc1LCAzNi4xMjVdLCBbMzcuNTEwMDcwODAwNzgxMjUsIDEzOS45OTMyODYxMzI4MTI1LCAzMy43Nzc3Nzc3Nzc3Nzc3OF0sIFszNy41MTU1NjM5NjQ4NDM3NSwgMTM5Ljk5MzI4NjEzMjgxMjUsIDM1Ljc2NTAyNzMyMjQwNDM2NF0sIFszNy41MjEwNTcxMjg5MDYyNSwgMTM5Ljk5MzI4NjEzMjgxMjUsIDMzLjY4NDIxMDUyNjMxNTc5XSwgWzM3LjUyMTA1NzEyODkwNjI1LCAxNDAuMDA0MjcyNDYwOTM3NSwgNDIuNV0sIFszNy40NDQxNTI4MzIwMzEyNSwgMTQwLjAxNTI1ODc4OTA2MjUsIDI1LjE2NjY2NjY2NjY2NjY3XSwgWzM3LjQ0OTY0NTk5NjA5Mzc1LCAxNDAuMDE1MjU4Nzg5MDYyNSwgMzAuMzc1XSwgWzM3LjQ1NTEzOTE2MDE1NjI1LCAxNDAuMDE1MjU4Nzg5MDYyNSwgNDkuOV0sIFszNy40NjA2MzIzMjQyMTg3NSwgMTQwLjAxNTI1ODc4OTA2MjUsIDQxLjMzMzMzMzMzMzMzMzMzNl0sIFszNy40NjYxMjU0ODgyODEyNSwgMTQwLjAxNTI1ODc4OTA2MjUsIDM5LjE2NjY2NjY2NjY2NjY2XSwgWzM3LjQ3MTYxODY1MjM0Mzc1LCAxNDAuMDE1MjU4Nzg5MDYyNSwgMzcuNTcxNDI4NTcxNDI4NTddLCBbMzcuNDc3MTExODE2NDA2MjUsIDE0MC4wMTUyNTg3ODkwNjI1LCAzOC4zNzVdLCBbMzcuNDgyNjA0OTgwNDY4NzUsIDE0MC4wMTUyNTg3ODkwNjI1LCA0Mi40XSwgWzM3LjUxMDA3MDgwMDc4MTI1LCAxNDAuMDI2MjQ1MTE3MTg3NSwgNDMuMF0sIFszNy41MTU1NjM5NjQ4NDM3NSwgMTQwLjAyNjI0NTExNzE4NzUsIDQwLjQxNjY2NjY2NjY2NjY2XSwgWzM3LjUyMTA1NzEyODkwNjI1LCAxNDAuMDE1MjU4Nzg5MDYyNSwgMzkuMjMwNzY5MjMwNzY5MjI2XSwgWzM3LjUxMDA3MDgwMDc4MTI1LCAxNDAuMDM3MjMxNDQ1MzEyNSwgNDQuMjVdLCBbMzcuNTE1NTYzOTY0ODQzNzUsIDE0MC4wMzcyMzE0NDUzMTI1LCA0My42NDI4NTcxNDI4NTcxNV0sIFszNy41MTU1NjM5NjQ4NDM3NSwgMTQwLjA0ODIxNzc3MzQzNzUsIDQ2LjRdLCBbMzcuNTIxMDU3MTI4OTA2MjUsIDE0MC4wNDgyMTc3NzM0Mzc1LCAzOC42MjVdLCBbMzcuNTI2NTUwMjkyOTY4NzUsIDE0MC4wNDgyMTc3NzM0Mzc1LCA0Mi4xMjVdLCBbMzcuNTI2NTUwMjkyOTY4NzUsIDE0MC4wNTkyMDQxMDE1NjI1LCA0OC4wXSwgWzM3LjUzMjA0MzQ1NzAzMTI1LCAxMzkuOTQ5MzQwODIwMzEyNSwgNDAuNzY5MjMwNzY5MjMwNzc0XSwgWzM3LjUzMjA0MzQ1NzAzMTI1LCAxMzkuOTYwMzI3MTQ4NDM3NSwgNDAuNV0sIFszNy41Mzc1MzY2MjEwOTM3NSwgMTM5Ljk2MDMyNzE0ODQzNzUsIDQwLjA4MzMzMzMzMzMzMzMzNl0sIFszNy41NDg1MjI5NDkyMTg3NSwgMTM5Ljk2MDMyNzE0ODQzNzUsIDM2LjRdLCBbMzcuNTU0MDE2MTEzMjgxMjUsIDEzOS45NDkzNDA4MjAzMTI1LCAzOC4zXSwgWzM3LjU1OTUwOTI3NzM0Mzc1LCAxMzkuOTQ5MzQwODIwMzEyNSwgMjkuNzI3MjcyNzI3MjcyNzNdLCBbMzcuNTU0MDE2MTEzMjgxMjUsIDEzOS45NjAzMjcxNDg0Mzc1LCA0MC4yMjIyMjIyMjIyMjIyMl0sIFszNy41NjUwMDI0NDE0MDYyNSwgMTM5Ljk0OTM0MDgyMDMxMjUsIDQwLjcyNzI3MjcyNzI3MjczXSwgWzM3LjU3MDQ5NTYwNTQ2ODc1LCAxMzkuOTQ5MzQwODIwMzEyNSwgMzMuMzcxNDI4NTcxNDI4NTc0XSwgWzM3LjU3MDQ5NTYwNTQ2ODc1LCAxMzkuOTYwMzI3MTQ4NDM3NSwgNDYuOTA5MDkwOTA5MDkwOTFdLCBbMzcuNTM3NTM2NjIxMDkzNzUsIDEzOS45NzEzMTM0NzY1NjI1LCA0My42NjY2NjY2NjY2NjY2Nl0sIFszNy41MzIwNDM0NTcwMzEyNSwgMTM5Ljk4MjI5OTgwNDY4NzUsIDQ1LjI1XSwgWzM3LjUzNzUzNjYyMTA5Mzc1LCAxMzkuOTgyMjk5ODA0Njg3NSwgNTAuMF0sIFszNy41NDMwMjk3ODUxNTYyNSwgMTM5Ljk3MTMxMzQ3NjU2MjUsIDQxLjIxMDUyNjMxNTc4OTQ3XSwgWzM3LjU0ODUyMjk0OTIxODc1LCAxMzkuOTcxMzEzNDc2NTYyNSwgMzYuODA2NDUxNjEyOTAzMjJdLCBbMzcuNTQzMDI5Nzg1MTU2MjUsIDEzOS45ODIyOTk4MDQ2ODc1LCA1Mi4yXSwgWzM3LjU0ODUyMjk0OTIxODc1LCAxMzkuOTgyMjk5ODA0Njg3NSwgNDUuMF0sIFszNy41NDMwMjk3ODUxNTYyNSwgMTM5Ljk5MzI4NjEzMjgxMjUsIDQ5LjY2NjY2NjY2NjY2NjY2XSwgWzM3LjU0ODUyMjk0OTIxODc1LCAxMzkuOTkzMjg2MTMyODEyNSwgNDIuNV0sIFszNy41NDg1MjI5NDkyMTg3NSwgMTQwLjAwNDI3MjQ2MDkzNzUsIDM5LjVdLCBbMzcuNTU0MDE2MTEzMjgxMjUsIDEzOS45NzEzMTM0NzY1NjI1LCAzMi4wXSwgWzM3LjU1OTUwOTI3NzM0Mzc1LCAxMzkuOTcxMzEzNDc2NTYyNSwgMzYuMTY2NjY2NjY2NjY2NjZdLCBbMzcuNTU5NTA5Mjc3MzQzNzUsIDEzOS45ODIyOTk4MDQ2ODc1LCAzNC43NzI3MjcyNzI3MjcyN10sIFszNy41NjUwMDI0NDE0MDYyNSwgMTM5Ljk3MTMxMzQ3NjU2MjUsIDQyLjhdLCBbMzcuNTY1MDAyNDQxNDA2MjUsIDEzOS45ODIyOTk4MDQ2ODc1LCAzOC42Mjg1NzE0Mjg1NzE0MjZdLCBbMzcuNTU5NTA5Mjc3MzQzNzUsIDEzOS45OTMyODYxMzI4MTI1LCAzOS41MjM4MDk1MjM4MDk1M10sIFszNy41NTQwMTYxMTMyODEyNSwgMTQwLjAwNDI3MjQ2MDkzNzUsIDQ2LjE2NjY2NjY2NjY2NjY2XSwgWzM3LjU1OTUwOTI3NzM0Mzc1LCAxNDAuMDA0MjcyNDYwOTM3NSwgNDAuNjQ1MTYxMjkwMzIyNTg0XSwgWzM3LjU2NTAwMjQ0MTQwNjI1LCAxMzkuOTkzMjg2MTMyODEyNSwgMzcuMTA1MjYzMTU3ODk0NzRdLCBbMzcuNTc1OTg4NzY5NTMxMjUsIDEzOS45MjczNjgxNjQwNjI1LCA1Ni4xMTExMTExMTExMTExMTRdLCBbMzcuNTgxNDgxOTMzNTkzNzUsIDEzOS45MjczNjgxNjQwNjI1LCA1NC4zMTU3ODk0NzM2ODQyMV0sIFszNy41NzU5ODg3Njk1MzEyNSwgMTM5LjkzODM1NDQ5MjE4NzUsIDQxLjQ0ODI3NTg2MjA2ODk3XSwgWzM3LjU3NTk4ODc2OTUzMTI1LCAxMzkuOTQ5MzQwODIwMzEyNSwgNDAuODI4NTcxNDI4NTcxNDNdLCBbMzcuNTc1OTg4NzY5NTMxMjUsIDEzOS45NjAzMjcxNDg0Mzc1LCAzOS4wXSwgWzM3LjUzNzUzNjYyMTA5Mzc1LCAxNDAuMDI2MjQ1MTE3MTg3NSwgNDIuODc1XSwgWzM3LjU0MzAyOTc4NTE1NjI1LCAxNDAuMDE1MjU4Nzg5MDYyNSwgNDMuOF0sIFszNy41NDg1MjI5NDkyMTg3NSwgMTQwLjAxNTI1ODc4OTA2MjUsIDQ2LjBdLCBbMzcuNTM3NTM2NjIxMDkzNzUsIDE0MC4wMzcyMzE0NDUzMTI1LCA0My4yODU3MTQyODU3MTQyOV0sIFszNy41Mzc1MzY2MjEwOTM3NSwgMTQwLjA0ODIxNzc3MzQzNzUsIDM3LjY2NjY2NjY2NjY2NjY2XSwgWzM3LjU0MzAyOTc4NTE1NjI1LCAxNDAuMDQ4MjE3NzczNDM3NSwgMzIuMF0sIFszNy41NTk1MDkyNzczNDM3NSwgMTQwLjAxNTI1ODc4OTA2MjUsIDQzLjE3MTQyODU3MTQyODU2NF0sIFszNy41NTk1MDkyNzczNDM3NSwgMTQwLjAyNjI0NTExNzE4NzUsIDQ0Ljc3MTQyODU3MTQyODU2NV0sIFszNy41NTQwMTYxMTMyODEyNSwgMTQwLjAzNzIzMTQ0NTMxMjUsIDQwLjYzNjM2MzYzNjM2MzYzXSwgWzM3LjU1OTUwOTI3NzM0Mzc1LCAxNDAuMDM3MjMxNDQ1MzEyNSwgNDUuNV0sIFszNy41NTQwMTYxMTMyODEyNSwgMTQwLjA0ODIxNzc3MzQzNzUsIDQwLjA1NzE0Mjg1NzE0Mjg2XSwgWzM3LjUzMjA0MzQ1NzAzMTI1LCAxNDAuMDU5MjA0MTAxNTYyNSwgNDYuMF0sIFszNy41Mzc1MzY2MjEwOTM3NSwgMTQwLjA1OTIwNDEwMTU2MjUsIDQ0LjJdLCBbMzcuNTM3NTM2NjIxMDkzNzUsIDE0MC4wNzAxOTA0Mjk2ODc1LCAzNy4zODM1MTI1NDQ4MDI4N10sIFszNy41NDMwMjk3ODUxNTYyNSwgMTQwLjA1OTIwNDEwMTU2MjUsIDMwLjBdLCBbMzcuNTQ4NTIyOTQ5MjE4NzUsIDE0MC4wNTkyMDQxMDE1NjI1LCAzNC4wXSwgWzM3LjU0MzAyOTc4NTE1NjI1LCAxNDAuMDcwMTkwNDI5Njg3NSwgMzYuMzMzMzMzMzMzMzMzMzM2XSwgWzM3LjU0ODUyMjk0OTIxODc1LCAxNDAuMDcwMTkwNDI5Njg3NSwgMzEuNzM2ODQyMTA1MjYzMTZdLCBbMzcuNTM3NTM2NjIxMDkzNzUsIDE0MC4wODExNzY3NTc4MTI1LCAzNi4wODYyMDY4OTY1NTE3MTVdLCBbMzcuNTM3NTM2NjIxMDkzNzUsIDE0MC4wOTIxNjMwODU5Mzc1LCA0Ni41MTAyMDQwODE2MzI2NV0sIFszNy41NDg1MjI5NDkyMTg3NSwgMTQwLjA4MTE3Njc1NzgxMjUsIDM1LjgzMzMzMzMzMzMzMzMzNl0sIFszNy41NDMwMjk3ODUxNTYyNSwgMTQwLjA5MjE2MzA4NTkzNzUsIDM1LjVdLCBbMzcuNTQ4NTIyOTQ5MjE4NzUsIDE0MC4wOTIxNjMwODU5Mzc1LCAzMi4yNV0sIFszNy41NTQwMTYxMTMyODEyNSwgMTQwLjA1OTIwNDEwMTU2MjUsIDM2LjQ3NzI3MjcyNzI3MjczXSwgWzM3LjU1NDAxNjExMzI4MTI1LCAxNDAuMDcwMTkwNDI5Njg3NSwgMzcuOF0sIFszNy40ODI2MDQ5ODA0Njg3NSwgMTQwLjE4MDA1MzcxMDkzNzUsIDM4LjBdLCBbMzcuNTI2NTUwMjkyOTY4NzUsIDE0MC4xMTQxMzU3NDIxODc1LCAzOS4xNzVdLCBbMzcuNTE1NTYzOTY0ODQzNzUsIDE0MC4xMjUxMjIwNzAzMTI1LCA0MC4zXSwgWzM3LjUxMDA3MDgwMDc4MTI1LCAxNDAuMTM2MTA4Mzk4NDM3NSwgNDIuNzc3Nzc3Nzc3Nzc3NzhdLCBbMzcuNTE1NTYzOTY0ODQzNzUsIDE0MC4xMzYxMDgzOTg0Mzc1LCAzOS4zMzMzMzMzMzMzMzMzMzZdLCBbMzcuNTIxMDU3MTI4OTA2MjUsIDE0MC4xMjUxMjIwNzAzMTI1LCA0MS41MjA4MzMzMzMzMzMzMzZdLCBbMzcuNTI2NTUwMjkyOTY4NzUsIDE0MC4xMjUxMjIwNzAzMTI1LCA0Mi4xMzMzMzMzMzMzMzMzM10sIFszNy40OTM1OTEzMDg1OTM3NSwgMTQwLjE0NzA5NDcyNjU2MjUsIDQxLjAzMzMzMzMzMzMzMzMzXSwgWzM3LjQ4ODA5ODE0NDUzMTI1LCAxNDAuMTU4MDgxMDU0Njg3NSwgMzkuNjU1OTEzOTc4NDk0NjI0XSwgWzM3LjQ5MzU5MTMwODU5Mzc1LCAxNDAuMTU4MDgxMDU0Njg3NSwgNDMuNDI4NTcxNDI4NTcxNDNdLCBbMzcuNDk5MDg0NDcyNjU2MjUsIDE0MC4xNDcwOTQ3MjY1NjI1LCAzNy4zNDQzMjIzNDQzMjIzNF0sIFszNy41MDQ1Nzc2MzY3MTg3NSwgMTQwLjE0NzA5NDcyNjU2MjUsIDM4LjcyNzI3MjcyNzI3MjczXSwgWzM3LjUwNDU3NzYzNjcxODc1LCAxNDAuMTU4MDgxMDU0Njg3NSwgNDkuMF0sIFszNy40ODgwOTgxNDQ1MzEyNSwgMTQwLjE2OTA2NzM4MjgxMjUsIDQyLjY5MTE3NjQ3MDU4ODIyNV0sIFszNy40ODgwOTgxNDQ1MzEyNSwgMTQwLjE4MDA1MzcxMDkzNzUsIDM5LjBdLCBbMzcuNTA0NTc3NjM2NzE4NzUsIDE0MC4xNjkwNjczODI4MTI1LCAzNS41NzE0Mjg1NzE0Mjg1N10sIFszNy41MDQ1Nzc2MzY3MTg3NSwgMTQwLjE4MDA1MzcxMDkzNzUsIDI4LjBdLCBbMzcuNTEwMDcwODAwNzgxMjUsIDE0MC4xNDcwOTQ3MjY1NjI1LCA0Mi42XSwgWzM3LjUxMDA3MDgwMDc4MTI1LCAxNDAuMTU4MDgxMDU0Njg3NSwgNTUuNDE2NjY2NjY2NjY2NjZdLCBbMzcuNTIxMDU3MTI4OTA2MjUsIDE0MC4xNDcwOTQ3MjY1NjI1LCA0OC41XSwgWzM3LjUyNjU1MDI5Mjk2ODc1LCAxNDAuMTQ3MDk0NzI2NTYyNSwgNDguMjVdLCBbMzcuNDgyNjA0OTgwNDY4NzUsIDE0MC4xOTEwNDAwMzkwNjI1LCA0MS44NTkxNTQ5Mjk1Nzc0NV0sIFszNy40ODI2MDQ5ODA0Njg3NSwgMTQwLjIwMjAyNjM2NzE4NzUsIDQ4LjE2NjY2NjY2NjY2NjY2XSwgWzM3LjQ4ODA5ODE0NDUzMTI1LCAxNDAuMjAyMDI2MzY3MTg3NSwgNDIuMF0sIFszNy40OTM1OTEzMDg1OTM3NSwgMTQwLjIwMjAyNjM2NzE4NzUsIDQ2Ljc5MTY2NjY2NjY2NjY2XSwgWzM3LjQ5OTA4NDQ3MjY1NjI1LCAxNDAuMTkxMDQwMDM5MDYyNSwgMzQuNDE2NjY2NjY2NjY2NjY0XSwgWzM3LjQ5OTA4NDQ3MjY1NjI1LCAxNDAuMjAyMDI2MzY3MTg3NSwgMzkuMTExMTExMTExMTExMTE0XSwgWzM3LjQ5MzU5MTMwODU5Mzc1LCAxNDAuMjEzMDEyNjk1MzEyNSwgNDcuNjgxMTU5NDIwMjg5ODVdLCBbMzcuNDkzNTkxMzA4NTkzNzUsIDE0MC4yMjM5OTkwMjM0Mzc1LCA0Ny4yOTU0NTQ1NDU0NTQ1NV0sIFszNy40OTkwODQ0NzI2NTYyNSwgMTQwLjIxMzAxMjY5NTMxMjUsIDQwLjM3NV0sIFszNy40OTkwODQ0NzI2NTYyNSwgMTQwLjIyMzk5OTAyMzQzNzUsIDI4LjY2NjY2NjY2NjY2NjY3XSwgWzM3LjQ5MzU5MTMwODU5Mzc1LCAxNDAuMjM0OTg1MzUxNTYyNSwgNDQuNzM3NzA0OTE4MDMyNzldLCBbMzcuNDkzNTkxMzA4NTkzNzUsIDE0MC4yNDU5NzE2Nzk2ODc1LCA0Mi43MzUyOTQxMTc2NDcwNl0sIFszNy40OTkwODQ0NzI2NTYyNSwgMTQwLjI0NTk3MTY3OTY4NzUsIDI4LjM3NV0sIFszNy40OTM1OTEzMDg1OTM3NSwgMTQwLjI1Njk1ODAwNzgxMjUsIDM3LjI1NTA2MDcyODc0NDk0XSwgWzM3LjQ4ODA5ODE0NDUzMTI1LCAxNDAuMjY3OTQ0MzM1OTM3NSwgMzguNTM4NDYxNTM4NDYxNTRdLCBbMzcuNDk5MDg0NDcyNjU2MjUsIDE0MC4yNTY5NTgwMDc4MTI1LCAzNS45XSwgWzM3LjUwNDU3NzYzNjcxODc1LCAxNDAuMjY3OTQ0MzM1OTM3NSwgNDEuNV0sIFszNy41MzIwNDM0NTcwMzEyNSwgMTQwLjEwMzE0OTQxNDA2MjUsIDM1LjI1XSwgWzM3LjUzNzUzNjYyMTA5Mzc1LCAxNDAuMTAzMTQ5NDE0MDYyNSwgMzYuNTM4NDYxNTM4NDYxNTRdLCBbMzcuNTMyMDQzNDU3MDMxMjUsIDE0MC4xMTQxMzU3NDIxODc1LCA0MS4zMTU3ODk0NzM2ODQyMV0sIFszNy41Mzc1MzY2MjEwOTM3NSwgMTQwLjExNDEzNTc0MjE4NzUsIDM2LjBdLCBbMzcuNTQzMDI5Nzg1MTU2MjUsIDE0MC4xMDMxNDk0MTQwNjI1LCA0MS43MTQyODU3MTQyODU3MTVdLCBbMzcuNTQzMDI5Nzg1MTU2MjUsIDE0MC4xMTQxMzU3NDIxODc1LCA0MS4zMzMzMzMzMzMzMzMzMzZdLCBbMzcuNTM3NTM2NjIxMDkzNzUsIDE0MC4xMjUxMjIwNzAzMTI1LCAzNC41NzE0Mjg1NzE0Mjg1N10sIFszNy41MzIwNDM0NTcwMzEyNSwgMTQwLjEzNjEwODM5ODQzNzUsIDQ1LjE0Mjg1NzE0Mjg1NzE0XSwgWzM3LjMyODc5NjM4NjcxODc1LCAxNDAuMzQ0ODQ4NjMyODEyNSwgNTcuMjMwNzY5MjMwNzY5MjI2XSwgWzM3LjMyMzMwMzIyMjY1NjI1LCAxNDAuMzU1ODM0OTYwOTM3NSwgNDcuODMzMzMzMzMzMzMzMzRdLCBbMzcuMzI4Nzk2Mzg2NzE4NzUsIDE0MC4zNTU4MzQ5NjA5Mzc1LCA2MS4wXSwgWzM3LjMzNDI4OTU1MDc4MTI1LCAxNDAuMzMzODYyMzA0Njg3NSwgNTUuMF0sIFszNy4zMzk3ODI3MTQ4NDM3NSwgMTQwLjMzMzg2MjMwNDY4NzUsIDQ3LjJdLCBbMzcuMzUwNzY5MDQyOTY4NzUsIDE0MC4zMjI4NzU5NzY1NjI1LCA3NS4wXSwgWzM3LjM0NTI3NTg3ODkwNjI1LCAxNDAuMzMzODYyMzA0Njg3NSwgNjAuODkyODU3MTQyODU3MTRdLCBbMzcuMzUwNzY5MDQyOTY4NzUsIDE0MC4zMzM4NjIzMDQ2ODc1LCA3MS4zNzVdLCBbMzcuMzM0Mjg5NTUwNzgxMjUsIDE0MC4zNDQ4NDg2MzI4MTI1LCA1MC41XSwgWzM3LjMxNzgxMDA1ODU5Mzc1LCAxNDAuMzY2ODIxMjg5MDYyNSwgNDAuMTQ3MzY4NDIxMDUyNjNdLCBbMzcuMzIzMzAzMjIyNjU2MjUsIDE0MC4zNjY4MjEyODkwNjI1LCA0NC4wNF0sIFszNy4zMjg3OTYzODY3MTg3NSwgMTQwLjM2NjgyMTI4OTA2MjUsIDU4LjEyNV0sIFszNy4zMjMzMDMyMjI2NTYyNSwgMTQwLjM3NzgwNzYxNzE4NzUsIDQzLjgxMjVdLCBbMzcuMzI4Nzk2Mzg2NzE4NzUsIDE0MC4zNzc4MDc2MTcxODc1LCA0My41NTU1NTU1NTU1NTU1NjRdLCBbMzcuMzM5NzgyNzE0ODQzNzUsIDE0MC4zNjY4MjEyODkwNjI1LCA0NS4yXSwgWzM3LjMzNDI4OTU1MDc4MTI1LCAxNDAuMzc3ODA3NjE3MTg3NSwgNTAuNV0sIFszNy4zMzk3ODI3MTQ4NDM3NSwgMTQwLjM3NzgwNzYxNzE4NzUsIDQ2LjRdLCBbMzcuMzQ1Mjc1ODc4OTA2MjUsIDE0MC4zNjY4MjEyODkwNjI1LCA0MS4wXSwgWzM3LjM1MDc2OTA0Mjk2ODc1LCAxNDAuMzY2ODIxMjg5MDYyNSwgMzYuMTExMTExMTExMTExMTE0XSwgWzM3LjM5NDcxNDM1NTQ2ODc1LCAxNDAuMjc4OTMwNjY0MDYyNSwgMzUuNDI4NTcxNDI4NTcxNDNdLCBbMzcuMzg5MjIxMTkxNDA2MjUsIDE0MC4yODk5MTY5OTIxODc1LCAzNy42XSwgWzM3LjM5NDcxNDM1NTQ2ODc1LCAxNDAuMjg5OTE2OTkyMTg3NSwgNDQuMDc2OTIzMDc2OTIzMDddLCBbMzcuMzg5MjIxMTkxNDA2MjUsIDE0MC4zMDA5MDMzMjAzMTI1LCA0My4wXSwgWzM3LjM4OTIyMTE5MTQwNjI1LCAxNDAuMzExODg5NjQ4NDM3NSwgMzcuNDA5MDkwOTA5MDkwOTFdLCBbMzcuMzU2MjYyMjA3MDMxMjUsIDE0MC4zMjI4NzU5NzY1NjI1LCA2OS43NV0sIFszNy4zNjE3NTUzNzEwOTM3NSwgMTQwLjMyMjg3NTk3NjU2MjUsIDQ2LjJdLCBbMzcuMzY3MjQ4NTM1MTU2MjUsIDE0MC4zMjI4NzU5NzY1NjI1LCA0NC4xNDI4NTcxNDI4NTcxNV0sIFszNy4zNzI3NDE2OTkyMTg3NSwgMTQwLjMyMjg3NTk3NjU2MjUsIDQ5LjE0Mjg1NzE0Mjg1NzE0XSwgWzM3LjM3ODIzNDg2MzI4MTI1LCAxNDAuMzIyODc1OTc2NTYyNSwgNDkuMzMzMzMzMzMzMzMzMzRdLCBbMzcuMzc4MjM0ODYzMjgxMjUsIDE0MC4zMzM4NjIzMDQ2ODc1LCA0OS4yXSwgWzM3LjM4MzcyODAyNzM0Mzc1LCAxNDAuMzMzODYyMzA0Njg3NSwgNDIuMzg0NjE1Mzg0NjE1Mzk0XSwgWzM3LjM4OTIyMTE5MTQwNjI1LCAxNDAuMzIyODc1OTc2NTYyNSwgNDMuMDkzNzVdLCBbMzcuMzk0NzE0MzU1NDY4NzUsIDE0MC4zMjI4NzU5NzY1NjI1LCA0Ni4xNjY2NjY2NjY2NjY2Nl0sIFszNy4zODkyMjExOTE0MDYyNSwgMTQwLjMzMzg2MjMwNDY4NzUsIDQ0LjQ3MDU4ODIzNTI5NDExNl0sIFszNy4zOTQ3MTQzNTU0Njg3NSwgMTQwLjMzMzg2MjMwNDY4NzUsIDQzLjU1NTU1NTU1NTU1NTU2NF0sIFszNy4zODkyMjExOTE0MDYyNSwgMTQwLjM0NDg0ODYzMjgxMjUsIDYwLjA0XSwgWzM3LjM5NDcxNDM1NTQ2ODc1LCAxNDAuMzQ0ODQ4NjMyODEyNSwgNTkuMDgzMzMzMzMzMzMzMzRdLCBbMzcuMzk0NzE0MzU1NDY4NzUsIDE0MC4zNTU4MzQ5NjA5Mzc1LCA0Ni45NDQ3MzY4NDIxMDUyNl0sIFszNy40MDAyMDc1MTk1MzEyNSwgMTQwLjMzMzg2MjMwNDY4NzUsIDM3LjkzODQ2MTUzODQ2MTU0XSwgWzM3LjQwMDIwNzUxOTUzMTI1LCAxNDAuMzQ0ODQ4NjMyODEyNSwgNDAuNjU2MjVdLCBbMzcuNDA1NzAwNjgzNTkzNzUsIDE0MC4zNDQ4NDg2MzI4MTI1LCA1MS4xMzc5MzEwMzQ0ODI3NTRdLCBbMzcuNDAwMjA3NTE5NTMxMjUsIDE0MC4zNTU4MzQ5NjA5Mzc1LCA1Ni42MzkwOTc3NDQzNjA4OTZdLCBbMzcuNDA1NzAwNjgzNTkzNzUsIDE0MC4zNTU4MzQ5NjA5Mzc1LCA0OC4xOTI5ODI0NTYxNDAzNTZdLCBbMzcuNDExMTkzODQ3NjU2MjUsIDE0MC4zNDQ4NDg2MzI4MTI1LCA0OS4yNjU2MjVdLCBbMzcuNDE2Njg3MDExNzE4NzUsIDE0MC4zNDQ4NDg2MzI4MTI1LCA0OC4wXSwgWzM3LjQxMTE5Mzg0NzY1NjI1LCAxNDAuMzU1ODM0OTYwOTM3NSwgNDYuMF0sIFszNy40Mzg2NTk2Njc5Njg3NSwgMTQwLjMzMzg2MjMwNDY4NzUsIDUyLjY4NDIxMDUyNjMxNTc5XSwgWzM3LjQyMjE4MDE3NTc4MTI1LCAxNDAuMzQ0ODQ4NjMyODEyNSwgNDYuMjgxMjVdLCBbMzcuNDI3NjczMzM5ODQzNzUsIDE0MC4zNDQ4NDg2MzI4MTI1LCA1MC4yMzE4ODQwNTc5NzEwMl0sIFszNy40Mjc2NzMzMzk4NDM3NSwgMTQwLjM1NTgzNDk2MDkzNzUsIDQ1LjQ3NV0sIFszNy40MzMxNjY1MDM5MDYyNSwgMTQwLjM0NDg0ODYzMjgxMjUsIDQ5LjM0ODgzNzIwOTMwMjMyXSwgWzM3LjQzODY1OTY2Nzk2ODc1LCAxNDAuMzQ0ODQ4NjMyODEyNSwgNTEuMTg3NV0sIFszNy40MzMxNjY1MDM5MDYyNSwgMTQwLjM1NTgzNDk2MDkzNzUsIDU0LjIwNjg5NjU1MTcyNDEzNV0sIFszNy4zNTYyNjIyMDcwMzEyNSwgMTQwLjM2NjgyMTI4OTA2MjUsIDQyLjg4NTE2MzIwNDc0Nzc3XSwgWzM3LjM1NjI2MjIwNzAzMTI1LCAxNDAuMzc3ODA3NjE3MTg3NSwgNDAuMF0sIFszNy4zNjE3NTUzNzEwOTM3NSwgMTQwLjM3NzgwNzYxNzE4NzUsIDUyLjg2NjY2NjY2NjY2NjY3XSwgWzM3LjM2NzI0ODUzNTE1NjI1LCAxNDAuMzc3ODA3NjE3MTg3NSwgNDAuMzEyNV0sIFszNy4zNzI3NDE2OTkyMTg3NSwgMTQwLjM3NzgwNzYxNzE4NzUsIDQ1Ljk2MTUzODQ2MTUzODQ2XSwgWzM3LjM3Mjc0MTY5OTIxODc1LCAxNDAuMzg4NzkzOTQ1MzEyNSwgNTAuMF0sIFszNy4zOTQ3MTQzNTU0Njg3NSwgMTQwLjM2NjgyMTI4OTA2MjUsIDUxLjY0MTAyNTY0MTAyNTYzNV0sIFszNy4zOTQ3MTQzNTU0Njg3NSwgMTQwLjM3NzgwNzYxNzE4NzUsIDU1LjM3OTg3MDEyOTg3MDEzXSwgWzM3LjM3ODIzNDg2MzI4MTI1LCAxNDAuMzg4NzkzOTQ1MzEyNSwgNDAuMF0sIFszNy4zODM3MjgwMjczNDM3NSwgMTQwLjM4ODc5Mzk0NTMxMjUsIDM3LjEzMzMzMzMzMzMzMzMzXSwgWzM3LjM4OTIyMTE5MTQwNjI1LCAxNDAuMzg4NzkzOTQ1MzEyNSwgMzYuMV0sIFszNy4zOTQ3MTQzNTU0Njg3NSwgMTQwLjM4ODc5Mzk0NTMxMjUsIDQ2Ljc1OTg4OTYwNDQxNTgyNV0sIFszNy4zODkyMjExOTE0MDYyNSwgMTQwLjM5OTc4MDI3MzQzNzUsIDQyLjBdLCBbMzcuMzk0NzE0MzU1NDY4NzUsIDE0MC4zOTk3ODAyNzM0Mzc1LCAzOC44NjYzNzkzMTAzNDQ4M10sIFszNy40MDAyMDc1MTk1MzEyNSwgMTQwLjM2NjgyMTI4OTA2MjUsIDUzLjg4MTI1XSwgWzM3LjQwNTcwMDY4MzU5Mzc1LCAxNDAuMzY2ODIxMjg5MDYyNSwgNTQuNDMzMzMzMzMzMzMzMzNdLCBbMzcuNDAwMjA3NTE5NTMxMjUsIDE0MC4zNzc4MDc2MTcxODc1LCA0Ny4xNDM1Mzg5MTMzNjI3MDRdLCBbMzcuNDA1NzAwNjgzNTkzNzUsIDE0MC4zNzc4MDc2MTcxODc1LCA1MS43ODU3MTQyODU3MTQyOV0sIFszNy40MDAyMDc1MTk1MzEyNSwgMTQwLjM4ODc5Mzk0NTMxMjUsIDM1LjE4NzAyMjkwMDc2MzM2XSwgWzM3LjQwNTcwMDY4MzU5Mzc1LCAxNDAuMzg4NzkzOTQ1MzEyNSwgNDIuOF0sIFszNy40MDAyMDc1MTk1MzEyNSwgMTQwLjM5OTc4MDI3MzQzNzUsIDM4LjMwODUxMDYzODI5Nzg4XSwgWzM3LjQwNTcwMDY4MzU5Mzc1LCAxNDAuMzk5NzgwMjczNDM3NSwgNDUuNjI1XSwgWzM3LjQxMTE5Mzg0NzY1NjI1LCAxNDAuMzg4NzkzOTQ1MzEyNSwgNDEuODM4NzA5Njc3NDE5MzVdLCBbMzcuNDE2Njg3MDExNzE4NzUsIDE0MC4zODg3OTM5NDUzMTI1LCA1My4xODE4MTgxODE4MTgxOF0sIFszNy40MTExOTM4NDc2NTYyNSwgMTQwLjM5OTc4MDI3MzQzNzUsIDM1Ljk0NTk0NTk0NTk0NTk0NF0sIFszNy40MTY2ODcwMTE3MTg3NSwgMTQwLjM5OTc4MDI3MzQzNzUsIDM1LjkyMzA3NjkyMzA3NjkyXSwgWzM3LjQyMjE4MDE3NTc4MTI1LCAxNDAuMzY2ODIxMjg5MDYyNSwgNTMuOTI4NTcxNDI4NTcxNDNdLCBbMzcuNDI3NjczMzM5ODQzNzUsIDE0MC4zNjY4MjEyODkwNjI1LCA0NS41NDU0NTQ1NDU0NTQ1NV0sIFszNy40MjIxODAxNzU3ODEyNSwgMTQwLjM3NzgwNzYxNzE4NzUsIDU0LjVdLCBbMzcuNDI3NjczMzM5ODQzNzUsIDE0MC4zNzc4MDc2MTcxODc1LCAzNi42NTcxNDI4NTcxNDI4Nl0sIFszNy40MjIxODAxNzU3ODEyNSwgMTQwLjM4ODc5Mzk0NTMxMjUsIDQyLjVdLCBbMzcuNDI3NjczMzM5ODQzNzUsIDE0MC4zODg3OTM5NDUzMTI1LCA0NS40MDQ3NjE5MDQ3NjE5MDVdLCBbMzcuNDIyMTgwMTc1NzgxMjUsIDE0MC4zOTk3ODAyNzM0Mzc1LCA0OS44NzVdLCBbMzcuNDI3NjczMzM5ODQzNzUsIDE0MC4zOTk3ODAyNzM0Mzc1LCA0NC42MTUzODQ2MTUzODQ2MDZdLCBbMzcuNDI3NjczMzM5ODQzNzUsIDE0MC40MTA3NjY2MDE1NjI1LCAzOC4wOTIwNjM0OTIwNjM0OTVdLCBbMzcuNDI3NjczMzM5ODQzNzUsIDE0MC40MjE3NTI5Mjk2ODc1LCA1NC44MzMzMzMzMzMzMzMzNF0sIFszNy40MzMxNjY1MDM5MDYyNSwgMTQwLjQyMTc1MjkyOTY4NzUsIDcxLjU3MTQyODU3MTQyODU3XSwgWzM3LjQzMzE2NjUwMzkwNjI1LCAxNDAuNDMyNzM5MjU3ODEyNSwgNjkuMF0sIFszNy40Mzg2NTk2Njc5Njg3NSwgMTQwLjQzMjczOTI1NzgxMjUsIDY0LjE0Mjg1NzE0Mjg1NzE0XSwgWzM3LjQzODY1OTY2Nzk2ODc1LCAxNDAuNDQzNzI1NTg1OTM3NSwgNjYuOF0sIFszNy4zNjcyNDg1MzUxNTYyNSwgMTQwLjUzMTYxNjIxMDkzNzUsIDMyLjg3MTU3Njg3NDg4ODEzXSwgWzM3LjQ4MjYwNDk4MDQ2ODc1LCAxNDAuMjc4OTMwNjY0MDYyNSwgNDguNTg4MjM1Mjk0MTE3NjVdLCBbMzcuNDc3MTExODE2NDA2MjUsIDE0MC4yODk5MTY5OTIxODc1LCA0NS4zNjYzMzY2MzM2NjMzNjZdLCBbMzcuNDgyNjA0OTgwNDY4NzUsIDE0MC4yODk5MTY5OTIxODc1LCA0NC43ODQzMTM3MjU0OTAxODZdLCBbMzcuNDcxNjE4NjUyMzQzNzUsIDE0MC4zMDA5MDMzMjAzMTI1LCA0My43NjA4Njk1NjUyMTczOV0sIFszNy40NzE2MTg2NTIzNDM3NSwgMTQwLjMxMTg4OTY0ODQzNzUsIDQ0LjYzMDk1MjM4MDk1MjM5XSwgWzM3LjQ3NzExMTgxNjQwNjI1LCAxNDAuMzAwOTAzMzIwMzEyNSwgNDQuMDYwNjA2MDYwNjA2MDZdLCBbMzcuNDgyNjA0OTgwNDY4NzUsIDE0MC4zMTE4ODk2NDg0Mzc1LCAzNy41XSwgWzM3LjQ0NDE1MjgzMjAzMTI1LCAxNDAuMzMzODYyMzA0Njg3NSwgNDkuNzI3MjcyNzI3MjcyNzNdLCBbMzcuNDQ5NjQ1OTk2MDkzNzUsIDE0MC4zMzM4NjIzMDQ2ODc1LCA1MC4wMzU3MTQyODU3MTQyOV0sIFszNy40NjA2MzIzMjQyMTg3NSwgMTQwLjMyMjg3NTk3NjU2MjUsIDQ4LjE0Mjg1NzE0Mjg1NzE0XSwgWzM3LjQ1NTEzOTE2MDE1NjI1LCAxNDAuMzMzODYyMzA0Njg3NSwgNTAuNjQ0NDQ0NDQ0NDQ0NDVdLCBbMzcuNDYwNjMyMzI0MjE4NzUsIDE0MC4zMzM4NjIzMDQ2ODc1LCA1MC41NjgxODE4MTgxODE4Ml0sIFszNy40NDQxNTI4MzIwMzEyNSwgMTQwLjM0NDg0ODYzMjgxMjUsIDUxLjEzMzMzMzMzMzMzMzMzXSwgWzM3LjQ0OTY0NTk5NjA5Mzc1LCAxNDAuMzQ0ODQ4NjMyODEyNSwgNDguNjM2MzYzNjM2MzYzNjNdLCBbMzcuNDYwNjMyMzI0MjE4NzUsIDE0MC4zNTU4MzQ5NjA5Mzc1LCA0OC4wXSwgWzM3LjQ2NjEyNTQ4ODI4MTI1LCAxNDAuMzIyODc1OTc2NTYyNSwgNDguMTU3ODk0NzM2ODQyMDk2XSwgWzM3LjQ3MTYxODY1MjM0Mzc1LCAxNDAuMzIyODc1OTc2NTYyNSwgNTEuMTUzODQ2MTUzODQ2MTQ2XSwgWzM3LjQ4MjYwNDk4MDQ2ODc1LCAxNDAuMzIyODc1OTc2NTYyNSwgNjAuMjVdLCBbMzcuNDgyNjA0OTgwNDY4NzUsIDE0MC4zMzM4NjIzMDQ2ODc1LCA2Mi4wXSwgWzM3LjQ2NjEyNTQ4ODI4MTI1LCAxNDAuMzQ0ODQ4NjMyODEyNSwgNTIuMF0sIFszNy40NzE2MTg2NTIzNDM3NSwgMTQwLjM0NDg0ODYzMjgxMjUsIDYyLjBdLCBbMzcuNDY2MTI1NDg4MjgxMjUsIDE0MC4zNTU4MzQ5NjA5Mzc1LCA1Mi4wXSwgWzM3LjQ3NzExMTgxNjQwNjI1LCAxNDAuMzQ0ODQ4NjMyODEyNSwgNzAuNl0sIFszNy40ODI2MDQ5ODA0Njg3NSwgMTQwLjM0NDg0ODYzMjgxMjUsIDcwLjBdLCBbMzcuNDg4MDk4MTQ0NTMxMjUsIDE0MC4yNzg5MzA2NjQwNjI1LCA0NC45NTc0NDY4MDg1MTA2NF0sIFszNy40ODgwOTgxNDQ1MzEyNSwgMTQwLjI4OTkxNjk5MjE4NzUsIDQzLjBdLCBbMzcuNDkzNTkxMzA4NTkzNzUsIDE0MC4yODk5MTY5OTIxODc1LCA0MS4yODU3MTQyODU3MTQyODVdLCBbMzcuNDk5MDg0NDcyNjU2MjUsIDE0MC4yNzg5MzA2NjQwNjI1LCA0Ni41XSwgWzM3LjUwNDU3NzYzNjcxODc1LCAxNDAuMjc4OTMwNjY0MDYyNSwgNDEuNTcxNDI4NTcxNDI4NTddLCBbMzcuNDk5MDg0NDcyNjU2MjUsIDE0MC4yODk5MTY5OTIxODc1LCA0Ni4wXSwgWzM3LjQ4ODA5ODE0NDUzMTI1LCAxNDAuMzAwOTAzMzIwMzEyNSwgNDYuODc1XSwgWzM3LjQ4ODA5ODE0NDUzMTI1LCAxNDAuMzExODg5NjQ4NDM3NSwgNDIuNjU4NTM2NTg1MzY1ODVdLCBbMzcuNDg4MDk4MTQ0NTMxMjUsIDE0MC4zMjI4NzU5NzY1NjI1LCA2Mi40XSwgWzM3LjQ4ODA5ODE0NDUzMTI1LCAxNDAuMzMzODYyMzA0Njg3NSwgNTkuNzVdLCBbMzcuNDg4MDk4MTQ0NTMxMjUsIDE0MC4zNDQ4NDg2MzI4MTI1LCA2MC4wXSwgWzM3LjQ2MDYzMjMyNDIxODc1LCAxNDAuMzY2ODIxMjg5MDYyNSwgNTYuNTcxNDI4NTcxNDI4NTddLCBbMzcuNDYwNjMyMzI0MjE4NzUsIDE0MC4zNzc4MDc2MTcxODc1LCA1OS41NzE0Mjg1NzE0Mjg1N10sIFszNy40NTUxMzkxNjAxNTYyNSwgMTQwLjM4ODc5Mzk0NTMxMjUsIDU3LjVdLCBbMzcuNDYwNjMyMzI0MjE4NzUsIDE0MC4zODg3OTM5NDUzMTI1LCA1Ni41XSwgWzM3LjQ1NTEzOTE2MDE1NjI1LCAxNDAuMzk5NzgwMjczNDM3NSwgNjAuNjY2NjY2NjY2NjY2NjZdLCBbMzcuNDQ0MTUyODMyMDMxMjUsIDE0MC40MTA3NjY2MDE1NjI1LCA3NC4wXSwgWzM3LjQ0OTY0NTk5NjA5Mzc1LCAxNDAuNDEwNzY2NjAxNTYyNSwgNzcuMF0sIFszNy40NDQxNTI4MzIwMzEyNSwgMTQwLjQyMTc1MjkyOTY4NzUsIDYwLjBdLCBbMzcuNDQ0MTUyODMyMDMxMjUsIDE0MC40MzI3MzkyNTc4MTI1LCA1MC4xMjVdLCBbMzcuNDQ0MTUyODMyMDMxMjUsIDE0MC40NDM3MjU1ODU5Mzc1LCA1OS41XSwgWzM3LjU0MzAyOTc4NTE1NjI1LCAxNDAuMzk5NzgwMjczNDM3NSwgMzAuOTcyMTI2MDcwMzIyNDY3XSwgWzM3LjY1ODM4NjIzMDQ2ODc1LCAxNDAuNDU0NzExOTE0MDYyNSwgMjQuODkxMzMxNTQ2MDIzMjM1XSwgWzM3LjcyNDMwNDE5OTIxODc1LCAxNDAuNDc2Njg0NTcwMzEyNSwgMzEuMzI4MjYwODY5NTY1MjE2XSwgWzM3Ljc1MTc3MDAxOTUzMTI1LCAxNDAuNDY1Njk4MjQyMTg3NSwgMzAuNTM0NTYxMzg3ODIwOF0sIFszNy43OTAyMjIxNjc5Njg3NSwgMTQwLjU1MzU4ODg2NzE4NzUsIDM3LjY0NDM3NTc2MDk4MTU0Nl0sIFszNy43OTU3MTUzMzIwMzEyNSwgMTQwLjUwOTY0MzU1NDY4NzUsIDQxLjk1MzA5ODUxMTk2MDgyNV0sIFszNy4wMTAxOTI4NzEwOTM3NSwgMTQwLjkyNzEyNDAyMzQzNzUsIDI5LjcyNzE2NzQyNDAzOTkyM10sIFszNy4yMTg5MzMxMDU0Njg3NSwgMTQxLjAwNDAyODMyMDMxMjUsIDI5LjA2NzIwNzQxNTk5MDczXSwgWzM3LjMyODc5NjM4NjcxODc1LCAxNDAuOTgyMDU1NjY0MDYyNSwgODQuOTMwNjIyMjM0NzczNjFdLCBbMzcuNDA1NzAwNjgzNTkzNzUsIDE0MS4wMTUwMTQ2NDg0Mzc1LCAxMTI5LjU0MDgyMzYxMzQyNTNdLCBbMzcuNDkzNTkxMzA4NTkzNzUsIDE0MC45ODIwNTU2NjQwNjI1LCAxMDQuMzM0NzcyMDAyMjUxODFdLCBbMzcuNDkzNTkxMzA4NTkzNzUsIDE0MC45OTMwNDE5OTIxODc1LCA0MC4wNjcwMzU5NTkwNjQ4OF0sIFszNy41NjUwMDI0NDE0MDYyNSwgMTQwLjk5MzA0MTk5MjE4NzUsIDI1LjQzOTMzNDY4MTk1MV0sIFszNy42NDE5MDY3MzgyODEyNSwgMTQwLjc5NTI4ODA4NTkzNzUsIDc1LjgzMDY3NjA0ODgxMDldLCBbMzcuNzkwMjIyMTY3OTY4NzUsIDE0MC45MjcxMjQwMjM0Mzc1LCAyNi4yNzEyNTI4OTYwOTY5NTRdXSwKICAgICAgICAgICAgICAgIHsKICAgICAgICAgICAgICAgICAgICBtaW5PcGFjaXR5OiAwLjIsCiAgICAgICAgICAgICAgICAgICAgbWF4Wm9vbTogMSwKICAgICAgICAgICAgICAgICAgICBtYXg6IDExMjkuNTQwODIzNjEzNDI1MywKICAgICAgICAgICAgICAgICAgICByYWRpdXM6IDI1LAogICAgICAgICAgICAgICAgICAgIGJsdXI6IDI1LAogICAgICAgICAgICAgICAgICAgIGdyYWRpZW50OiBudWxsCiAgICAgICAgICAgICAgICAgICAgfSkKICAgICAgICAgICAgICAgIC5hZGRUbyhtYXBfM2E5ODkwNDAyNWVjNGI5MGI5NGVmNDUyNzY1N2JlMmMpOwogICAgICAgIAo8L3NjcmlwdD4=\" style=\"position:absolute;width:100%;height:100%;left:0;top:0;border:none !important;\" allowfullscreen webkitallowfullscreen mozallowfullscreen></iframe></div></div>"
      ],
      "text/plain": [
       "<folium.folium.Map at 0x1ff78543a58>"
      ]
     },
     "execution_count": 43,
     "metadata": {},
     "output_type": "execute_result"
    }
   ],
   "source": [
    "hmap = folium.Map(location=[42.5, -75.5], zoom_start=7)\n",
    "max_value = fukushima.value.max()\n",
    "hm_wide = HeatMap(list(zip(fukushima.latitude.values, fukushima.longitude.values, fukushima.value.values)),\n",
    "                   min_opacity=0.2,\n",
    "                   max_val=max_value,\n",
    "                   radius=25, blur=25, \n",
    "                   max_zoom=1, \n",
    "                 )\n",
    "hmap.add_child(hm_wide)"
   ]
  },
  {
   "cell_type": "code",
   "execution_count": 44,
   "metadata": {
    "ExecuteTime": {
     "end_time": "2018-11-16T21:04:15.253126Z",
     "start_time": "2018-11-16T21:04:14.562487Z"
    }
   },
   "outputs": [],
   "source": [
    "points = pd.read_csv(\"results/fukushima_filtered.csv\")"
   ]
  },
  {
   "cell_type": "code",
   "execution_count": 45,
   "metadata": {
    "ExecuteTime": {
     "end_time": "2018-11-16T21:04:18.721557Z",
     "start_time": "2018-11-16T21:04:18.713562Z"
    }
   },
   "outputs": [
    {
     "data": {
      "text/html": [
       "<div>\n",
       "<style scoped>\n",
       "    .dataframe tbody tr th:only-of-type {\n",
       "        vertical-align: middle;\n",
       "    }\n",
       "\n",
       "    .dataframe tbody tr th {\n",
       "        vertical-align: top;\n",
       "    }\n",
       "\n",
       "    .dataframe thead th {\n",
       "        text-align: right;\n",
       "    }\n",
       "</style>\n",
       "<table border=\"1\" class=\"dataframe\">\n",
       "  <thead>\n",
       "    <tr style=\"text-align: right;\">\n",
       "      <th></th>\n",
       "      <th>captured time</th>\n",
       "      <th>latitude</th>\n",
       "      <th>longitude</th>\n",
       "      <th>value</th>\n",
       "    </tr>\n",
       "  </thead>\n",
       "  <tbody>\n",
       "    <tr>\n",
       "      <th>0</th>\n",
       "      <td>2018-10-21 01:00:22</td>\n",
       "      <td>37.796306</td>\n",
       "      <td>140.514413</td>\n",
       "      <td>19.0</td>\n",
       "    </tr>\n",
       "    <tr>\n",
       "      <th>1</th>\n",
       "      <td>2018-10-21 01:00:16</td>\n",
       "      <td>37.723330</td>\n",
       "      <td>140.476797</td>\n",
       "      <td>15.0</td>\n",
       "    </tr>\n",
       "    <tr>\n",
       "      <th>2</th>\n",
       "      <td>2018-10-21 01:00:16</td>\n",
       "      <td>37.787500</td>\n",
       "      <td>140.552400</td>\n",
       "      <td>18.0</td>\n",
       "    </tr>\n",
       "    <tr>\n",
       "      <th>3</th>\n",
       "      <td>2018-10-21 01:00:16</td>\n",
       "      <td>37.796306</td>\n",
       "      <td>140.514413</td>\n",
       "      <td>61.0</td>\n",
       "    </tr>\n",
       "    <tr>\n",
       "      <th>4</th>\n",
       "      <td>2018-10-21 01:00:14</td>\n",
       "      <td>37.792805</td>\n",
       "      <td>140.930957</td>\n",
       "      <td>13.0</td>\n",
       "    </tr>\n",
       "  </tbody>\n",
       "</table>\n",
       "</div>"
      ],
      "text/plain": [
       "         captured time   latitude   longitude  value\n",
       "0  2018-10-21 01:00:22  37.796306  140.514413   19.0\n",
       "1  2018-10-21 01:00:16  37.723330  140.476797   15.0\n",
       "2  2018-10-21 01:00:16  37.787500  140.552400   18.0\n",
       "3  2018-10-21 01:00:16  37.796306  140.514413   61.0\n",
       "4  2018-10-21 01:00:14  37.792805  140.930957   13.0"
      ]
     },
     "execution_count": 45,
     "metadata": {},
     "output_type": "execute_result"
    }
   ],
   "source": [
    "points.head()"
   ]
  },
  {
   "cell_type": "code",
   "execution_count": 46,
   "metadata": {
    "ExecuteTime": {
     "end_time": "2018-11-16T21:04:22.901596Z",
     "start_time": "2018-11-16T21:04:22.896601Z"
    }
   },
   "outputs": [
    {
     "data": {
      "text/plain": [
       "216452"
      ]
     },
     "execution_count": 46,
     "metadata": {},
     "output_type": "execute_result"
    }
   ],
   "source": [
    "len(points)"
   ]
  },
  {
   "cell_type": "code",
   "execution_count": null,
   "metadata": {
    "ExecuteTime": {
     "end_time": "2018-11-16T21:04:45.609188Z",
     "start_time": "2018-11-16T21:04:42.794824Z"
    },
    "scrolled": true
   },
   "outputs": [],
   "source": [
    "hmap = folium.Map(location=[42.5, -75.5], zoom_start=7)\n",
    "max_value = points.value.max()\n",
    "hm_wide = HeatMap(list(zip(points.latitude.values, points.longitude.values, points.value.values)),\n",
    "                   min_opacity=0.2,\n",
    "                   max_val=max_value,\n",
    "                   radius=25, blur=25, \n",
    "                   max_zoom=1, \n",
    "                 )\n",
    "hmap.add_child(hm_wide)"
   ]
  },
  {
   "cell_type": "code",
   "execution_count": 48,
   "metadata": {
    "ExecuteTime": {
     "end_time": "2018-11-16T21:05:15.635590Z",
     "start_time": "2018-11-16T21:05:13.577803Z"
    }
   },
   "outputs": [],
   "source": [
    "hmap.save(\"the_best_heatmap.html\")"
   ]
  },
  {
   "cell_type": "code",
   "execution_count": null,
   "metadata": {},
   "outputs": [],
   "source": []
  }
 ],
 "metadata": {
  "kernelspec": {
   "display_name": "Python 3",
   "language": "python",
   "name": "python3"
  },
  "language_info": {
   "codemirror_mode": {
    "name": "ipython",
    "version": 3
   },
   "file_extension": ".py",
   "mimetype": "text/x-python",
   "name": "python",
   "nbconvert_exporter": "python",
   "pygments_lexer": "ipython3",
   "version": "3.7.0"
  }
 },
 "nbformat": 4,
 "nbformat_minor": 2
}
