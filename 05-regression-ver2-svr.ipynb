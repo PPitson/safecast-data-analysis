{
 "cells": [
  {
   "cell_type": "code",
   "execution_count": 1,
   "metadata": {},
   "outputs": [],
   "source": [
    "import pandas as pd \n",
    "import folium\n",
    "import os\n",
    "import geohash\n",
    "from folium.plugins import HeatMap\n",
    "from sklearn import datasets, linear_model\n",
    "from sklearn.svm import SVR\n",
    "from sklearn.metrics import mean_squared_error, r2_score, median_absolute_error, mean_squared_log_error\n",
    "from datetime import datetime\n",
    "import numpy as np"
   ]
  },
  {
   "cell_type": "code",
   "execution_count": 2,
   "metadata": {},
   "outputs": [],
   "source": [
    "RESULTS_DIR = \"results\""
   ]
  },
  {
   "cell_type": "code",
   "execution_count": 3,
   "metadata": {},
   "outputs": [],
   "source": [
    "df = pd.read_csv(os.path.join(RESULTS_DIR, \"10_million_with_elevation_geohashes_timestamps.csv\"))"
   ]
  },
  {
   "cell_type": "code",
   "execution_count": 4,
   "metadata": {},
   "outputs": [
    {
     "data": {
      "text/html": [
       "<div>\n",
       "<style scoped>\n",
       "    .dataframe tbody tr th:only-of-type {\n",
       "        vertical-align: middle;\n",
       "    }\n",
       "\n",
       "    .dataframe tbody tr th {\n",
       "        vertical-align: top;\n",
       "    }\n",
       "\n",
       "    .dataframe thead th {\n",
       "        text-align: right;\n",
       "    }\n",
       "</style>\n",
       "<table border=\"1\" class=\"dataframe\">\n",
       "  <thead>\n",
       "    <tr style=\"text-align: right;\">\n",
       "      <th></th>\n",
       "      <th>Unnamed: 0</th>\n",
       "      <th>value</th>\n",
       "      <th>geohash</th>\n",
       "      <th>geohash5</th>\n",
       "      <th>timestamp</th>\n",
       "    </tr>\n",
       "  </thead>\n",
       "  <tbody>\n",
       "    <tr>\n",
       "      <th>0</th>\n",
       "      <td>0</td>\n",
       "      <td>23.0</td>\n",
       "      <td>xn7tncn498k2</td>\n",
       "      <td>xn7tn</td>\n",
       "      <td>1.540076e+09</td>\n",
       "    </tr>\n",
       "    <tr>\n",
       "      <th>1</th>\n",
       "      <td>1</td>\n",
       "      <td>19.0</td>\n",
       "      <td>xnezj2x7rnh7</td>\n",
       "      <td>xnezj</td>\n",
       "      <td>1.540076e+09</td>\n",
       "    </tr>\n",
       "    <tr>\n",
       "      <th>2</th>\n",
       "      <td>2</td>\n",
       "      <td>15.0</td>\n",
       "      <td>xneysek46d7w</td>\n",
       "      <td>xneys</td>\n",
       "      <td>1.540076e+09</td>\n",
       "    </tr>\n",
       "    <tr>\n",
       "      <th>3</th>\n",
       "      <td>3</td>\n",
       "      <td>16.0</td>\n",
       "      <td>u336qgr9tvzw</td>\n",
       "      <td>u336q</td>\n",
       "      <td>1.540076e+09</td>\n",
       "    </tr>\n",
       "    <tr>\n",
       "      <th>4</th>\n",
       "      <td>4</td>\n",
       "      <td>18.0</td>\n",
       "      <td>xneyyr50hk99</td>\n",
       "      <td>xneyy</td>\n",
       "      <td>1.540076e+09</td>\n",
       "    </tr>\n",
       "  </tbody>\n",
       "</table>\n",
       "</div>"
      ],
      "text/plain": [
       "   Unnamed: 0  value       geohash geohash5     timestamp\n",
       "0           0   23.0  xn7tncn498k2    xn7tn  1.540076e+09\n",
       "1           1   19.0  xnezj2x7rnh7    xnezj  1.540076e+09\n",
       "2           2   15.0  xneysek46d7w    xneys  1.540076e+09\n",
       "3           3   16.0  u336qgr9tvzw    u336q  1.540076e+09\n",
       "4           4   18.0  xneyyr50hk99    xneyy  1.540076e+09"
      ]
     },
     "execution_count": 4,
     "metadata": {},
     "output_type": "execute_result"
    }
   ],
   "source": [
    "df.head()"
   ]
  },
  {
   "cell_type": "code",
   "execution_count": 5,
   "metadata": {},
   "outputs": [
    {
     "data": {
      "text/html": [
       "<div>\n",
       "<style scoped>\n",
       "    .dataframe tbody tr th:only-of-type {\n",
       "        vertical-align: middle;\n",
       "    }\n",
       "\n",
       "    .dataframe tbody tr th {\n",
       "        vertical-align: top;\n",
       "    }\n",
       "\n",
       "    .dataframe thead th {\n",
       "        text-align: right;\n",
       "    }\n",
       "</style>\n",
       "<table border=\"1\" class=\"dataframe\">\n",
       "  <thead>\n",
       "    <tr style=\"text-align: right;\">\n",
       "      <th></th>\n",
       "      <th>Unnamed: 0</th>\n",
       "      <th>value</th>\n",
       "      <th>geohash</th>\n",
       "      <th>geohash5</th>\n",
       "      <th>timestamp</th>\n",
       "    </tr>\n",
       "  </thead>\n",
       "  <tbody>\n",
       "    <tr>\n",
       "      <th>0</th>\n",
       "      <td>0</td>\n",
       "      <td>23.0</td>\n",
       "      <td>xn7tncn498k2</td>\n",
       "      <td>xn7tn</td>\n",
       "      <td>1.540076e+09</td>\n",
       "    </tr>\n",
       "    <tr>\n",
       "      <th>1</th>\n",
       "      <td>1</td>\n",
       "      <td>19.0</td>\n",
       "      <td>xnezj2x7rnh7</td>\n",
       "      <td>xnezj</td>\n",
       "      <td>1.540076e+09</td>\n",
       "    </tr>\n",
       "    <tr>\n",
       "      <th>2</th>\n",
       "      <td>2</td>\n",
       "      <td>15.0</td>\n",
       "      <td>xneysek46d7w</td>\n",
       "      <td>xneys</td>\n",
       "      <td>1.540076e+09</td>\n",
       "    </tr>\n",
       "    <tr>\n",
       "      <th>3</th>\n",
       "      <td>3</td>\n",
       "      <td>16.0</td>\n",
       "      <td>u336qgr9tvzw</td>\n",
       "      <td>u336q</td>\n",
       "      <td>1.540076e+09</td>\n",
       "    </tr>\n",
       "    <tr>\n",
       "      <th>4</th>\n",
       "      <td>4</td>\n",
       "      <td>18.0</td>\n",
       "      <td>xneyyr50hk99</td>\n",
       "      <td>xneyy</td>\n",
       "      <td>1.540076e+09</td>\n",
       "    </tr>\n",
       "  </tbody>\n",
       "</table>\n",
       "</div>"
      ],
      "text/plain": [
       "   Unnamed: 0  value       geohash geohash5     timestamp\n",
       "0           0   23.0  xn7tncn498k2    xn7tn  1.540076e+09\n",
       "1           1   19.0  xnezj2x7rnh7    xnezj  1.540076e+09\n",
       "2           2   15.0  xneysek46d7w    xneys  1.540076e+09\n",
       "3           3   16.0  u336qgr9tvzw    u336q  1.540076e+09\n",
       "4           4   18.0  xneyyr50hk99    xneyy  1.540076e+09"
      ]
     },
     "execution_count": 5,
     "metadata": {},
     "output_type": "execute_result"
    }
   ],
   "source": [
    "df = df[df.value >= 0]\n",
    "df.head()"
   ]
  },
  {
   "cell_type": "code",
   "execution_count": 6,
   "metadata": {},
   "outputs": [
    {
     "data": {
      "text/plain": [
       "(310.47663253261874, 34.0)"
      ]
     },
     "execution_count": 6,
     "metadata": {},
     "output_type": "execute_result"
    }
   ],
   "source": [
    "points_geohashes_prec_5 = df.geohash5.value_counts()\n",
    "points_geohashes_prec_5.mean(), points_geohashes_prec_5.median()"
   ]
  },
  {
   "cell_type": "code",
   "execution_count": null,
   "metadata": {},
   "outputs": [],
   "source": []
  },
  {
   "cell_type": "code",
   "execution_count": 7,
   "metadata": {},
   "outputs": [
    {
     "data": {
      "text/plain": [
       "10834"
      ]
     },
     "execution_count": 7,
     "metadata": {},
     "output_type": "execute_result"
    }
   ],
   "source": [
    "geohashes_for_regression = list(points_geohashes_prec_5.where(lambda count: count <= 1000).dropna().where(lambda count: count >= 50).dropna().index)\n",
    "len(geohashes_for_regression)"
   ]
  },
  {
   "cell_type": "code",
   "execution_count": 8,
   "metadata": {},
   "outputs": [
    {
     "data": {
      "text/plain": [
       "10834"
      ]
     },
     "execution_count": 8,
     "metadata": {},
     "output_type": "execute_result"
    }
   ],
   "source": [
    "groupped_df = df[df.geohash5.isin(geohashes_for_regression)][[\"value\", \"geohash5\", \"timestamp\"]].groupby(\"geohash5\")\n",
    "len(groupped_df)"
   ]
  },
  {
   "cell_type": "code",
   "execution_count": 9,
   "metadata": {},
   "outputs": [],
   "source": [
    "def prepare_svr_regresion_model(data):\n",
    "    data = data.sort_values(by=['timestamp'])\n",
    "    new_data = pd.DataFrame(data=[[]])\n",
    "    size = data.shape[0]\n",
    "    new_data['count'] = size\n",
    "    \n",
    "    if size <= 1:\n",
    "        new_data['regresion'] = None\n",
    "        new_data['reg_mean_squared_error'] = None\n",
    "        new_data['reg_r2_score_error'] = None\n",
    "        new_data['reg_median_absolute_error'] = None\n",
    "        new_data['reg_mean_squared_log_error'] = None\n",
    "        return new_data\n",
    "    \n",
    "    train_size = int(0.8 * size)\n",
    "    test_size = size - train_size\n",
    "    \n",
    "    X_train = np.array(data.timestamp[:train_size]).reshape(-1, 1)\n",
    "    X_test = np.array(data.timestamp[train_size:]).reshape(-1, 1)\n",
    "    \n",
    "    Y_train = np.ravel(np.array(data.value[:train_size]).reshape(-1, 1))\n",
    "    Y_test = np.ravel(np.array(data.value[train_size:]).reshape(-1, 1))\n",
    "    \n",
    "    regr = SVR(kernel='sigmoid', C=1e3, gamma=0.1)\n",
    "\n",
    "    regr.fit(X_train, Y_train)\n",
    "    new_data['regresion'] = regr\n",
    "    \n",
    "    Y_pred = regr.predict(X_test)\n",
    "    new_data['reg_mean_squared_error'] = count_function_of_none(mean_squared_error, Y_test, Y_pred)\n",
    "    new_data['reg_r2_score_error'] = count_function_of_none(r2_score, Y_test, Y_pred)\n",
    "    new_data['reg_median_absolute_error'] = count_function_of_none(median_absolute_error, Y_test, Y_pred)\n",
    "    new_data['reg_mean_squared_log_error'] = count_function_of_none(mean_squared_log_error, Y_test, Y_pred)\n",
    "    \n",
    "    return new_data\n",
    "\n",
    "def count_function_of_none(fun, Y_test, Y_pred):\n",
    "    try:\n",
    "        return fun(Y_test, Y_pred)\n",
    "    except ValueError:\n",
    "        return np.finfo(np.float64).max"
   ]
  },
  {
   "cell_type": "code",
   "execution_count": null,
   "metadata": {},
   "outputs": [],
   "source": []
  },
  {
   "cell_type": "code",
   "execution_count": null,
   "metadata": {},
   "outputs": [],
   "source": [
    "\n"
   ]
  },
  {
   "cell_type": "code",
   "execution_count": null,
   "metadata": {},
   "outputs": [],
   "source": []
  },
  {
   "cell_type": "code",
   "execution_count": 24,
   "metadata": {},
   "outputs": [
    {
     "data": {
      "text/plain": [
       "<pandas.core.groupby.groupby.DataFrameGroupBy object at 0x111e93198>"
      ]
     },
     "execution_count": 24,
     "metadata": {},
     "output_type": "execute_result"
    }
   ],
   "source": []
  },
  {
   "cell_type": "code",
   "execution_count": 10,
   "metadata": {},
   "outputs": [],
   "source": [
    "df_after_training = groupped_df.apply(prepare_svr_regresion_model).reset_index()"
   ]
  },
  {
   "cell_type": "code",
   "execution_count": 11,
   "metadata": {},
   "outputs": [
    {
     "data": {
      "text/html": [
       "<div>\n",
       "<style scoped>\n",
       "    .dataframe tbody tr th:only-of-type {\n",
       "        vertical-align: middle;\n",
       "    }\n",
       "\n",
       "    .dataframe tbody tr th {\n",
       "        vertical-align: top;\n",
       "    }\n",
       "\n",
       "    .dataframe thead th {\n",
       "        text-align: right;\n",
       "    }\n",
       "</style>\n",
       "<table border=\"1\" class=\"dataframe\">\n",
       "  <thead>\n",
       "    <tr style=\"text-align: right;\">\n",
       "      <th></th>\n",
       "      <th>geohash5</th>\n",
       "      <th>level_1</th>\n",
       "      <th>count</th>\n",
       "      <th>regresion</th>\n",
       "      <th>reg_mean_squared_error</th>\n",
       "      <th>reg_r2_score_error</th>\n",
       "      <th>reg_median_absolute_error</th>\n",
       "      <th>reg_mean_squared_log_error</th>\n",
       "    </tr>\n",
       "  </thead>\n",
       "  <tbody>\n",
       "    <tr>\n",
       "      <th>0</th>\n",
       "      <td>6mc5m</td>\n",
       "      <td>0</td>\n",
       "      <td>167</td>\n",
       "      <td>SVR(C=1000.0, cache_size=200, coef0=0.0, degre...</td>\n",
       "      <td>46.210000</td>\n",
       "      <td>-1.660827</td>\n",
       "      <td>4.4</td>\n",
       "      <td>0.052651</td>\n",
       "    </tr>\n",
       "    <tr>\n",
       "      <th>1</th>\n",
       "      <td>6mc5n</td>\n",
       "      <td>0</td>\n",
       "      <td>162</td>\n",
       "      <td>SVR(C=1000.0, cache_size=200, coef0=0.0, degre...</td>\n",
       "      <td>45.545455</td>\n",
       "      <td>-1.039600</td>\n",
       "      <td>6.0</td>\n",
       "      <td>0.055709</td>\n",
       "    </tr>\n",
       "    <tr>\n",
       "      <th>2</th>\n",
       "      <td>6mc5p</td>\n",
       "      <td>0</td>\n",
       "      <td>70</td>\n",
       "      <td>SVR(C=1000.0, cache_size=200, coef0=0.0, degre...</td>\n",
       "      <td>461.610000</td>\n",
       "      <td>-35.132412</td>\n",
       "      <td>22.4</td>\n",
       "      <td>0.225332</td>\n",
       "    </tr>\n",
       "    <tr>\n",
       "      <th>3</th>\n",
       "      <td>6mc5t</td>\n",
       "      <td>0</td>\n",
       "      <td>96</td>\n",
       "      <td>SVR(C=1000.0, cache_size=200, coef0=0.0, degre...</td>\n",
       "      <td>19.750000</td>\n",
       "      <td>-0.890404</td>\n",
       "      <td>3.6</td>\n",
       "      <td>0.029383</td>\n",
       "    </tr>\n",
       "    <tr>\n",
       "      <th>4</th>\n",
       "      <td>6msem</td>\n",
       "      <td>0</td>\n",
       "      <td>119</td>\n",
       "      <td>SVR(C=1000.0, cache_size=200, coef0=0.0, degre...</td>\n",
       "      <td>25.010000</td>\n",
       "      <td>-0.036759</td>\n",
       "      <td>3.6</td>\n",
       "      <td>0.008977</td>\n",
       "    </tr>\n",
       "  </tbody>\n",
       "</table>\n",
       "</div>"
      ],
      "text/plain": [
       "  geohash5  level_1  count                                          regresion  \\\n",
       "0    6mc5m        0    167  SVR(C=1000.0, cache_size=200, coef0=0.0, degre...   \n",
       "1    6mc5n        0    162  SVR(C=1000.0, cache_size=200, coef0=0.0, degre...   \n",
       "2    6mc5p        0     70  SVR(C=1000.0, cache_size=200, coef0=0.0, degre...   \n",
       "3    6mc5t        0     96  SVR(C=1000.0, cache_size=200, coef0=0.0, degre...   \n",
       "4    6msem        0    119  SVR(C=1000.0, cache_size=200, coef0=0.0, degre...   \n",
       "\n",
       "   reg_mean_squared_error  reg_r2_score_error  reg_median_absolute_error  \\\n",
       "0               46.210000           -1.660827                        4.4   \n",
       "1               45.545455           -1.039600                        6.0   \n",
       "2              461.610000          -35.132412                       22.4   \n",
       "3               19.750000           -0.890404                        3.6   \n",
       "4               25.010000           -0.036759                        3.6   \n",
       "\n",
       "   reg_mean_squared_log_error  \n",
       "0                    0.052651  \n",
       "1                    0.055709  \n",
       "2                    0.225332  \n",
       "3                    0.029383  \n",
       "4                    0.008977  "
      ]
     },
     "execution_count": 11,
     "metadata": {},
     "output_type": "execute_result"
    }
   ],
   "source": [
    "df_after_training.head()"
   ]
  },
  {
   "cell_type": "code",
   "execution_count": null,
   "metadata": {},
   "outputs": [],
   "source": []
  },
  {
   "cell_type": "code",
   "execution_count": 13,
   "metadata": {},
   "outputs": [],
   "source": [
    "df_after_training_mean_squared = df_after_training[df_after_training.reg_mean_squared_error <= 100]\n",
    "df_after_training_reg_r2_score = df_after_training[df_after_training.reg_r2_score_error <= 1000][df_after_training.reg_r2_score_error >= -5]\n",
    "df_after_training_median_absolute = df_after_training[df_after_training.reg_median_absolute_error <= 10]\n",
    "df_after_training_mean_log = df_after_training[df_after_training.reg_mean_squared_log_error <= 100]"
   ]
  },
  {
   "cell_type": "code",
   "execution_count": 14,
   "metadata": {},
   "outputs": [],
   "source": [
    "def get_coordinates(geo):\n",
    "    bbox = geohash.bbox(geo)\n",
    "    return [[bbox[\"w\"], bbox[\"n\"]], [bbox[\"e\"], bbox[\"n\"]], [bbox[\"e\"], bbox[\"s\"]], [bbox[\"w\"], bbox[\"s\"]]]\n",
    "\n",
    "def get_geo_data(ghash_df):\n",
    "    features = []\n",
    "\n",
    "    for geo, *_ in ghash_df.values:\n",
    "        features.append({\"type\": \"Feature\", \"id\": geo, \n",
    "                         \"geometry\": {\"type\": \"Polygon\", \"coordinates\": [get_coordinates(geo)]}})\n",
    "\n",
    "    return {\"type\": \"FeatureCollection\", \"features\": features}\n",
    "\n",
    "def visualize_with_folium(df, error):\n",
    "    m = folium.Map(location=[37.760806, 140.474722], zoom_start=10)\n",
    "\n",
    "    m.choropleth(\n",
    "        geo_data=get_geo_data(df),\n",
    "        name='choropleth',\n",
    "        data=df,\n",
    "        columns=['geohash5', error],\n",
    "        key_on='feature.id',\n",
    "        fill_color='YlOrRd',\n",
    "        fill_opacity=0.7,\n",
    "        line_opacity=0.2,\n",
    "        legend_name='error'\n",
    "    )\n",
    "    folium.LayerControl().add_to(m)\n",
    "    return m"
   ]
  },
  {
   "cell_type": "code",
   "execution_count": 15,
   "metadata": {},
   "outputs": [],
   "source": [
    "m_mean_squared = visualize_with_folium(df_after_training_mean_squared, 'reg_mean_squared_error')\n",
    "m_reg_r2_score = visualize_with_folium(df_after_training_reg_r2_score, 'reg_r2_score_error')\n",
    "m_median_absolute = visualize_with_folium(df_after_training_median_absolute, 'reg_median_absolute_error')\n",
    "m_mean_log = visualize_with_folium(df_after_training_mean_log, 'reg_median_absolute_error')"
   ]
  },
  {
   "cell_type": "code",
   "execution_count": 16,
   "metadata": {},
   "outputs": [],
   "source": [
    "m_mean_squared.save(os.path.join(RESULTS_DIR, \"rbf_sigmoid_regression_mean_squared_errors.html\"))\n",
    "m_reg_r2_score.save(os.path.join(RESULTS_DIR, \"rbf_sigmoid_regression_reg_r2_score_errors.html\"))\n",
    "m_median_absolute.save(os.path.join(RESULTS_DIR, \"rbf_sigmoid_regression_median_absolute_errors.html\"))\n",
    "m_mean_log.save(os.path.join(RESULTS_DIR, \"rbf_sigmoid_regression_mean_log_errors.html\"))"
   ]
  },
  {
   "cell_type": "code",
   "execution_count": 21,
   "metadata": {},
   "outputs": [
    {
     "data": {
      "text/html": [
       "<div>\n",
       "<style scoped>\n",
       "    .dataframe tbody tr th:only-of-type {\n",
       "        vertical-align: middle;\n",
       "    }\n",
       "\n",
       "    .dataframe tbody tr th {\n",
       "        vertical-align: top;\n",
       "    }\n",
       "\n",
       "    .dataframe thead th {\n",
       "        text-align: right;\n",
       "    }\n",
       "</style>\n",
       "<table border=\"1\" class=\"dataframe\">\n",
       "  <thead>\n",
       "    <tr style=\"text-align: right;\">\n",
       "      <th></th>\n",
       "      <th>geohash5</th>\n",
       "      <th>level_1</th>\n",
       "      <th>count</th>\n",
       "      <th>regresion</th>\n",
       "      <th>reg_mean_squared_error</th>\n",
       "      <th>reg_r2_score_error</th>\n",
       "      <th>reg_median_absolute_error</th>\n",
       "      <th>reg_mean_squared_log_error</th>\n",
       "    </tr>\n",
       "  </thead>\n",
       "  <tbody>\n",
       "    <tr>\n",
       "      <th>1312</th>\n",
       "      <td>drt32</td>\n",
       "      <td>0</td>\n",
       "      <td>70</td>\n",
       "      <td>SVR(C=1000.0, cache_size=200, coef0=0.0, degre...</td>\n",
       "      <td>24.752857</td>\n",
       "      <td>-10.662404</td>\n",
       "      <td>3.9</td>\n",
       "      <td>0.017157</td>\n",
       "    </tr>\n",
       "  </tbody>\n",
       "</table>\n",
       "</div>"
      ],
      "text/plain": [
       "     geohash5  level_1  count  \\\n",
       "1312    drt32        0     70   \n",
       "\n",
       "                                              regresion  \\\n",
       "1312  SVR(C=1000.0, cache_size=200, coef0=0.0, degre...   \n",
       "\n",
       "      reg_mean_squared_error  reg_r2_score_error  reg_median_absolute_error  \\\n",
       "1312               24.752857          -10.662404                        3.9   \n",
       "\n",
       "      reg_mean_squared_log_error  \n",
       "1312                    0.017157  "
      ]
     },
     "execution_count": 21,
     "metadata": {},
     "output_type": "execute_result"
    }
   ],
   "source": [
    "single_regression = df_after_training[df_after_training.geohash5 == 'drt32']\n",
    "single_regression"
   ]
  },
  {
   "cell_type": "code",
   "execution_count": 59,
   "metadata": {},
   "outputs": [
    {
     "data": {
      "text/html": [
       "<div>\n",
       "<style scoped>\n",
       "    .dataframe tbody tr th:only-of-type {\n",
       "        vertical-align: middle;\n",
       "    }\n",
       "\n",
       "    .dataframe tbody tr th {\n",
       "        vertical-align: top;\n",
       "    }\n",
       "\n",
       "    .dataframe thead th {\n",
       "        text-align: right;\n",
       "    }\n",
       "</style>\n",
       "<table border=\"1\" class=\"dataframe\">\n",
       "  <thead>\n",
       "    <tr style=\"text-align: right;\">\n",
       "      <th></th>\n",
       "      <th>value</th>\n",
       "      <th>geohash5</th>\n",
       "      <th>timestamp</th>\n",
       "    </tr>\n",
       "  </thead>\n",
       "  <tbody>\n",
       "    <tr>\n",
       "      <th>6264464</th>\n",
       "      <td>33.0</td>\n",
       "      <td>drt32</td>\n",
       "      <td>1.524411e+09</td>\n",
       "    </tr>\n",
       "    <tr>\n",
       "      <th>6264465</th>\n",
       "      <td>33.0</td>\n",
       "      <td>drt32</td>\n",
       "      <td>1.524411e+09</td>\n",
       "    </tr>\n",
       "    <tr>\n",
       "      <th>6264466</th>\n",
       "      <td>36.0</td>\n",
       "      <td>drt32</td>\n",
       "      <td>1.524411e+09</td>\n",
       "    </tr>\n",
       "    <tr>\n",
       "      <th>6264467</th>\n",
       "      <td>37.0</td>\n",
       "      <td>drt32</td>\n",
       "      <td>1.524411e+09</td>\n",
       "    </tr>\n",
       "    <tr>\n",
       "      <th>6264468</th>\n",
       "      <td>36.0</td>\n",
       "      <td>drt32</td>\n",
       "      <td>1.524411e+09</td>\n",
       "    </tr>\n",
       "    <tr>\n",
       "      <th>6264469</th>\n",
       "      <td>35.0</td>\n",
       "      <td>drt32</td>\n",
       "      <td>1.524411e+09</td>\n",
       "    </tr>\n",
       "    <tr>\n",
       "      <th>6264470</th>\n",
       "      <td>36.0</td>\n",
       "      <td>drt32</td>\n",
       "      <td>1.524411e+09</td>\n",
       "    </tr>\n",
       "    <tr>\n",
       "      <th>6264471</th>\n",
       "      <td>40.0</td>\n",
       "      <td>drt32</td>\n",
       "      <td>1.524411e+09</td>\n",
       "    </tr>\n",
       "    <tr>\n",
       "      <th>6264472</th>\n",
       "      <td>40.0</td>\n",
       "      <td>drt32</td>\n",
       "      <td>1.524411e+09</td>\n",
       "    </tr>\n",
       "    <tr>\n",
       "      <th>6264473</th>\n",
       "      <td>37.0</td>\n",
       "      <td>drt32</td>\n",
       "      <td>1.524411e+09</td>\n",
       "    </tr>\n",
       "  </tbody>\n",
       "</table>\n",
       "</div>"
      ],
      "text/plain": [
       "         value geohash5     timestamp\n",
       "6264464   33.0    drt32  1.524411e+09\n",
       "6264465   33.0    drt32  1.524411e+09\n",
       "6264466   36.0    drt32  1.524411e+09\n",
       "6264467   37.0    drt32  1.524411e+09\n",
       "6264468   36.0    drt32  1.524411e+09\n",
       "6264469   35.0    drt32  1.524411e+09\n",
       "6264470   36.0    drt32  1.524411e+09\n",
       "6264471   40.0    drt32  1.524411e+09\n",
       "6264472   40.0    drt32  1.524411e+09\n",
       "6264473   37.0    drt32  1.524411e+09"
      ]
     },
     "execution_count": 59,
     "metadata": {},
     "output_type": "execute_result"
    }
   ],
   "source": [
    "single_geo_data = df[df.geohash5 == 'drt32'][['value', 'geohash5', 'timestamp']]\n",
    "single_geo_data.head(n=10)"
   ]
  },
  {
   "cell_type": "code",
   "execution_count": 50,
   "metadata": {},
   "outputs": [
    {
     "data": {
      "text/plain": [
       "sklearn.svm.classes.SVR"
      ]
     },
     "execution_count": 50,
     "metadata": {},
     "output_type": "execute_result"
    }
   ],
   "source": [
    "single_regression = df_after_training[df_after_training.geohash5 == 'drt32'].iloc[0]['regresion']\n",
    "type(single_regression)"
   ]
  },
  {
   "cell_type": "code",
   "execution_count": 64,
   "metadata": {},
   "outputs": [],
   "source": [
    "def get_timestamp(date):\n",
    "    return datetime.strptime(date, '%Y-%m-%d %H:%M:%S').timestamp()"
   ]
  },
  {
   "cell_type": "code",
   "execution_count": 65,
   "metadata": {},
   "outputs": [
    {
     "data": {
      "text/plain": [
       "array([39.9])"
      ]
     },
     "execution_count": 65,
     "metadata": {},
     "output_type": "execute_result"
    }
   ],
   "source": [
    "single_regression.predict([[get_timestamp('2019-01-15 00:00:00')]])"
   ]
  },
  {
   "cell_type": "code",
   "execution_count": 63,
   "metadata": {},
   "outputs": [
    {
     "data": {
      "text/html": [
       "<div>\n",
       "<style scoped>\n",
       "    .dataframe tbody tr th:only-of-type {\n",
       "        vertical-align: middle;\n",
       "    }\n",
       "\n",
       "    .dataframe tbody tr th {\n",
       "        vertical-align: top;\n",
       "    }\n",
       "\n",
       "    .dataframe thead th {\n",
       "        text-align: right;\n",
       "    }\n",
       "</style>\n",
       "<table border=\"1\" class=\"dataframe\">\n",
       "  <thead>\n",
       "    <tr style=\"text-align: right;\">\n",
       "      <th></th>\n",
       "      <th>value</th>\n",
       "      <th>geohash5</th>\n",
       "      <th>timestamp</th>\n",
       "    </tr>\n",
       "  </thead>\n",
       "  <tbody>\n",
       "    <tr>\n",
       "      <th>6264498</th>\n",
       "      <td>45.0</td>\n",
       "      <td>drt32</td>\n",
       "      <td>1.524411e+09</td>\n",
       "    </tr>\n",
       "    <tr>\n",
       "      <th>6267886</th>\n",
       "      <td>45.0</td>\n",
       "      <td>drt32</td>\n",
       "      <td>1.524411e+09</td>\n",
       "    </tr>\n",
       "    <tr>\n",
       "      <th>6267878</th>\n",
       "      <td>49.0</td>\n",
       "      <td>drt32</td>\n",
       "      <td>1.524411e+09</td>\n",
       "    </tr>\n",
       "    <tr>\n",
       "      <th>6264497</th>\n",
       "      <td>49.0</td>\n",
       "      <td>drt32</td>\n",
       "      <td>1.524411e+09</td>\n",
       "    </tr>\n",
       "    <tr>\n",
       "      <th>6267874</th>\n",
       "      <td>50.0</td>\n",
       "      <td>drt32</td>\n",
       "      <td>1.524411e+09</td>\n",
       "    </tr>\n",
       "  </tbody>\n",
       "</table>\n",
       "</div>"
      ],
      "text/plain": [
       "         value geohash5     timestamp\n",
       "6264498   45.0    drt32  1.524411e+09\n",
       "6267886   45.0    drt32  1.524411e+09\n",
       "6267878   49.0    drt32  1.524411e+09\n",
       "6264497   49.0    drt32  1.524411e+09\n",
       "6267874   50.0    drt32  1.524411e+09"
      ]
     },
     "execution_count": 63,
     "metadata": {},
     "output_type": "execute_result"
    }
   ],
   "source": [
    "single_geo_data.sort_values(by='timestamp').head()"
   ]
  },
  {
   "cell_type": "code",
   "execution_count": 54,
   "metadata": {},
   "outputs": [
    {
     "data": {
      "text/plain": [
       "(1524410943.0, 1524411113.0)"
      ]
     },
     "execution_count": 54,
     "metadata": {},
     "output_type": "execute_result"
    }
   ],
   "source": [
    "single_geo_data.timestamp.min(), single_geo_data.timestamp.max()"
   ]
  },
  {
   "cell_type": "code",
   "execution_count": 32,
   "metadata": {},
   "outputs": [],
   "source": [
    "def get_date(ts):\n",
    "#     ts = int(\"1284101485\")\n",
    "    \n",
    "    print(datetime.utcfromtimestamp(ts).strftime('%Y-%m-%d %H:%M:%S'))"
   ]
  },
  {
   "cell_type": "code",
   "execution_count": 61,
   "metadata": {},
   "outputs": [
    {
     "name": "stdout",
     "output_type": "stream",
     "text": [
      "2018-04-22 15:29:03\n"
     ]
    }
   ],
   "source": [
    "get_date(single_geo_data.timestamp.min())"
   ]
  },
  {
   "cell_type": "code",
   "execution_count": 62,
   "metadata": {},
   "outputs": [
    {
     "name": "stdout",
     "output_type": "stream",
     "text": [
      "2018-04-22 15:31:53\n"
     ]
    }
   ],
   "source": [
    "get_date(single_geo_data.timestamp.max())"
   ]
  },
  {
   "cell_type": "code",
   "execution_count": 57,
   "metadata": {},
   "outputs": [
    {
     "data": {
      "text/html": [
       "<div>\n",
       "<style scoped>\n",
       "    .dataframe tbody tr th:only-of-type {\n",
       "        vertical-align: middle;\n",
       "    }\n",
       "\n",
       "    .dataframe tbody tr th {\n",
       "        vertical-align: top;\n",
       "    }\n",
       "\n",
       "    .dataframe thead th {\n",
       "        text-align: right;\n",
       "    }\n",
       "</style>\n",
       "<table border=\"1\" class=\"dataframe\">\n",
       "  <thead>\n",
       "    <tr style=\"text-align: right;\">\n",
       "      <th></th>\n",
       "      <th>value</th>\n",
       "      <th>geohash5</th>\n",
       "      <th>timestamp</th>\n",
       "    </tr>\n",
       "  </thead>\n",
       "  <tbody>\n",
       "    <tr>\n",
       "      <th>6264498</th>\n",
       "      <td>45.0</td>\n",
       "      <td>drt32</td>\n",
       "      <td>1.524411e+09</td>\n",
       "    </tr>\n",
       "    <tr>\n",
       "      <th>6267886</th>\n",
       "      <td>45.0</td>\n",
       "      <td>drt32</td>\n",
       "      <td>1.524411e+09</td>\n",
       "    </tr>\n",
       "  </tbody>\n",
       "</table>\n",
       "</div>"
      ],
      "text/plain": [
       "         value geohash5     timestamp\n",
       "6264498   45.0    drt32  1.524411e+09\n",
       "6267886   45.0    drt32  1.524411e+09"
      ]
     },
     "execution_count": 57,
     "metadata": {},
     "output_type": "execute_result"
    }
   ],
   "source": [
    "single_geo_data[single_geo_data.timestamp == single_geo_data.timestamp.min()]"
   ]
  },
  {
   "cell_type": "code",
   "execution_count": 66,
   "metadata": {},
   "outputs": [
    {
     "data": {
      "text/html": [
       "<div>\n",
       "<style scoped>\n",
       "    .dataframe tbody tr th:only-of-type {\n",
       "        vertical-align: middle;\n",
       "    }\n",
       "\n",
       "    .dataframe tbody tr th {\n",
       "        vertical-align: top;\n",
       "    }\n",
       "\n",
       "    .dataframe thead th {\n",
       "        text-align: right;\n",
       "    }\n",
       "</style>\n",
       "<table border=\"1\" class=\"dataframe\">\n",
       "  <thead>\n",
       "    <tr style=\"text-align: right;\">\n",
       "      <th></th>\n",
       "      <th>value</th>\n",
       "      <th>geohash5</th>\n",
       "      <th>timestamp</th>\n",
       "    </tr>\n",
       "  </thead>\n",
       "  <tbody>\n",
       "    <tr>\n",
       "      <th>6264464</th>\n",
       "      <td>33.0</td>\n",
       "      <td>drt32</td>\n",
       "      <td>1.524411e+09</td>\n",
       "    </tr>\n",
       "    <tr>\n",
       "      <th>6266725</th>\n",
       "      <td>33.0</td>\n",
       "      <td>drt32</td>\n",
       "      <td>1.524411e+09</td>\n",
       "    </tr>\n",
       "  </tbody>\n",
       "</table>\n",
       "</div>"
      ],
      "text/plain": [
       "         value geohash5     timestamp\n",
       "6264464   33.0    drt32  1.524411e+09\n",
       "6266725   33.0    drt32  1.524411e+09"
      ]
     },
     "execution_count": 66,
     "metadata": {},
     "output_type": "execute_result"
    }
   ],
   "source": [
    "single_geo_data[single_geo_data.timestamp == single_geo_data.timestamp.max()]"
   ]
  },
  {
   "cell_type": "code",
   "execution_count": 67,
   "metadata": {},
   "outputs": [],
   "source": [
    "def get_timestamp(date):\n",
    "    return datetime.strptime(date, '%Y-%m-%d %H:%M:%S').timestamp()"
   ]
  },
  {
   "cell_type": "code",
   "execution_count": 68,
   "metadata": {},
   "outputs": [
    {
     "data": {
      "text/plain": [
       "array([39.9])"
      ]
     },
     "execution_count": 68,
     "metadata": {},
     "output_type": "execute_result"
    }
   ],
   "source": [
    "single_regression.predict([[get_timestamp('2019-01-15 00:00:00')]])"
   ]
  },
  {
   "cell_type": "code",
   "execution_count": null,
   "metadata": {},
   "outputs": [],
   "source": []
  }
 ],
 "metadata": {
  "kernelspec": {
   "display_name": "Python 3",
   "language": "python",
   "name": "python3"
  },
  "language_info": {
   "codemirror_mode": {
    "name": "ipython",
    "version": 3
   },
   "file_extension": ".py",
   "mimetype": "text/x-python",
   "name": "python",
   "nbconvert_exporter": "python",
   "pygments_lexer": "ipython3",
   "version": "3.6.5"
  }
 },
 "nbformat": 4,
 "nbformat_minor": 2
}
