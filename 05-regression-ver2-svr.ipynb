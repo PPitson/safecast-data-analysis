{
 "cells": [
  {
   "cell_type": "code",
   "execution_count": 1,
   "metadata": {},
   "outputs": [],
   "source": [
    "import pandas as pd \n",
    "import folium\n",
    "import os\n",
    "import geohash\n",
    "from folium.plugins import HeatMap\n",
    "from sklearn import datasets, linear_model\n",
    "from sklearn.svm import SVR\n",
    "from sklearn.metrics import mean_squared_error, r2_score, median_absolute_error, mean_squared_log_error\n",
    "from datetime import datetime\n",
    "import numpy as np"
   ]
  },
  {
   "cell_type": "code",
   "execution_count": 2,
   "metadata": {},
   "outputs": [],
   "source": [
    "RESULTS_DIR = \"results\""
   ]
  },
  {
   "cell_type": "code",
   "execution_count": 3,
   "metadata": {},
   "outputs": [],
   "source": [
    "df = pd.read_csv(os.path.join(RESULTS_DIR, \"10_million_with_elevation_geohashes_timestamps.csv\"))"
   ]
  },
  {
   "cell_type": "code",
   "execution_count": 4,
   "metadata": {},
   "outputs": [
    {
     "data": {
      "text/html": [
       "<div>\n",
       "<style scoped>\n",
       "    .dataframe tbody tr th:only-of-type {\n",
       "        vertical-align: middle;\n",
       "    }\n",
       "\n",
       "    .dataframe tbody tr th {\n",
       "        vertical-align: top;\n",
       "    }\n",
       "\n",
       "    .dataframe thead th {\n",
       "        text-align: right;\n",
       "    }\n",
       "</style>\n",
       "<table border=\"1\" class=\"dataframe\">\n",
       "  <thead>\n",
       "    <tr style=\"text-align: right;\">\n",
       "      <th></th>\n",
       "      <th>Unnamed: 0</th>\n",
       "      <th>value</th>\n",
       "      <th>geohash</th>\n",
       "      <th>geohash5</th>\n",
       "      <th>timestamp</th>\n",
       "    </tr>\n",
       "  </thead>\n",
       "  <tbody>\n",
       "    <tr>\n",
       "      <th>0</th>\n",
       "      <td>0</td>\n",
       "      <td>23.0</td>\n",
       "      <td>xn7tncn498k2</td>\n",
       "      <td>xn7tn</td>\n",
       "      <td>1.540076e+09</td>\n",
       "    </tr>\n",
       "    <tr>\n",
       "      <th>1</th>\n",
       "      <td>1</td>\n",
       "      <td>19.0</td>\n",
       "      <td>xnezj2x7rnh7</td>\n",
       "      <td>xnezj</td>\n",
       "      <td>1.540076e+09</td>\n",
       "    </tr>\n",
       "    <tr>\n",
       "      <th>2</th>\n",
       "      <td>2</td>\n",
       "      <td>15.0</td>\n",
       "      <td>xneysek46d7w</td>\n",
       "      <td>xneys</td>\n",
       "      <td>1.540076e+09</td>\n",
       "    </tr>\n",
       "    <tr>\n",
       "      <th>3</th>\n",
       "      <td>3</td>\n",
       "      <td>16.0</td>\n",
       "      <td>u336qgr9tvzw</td>\n",
       "      <td>u336q</td>\n",
       "      <td>1.540076e+09</td>\n",
       "    </tr>\n",
       "    <tr>\n",
       "      <th>4</th>\n",
       "      <td>4</td>\n",
       "      <td>18.0</td>\n",
       "      <td>xneyyr50hk99</td>\n",
       "      <td>xneyy</td>\n",
       "      <td>1.540076e+09</td>\n",
       "    </tr>\n",
       "  </tbody>\n",
       "</table>\n",
       "</div>"
      ],
      "text/plain": [
       "   Unnamed: 0  value       geohash geohash5     timestamp\n",
       "0           0   23.0  xn7tncn498k2    xn7tn  1.540076e+09\n",
       "1           1   19.0  xnezj2x7rnh7    xnezj  1.540076e+09\n",
       "2           2   15.0  xneysek46d7w    xneys  1.540076e+09\n",
       "3           3   16.0  u336qgr9tvzw    u336q  1.540076e+09\n",
       "4           4   18.0  xneyyr50hk99    xneyy  1.540076e+09"
      ]
     },
     "execution_count": 4,
     "metadata": {},
     "output_type": "execute_result"
    }
   ],
   "source": [
    "df.head()"
   ]
  },
  {
   "cell_type": "code",
   "execution_count": 5,
   "metadata": {},
   "outputs": [
    {
     "data": {
      "text/html": [
       "<div>\n",
       "<style scoped>\n",
       "    .dataframe tbody tr th:only-of-type {\n",
       "        vertical-align: middle;\n",
       "    }\n",
       "\n",
       "    .dataframe tbody tr th {\n",
       "        vertical-align: top;\n",
       "    }\n",
       "\n",
       "    .dataframe thead th {\n",
       "        text-align: right;\n",
       "    }\n",
       "</style>\n",
       "<table border=\"1\" class=\"dataframe\">\n",
       "  <thead>\n",
       "    <tr style=\"text-align: right;\">\n",
       "      <th></th>\n",
       "      <th>Unnamed: 0</th>\n",
       "      <th>value</th>\n",
       "      <th>geohash</th>\n",
       "      <th>geohash5</th>\n",
       "      <th>timestamp</th>\n",
       "    </tr>\n",
       "  </thead>\n",
       "  <tbody>\n",
       "    <tr>\n",
       "      <th>0</th>\n",
       "      <td>0</td>\n",
       "      <td>23.0</td>\n",
       "      <td>xn7tncn498k2</td>\n",
       "      <td>xn7tn</td>\n",
       "      <td>1.540076e+09</td>\n",
       "    </tr>\n",
       "    <tr>\n",
       "      <th>1</th>\n",
       "      <td>1</td>\n",
       "      <td>19.0</td>\n",
       "      <td>xnezj2x7rnh7</td>\n",
       "      <td>xnezj</td>\n",
       "      <td>1.540076e+09</td>\n",
       "    </tr>\n",
       "    <tr>\n",
       "      <th>2</th>\n",
       "      <td>2</td>\n",
       "      <td>15.0</td>\n",
       "      <td>xneysek46d7w</td>\n",
       "      <td>xneys</td>\n",
       "      <td>1.540076e+09</td>\n",
       "    </tr>\n",
       "    <tr>\n",
       "      <th>3</th>\n",
       "      <td>3</td>\n",
       "      <td>16.0</td>\n",
       "      <td>u336qgr9tvzw</td>\n",
       "      <td>u336q</td>\n",
       "      <td>1.540076e+09</td>\n",
       "    </tr>\n",
       "    <tr>\n",
       "      <th>4</th>\n",
       "      <td>4</td>\n",
       "      <td>18.0</td>\n",
       "      <td>xneyyr50hk99</td>\n",
       "      <td>xneyy</td>\n",
       "      <td>1.540076e+09</td>\n",
       "    </tr>\n",
       "  </tbody>\n",
       "</table>\n",
       "</div>"
      ],
      "text/plain": [
       "   Unnamed: 0  value       geohash geohash5     timestamp\n",
       "0           0   23.0  xn7tncn498k2    xn7tn  1.540076e+09\n",
       "1           1   19.0  xnezj2x7rnh7    xnezj  1.540076e+09\n",
       "2           2   15.0  xneysek46d7w    xneys  1.540076e+09\n",
       "3           3   16.0  u336qgr9tvzw    u336q  1.540076e+09\n",
       "4           4   18.0  xneyyr50hk99    xneyy  1.540076e+09"
      ]
     },
     "execution_count": 5,
     "metadata": {},
     "output_type": "execute_result"
    }
   ],
   "source": [
    "df = df[df.value >= 0]\n",
    "df.head()"
   ]
  },
  {
   "cell_type": "code",
   "execution_count": 23,
   "metadata": {},
   "outputs": [
    {
     "data": {
      "text/plain": [
       "(310.47663253261874, 34.0)"
      ]
     },
     "execution_count": 23,
     "metadata": {},
     "output_type": "execute_result"
    }
   ],
   "source": [
    "points_geohashes_prec_5 = df.geohash5.value_counts()\n",
    "points_geohashes_prec_5.mean(), points_geohashes_prec_5.median()"
   ]
  },
  {
   "cell_type": "code",
   "execution_count": null,
   "metadata": {},
   "outputs": [],
   "source": []
  },
  {
   "cell_type": "code",
   "execution_count": 29,
   "metadata": {},
   "outputs": [
    {
     "data": {
      "text/plain": [
       "10834"
      ]
     },
     "execution_count": 29,
     "metadata": {},
     "output_type": "execute_result"
    }
   ],
   "source": [
    "geohashes_for_regression = list(points_geohashes_prec_5.where(lambda count: count <= 1000).dropna().where(lambda count: count >= 50).dropna().index)\n",
    "len(geohashes_for_regression)"
   ]
  },
  {
   "cell_type": "code",
   "execution_count": 30,
   "metadata": {},
   "outputs": [
    {
     "data": {
      "text/plain": [
       "10834"
      ]
     },
     "execution_count": 30,
     "metadata": {},
     "output_type": "execute_result"
    }
   ],
   "source": [
    "groupped_df = df[df.geohash5.isin(geohashes_for_regression)][[\"value\", \"geohash5\", \"timestamp\"]].groupby(\"geohash5\")\n",
    "len(groupped_df)"
   ]
  },
  {
   "cell_type": "code",
   "execution_count": 88,
   "metadata": {},
   "outputs": [],
   "source": [
    "def prepare_svr_regresion_model(data):\n",
    "    data = data.sort_values(by=['timestamp'])\n",
    "    new_data = pd.DataFrame(data=[[]])\n",
    "    size = data.shape[0]\n",
    "    new_data['count'] = size\n",
    "    \n",
    "    if size <= 1:\n",
    "        new_data['regresion'] = None\n",
    "        new_data['reg_mean_squared_error'] = None\n",
    "        new_data['reg_r2_score_error'] = None\n",
    "        new_data['reg_median_absolute_error'] = None\n",
    "        new_data['reg_mean_squared_log_error'] = None\n",
    "        return new_data\n",
    "    \n",
    "    train_size = int(0.8 * size)\n",
    "    test_size = size - train_size\n",
    "    \n",
    "    X_train = np.array(data.timestamp[:train_size]).reshape(-1, 1)\n",
    "    X_test = np.array(data.timestamp[train_size:]).reshape(-1, 1)\n",
    "    \n",
    "    Y_train = np.ravel(np.array(data.value[:train_size]).reshape(-1, 1))\n",
    "    Y_test = np.ravel(np.array(data.value[train_size:]).reshape(-1, 1))\n",
    "    \n",
    "    regr = SVR(kernel='linear')\n",
    "\n",
    "    regr.fit(X_train, Y_train)\n",
    "    new_data['regresion'] = regr\n",
    "    \n",
    "    Y_pred = regr.predict(X_test)\n",
    "    new_data['reg_mean_squared_error'] = count_function_of_none(mean_squared_error, Y_test, Y_pred)\n",
    "    new_data['reg_r2_score_error'] = count_function_of_none(r2_score, Y_test, Y_pred)\n",
    "    new_data['reg_median_absolute_error'] = count_function_of_none(median_absolute_error, Y_test, Y_pred)\n",
    "    new_data['reg_mean_squared_log_error'] = count_function_of_none(mean_squared_log_error, Y_test, Y_pred)\n",
    "    \n",
    "    return new_data\n",
    "\n",
    "def count_function_of_none(fun, Y_test, Y_pred):\n",
    "    try:\n",
    "        return fun(Y_test, Y_pred)\n",
    "    except ValueError:\n",
    "        return np.finfo(np.float64).max"
   ]
  },
  {
   "cell_type": "code",
   "execution_count": 89,
   "metadata": {},
   "outputs": [
    {
     "data": {
      "text/html": [
       "<div>\n",
       "<style scoped>\n",
       "    .dataframe tbody tr th:only-of-type {\n",
       "        vertical-align: middle;\n",
       "    }\n",
       "\n",
       "    .dataframe tbody tr th {\n",
       "        vertical-align: top;\n",
       "    }\n",
       "\n",
       "    .dataframe thead th {\n",
       "        text-align: right;\n",
       "    }\n",
       "</style>\n",
       "<table border=\"1\" class=\"dataframe\">\n",
       "  <thead>\n",
       "    <tr style=\"text-align: right;\">\n",
       "      <th></th>\n",
       "      <th>value</th>\n",
       "      <th>geohash5</th>\n",
       "      <th>timestamp</th>\n",
       "    </tr>\n",
       "  </thead>\n",
       "  <tbody>\n",
       "    <tr>\n",
       "      <th>19</th>\n",
       "      <td>21.0</td>\n",
       "      <td>u0tyv</td>\n",
       "      <td>1.540076e+09</td>\n",
       "    </tr>\n",
       "    <tr>\n",
       "      <th>2479</th>\n",
       "      <td>40.0</td>\n",
       "      <td>u0tyv</td>\n",
       "      <td>1.540069e+09</td>\n",
       "    </tr>\n",
       "    <tr>\n",
       "      <th>5137</th>\n",
       "      <td>31.0</td>\n",
       "      <td>u0tyv</td>\n",
       "      <td>1.540062e+09</td>\n",
       "    </tr>\n",
       "    <tr>\n",
       "      <th>6451</th>\n",
       "      <td>44.0</td>\n",
       "      <td>u0tyv</td>\n",
       "      <td>1.540058e+09</td>\n",
       "    </tr>\n",
       "    <tr>\n",
       "      <th>7741</th>\n",
       "      <td>25.0</td>\n",
       "      <td>u0tyv</td>\n",
       "      <td>1.540055e+09</td>\n",
       "    </tr>\n",
       "  </tbody>\n",
       "</table>\n",
       "</div>"
      ],
      "text/plain": [
       "      value geohash5     timestamp\n",
       "19     21.0    u0tyv  1.540076e+09\n",
       "2479   40.0    u0tyv  1.540069e+09\n",
       "5137   31.0    u0tyv  1.540062e+09\n",
       "6451   44.0    u0tyv  1.540058e+09\n",
       "7741   25.0    u0tyv  1.540055e+09"
      ]
     },
     "execution_count": 89,
     "metadata": {},
     "output_type": "execute_result"
    }
   ],
   "source": [
    "groupped_df2 = groupped_df.head(n=len(groupped_df)).head(n=len(groupped_df))\n",
    "groupped_df2.head()"
   ]
  },
  {
   "cell_type": "code",
   "execution_count": 90,
   "metadata": {},
   "outputs": [
    {
     "data": {
      "text/plain": [
       "10834"
      ]
     },
     "execution_count": 90,
     "metadata": {},
     "output_type": "execute_result"
    }
   ],
   "source": [
    "len(groupped_df2)"
   ]
  },
  {
   "cell_type": "code",
   "execution_count": 91,
   "metadata": {},
   "outputs": [],
   "source": [
    "groupped_df2 = groupped_df2.groupby(\"geohash5\")"
   ]
  },
  {
   "cell_type": "code",
   "execution_count": 92,
   "metadata": {},
   "outputs": [
    {
     "data": {
      "text/plain": [
       "135"
      ]
     },
     "execution_count": 92,
     "metadata": {},
     "output_type": "execute_result"
    }
   ],
   "source": [
    "len(groupped_df2)"
   ]
  },
  {
   "cell_type": "code",
   "execution_count": null,
   "metadata": {},
   "outputs": [],
   "source": [
    "df_after_training = groupped_df.apply(prepare_svr_regresion_model).reset_index()"
   ]
  },
  {
   "cell_type": "code",
   "execution_count": null,
   "metadata": {},
   "outputs": [],
   "source": [
    "df_after_training.head()"
   ]
  },
  {
   "cell_type": "code",
   "execution_count": null,
   "metadata": {},
   "outputs": [],
   "source": [
    "df_after_training_mean_squared = df_after_training[df_after_training.reg_mean_squared_error <= 100]\n",
    "df_after_training_reg_r2_score = df_after_training[df_after_training.reg_r2_score_error <= 100][df_after_training.reg_r2_score_error >= -10]\n",
    "df_after_training_median_absolute = df_after_training[df_after_training.reg_median_absolute_error <= 10]\n",
    "df_after_training_mean_log = df_after_training[df_after_training.reg_mean_squared_log_error <= 10]"
   ]
  },
  {
   "cell_type": "code",
   "execution_count": null,
   "metadata": {},
   "outputs": [],
   "source": [
    "def get_coordinates(geo):\n",
    "    bbox = geohash.bbox(geo)\n",
    "    return [[bbox[\"w\"], bbox[\"n\"]], [bbox[\"e\"], bbox[\"n\"]], [bbox[\"e\"], bbox[\"s\"]], [bbox[\"w\"], bbox[\"s\"]]]\n",
    "\n",
    "def get_geo_data(ghash_df):\n",
    "    features = []\n",
    "\n",
    "    for geo, *_ in ghash_df.values:\n",
    "        features.append({\"type\": \"Feature\", \"id\": geo, \n",
    "                         \"geometry\": {\"type\": \"Polygon\", \"coordinates\": [get_coordinates(geo)]}})\n",
    "\n",
    "    return {\"type\": \"FeatureCollection\", \"features\": features}\n",
    "\n",
    "def visualize_with_folium(df, error):\n",
    "    m = folium.Map(location=[37.760806, 140.474722], zoom_start=10)\n",
    "\n",
    "    m.choropleth(\n",
    "        geo_data=get_geo_data(df),\n",
    "        name='choropleth',\n",
    "        data=df,\n",
    "        columns=['geohash5', error],\n",
    "        key_on='feature.id',\n",
    "        fill_color='YlOrRd',\n",
    "        fill_opacity=0.7,\n",
    "        line_opacity=0.2,\n",
    "        legend_name='error'\n",
    "    )\n",
    "    folium.LayerControl().add_to(m)\n",
    "    return m"
   ]
  },
  {
   "cell_type": "code",
   "execution_count": null,
   "metadata": {},
   "outputs": [],
   "source": [
    "m_mean_squared = visualize_with_folium(df_after_training_mean_squared, 'reg_mean_squared_error')\n",
    "m_reg_r2_score = visualize_with_folium(df_after_training_reg_r2_score, 'reg_r2_score_error')\n",
    "m_median_absolute = visualize_with_folium(df_after_training_median_absolute, 'reg_median_absolute_error')\n",
    "m_mean_log = visualize_with_folium(df_after_training_mean_log, 'reg_median_absolute_error')"
   ]
  },
  {
   "cell_type": "code",
   "execution_count": null,
   "metadata": {},
   "outputs": [],
   "source": [
    "m_mean_squared.save(os.path.join(RESULTS_DIR, \"rbf_poly_regression_mean_squared_errors.html\"))\n",
    "m_reg_r2_score.save(os.path.join(RESULTS_DIR, \"rbf_poly_regression_reg_r2_score_errors.html\"))\n",
    "m_median_absolute.save(os.path.join(RESULTS_DIR, \"rbf_poly_regression_median_absolute_errors.html\"))\n",
    "m_mean_log.save(os.path.join(RESULTS_DIR, \"rbf_poly_regression_mean_log_errors.html\"))"
   ]
  },
  {
   "cell_type": "code",
   "execution_count": null,
   "metadata": {},
   "outputs": [],
   "source": []
  },
  {
   "cell_type": "code",
   "execution_count": null,
   "metadata": {},
   "outputs": [],
   "source": []
  }
 ],
 "metadata": {
  "kernelspec": {
   "display_name": "Python 3",
   "language": "python",
   "name": "python3"
  },
  "language_info": {
   "codemirror_mode": {
    "name": "ipython",
    "version": 3
   },
   "file_extension": ".py",
   "mimetype": "text/x-python",
   "name": "python",
   "nbconvert_exporter": "python",
   "pygments_lexer": "ipython3",
   "version": "3.6.5"
  }
 },
 "nbformat": 4,
 "nbformat_minor": 2
}
